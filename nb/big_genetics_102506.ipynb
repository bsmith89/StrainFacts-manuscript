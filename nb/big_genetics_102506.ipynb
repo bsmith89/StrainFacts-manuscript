{
 "cells": [
  {
   "cell_type": "markdown",
   "id": "loaded-settlement",
   "metadata": {},
   "source": [
    "## Preamble"
   ]
  },
  {
   "cell_type": "code",
   "execution_count": 1,
   "id": "generous-volume",
   "metadata": {},
   "outputs": [],
   "source": [
    "%load_ext autoreload\n",
    "%autoreload 0"
   ]
  },
  {
   "cell_type": "code",
   "execution_count": 2,
   "id": "metallic-venue",
   "metadata": {},
   "outputs": [],
   "source": [
    "%autoreload"
   ]
  },
  {
   "cell_type": "code",
   "execution_count": 3,
   "id": "careful-chase",
   "metadata": {},
   "outputs": [],
   "source": [
    "import sys\n",
    "sys.path.append('/pollard/home/bsmith/Projects/haplo-benchmark/include/StrainFacts')"
   ]
  },
  {
   "cell_type": "code",
   "execution_count": 4,
   "id": "above-exception",
   "metadata": {},
   "outputs": [],
   "source": [
    "import xarray as xr\n",
    "import sqlite3\n",
    "import pandas as pd\n",
    "import matplotlib as mpl\n",
    "import matplotlib.pyplot as plt\n",
    "import seaborn as sns\n",
    "import numpy as np\n",
    "import warnings\n",
    "import torch\n",
    "import pyro\n",
    "import scipy as sp\n",
    "from tqdm import tqdm\n",
    "\n",
    "import lib.plot\n",
    "from scipy.spatial.distance import pdist, squareform\n",
    "from sklearn.metrics.pairwise import pairwise_distances\n",
    "from sklearn.cluster import AgglomerativeClustering\n",
    "from lib.pandas_util import idxwhere\n",
    "\n",
    "import sfacts as sf\n",
    "\n",
    "from tqdm import tqdm\n",
    "\n",
    "# from lib.project_style import color_palette, major_allele_frequency_bins\n",
    "# from lib.project_data import metagenotype_db_to_xarray\n",
    "# from lib.plot import ordination_plot, mds_ordination, nmds_ordination\n",
    "# import lib.plot\n",
    "# from lib.plot import construct_ordered_pallete\n",
    "# from lib.pandas_util import idxwhere"
   ]
  },
  {
   "cell_type": "markdown",
   "id": "theoretical-microwave",
   "metadata": {},
   "source": [
    "## Load Data"
   ]
  },
  {
   "cell_type": "code",
   "execution_count": 5,
   "id": "typical-diana",
   "metadata": {},
   "outputs": [
    {
     "name": "stdout",
     "output_type": "stream",
     "text": [
      "Frozen(SortedKeysDict({'strain': 200, 'sample': 9232, 'position': 75942, 'allele': 2}))\n",
      "<xarray.DataArray 'communities' ()>\n",
      "array(0.00055164, dtype=float32)\n",
      "Coordinates:\n",
      "    species_id  int64 102506\n",
      "Frozen(SortedKeysDict({'strain': 123, 'sample': 9232, 'position': 75942, 'allele': 2}))\n"
     ]
    }
   ],
   "source": [
    "species_id = 102506\n",
    "\n",
    "fit = sf.data.World.load(f'data/zshi.sp-{species_id}.metagenotype.filt-poly05-cvrg25.fit-sfacts44-s200-g5000-seed0.refit-sfacts41-g10000-seed0.world.nc')\n",
    "fit.data['position'] = fit.data.position.astype(int)\n",
    "print(fit.sizes)\n",
    "\n",
    "\n",
    "cull_threshold = 0.05\n",
    "# distance_proportionality = 0.077567\n",
    "\n",
    "fit_communities = fit.communities.mlift('sel', strain=fit.communities.max(\"sample\") > cull_threshold)\n",
    "print((1 - fit_communities.sum(\"strain\")).max())\n",
    "fit_communities = sf.Communities(fit_communities.data / fit_communities.sum(\"strain\"))\n",
    "fit_genotypes = fit.genotypes.mlift('sel', strain=fit_communities.strain)\n",
    "\n",
    "fit = sf.World.from_combined(fit_communities, fit_genotypes, fit.metagenotypes)\n",
    "print(fit.sizes)"
   ]
  },
  {
   "cell_type": "code",
   "execution_count": 6,
   "id": "dangerous-atlantic",
   "metadata": {},
   "outputs": [
    {
     "data": {
      "text/plain": [
       "Frozen({'strain': 1000, 'position': 75942})"
      ]
     },
     "execution_count": 6,
     "metadata": {},
     "output_type": "execute_result"
    }
   ],
   "source": [
    "ref = sf.data.Metagenotypes.load(f'data/gtprodb.sp-{species_id}.genotype.nc')\n",
    "ref_genotypes = ref.mlift('sel', position=fit_genotypes.position).to_estimated_genotypes(pseudo=0)\n",
    "ref_genotypes.sizes"
   ]
  },
  {
   "cell_type": "code",
   "execution_count": 7,
   "id": "unique-second",
   "metadata": {},
   "outputs": [
    {
     "data": {
      "text/html": [
       "<div>\n",
       "<style scoped>\n",
       "    .dataframe tbody tr th:only-of-type {\n",
       "        vertical-align: middle;\n",
       "    }\n",
       "\n",
       "    .dataframe tbody tr th {\n",
       "        vertical-align: top;\n",
       "    }\n",
       "\n",
       "    .dataframe thead th {\n",
       "        text-align: right;\n",
       "    }\n",
       "</style>\n",
       "<table border=\"1\" class=\"dataframe\">\n",
       "  <thead>\n",
       "    <tr style=\"text-align: right;\">\n",
       "      <th></th>\n",
       "      <th>species_id</th>\n",
       "      <th>contig</th>\n",
       "      <th>contig_position</th>\n",
       "      <th>ref</th>\n",
       "      <th>alt</th>\n",
       "    </tr>\n",
       "    <tr>\n",
       "      <th>position</th>\n",
       "      <th></th>\n",
       "      <th></th>\n",
       "      <th></th>\n",
       "      <th></th>\n",
       "      <th></th>\n",
       "    </tr>\n",
       "  </thead>\n",
       "  <tbody>\n",
       "    <tr>\n",
       "      <th>29904</th>\n",
       "      <td>102506</td>\n",
       "      <td>QFSG01000004</td>\n",
       "      <td>980</td>\n",
       "      <td>C</td>\n",
       "      <td>T</td>\n",
       "    </tr>\n",
       "    <tr>\n",
       "      <th>30035</th>\n",
       "      <td>102506</td>\n",
       "      <td>QFSG01000004</td>\n",
       "      <td>1111</td>\n",
       "      <td>T</td>\n",
       "      <td>A</td>\n",
       "    </tr>\n",
       "    <tr>\n",
       "      <th>30046</th>\n",
       "      <td>102506</td>\n",
       "      <td>QFSG01000004</td>\n",
       "      <td>1122</td>\n",
       "      <td>T</td>\n",
       "      <td>A</td>\n",
       "    </tr>\n",
       "    <tr>\n",
       "      <th>30048</th>\n",
       "      <td>102506</td>\n",
       "      <td>QFSG01000004</td>\n",
       "      <td>1124</td>\n",
       "      <td>G</td>\n",
       "      <td>A</td>\n",
       "    </tr>\n",
       "    <tr>\n",
       "      <th>30053</th>\n",
       "      <td>102506</td>\n",
       "      <td>QFSG01000004</td>\n",
       "      <td>1129</td>\n",
       "      <td>C</td>\n",
       "      <td>T</td>\n",
       "    </tr>\n",
       "    <tr>\n",
       "      <th>...</th>\n",
       "      <td>...</td>\n",
       "      <td>...</td>\n",
       "      <td>...</td>\n",
       "      <td>...</td>\n",
       "      <td>...</td>\n",
       "    </tr>\n",
       "    <tr>\n",
       "      <th>5712804</th>\n",
       "      <td>102506</td>\n",
       "      <td>QFSG01000485</td>\n",
       "      <td>5000</td>\n",
       "      <td>A</td>\n",
       "      <td>C</td>\n",
       "    </tr>\n",
       "    <tr>\n",
       "      <th>5712807</th>\n",
       "      <td>102506</td>\n",
       "      <td>QFSG01000485</td>\n",
       "      <td>5003</td>\n",
       "      <td>A</td>\n",
       "      <td>T</td>\n",
       "    </tr>\n",
       "    <tr>\n",
       "      <th>5712812</th>\n",
       "      <td>102506</td>\n",
       "      <td>QFSG01000485</td>\n",
       "      <td>5008</td>\n",
       "      <td>C</td>\n",
       "      <td>T</td>\n",
       "    </tr>\n",
       "    <tr>\n",
       "      <th>5712828</th>\n",
       "      <td>102506</td>\n",
       "      <td>QFSG01000485</td>\n",
       "      <td>5024</td>\n",
       "      <td>A</td>\n",
       "      <td>G</td>\n",
       "    </tr>\n",
       "    <tr>\n",
       "      <th>5712840</th>\n",
       "      <td>102506</td>\n",
       "      <td>QFSG01000485</td>\n",
       "      <td>5036</td>\n",
       "      <td>A</td>\n",
       "      <td>G</td>\n",
       "    </tr>\n",
       "  </tbody>\n",
       "</table>\n",
       "<p>99776 rows × 5 columns</p>\n",
       "</div>"
      ],
      "text/plain": [
       "          species_id        contig  contig_position ref alt\n",
       "position                                                   \n",
       "29904         102506  QFSG01000004              980   C   T\n",
       "30035         102506  QFSG01000004             1111   T   A\n",
       "30046         102506  QFSG01000004             1122   T   A\n",
       "30048         102506  QFSG01000004             1124   G   A\n",
       "30053         102506  QFSG01000004             1129   C   T\n",
       "...              ...           ...              ...  ..  ..\n",
       "5712804       102506  QFSG01000485             5000   A   C\n",
       "5712807       102506  QFSG01000485             5003   A   T\n",
       "5712812       102506  QFSG01000485             5008   C   T\n",
       "5712828       102506  QFSG01000485             5024   A   G\n",
       "5712840       102506  QFSG01000485             5036   A   G\n",
       "\n",
       "[99776 rows x 5 columns]"
      ]
     },
     "execution_count": 7,
     "metadata": {},
     "output_type": "execute_result"
    }
   ],
   "source": [
    "position_meta = pd.read_table(\n",
    "    'ref/gtpro/variants_main.covered.hq.snp_dict.tsv',\n",
    "    names=['species_id', 'position', 'contig', 'contig_position', 'ref', 'alt']\n",
    ").set_index('position')[lambda x: x.species_id.isin([species_id])]\n",
    "\n",
    "position_meta"
   ]
  },
  {
   "cell_type": "code",
   "execution_count": 8,
   "id": "electric-measure",
   "metadata": {},
   "outputs": [],
   "source": [
    "fit_dist = fit_genotypes.discretized().pdist()\n",
    "ref_dist = ref_genotypes.discretized().pdist()"
   ]
  },
  {
   "cell_type": "code",
   "execution_count": 9,
   "id": "strategic-redhead",
   "metadata": {},
   "outputs": [],
   "source": [
    "dedup_thresh = 0.05  # / distance_proportionality\n",
    "\n",
    "fit_dedup_clust = pd.Series(\n",
    "    AgglomerativeClustering(\n",
    "        distance_threshold=dedup_thresh, n_clusters=None, affinity='precomputed', linkage='average'\n",
    "    ).fit_predict(fit_dist),\n",
    "    index=fit_genotypes.strain.astype(int),\n",
    ")\n",
    "ref_dedup_clust = pd.Series(\n",
    "    AgglomerativeClustering(\n",
    "        distance_threshold=dedup_thresh, n_clusters=None, affinity='precomputed', linkage='average'\n",
    "    ).fit_predict(ref_dist),\n",
    "    index=ref_genotypes.strain,\n",
    ")"
   ]
  },
  {
   "cell_type": "code",
   "execution_count": 10,
   "id": "subtle-radio",
   "metadata": {},
   "outputs": [],
   "source": [
    "fit_genotypes_dedup = sf.Genotypes(fit_genotypes.to_series().unstack('strain').groupby(fit_dedup_clust, axis='columns').mean().rename(columns=lambda x: int(x)).rename_axis(columns='strain').T.stack().to_xarray())"
   ]
  },
  {
   "cell_type": "code",
   "execution_count": 11,
   "id": "fewer-devil",
   "metadata": {},
   "outputs": [],
   "source": [
    "ref_genotypes_dedup = sf.Genotypes(ref_genotypes.to_series().unstack('strain').groupby(ref_dedup_clust, axis='columns').mean().rename(columns=lambda x: int(x)).rename_axis(columns='strain').T.stack().to_xarray())"
   ]
  },
  {
   "cell_type": "code",
   "execution_count": 12,
   "id": "pharmaceutical-habitat",
   "metadata": {},
   "outputs": [
    {
     "data": {
      "text/plain": [
       "((123, 119), (1000, 176))"
      ]
     },
     "execution_count": 12,
     "metadata": {},
     "output_type": "execute_result"
    }
   ],
   "source": [
    "(fit_genotypes.sizes['strain'], fit_genotypes_dedup.sizes['strain']), (ref_genotypes.sizes['strain'], ref_genotypes_dedup.sizes['strain'])"
   ]
  },
  {
   "cell_type": "code",
   "execution_count": 13,
   "id": "military-wallace",
   "metadata": {},
   "outputs": [],
   "source": [
    "_g_ref = ref_genotypes_dedup.random_sample(position=20000)  # FIXME: May not be a stable estimate until many positions are included (20k)\n",
    "r2_ref = (1 - pdist(_g_ref.values.T, 'correlation'))**2\n",
    "\n",
    "_g_fit = fit_genotypes_dedup.sel(position=_g_ref.position)  # FIXME: May not be a stable estimate until many positions are included (20k)\n",
    "r2_fit = (1 - pdist(_g_fit.values.T, 'correlation'))**2"
   ]
  },
  {
   "cell_type": "code",
   "execution_count": 14,
   "id": "three-spokesman",
   "metadata": {},
   "outputs": [
    {
     "data": {
      "text/plain": [
       "(0.061786258950961945, 0.08037971309400842)"
      ]
     },
     "execution_count": 14,
     "metadata": {},
     "output_type": "execute_result"
    }
   ],
   "source": [
    "np.mean(r2_ref), np.mean(r2_fit)"
   ]
  },
  {
   "cell_type": "code",
   "execution_count": 15,
   "id": "controlling-triangle",
   "metadata": {},
   "outputs": [
    {
     "data": {
      "text/plain": [
       "(0.01774754922397061, 0.027757296061604472)"
      ]
     },
     "execution_count": 15,
     "metadata": {},
     "output_type": "execute_result"
    }
   ],
   "source": [
    "np.median(r2_ref), np.median(r2_fit)"
   ]
  },
  {
   "cell_type": "code",
   "execution_count": 16,
   "id": "several-microphone",
   "metadata": {},
   "outputs": [
    {
     "data": {
      "text/plain": [
       "(0.18075257863131577, 0.23879817039007709)"
      ]
     },
     "execution_count": 16,
     "metadata": {},
     "output_type": "execute_result"
    }
   ],
   "source": [
    "np.quantile(r2_ref, 0.9), np.quantile(r2_fit, 0.9)"
   ]
  },
  {
   "cell_type": "code",
   "execution_count": 17,
   "id": "trained-compression",
   "metadata": {},
   "outputs": [
    {
     "data": {
      "text/plain": [
       "WilcoxonResult(statistic=17247186.0, pvalue=5.917141613222001e-159)"
      ]
     },
     "execution_count": 17,
     "metadata": {},
     "output_type": "execute_result"
    }
   ],
   "source": [
    "from scipy.stats import mannwhitneyu, wilcoxon\n",
    "\n",
    "n = 10000\n",
    "wilcoxon(r2_ref[:n], r2_fit[:n])"
   ]
  },
  {
   "cell_type": "code",
   "execution_count": 18,
   "id": "stylish-kruger",
   "metadata": {},
   "outputs": [
    {
     "name": "stdout",
     "output_type": "stream",
     "text": [
      "QFSG01000004\n",
      "QFSG01000008\n",
      "QFSG01000010\n",
      "QFSG01000013\n",
      "QFSG01000021\n",
      "QFSG01000023\n",
      "QFSG01000024\n",
      "QFSG01000025\n",
      "QFSG01000026\n",
      "QFSG01000028\n",
      "QFSG01000030\n",
      "QFSG01000031\n",
      "QFSG01000032\n",
      "QFSG01000036\n",
      "QFSG01000039\n",
      "QFSG01000040\n",
      "QFSG01000046\n",
      "QFSG01000050\n",
      "QFSG01000051\n",
      "QFSG01000052\n",
      "QFSG01000059\n",
      "QFSG01000060\n",
      "QFSG01000064\n",
      "QFSG01000065\n",
      "QFSG01000066\n",
      "QFSG01000067\n",
      "QFSG01000074\n",
      "QFSG01000075\n",
      "QFSG01000076\n",
      "QFSG01000077\n",
      "QFSG01000078\n",
      "QFSG01000086\n",
      "QFSG01000087\n",
      "QFSG01000088\n",
      "QFSG01000091\n",
      "QFSG01000092\n",
      "QFSG01000093\n",
      "QFSG01000094\n",
      "QFSG01000096\n",
      "QFSG01000099\n",
      "QFSG01000100\n",
      "QFSG01000105\n",
      "QFSG01000109\n",
      "QFSG01000114\n",
      "QFSG01000116\n",
      "QFSG01000118\n",
      "QFSG01000119\n",
      "QFSG01000130\n",
      "QFSG01000138\n",
      "QFSG01000140\n",
      "QFSG01000142\n",
      "QFSG01000150\n",
      "QFSG01000163\n",
      "QFSG01000166\n",
      "QFSG01000167\n",
      "QFSG01000169\n",
      "QFSG01000172\n",
      "QFSG01000194\n",
      "QFSG01000196\n",
      "QFSG01000197\n",
      "QFSG01000198\n",
      "QFSG01000200\n",
      "QFSG01000203\n",
      "QFSG01000217\n",
      "QFSG01000226\n",
      "QFSG01000231\n",
      "QFSG01000232\n",
      "QFSG01000235\n",
      "QFSG01000250\n",
      "QFSG01000251\n",
      "QFSG01000260\n",
      "QFSG01000263\n",
      "QFSG01000267\n",
      "QFSG01000294\n",
      "QFSG01000298\n",
      "QFSG01000310\n",
      "QFSG01000325\n",
      "QFSG01000329\n",
      "QFSG01000338\n",
      "QFSG01000344\n",
      "QFSG01000358\n",
      "QFSG01000374\n",
      "QFSG01000426\n",
      "QFSG01000485\n"
     ]
    }
   ],
   "source": [
    "ld = {}\n",
    "for contig, pos in position_meta.loc[ref_genotypes_dedup.position].groupby('contig'):\n",
    "    print(contig)\n",
    "    g = ref_genotypes_dedup.sel(position=pos.index)\n",
    "    r2 = (1 - pdist(g.values.T, 'correlation'))**2\n",
    "    x = pdist(np.expand_dims(pos.contig_position.values, axis=1), 'cityblock')\n",
    "    ld[contig] = (x, r2)\n",
    "ref_ld = pd.DataFrame(np.concatenate([np.stack([x, r2], axis=1) for x, r2 in ld.values()]), columns=['x', 'r2'])"
   ]
  },
  {
   "cell_type": "code",
   "execution_count": 19,
   "id": "arabic-country",
   "metadata": {},
   "outputs": [
    {
     "name": "stdout",
     "output_type": "stream",
     "text": [
      "QFSG01000004\n",
      "QFSG01000008\n",
      "QFSG01000010\n",
      "QFSG01000013\n",
      "QFSG01000021\n",
      "QFSG01000023\n",
      "QFSG01000024\n",
      "QFSG01000025\n",
      "QFSG01000026\n",
      "QFSG01000028\n",
      "QFSG01000030\n",
      "QFSG01000031\n",
      "QFSG01000032\n",
      "QFSG01000036\n",
      "QFSG01000039\n",
      "QFSG01000040\n",
      "QFSG01000046\n",
      "QFSG01000050\n",
      "QFSG01000051\n",
      "QFSG01000052\n",
      "QFSG01000059\n",
      "QFSG01000060\n",
      "QFSG01000064\n",
      "QFSG01000065\n",
      "QFSG01000066\n",
      "QFSG01000067\n",
      "QFSG01000074\n",
      "QFSG01000075\n",
      "QFSG01000076\n",
      "QFSG01000077\n",
      "QFSG01000078\n",
      "QFSG01000086\n",
      "QFSG01000087\n",
      "QFSG01000088\n",
      "QFSG01000091\n",
      "QFSG01000092\n",
      "QFSG01000093\n",
      "QFSG01000094\n",
      "QFSG01000096\n",
      "QFSG01000099\n",
      "QFSG01000100\n",
      "QFSG01000105\n",
      "QFSG01000109\n",
      "QFSG01000114\n",
      "QFSG01000116\n",
      "QFSG01000118\n",
      "QFSG01000119\n",
      "QFSG01000130\n",
      "QFSG01000138\n",
      "QFSG01000140\n",
      "QFSG01000142\n",
      "QFSG01000150\n",
      "QFSG01000163\n",
      "QFSG01000166\n",
      "QFSG01000167\n",
      "QFSG01000169\n",
      "QFSG01000172\n",
      "QFSG01000194\n",
      "QFSG01000196\n",
      "QFSG01000197\n",
      "QFSG01000198\n",
      "QFSG01000200\n",
      "QFSG01000203\n",
      "QFSG01000217\n",
      "QFSG01000226\n",
      "QFSG01000231\n",
      "QFSG01000232\n",
      "QFSG01000235\n",
      "QFSG01000250\n",
      "QFSG01000251\n",
      "QFSG01000260\n",
      "QFSG01000263\n",
      "QFSG01000267\n",
      "QFSG01000294\n",
      "QFSG01000298\n",
      "QFSG01000310\n",
      "QFSG01000325\n",
      "QFSG01000329\n",
      "QFSG01000338\n",
      "QFSG01000344\n",
      "QFSG01000358\n",
      "QFSG01000374\n",
      "QFSG01000426\n",
      "QFSG01000485\n"
     ]
    }
   ],
   "source": [
    "ld = {}\n",
    "for contig, pos in position_meta.loc[fit_genotypes_dedup.position].groupby('contig'):\n",
    "    print(contig)\n",
    "    g = fit_genotypes_dedup.sel(position=pos.index)\n",
    "    r2 = (1 - pdist(g.values.T, 'correlation'))**2\n",
    "    x = pdist(np.expand_dims(pos.contig_position.values, axis=1), 'cityblock')\n",
    "    ld[contig] = (x, r2)\n",
    "fit_ld = pd.DataFrame(np.concatenate([np.stack([x, r2], axis=1) for x, r2 in ld.values()]), columns=['x', 'r2'])"
   ]
  },
  {
   "cell_type": "code",
   "execution_count": 20,
   "id": "adjacent-likelihood",
   "metadata": {},
   "outputs": [],
   "source": [
    "max_dist = 12000\n",
    "\n",
    "ld_profile = (\n",
    "    pd.DataFrame(dict(\n",
    "        x=fit_ld.x,\n",
    "        fit=fit_ld.r2,\n",
    "        ref=ref_ld.r2))\n",
    "    [lambda x: x.x < max_dist]\n",
    "    .groupby('x')\n",
    "    .quantile(0.9)\n",
    ")"
   ]
  },
  {
   "cell_type": "code",
   "execution_count": 21,
   "id": "accessory-density",
   "metadata": {},
   "outputs": [],
   "source": [
    "nx, ny = 121, 51\n",
    "xlim = np.array([0.5, 1e5])\n",
    "ylim = np.array([0, 1])\n",
    "xbins = np.unique(np.floor(np.logspace(*np.log10(xlim), num=51)).astype(int))\n",
    "ybins = np.unique(np.linspace(*ylim, num=ny))\n",
    "\n",
    "d = fit_ld#[fit_ld.x < 1e5]\n",
    "\n",
    "hist, xedges, yedges = np.histogram2d(\n",
    "    d['x'],\n",
    "#     d['x'],\n",
    "    d['r2'],\n",
    "    bins=(xbins, ybins),\n",
    "#     range=np.array([[np.min(xbins), np.max(xbins)], [np.min(ybins), np.max(ybins)]]),\n",
    ")\n",
    "extent = [xedges[0], xedges[-1], yedges[0], yedges[-1]]\n",
    "hist = pd.DataFrame(hist, columns=yedges[1:], index=xedges[:-1]).T\n",
    "norm_hist = hist / hist.sum()"
   ]
  },
  {
   "cell_type": "code",
   "execution_count": 22,
   "id": "adjacent-account",
   "metadata": {},
   "outputs": [],
   "source": [
    "# TODO: Calculate the 90th percentile within the distance window from the histogram\n",
    "\n",
    "out = []\n",
    "for i, left in enumerate(xbins[:-1]):\n",
    "    right = xbins[i + 1]\n",
    "    out.append((\n",
    "        left,\n",
    "        right,\n",
    "        fit_ld[(fit_ld.x > left) & (fit_ld.x <= right)].r2.quantile(0.9),\n",
    "        ref_ld[(ref_ld.x > left) & (ref_ld.x <= right)].r2.quantile(0.9)\n",
    "    ))\n",
    "    \n",
    "hist_bin_quantile90 = pd.DataFrame(out, columns=['left', 'right', 'fit', 'ref'])"
   ]
  },
  {
   "cell_type": "code",
   "execution_count": 23,
   "id": "nutritional-cotton",
   "metadata": {},
   "outputs": [
    {
     "name": "stderr",
     "output_type": "stream",
     "text": [
      "/opt/conda/lib/python3.7/site-packages/ipykernel_launcher.py:3: MatplotlibDeprecationWarning: shading='flat' when X and Y have the same dimensions as C is deprecated since 3.3.  Either specify the corners of the quadrilaterals with X and Y, or pass shading='auto', 'nearest' or 'gouraud', or set rcParams['pcolor.shading'].  This will become an error two minor releases later.\n",
      "  This is separate from the ipykernel package so we can avoid doing imports until\n"
     ]
    },
    {
     "data": {
      "image/png": "[encoded data removed]",
      "text/plain": [
       "<Figure size 432x288 with 2 Axes>"
      ]
     },
     "metadata": {
      "needs_background": "light"
     },
     "output_type": "display_data"
    }
   ],
   "source": [
    "fig = plt.figure()\n",
    "\n",
    "plt.pcolormesh(norm_hist.columns, norm_hist.index, norm_hist, norm=mpl.colors.LogNorm(vmin=1e-3, vmax=1.0), cmap='binary')\n",
    "plt.xscale('log')\n",
    "plt.colorbar()\n",
    "\n",
    "\n",
    "ax = plt.gca()\n",
    "\n",
    "ax.scatter('x', 'ref', data=ld_profile.reset_index().assign(s=lambda x: 20 / x['x']), color='blue', label=f'reference genotypes', s='s', alpha=0.5)\n",
    "ax.scatter('x', 'fit', data=ld_profile.reset_index().assign(s=lambda x: 20 / x['x']), color='red', label=f'inferred genotypes', s='s', alpha=0.5)\n",
    "\n",
    "ax.plot('right', 'ref', data=hist_bin_quantile90, lw=1, color='blue', alpha=1)\n",
    "ax.plot('right', 'fit', data=hist_bin_quantile90, lw=1, color='red', alpha=1)\n",
    "\n",
    "\n",
    "ax.axhline(np.quantile(r2_ref, 0.9), lw=1, color='blue', linestyle='--')\n",
    "ax.axhline(np.quantile(r2_fit, 0.9), lw=1, color='red', linestyle='--')\n",
    "\n",
    "# ax.legend(title=f'Mean LD at pairwise distance')  #bbox_to_anchor=(0.85, 1.15), ncol=2\n",
    "\n",
    "ax.set_xlabel('Genomic Distance (bp)')\n",
    "ax.set_ylabel('LD ($r^2$)')\n",
    "ax.set_ylim(0, 1.03)\n",
    "ax.set_xlim(0.9, 1e4)\n",
    "\n",
    "\n",
    "fig.savefig(f'fig/ld_decay_{species_id}_90th.pdf', dpi=400)"
   ]
  },
  {
   "cell_type": "code",
   "execution_count": 24,
   "id": "labeled-youth",
   "metadata": {},
   "outputs": [
    {
     "name": "stderr",
     "output_type": "stream",
     "text": [
      "/opt/conda/lib/python3.7/site-packages/ipykernel_launcher.py:3: MatplotlibDeprecationWarning: shading='flat' when X and Y have the same dimensions as C is deprecated since 3.3.  Either specify the corners of the quadrilaterals with X and Y, or pass shading='auto', 'nearest' or 'gouraud', or set rcParams['pcolor.shading'].  This will become an error two minor releases later.\n",
      "  This is separate from the ipykernel package so we can avoid doing imports until\n"
     ]
    },
    {
     "data": {
      "image/png": "[encoded data removed]",
      "text/plain": [
       "<Figure size 432x288 with 2 Axes>"
      ]
     },
     "metadata": {
      "needs_background": "light"
     },
     "output_type": "display_data"
    }
   ],
   "source": [
    "fig = plt.figure()\n",
    "\n",
    "plt.pcolormesh(norm_hist.columns, norm_hist.index, norm_hist, norm=mpl.colors.LogNorm(vmin=1e-3, vmax=1.0), cmap='binary')\n",
    "plt.xscale('log')\n",
    "plt.colorbar()\n",
    "\n",
    "\n",
    "ax = plt.gca()\n",
    "\n",
    "ax.scatter('x', 'ref', data=ld_profile.reset_index().assign(s=lambda x: 20 / x['x']), color='blue', label=f'reference genotypes', s='s', alpha=0.5)\n",
    "ax.scatter('x', 'fit', data=ld_profile.reset_index().assign(s=lambda x: 20 / x['x']), color='red', label=f'inferred genotypes', s='s', alpha=0.5)\n",
    "\n",
    "# ax.plot('right', 'ref', data=hist_bin_quantile90, lw=1, color='blue', alpha=1)\n",
    "# ax.plot('right', 'fit', data=hist_bin_quantile90, lw=1, color='red', alpha=1)\n",
    "\n",
    "\n",
    "# ax.axhline(np.quantile(r2_ref, 0.9), lw=1, color='blue', linestyle='--')\n",
    "# ax.axhline(np.quantile(r2_fit, 0.9), lw=1, color='red', linestyle='--')\n",
    "\n",
    "# ax.legend(title=f'Mean LD at pairwise distance')  #bbox_to_anchor=(0.85, 1.15), ncol=2\n",
    "\n",
    "ax.set_xlabel('Genomic Distance (bp)')\n",
    "ax.set_ylabel('LD ($r^2$)')\n",
    "ax.set_ylim(0, 1.03)\n",
    "ax.set_xlim(0.9, 1e4)\n",
    "\n",
    "\n",
    "fig.savefig(f'fig/ld_decay_{species_id}_90th_novec.png', dpi=400)"
   ]
  },
  {
   "cell_type": "code",
   "execution_count": 25,
   "id": "catholic-prison",
   "metadata": {},
   "outputs": [
    {
     "name": "stderr",
     "output_type": "stream",
     "text": [
      "/opt/conda/lib/python3.7/site-packages/ipykernel_launcher.py:3: MatplotlibDeprecationWarning: shading='flat' when X and Y have the same dimensions as C is deprecated since 3.3.  Either specify the corners of the quadrilaterals with X and Y, or pass shading='auto', 'nearest' or 'gouraud', or set rcParams['pcolor.shading'].  This will become an error two minor releases later.\n",
      "  This is separate from the ipykernel package so we can avoid doing imports until\n"
     ]
    },
    {
     "data": {
      "image/png": "[encoded data removed]",
      "text/plain": [
       "<Figure size 432x288 with 2 Axes>"
      ]
     },
     "metadata": {
      "needs_background": "light"
     },
     "output_type": "display_data"
    }
   ],
   "source": [
    "fig = plt.figure()\n",
    "\n",
    "plt.pcolormesh(norm_hist.columns, norm_hist.index, norm_hist, norm=mpl.colors.LogNorm(vmin=1e-3, vmax=1.0), cmap='binary')\n",
    "plt.xscale('log')\n",
    "plt.colorbar()\n",
    "\n",
    "\n",
    "ax = plt.gca()\n",
    "\n",
    "# ax.scatter('x', 'ref', data=ld_profile.reset_index().assign(s=lambda x: 20 / x['x']), color='blue', label=f'reference genotypes', s='s', alpha=0.5)\n",
    "# ax.scatter('x', 'fit', data=ld_profile.reset_index().assign(s=lambda x: 20 / x['x']), color='red', label=f'inferred genotypes', s='s', alpha=0.5)\n",
    "\n",
    "ax.plot('right', 'ref', data=hist_bin_quantile90, lw=1, color='blue', alpha=1)\n",
    "ax.plot('right', 'fit', data=hist_bin_quantile90, lw=1, color='red', alpha=1)\n",
    "\n",
    "\n",
    "ax.axhline(np.quantile(r2_ref, 0.9), lw=1, color='blue', linestyle='--')\n",
    "ax.axhline(np.quantile(r2_fit, 0.9), lw=1, color='red', linestyle='--')\n",
    "\n",
    "# ax.legend(title=f'Mean LD at pairwise distance')  #bbox_to_anchor=(0.85, 1.15), ncol=2\n",
    "\n",
    "ax.set_xlabel('Genomic Distance (bp)')\n",
    "ax.set_ylabel('LD ($r^2$)')\n",
    "ax.set_ylim(0, 1.03)\n",
    "ax.set_xlim(0.9, 1e4)\n",
    "\n",
    "\n",
    "fig.savefig(f'fig/ld_decay_{species_id}_90th_noscatter.pdf', dpi=400)"
   ]
  },
  {
   "cell_type": "code",
   "execution_count": 26,
   "id": "direct-fossil",
   "metadata": {},
   "outputs": [
    {
     "name": "stderr",
     "output_type": "stream",
     "text": [
      "/opt/conda/lib/python3.7/site-packages/ipykernel_launcher.py:3: MatplotlibDeprecationWarning: shading='flat' when X and Y have the same dimensions as C is deprecated since 3.3.  Either specify the corners of the quadrilaterals with X and Y, or pass shading='auto', 'nearest' or 'gouraud', or set rcParams['pcolor.shading'].  This will become an error two minor releases later.\n",
      "  This is separate from the ipykernel package so we can avoid doing imports until\n"
     ]
    },
    {
     "data": {
      "image/png": "[encoded data removed]",
      "text/plain": [
       "<Figure size 432x288 with 2 Axes>"
      ]
     },
     "metadata": {
      "needs_background": "light"
     },
     "output_type": "display_data"
    }
   ],
   "source": [
    "fig = plt.figure()\n",
    "\n",
    "plt.pcolormesh(norm_hist.columns, norm_hist.index, norm_hist, norm=mpl.colors.LogNorm(vmin=1e-3, vmax=1.0), cmap='binary')\n",
    "plt.xscale('log')\n",
    "plt.colorbar()\n",
    "\n",
    "\n",
    "ax = plt.gca()\n",
    "\n",
    "# ax.scatter('x', 'ref', data=ld_profile.reset_index().assign(s=lambda x: 20 / x['x']), color='blue', label=f'reference genotypes', s='s', alpha=0.5)\n",
    "# ax.scatter('x', 'fit', data=ld_profile.reset_index().assign(s=lambda x: 20 / x['x']), color='red', label=f'inferred genotypes', s='s', alpha=0.5)\n",
    "\n",
    "# ax.plot('right', 'ref', data=hist_bin_quantile90, lw=1, color='blue', alpha=1)\n",
    "# ax.plot('right', 'fit', data=hist_bin_quantile90, lw=1, color='red', alpha=1)\n",
    "\n",
    "\n",
    "# ax.axhline(np.quantile(r2_ref, 0.9), lw=1, color='blue', linestyle='--')\n",
    "# ax.axhline(np.quantile(r2_fit, 0.9), lw=1, color='red', linestyle='--')\n",
    "\n",
    "# ax.legend(title=f'Mean LD at pairwise distance')  #bbox_to_anchor=(0.85, 1.15), ncol=2\n",
    "\n",
    "ax.set_xlabel('Genomic Distance (bp)')\n",
    "ax.set_ylabel('LD ($r^2$)')\n",
    "ax.set_ylim(0, 1.03)\n",
    "ax.set_xlim(0.9, 1e4)\n",
    "\n",
    "\n",
    "fig.savefig(f'fig/ld_decay_{species_id}_no_trends.png', dpi=400)"
   ]
  },
  {
   "cell_type": "code",
   "execution_count": 27,
   "id": "unknown-wallet",
   "metadata": {},
   "outputs": [
    {
     "name": "stderr",
     "output_type": "stream",
     "text": [
      "/opt/conda/lib/python3.7/site-packages/ipykernel_launcher.py:3: MatplotlibDeprecationWarning: shading='flat' when X and Y have the same dimensions as C is deprecated since 3.3.  Either specify the corners of the quadrilaterals with X and Y, or pass shading='auto', 'nearest' or 'gouraud', or set rcParams['pcolor.shading'].  This will become an error two minor releases later.\n",
      "  This is separate from the ipykernel package so we can avoid doing imports until\n"
     ]
    },
    {
     "data": {
      "image/png": "[encoded data removed]",
      "text/plain": [
       "<Figure size 432x288 with 2 Axes>"
      ]
     },
     "metadata": {
      "needs_background": "light"
     },
     "output_type": "display_data"
    }
   ],
   "source": [
    "fig = plt.figure()\n",
    "\n",
    "plt.pcolormesh(norm_hist.columns, norm_hist.index, norm_hist, norm=mpl.colors.LogNorm(vmin=1e-3, vmax=1.0), cmap='binary')\n",
    "plt.xscale('log')\n",
    "plt.colorbar()\n",
    "\n",
    "\n",
    "ax = plt.gca()\n",
    "\n",
    "# ax.scatter('x', 'ref', data=ld_profile.reset_index().assign(s=lambda x: 20 / x['x']), color='blue', label=f'reference genotypes', s='s', alpha=0.5)\n",
    "ax.scatter('x', 'fit', data=ld_profile.reset_index().assign(s=lambda x: 20 / x['x']), color='red', label=f'inferred genotypes', s='s', alpha=0.5)\n",
    "\n",
    "# ax.plot('right', 'ref', data=hist_bin_quantile90, lw=1, color='blue', alpha=1)\n",
    "ax.plot('right', 'fit', data=hist_bin_quantile90, lw=1, color='red', alpha=1)\n",
    "\n",
    "\n",
    "# ax.axhline(np.quantile(r2_ref, 0.9), lw=1, color='blue', linestyle='--')\n",
    "ax.axhline(np.quantile(r2_fit, 0.9), lw=1, color='red', linestyle='--')\n",
    "\n",
    "# ax.legend(title=f'Mean LD at pairwise distance')  #bbox_to_anchor=(0.85, 1.15), ncol=2\n",
    "\n",
    "ax.set_xlabel('Genomic Distance (bp)')\n",
    "ax.set_ylabel('LD ($r^2$)')\n",
    "ax.set_ylim(0, 1.03)\n",
    "ax.set_xlim(0.9, 1e4)\n",
    "\n",
    "\n",
    "fig.savefig(f'fig/ld_decay_{species_id}_no_ref.png', dpi=400)"
   ]
  },
  {
   "cell_type": "code",
   "execution_count": 28,
   "id": "conceptual-angel",
   "metadata": {},
   "outputs": [
    {
     "data": {
      "image/png": "[encoded data removed]",
      "text/plain": [
       "<Figure size 144x72 with 1 Axes>"
      ]
     },
     "metadata": {
      "needs_background": "light"
     },
     "output_type": "display_data"
    }
   ],
   "source": [
    "fig, ax = plt.subplots(figsize=(2, 1))\n",
    "\n",
    "ax.plot([], color='blue', label=f'reference', alpha=0.7)\n",
    "ax.plot([], color='red', label=f'inferred', alpha=0.7)\n",
    "ax.legend()  #bbox_to_anchor=(0.85, 1.15), ncol=2)\n",
    "\n",
    "ax.axis('off')\n",
    "fig.savefig(f'fig/ld_decay_{species_id}_legend.pdf', dpi=400)"
   ]
  },
  {
   "cell_type": "code",
   "execution_count": 29,
   "id": "nuclear-arizona",
   "metadata": {},
   "outputs": [
    {
     "data": {
      "text/plain": [
       "fit    93.0\n",
       "ref    67.0\n",
       "dtype: float64"
      ]
     },
     "execution_count": 29,
     "metadata": {},
     "output_type": "execute_result"
    }
   ],
   "source": [
    "# LD_{90,1/2}\n",
    "(ld_profile > 0.5).idxmin()"
   ]
  },
  {
   "cell_type": "code",
   "execution_count": 30,
   "id": "massive-protein",
   "metadata": {},
   "outputs": [
    {
     "data": {
      "text/html": [
       "<div>\n",
       "<style scoped>\n",
       "    .dataframe tbody tr th:only-of-type {\n",
       "        vertical-align: middle;\n",
       "    }\n",
       "\n",
       "    .dataframe tbody tr th {\n",
       "        vertical-align: top;\n",
       "    }\n",
       "\n",
       "    .dataframe thead th {\n",
       "        text-align: right;\n",
       "    }\n",
       "</style>\n",
       "<table border=\"1\" class=\"dataframe\">\n",
       "  <thead>\n",
       "    <tr style=\"text-align: right;\">\n",
       "      <th></th>\n",
       "      <th>fit</th>\n",
       "      <th>ref</th>\n",
       "    </tr>\n",
       "    <tr>\n",
       "      <th>x</th>\n",
       "      <th></th>\n",
       "      <th></th>\n",
       "    </tr>\n",
       "  </thead>\n",
       "  <tbody>\n",
       "    <tr>\n",
       "      <th>1.0</th>\n",
       "      <td>0.999978</td>\n",
       "      <td>1.0</td>\n",
       "    </tr>\n",
       "    <tr>\n",
       "      <th>2.0</th>\n",
       "      <td>0.999929</td>\n",
       "      <td>1.0</td>\n",
       "    </tr>\n",
       "    <tr>\n",
       "      <th>3.0</th>\n",
       "      <td>0.999872</td>\n",
       "      <td>1.0</td>\n",
       "    </tr>\n",
       "    <tr>\n",
       "      <th>4.0</th>\n",
       "      <td>0.999552</td>\n",
       "      <td>1.0</td>\n",
       "    </tr>\n",
       "    <tr>\n",
       "      <th>5.0</th>\n",
       "      <td>0.999424</td>\n",
       "      <td>1.0</td>\n",
       "    </tr>\n",
       "  </tbody>\n",
       "</table>\n",
       "</div>"
      ],
      "text/plain": [
       "          fit  ref\n",
       "x                 \n",
       "1.0  0.999978  1.0\n",
       "2.0  0.999929  1.0\n",
       "3.0  0.999872  1.0\n",
       "4.0  0.999552  1.0\n",
       "5.0  0.999424  1.0"
      ]
     },
     "execution_count": 30,
     "metadata": {},
     "output_type": "execute_result"
    }
   ],
   "source": [
    "ld_profile.head(5)"
   ]
  },
  {
   "cell_type": "code",
   "execution_count": 31,
   "id": "pointed-blood",
   "metadata": {},
   "outputs": [
    {
     "data": {
      "text/plain": [
       "(0.18075257863131577, 0.23879817039007709)"
      ]
     },
     "execution_count": 31,
     "metadata": {},
     "output_type": "execute_result"
    }
   ],
   "source": [
    "np.quantile(r2_ref, 0.9), np.quantile(r2_fit, 0.9)"
   ]
  }
 ],
 "metadata": {
  "kernelspec": {
   "display_name": "Python 3",
   "language": "python",
   "name": "python3"
  },
  "language_info": {
   "codemirror_mode": {
    "name": "ipython",
    "version": 3
   },
   "file_extension": ".py",
   "mimetype": "text/x-python",
   "name": "python",
   "nbconvert_exporter": "python",
   "pygments_lexer": "ipython3",
   "version": "3.7.10"
  }
 },
 "nbformat": 4,
 "nbformat_minor": 5
}
