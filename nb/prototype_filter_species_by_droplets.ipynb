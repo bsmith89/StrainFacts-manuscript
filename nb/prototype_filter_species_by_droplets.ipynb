{
 "cells": [
  {
   "cell_type": "code",
   "execution_count": 1,
   "id": "engaging-angel",
   "metadata": {},
   "outputs": [],
   "source": [
    "%load_ext autoreload\n",
    "%autoreload 0"
   ]
  },
  {
   "cell_type": "code",
   "execution_count": 2,
   "id": "equipped-objective",
   "metadata": {},
   "outputs": [],
   "source": [
    "%autoreload"
   ]
  },
  {
   "cell_type": "code",
   "execution_count": 3,
   "id": "equal-click",
   "metadata": {},
   "outputs": [],
   "source": [
    "import sys\n",
    "sys.path.append('/pollard/home/bsmith/Projects/haplo-benchmark/include/StrainFacts')"
   ]
  },
  {
   "cell_type": "code",
   "execution_count": 50,
   "id": "loose-serve",
   "metadata": {},
   "outputs": [],
   "source": [
    "import xarray as xr\n",
    "import sqlite3\n",
    "import pandas as pd\n",
    "import matplotlib as mpl\n",
    "import matplotlib.pyplot as plt\n",
    "import seaborn as sns\n",
    "import numpy as np\n",
    "import warnings\n",
    "import torch\n",
    "import pyro\n",
    "import scipy as sp\n",
    "\n",
    "import lib.plot\n",
    "from scipy.spatial.distance import pdist, squareform\n",
    "from sklearn.metrics.pairwise import pairwise_distances\n",
    "from sklearn.cluster import AgglomerativeClustering\n",
    "from lib.pandas_util import idxwhere\n",
    "from tqdm import tqdm\n",
    "\n",
    "\n",
    "import sfacts as sf\n",
    "\n",
    "# from lib.project_style import color_palette, major_allele_frequency_bins\n",
    "# from lib.project_data import metagenotype_db_to_xarray\n",
    "# from lib.plot import ordination_plot, mds_ordination, nmds_ordination\n",
    "# import lib.plot\n",
    "# from lib.plot import construct_ordered_pallete\n",
    "# from lib.pandas_util import idxwhere"
   ]
  },
  {
   "cell_type": "code",
   "execution_count": 5,
   "id": "characteristic-yield",
   "metadata": {},
   "outputs": [],
   "source": [
    "threshold = 0.01  # We only care about droplets with >1% horizontal coverage\n",
    "con = sqlite3.connect('data/ucfmt.db')\n",
    "species_to_upper_limit_tally = pd.read_table('data/ucfmt.genotypes.distinct_positions_tally.tsv', index_col='species_id', squeeze=True)\n",
    "species_to_reference_positions = pd.read_table('data/ucfmt.reference.distinct_positions_tally.tsv', index_col='species_id', squeeze=True)"
   ]
  },
  {
   "cell_type": "code",
   "execution_count": 6,
   "id": "integral-belgium",
   "metadata": {},
   "outputs": [],
   "source": [
    "species_upper_limit_horizontal_coverage = (species_to_upper_limit_tally / species_to_reference_positions).fillna(0)"
   ]
  },
  {
   "cell_type": "code",
   "execution_count": 7,
   "id": "norman-blogger",
   "metadata": {},
   "outputs": [],
   "source": [
    "species_to_consider = idxwhere(species_upper_limit_horizontal_coverage > threshold)"
   ]
  },
  {
   "cell_type": "code",
   "execution_count": 8,
   "id": "indonesian-electric",
   "metadata": {},
   "outputs": [
    {
     "data": {
      "text/plain": [
       "119"
      ]
     },
     "execution_count": 8,
     "metadata": {},
     "output_type": "execute_result"
    }
   ],
   "source": [
    "len(species_to_consider)"
   ]
  },
  {
   "cell_type": "code",
   "execution_count": 28,
   "id": "equivalent-immune",
   "metadata": {},
   "outputs": [
    {
     "data": {
      "text/plain": [
       "species_id\n",
       "100606    0.000000\n",
       "102446    0.000000\n",
       "102783    0.000000\n",
       "102781    0.000000\n",
       "102456    0.000000\n",
       "            ...   \n",
       "100268    0.818278\n",
       "104345    0.990031\n",
       "104018    1.000000\n",
       "102763    1.000000\n",
       "100878    1.000000\n",
       "Length: 881, dtype: float64"
      ]
     },
     "execution_count": 28,
     "metadata": {},
     "output_type": "execute_result"
    }
   ],
   "source": [
    "species_upper_limit_horizontal_coverage.sort_values()"
   ]
  },
  {
   "cell_type": "code",
   "execution_count": 45,
   "id": "multiple-trace",
   "metadata": {},
   "outputs": [],
   "source": [
    "focal_species = 100878\n",
    "reference_length = species_to_reference_positions[focal_species]"
   ]
  },
  {
   "cell_type": "code",
   "execution_count": 46,
   "id": "modified-density",
   "metadata": {},
   "outputs": [],
   "source": [
    "focal_species_data = pd.read_sql(f\"\"\"\n",
    "SELECT lib_id, species_position, reference_tally, alternative_tally, sample_id FROM snp_x_lib\n",
    "JOIN lib USING (lib_id)\n",
    "WHERE species_id = '{focal_species}' AND lib_type = 'droplet'\n",
    "\"\"\", con=con)"
   ]
  },
  {
   "cell_type": "code",
   "execution_count": 47,
   "id": "decimal-excuse",
   "metadata": {},
   "outputs": [],
   "source": [
    "barcode_tally_positions = focal_species_data.groupby('lib_id').apply(len)\n",
    "barcode_tally_positions_horizontal_coverage = barcode_tally_positions / reference_length"
   ]
  },
  {
   "cell_type": "code",
   "execution_count": 48,
   "id": "published-moses",
   "metadata": {},
   "outputs": [
    {
     "data": {
      "text/plain": [
       "['SS1057_TACCTCACTGTGAATGCC.d']"
      ]
     },
     "execution_count": 48,
     "metadata": {},
     "output_type": "execute_result"
    }
   ],
   "source": [
    "passing_droplets = idxwhere(barcode_tally_positions_horizontal_coverage > threshold)\n",
    "passing_droplets"
   ]
  },
  {
   "cell_type": "code",
   "execution_count": 65,
   "id": "delayed-spanking",
   "metadata": {},
   "outputs": [
    {
     "name": "stderr",
     "output_type": "stream",
     "text": [
      "100%|██████████| 119/119 [03:12<00:00,  1.62s/it]\n"
     ]
    }
   ],
   "source": [
    "all_scg = {}\n",
    "\n",
    "for focal_species in tqdm(idxwhere(species_upper_limit_horizontal_coverage > threshold)):\n",
    "    focal_species_data = pd.read_sql(f\"\"\"\n",
    "        SELECT lib_id, species_position, reference_tally, alternative_tally, sample_id\n",
    "        FROM snp_x_lib\n",
    "        JOIN lib USING (lib_id)\n",
    "        WHERE species_id = '{focal_species}'\n",
    "          AND lib_type = 'droplet'\n",
    "    \"\"\", con=con)\n",
    "    reference_length = species_to_reference_positions[focal_species]\n",
    "    barcode_tally_positions = focal_species_data.groupby('lib_id').apply(len)\n",
    "    barcode_tally_positions_horizontal_coverage = barcode_tally_positions / reference_length\n",
    "    all_scg[focal_species] = barcode_tally_positions_horizontal_coverage\n",
    "    \n",
    "all_scg = pd.DataFrame(all_scg).stack(dropna=True)"
   ]
  },
  {
   "cell_type": "code",
   "execution_count": 77,
   "id": "graduate-regression",
   "metadata": {},
   "outputs": [
    {
     "data": {
      "text/plain": [
       "lib_id                             \n",
       "SS1009_AACAACCTACAAGAGAGT.d  100199    0.000039\n",
       "                             103695    0.001325\n",
       "                             104296    0.000247\n",
       "                             104345    0.000304\n",
       "SS1009_AACAATGCAACACGTTGC.d  100113    0.000029\n",
       "                                         ...   \n",
       "SS1057_TTGTCAACCTGATACCGT.d  100199    0.000020\n",
       "                             100268    0.000097\n",
       "                             101157    0.000013\n",
       "                             102274    0.000023\n",
       "                             104016    0.000016\n",
       "Length: 35066, dtype: float64"
      ]
     },
     "execution_count": 77,
     "metadata": {},
     "output_type": "execute_result"
    }
   ],
   "source": [
    "all_scg"
   ]
  },
  {
   "cell_type": "code",
   "execution_count": 75,
   "id": "efficient-authorization",
   "metadata": {},
   "outputs": [],
   "source": [
    "(\n",
    "    all_scg\n",
    "    .to_frame()\n",
    "    .reset_index()\n",
    "    .rename(columns={'level_1': 'species_id', 0: 'horizontal_coverage'})\n",
    "    .sort_values(['species_id', 'horizontal_coverage'], ascending=(True, False))\n",
    "    .to_csv('data/ucfmt.genotype.horizontal_coverage.tsv', sep='\\t', index=False)\n",
    ")"
   ]
  },
  {
   "cell_type": "code",
   "execution_count": 76,
   "id": "ranging-demonstration",
   "metadata": {},
   "outputs": [
    {
     "data": {
      "text/plain": [
       "lib_id                             \n",
       "SS1009_AACAACCTACAAGAGAGT.d  100199    0.000039\n",
       "                             103695    0.001325\n",
       "                             104296    0.000247\n",
       "                             104345    0.000304\n",
       "SS1009_AACAATGCAACACGTTGC.d  100113    0.000029\n",
       "                                         ...   \n",
       "SS1057_TTGTCAACCTGATACCGT.d  100199    0.000020\n",
       "                             100268    0.000097\n",
       "                             101157    0.000013\n",
       "                             102274    0.000023\n",
       "                             104016    0.000016\n",
       "Length: 35066, dtype: float64"
      ]
     },
     "execution_count": 76,
     "metadata": {},
     "output_type": "execute_result"
    }
   ],
   "source": [
    "all_scg"
   ]
  },
  {
   "cell_type": "code",
   "execution_count": 82,
   "id": "increasing-voluntary",
   "metadata": {},
   "outputs": [],
   "source": [
    "scg_hc = pd.read_table('data/ucfmt.genotype.horizontal_coverage.tsv', index_col=['lib_id', 'species_id'], squeeze=True)"
   ]
  },
  {
   "cell_type": "code",
   "execution_count": 94,
   "id": "recreational-river",
   "metadata": {},
   "outputs": [
    {
     "data": {
      "text/plain": [
       "104345    238\n",
       "100199    147\n",
       "100253     68\n",
       "101387     62\n",
       "102279     57\n",
       "         ... \n",
       "101362      1\n",
       "102072      1\n",
       "104016      1\n",
       "101711      1\n",
       "103702      1\n",
       "Name: species_id, Length: 87, dtype: int64"
      ]
     },
     "execution_count": 94,
     "metadata": {},
     "output_type": "execute_result"
    }
   ],
   "source": [
    "pd.read_table('data/ucfmt.genotype.horizontal_coverage.tsv', index_col=['lib_id', 'species_id'], squeeze=True)[lambda x: x > threshold].reset_index().species_id.value_counts()#.head(20)"
   ]
  },
  {
   "cell_type": "code",
   "execution_count": 102,
   "id": "isolated-prague",
   "metadata": {},
   "outputs": [
    {
     "data": {
      "text/plain": [
       "lib_id\n",
       "SS1057_TCATATCGCTCACTCGCT.d    0.034807\n",
       "SS1009_CTGGACTAATAATGTAGC.d    0.024613\n",
       "Name: horizontal_coverage, dtype: float64"
      ]
     },
     "execution_count": 102,
     "metadata": {},
     "output_type": "execute_result"
    }
   ],
   "source": [
    "pd.read_table('data/ucfmt.genotype.horizontal_coverage.tsv', index_col=['lib_id', 'species_id'], squeeze=True)[lambda x: x > threshold].xs(100002, level='species_id')"
   ]
  },
  {
   "cell_type": "code",
   "execution_count": null,
   "id": "narrow-twist",
   "metadata": {},
   "outputs": [],
   "source": []
  }
 ],
 "metadata": {
  "kernelspec": {
   "display_name": "Python 3",
   "language": "python",
   "name": "python3"
  },
  "language_info": {
   "codemirror_mode": {
    "name": "ipython",
    "version": 3
   },
   "file_extension": ".py",
   "mimetype": "text/x-python",
   "name": "python",
   "nbconvert_exporter": "python",
   "pygments_lexer": "ipython3",
   "version": "3.7.10"
  }
 },
 "nbformat": 4,
 "nbformat_minor": 5
}
