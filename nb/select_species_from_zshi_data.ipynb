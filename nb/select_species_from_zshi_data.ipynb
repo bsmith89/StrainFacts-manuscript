{
 "cells": [
  {
   "cell_type": "code",
   "execution_count": null,
   "metadata": {},
   "outputs": [],
   "source": [
    "%load_ext autoreload\n",
    "%autoreload 0"
   ]
  },
  {
   "cell_type": "code",
   "execution_count": null,
   "metadata": {},
   "outputs": [],
   "source": [
    "%autoreload"
   ]
  },
  {
   "cell_type": "code",
   "execution_count": null,
   "metadata": {},
   "outputs": [],
   "source": [
    "import sys\n",
    "sys.path.append('/pollard/home/bsmith/Projects/haplo-benchmark/include/StrainFacts')"
   ]
  },
  {
   "cell_type": "code",
   "execution_count": null,
   "metadata": {},
   "outputs": [],
   "source": [
    "import pandas as pd\n",
    "import matplotlib.pyplot as plt\n",
    "import matplotlib as mpl\n",
    "from lib.pandas_util import idxwhere\n",
    "import sfacts as sf\n",
    "import numpy as np\n",
    "import xarray as xr\n",
    "import seaborn as sns\n",
    "from scipy.spatial.distance import cdist\n",
    "import lib.plot"
   ]
  },
  {
   "cell_type": "code",
   "execution_count": null,
   "metadata": {},
   "outputs": [],
   "source": [
    "import seaborn as sns\n",
    "sns.set_context('talk')"
   ]
  },
  {
   "cell_type": "code",
   "execution_count": null,
   "metadata": {},
   "outputs": [],
   "source": [
    "uhgg = pd.read_table('genomes-nr_metadata.tsv', index_col='Genome')"
   ]
  },
  {
   "cell_type": "code",
   "execution_count": null,
   "metadata": {},
   "outputs": [],
   "source": [
    "uhgg.columns"
   ]
  },
  {
   "cell_type": "code",
   "execution_count": null,
   "metadata": {},
   "outputs": [],
   "source": [
    "uhgg.Species_rep.unique().shape"
   ]
  },
  {
   "cell_type": "code",
   "execution_count": null,
   "metadata": {},
   "outputs": [],
   "source": [
    "uhgg_species_num_reps = uhgg.groupby('Species_rep').apply(len)"
   ]
  },
  {
   "cell_type": "code",
   "execution_count": null,
   "metadata": {},
   "outputs": [],
   "source": [
    "uhgg_species_num_reps.quantile(.50)"
   ]
  },
  {
   "cell_type": "code",
   "execution_count": null,
   "metadata": {},
   "outputs": [],
   "source": [
    "(uhgg_species_num_reps < 10).mean()"
   ]
  },
  {
   "cell_type": "code",
   "execution_count": null,
   "metadata": {},
   "outputs": [],
   "source": [
    "bins = np.logspace(0, 4, num=21)\n",
    "plt.hist(uhgg_species_num_reps, bins=bins)\n",
    "plt.axvline(2, lw=1, linestyle='--', c='k')\n",
    "plt.yscale('symlog')\n",
    "plt.xscale('log')\n",
    "\n",
    "plt.ylabel('count')\n",
    "plt.xlabel('Number of Species Genomes')\n",
    "\n",
    "plt.ylim(top=1e4)\n",
    "\n",
    "plt.gcf().tight_layout()\n",
    "plt.savefig('fig/uhgg_species_reps.png', dpi=400, pad_inches='tight')"
   ]
  },
  {
   "cell_type": "code",
   "execution_count": null,
   "metadata": {},
   "outputs": [],
   "source": [
    "import bz2\n",
    "\n",
    "with bz2.open('data/zshi.gtpro-site_tally.r1.tsv.bz2') as f:\n",
    "    data = pd.read_table(f, names=['library_id', 'species_id', 'tally'], index_col=['library_id', 'species_id']).squeeze()"
   ]
  },
  {
   "cell_type": "code",
   "execution_count": null,
   "metadata": {},
   "outputs": [],
   "source": [
    "species = pd.read_table('meta/uhgg_taxonomy.tsv', names=['species_id', 'taxonomy'], index_col='species_id').squeeze()\n",
    "species"
   ]
  },
  {
   "cell_type": "code",
   "execution_count": null,
   "metadata": {},
   "outputs": [],
   "source": [
    "num_position_thresh = 200\n",
    "\n",
    "d0 = (data.unstack(fill_value=0) > num_position_thresh).sum().to_frame(name='tally').join(species)\n",
    "for species_id, d1 in d0[lambda x: x.tally > 500].sort_values('tally', ascending=False).iterrows():\n",
    "    if 'd__Arch' in d1.taxonomy:\n",
    "        print(species_id, d1.tally, d1.taxonomy)"
   ]
  },
  {
   "cell_type": "code",
   "execution_count": null,
   "metadata": {},
   "outputs": [],
   "source": [
    "ref = sf.Metagenotypes.load('data/gtprodb.sp-102163.genotype.nc')\n",
    "ref.sizes"
   ]
  },
  {
   "cell_type": "code",
   "execution_count": null,
   "metadata": {},
   "outputs": [],
   "source": [
    "num_position_thresh = 200\n",
    "\n",
    "d0 = (data.unstack(fill_value=0) > num_position_thresh).sum().to_frame(name='tally').join(species)\n",
    "for species_id, d1 in d0[lambda x: x.tally > 500].sort_values('tally', ascending=False).iterrows():\n",
    "    if 'g__Bifidobacterium' in d1.taxonomy:\n",
    "        print(species_id, d1.tally, d1.taxonomy)"
   ]
  },
  {
   "cell_type": "code",
   "execution_count": null,
   "metadata": {},
   "outputs": [],
   "source": [
    "ref = sf.Metagenotypes.load('data/gtprodb.sp-102395.genotype.nc')\n",
    "ref.sizes"
   ]
  },
  {
   "cell_type": "code",
   "execution_count": null,
   "metadata": {},
   "outputs": [],
   "source": [
    "num_position_thresh = 200\n",
    "\n",
    "d0 = (data.unstack(fill_value=0) > num_position_thresh).sum().to_frame(name='tally').join(species)\n",
    "for species_id, d1 in d0[lambda x: x.tally > 500].sort_values('tally', ascending=False).iterrows():\n",
    "    if 'g__CAG' in d1.taxonomy:\n",
    "        print(species_id, d1.tally, d1.taxonomy)"
   ]
  },
  {
   "cell_type": "code",
   "execution_count": null,
   "metadata": {},
   "outputs": [],
   "source": [
    "ref = sf.Metagenotypes.load('data/gtprodb.sp-100205.genotype.nc')\n",
    "ref.sizes"
   ]
  },
  {
   "cell_type": "code",
   "execution_count": null,
   "metadata": {},
   "outputs": [],
   "source": [
    "num_position_thresh = 200\n",
    "\n",
    "d0 = (data.unstack(fill_value=0) > num_position_thresh).sum().to_frame(name='tally').join(species)\n",
    "for species_id, d1 in d0[lambda x: x.tally > 500].sort_values('tally', ascending=False).iterrows():\n",
    "    if 'f__Muribaculaceae' in d1.taxonomy:\n",
    "        print(species_id, d1.tally, d1.taxonomy)"
   ]
  },
  {
   "cell_type": "code",
   "execution_count": null,
   "metadata": {},
   "outputs": [],
   "source": [
    "ref = sf.Metagenotypes.load('data/gtprodb.sp-102556.genotype.nc')\n",
    "ref.sizes"
   ]
  },
  {
   "cell_type": "raw",
   "metadata": {},
   "source": [
    "sf.plot.plot_metagenotype2(mgen1.random_sample(position=1000))"
   ]
  },
  {
   "cell_type": "raw",
   "metadata": {},
   "source": [
    "mgen2 = sf.Metagenotypes.load('data/core.sp-101354.gtpro-pileup.nc')"
   ]
  },
  {
   "cell_type": "raw",
   "metadata": {},
   "source": [
    "sf.plot.plot_metagenotype2(mgen2.random_sample(position=2000))"
   ]
  }
 ],
 "metadata": {
  "kernelspec": {
   "display_name": "Python 3",
   "language": "python",
   "name": "python3"
  },
  "language_info": {
   "codemirror_mode": {
    "name": "ipython",
    "version": 3
   },
   "file_extension": ".py",
   "mimetype": "text/x-python",
   "name": "python",
   "nbconvert_exporter": "python",
   "pygments_lexer": "ipython3",
   "version": "3.7.10"
  }
 },
 "nbformat": 4,
 "nbformat_minor": 5
}