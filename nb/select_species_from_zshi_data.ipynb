{
 "cells": [
  {
   "cell_type": "code",
   "execution_count": 2,
   "id": "vietnamese-commerce",
   "metadata": {},
   "outputs": [],
   "source": [
    "%load_ext autoreload\n",
    "%autoreload 0"
   ]
  },
  {
   "cell_type": "code",
   "execution_count": 3,
   "id": "terminal-consent",
   "metadata": {},
   "outputs": [],
   "source": [
    "%autoreload"
   ]
  },
  {
   "cell_type": "code",
   "execution_count": 4,
   "id": "italic-jesus",
   "metadata": {},
   "outputs": [],
   "source": [
    "import sys\n",
    "sys.path.append('/pollard/home/bsmith/Projects/haplo-benchmark/include/StrainFacts')"
   ]
  },
  {
   "cell_type": "code",
   "execution_count": 5,
   "id": "usual-orlando",
   "metadata": {},
   "outputs": [],
   "source": [
    "import pandas as pd\n",
    "import matplotlib.pyplot as plt\n",
    "import matplotlib as mpl\n",
    "from lib.pandas_util import idxwhere\n",
    "import sfacts as sf\n",
    "import numpy as np\n",
    "import xarray as xr\n",
    "import seaborn as sns\n",
    "from scipy.spatial.distance import cdist\n",
    "import lib.plot"
   ]
  },
  {
   "cell_type": "code",
   "execution_count": 34,
   "id": "continuous-essex",
   "metadata": {},
   "outputs": [
    {
     "name": "stderr",
     "output_type": "stream",
     "text": [
      "/opt/conda/lib/python3.7/site-packages/numpy/lib/arraysetops.py:580: FutureWarning: elementwise comparison failed; returning scalar instead, but in the future will perform elementwise comparison\n",
      "  mask |= (ar1 == a)\n"
     ]
    }
   ],
   "source": [
    "import bz2\n",
    "\n",
    "with bz2.open('data/zshi.gtpro-site_tally.r1.tsv.bz2') as f:\n",
    "    data = pd.read_table(f, names=['library_id', 'species_id', 'tally'], index_col=['library_id', 'species_id']).squeeze()"
   ]
  },
  {
   "cell_type": "code",
   "execution_count": 36,
   "id": "lined-knife",
   "metadata": {},
   "outputs": [
    {
     "data": {
      "text/plain": [
       "species_id\n",
       "100001    d__Bacteria;p__Firmicutes_A;c__Clostridia;o__P...\n",
       "100002    d__Bacteria;p__Firmicutes_A;c__Clostridia;o__L...\n",
       "100003    d__Bacteria;p__Bacteroidota;c__Bacteroidia;o__...\n",
       "100004    d__Bacteria;p__Firmicutes_A;c__Clostridia;o__O...\n",
       "100005    d__Bacteria;p__Firmicutes_A;c__Clostridia;o__P...\n",
       "                                ...                        \n",
       "104640    d__Bacteria;p__Bacteroidota;c__Bacteroidia;o__...\n",
       "104641    d__Bacteria;p__Proteobacteria;c__Gammaproteoba...\n",
       "104642    d__Bacteria;p__Firmicutes_A;c__Clostridia;o__L...\n",
       "104643    d__Bacteria;p__Firmicutes_A;c__Clostridia;o__O...\n",
       "104644    d__Bacteria;p__Firmicutes_A;c__Clostridia;o__O...\n",
       "Name: taxonomy, Length: 4644, dtype: object"
      ]
     },
     "execution_count": 36,
     "metadata": {},
     "output_type": "execute_result"
    }
   ],
   "source": [
    "species = pd.read_table('meta/uhgg_taxonomy.tsv', names=['species_id', 'taxonomy'], index_col='species_id').squeeze()\n",
    "species"
   ]
  },
  {
   "cell_type": "code",
   "execution_count": 43,
   "id": "forced-friendship",
   "metadata": {},
   "outputs": [
    {
     "name": "stdout",
     "output_type": "stream",
     "text": [
      "102163 4352 d__Archaea;p__Euryarchaeota;c__Methanobacteria;o__Methanobacteriales;f__Methanobacteriaceae;g__Methanobrevibacter_A;s__Methanobrevibacter_A;\n",
      "104339 1173 d__Archaea;p__Thermoplasmatota;c__Thermoplasmata;o__Methanomassiliicoccales;f__Methanomethylophilaceae;g__UBA71;s__;\n",
      "102446 621 d__Archaea;p__Euryarchaeota;c__Methanobacteria;o__Methanobacteriales;f__Methanobacteriaceae;g__Methanobrevibacter_A;s__Methanobrevibacter_A;\n"
     ]
    }
   ],
   "source": [
    "num_position_thresh = 200\n",
    "\n",
    "d0 = (data.unstack(fill_value=0) > num_position_thresh).sum().to_frame(name='tally').join(species)\n",
    "for species_id, d1 in d0[lambda x: x.tally > 500].sort_values('tally', ascending=False).iterrows():\n",
    "    if 'd__Arch' in d1.taxonomy:\n",
    "        print(species_id, d1.tally, d1.taxonomy)"
   ]
  },
  {
   "cell_type": "code",
   "execution_count": 44,
   "id": "described-programming",
   "metadata": {},
   "outputs": [
    {
     "data": {
      "text/plain": [
       "Frozen({'sample': 506, 'position': 17162, 'allele': 2})"
      ]
     },
     "execution_count": 44,
     "metadata": {},
     "output_type": "execute_result"
    }
   ],
   "source": [
    "ref = sf.Metagenotypes.load('data/gtprodb.sp-102163.genotype.nc')\n",
    "ref.sizes"
   ]
  },
  {
   "cell_type": "code",
   "execution_count": 46,
   "id": "harmful-nomination",
   "metadata": {},
   "outputs": [
    {
     "name": "stdout",
     "output_type": "stream",
     "text": [
      "102395 6135 d__Bacteria;p__Actinobacteriota;c__Actinobacteria;o__Actinomycetales;f__Bifidobacteriaceae;g__Bifidobacterium;s__Bifidobacterium;\n",
      "101292 5833 d__Bacteria;p__Actinobacteriota;c__Actinobacteria;o__Actinomycetales;f__Bifidobacteriaceae;g__Bifidobacterium;s__Bifidobacterium;\n",
      "103683 4218 d__Bacteria;p__Actinobacteriota;c__Actinobacteria;o__Actinomycetales;f__Bifidobacteriaceae;g__Bifidobacterium;s__Bifidobacterium;\n",
      "102396 3435 d__Bacteria;p__Actinobacteriota;c__Actinobacteria;o__Actinomycetales;f__Bifidobacteriaceae;g__Bifidobacterium;s__Bifidobacterium;\n",
      "101354 3388 d__Bacteria;p__Actinobacteriota;c__Actinobacteria;o__Actinomycetales;f__Bifidobacteriaceae;g__Bifidobacterium;s__Bifidobacterium;\n",
      "101490 2136 d__Bacteria;p__Actinobacteriota;c__Actinobacteria;o__Actinomycetales;f__Bifidobacteriaceae;g__Bifidobacterium;s__Bifidobacterium;\n",
      "102469 1564 d__Bacteria;p__Actinobacteriota;c__Actinobacteria;o__Actinomycetales;f__Bifidobacteriaceae;g__Bifidobacterium;s__Bifidobacterium;\n",
      "103069 1174 d__Bacteria;p__Actinobacteriota;c__Actinobacteria;o__Actinomycetales;f__Bifidobacteriaceae;g__Bifidobacterium;s__Bifidobacterium;\n",
      "102397 831 d__Bacteria;p__Actinobacteriota;c__Actinobacteria;o__Actinomycetales;f__Bifidobacteriaceae;g__Bifidobacterium;s__Bifidobacterium;\n"
     ]
    }
   ],
   "source": [
    "num_position_thresh = 200\n",
    "\n",
    "d0 = (data.unstack(fill_value=0) > num_position_thresh).sum().to_frame(name='tally').join(species)\n",
    "for species_id, d1 in d0[lambda x: x.tally > 500].sort_values('tally', ascending=False).iterrows():\n",
    "    if 'g__Bifidobacterium' in d1.taxonomy:\n",
    "        print(species_id, d1.tally, d1.taxonomy)"
   ]
  },
  {
   "cell_type": "code",
   "execution_count": 49,
   "id": "bored-merit",
   "metadata": {},
   "outputs": [
    {
     "data": {
      "text/plain": [
       "Frozen({'sample': 1000, 'position': 2193, 'allele': 2})"
      ]
     },
     "execution_count": 49,
     "metadata": {},
     "output_type": "execute_result"
    }
   ],
   "source": [
    "ref = sf.Metagenotypes.load('data/gtprodb.sp-102395.genotype.nc')\n",
    "ref.sizes"
   ]
  },
  {
   "cell_type": "code",
   "execution_count": 52,
   "id": "national-forwarding",
   "metadata": {},
   "outputs": [
    {
     "name": "stdout",
     "output_type": "stream",
     "text": [
      "100205 10720 d__Bacteria;p__Firmicutes_A;c__Clostridia;o__Lachnospirales;f__Lachnospiraceae;g__CAG-81;s__CAG-81;\n",
      "100033 10367 d__Bacteria;p__Firmicutes_A;c__Clostridia;o__Monoglobales;f__UBA1381;g__CAG-41;s__CAG-41;\n",
      "102926 10200 d__Bacteria;p__Firmicutes_A;c__Clostridia;o__Oscillospirales;f__Oscillospiraceae;g__CAG-83;s__CAG-83;\n",
      "102060 10175 d__Bacteria;p__Firmicutes_A;c__Clostridia;o__Oscillospirales;f__Oscillospiraceae;g__CAG-110;s__CAG-110;\n",
      "100233 9793 d__Bacteria;p__Firmicutes_A;c__Clostridia;o__Lachnospirales;f__Lachnospiraceae;g__CAG-81;s__CAG-81;\n",
      "100154 9429 d__Bacteria;p__Firmicutes_A;c__Clostridia;o__Lachnospirales;f__Lachnospiraceae;g__CAG-45;s__CAG-45;\n",
      "102285 8690 d__Bacteria;p__Firmicutes_A;c__Clostridia;o__Lachnospirales;f__Lachnospiraceae;g__CAG-95;s__CAG-95;\n",
      "102710 8529 d__Bacteria;p__Firmicutes_A;c__Clostridia;o__Oscillospirales;f__Oscillospiraceae;g__CAG-170;s__;\n",
      "100651 8321 d__Bacteria;p__Firmicutes_A;c__Clostridia;o__Oscillospirales;f__Oscillospiraceae;g__CAG-170;s__CAG-170;\n",
      "100140 7709 d__Bacteria;p__Firmicutes_A;c__Clostridia;o__Lachnospirales;f__Lachnospiraceae;g__CAG-56;s__CAG-56;\n",
      "102993 7596 d__Bacteria;p__Firmicutes_A;c__Clostridia;o__Oscillospirales;f__Oscillospiraceae;g__CAG-170;s__CAG-170;\n",
      "102720 7521 d__Bacteria;p__Firmicutes_A;c__Clostridia;o__Oscillospirales;f__Oscillospiraceae;g__CAG-83;s__CAG-83;\n",
      "100668 7457 d__Bacteria;p__Firmicutes_A;c__Clostridia;o__Peptostreptococcales;f__Anaerovoracaceae;g__CAG-145;s__;\n",
      "104114 7273 d__Bacteria;p__Firmicutes_A;c__Clostridia;o__Lachnospirales;f__Lachnospiraceae;g__CAG-95;s__CAG-95;\n",
      "101029 7053 d__Bacteria;p__Firmicutes_A;c__Clostridia;o__Oscillospirales;f__Acutalibacteraceae;g__CAG-217;s__CAG-217;\n",
      "102143 6816 d__Bacteria;p__Firmicutes_A;c__Clostridia;o__Oscillospirales;f__Oscillospiraceae;g__CAG-83;s__;\n",
      "104323 6790 d__Bacteria;p__Firmicutes_A;c__Clostridia;o__Oscillospirales;f__Acutalibacteraceae;g__CAG-180;s__CAG-180;\n",
      "100190 6400 d__Bacteria;p__Firmicutes_A;c__Clostridia;o__Lachnospirales;f__Lachnospiraceae;g__CAG-127;s__CAG-127;\n",
      "102612 6368 d__Bacteria;p__Firmicutes_A;c__Clostridia;o__Oscillospirales;f__Oscillospiraceae;g__CAG-83;s__CAG-83;\n",
      "100369 6349 d__Bacteria;p__Firmicutes_A;c__Clostridia;o__Oscillospirales;f__Oscillospiraceae;g__CAG-170;s__CAG-170;\n",
      "100743 6263 d__Bacteria;p__Firmicutes_A;c__Clostridia;o__Oscillospirales;f__Oscillospiraceae;g__CAG-110;s__CAG-110;\n",
      "100087 6201 d__Bacteria;p__Firmicutes_A;c__Clostridia;o__Lachnospirales;f__Lachnospiraceae;g__CAG-81;s__CAG-81;\n",
      "103409 6058 d__Bacteria;p__Firmicutes_A;c__Clostridia;o__Oscillospirales;f__Oscillospiraceae;g__CAG-110;s__;\n",
      "104196 6016 d__Bacteria;p__Firmicutes_A;c__Clostridia;o__Oscillospirales;f__Oscillospiraceae;g__CAG-83;s__CAG-83;\n",
      "100723 5922 d__Bacteria;p__Firmicutes_A;c__Clostridia;o__Oscillospirales;f__Acutalibacteraceae;g__CAG-177;s__CAG-177;\n",
      "102589 5854 d__Bacteria;p__Firmicutes_A;c__Clostridia;o__Oscillospirales;f__Oscillospiraceae;g__CAG-110;s__;\n",
      "102794 5799 d__Bacteria;p__Firmicutes_A;c__Clostridia;o__Oscillospirales;f__Oscillospiraceae;g__CAG-83;s__CAG-83;\n",
      "101136 5699 d__Bacteria;p__Firmicutes_A;c__Clostridia;o__Oscillospirales;f__Oscillospiraceae;g__CAG-103;s__;\n",
      "100370 5480 d__Bacteria;p__Firmicutes_A;c__Clostridia;o__Oscillospirales;f__Oscillospiraceae;g__CAG-170;s__;\n",
      "104463 5378 d__Bacteria;p__Firmicutes_A;c__Clostridia;o__Oscillospirales;f__Oscillospiraceae;g__CAG-83;s__;\n",
      "104248 5306 d__Bacteria;p__Firmicutes_A;c__Clostridia;o__Oscillospirales;f__Oscillospiraceae;g__CAG-170;s__CAG-170;\n",
      "104526 5252 d__Bacteria;p__Firmicutes_A;c__Clostridia;o__Oscillospirales;f__Oscillospiraceae;g__CAG-103;s__CAG-103;\n",
      "101168 5193 d__Bacteria;p__Actinobacteriota;c__Coriobacteriia;o__Coriobacteriales;f__Eggerthellaceae;g__CAG-1427;s__CAG-1427;\n",
      "100362 5188 d__Bacteria;p__Firmicutes_A;c__Clostridia;o__Oscillospirales;f__Ruminococcaceae;g__CAG-115;s__CAG-115;\n",
      "102556 5164 d__Bacteria;p__Bacteroidota;c__Bacteroidia;o__Bacteroidales;f__Muribaculaceae;g__CAG-279;s__CAG-279;\n",
      "104262 4883 d__Bacteria;p__Firmicutes_A;c__Clostridia;o__Oscillospirales;f__Oscillospiraceae;g__CAG-110;s__;\n",
      "104593 4804 d__Bacteria;p__Firmicutes_A;c__Clostridia;o__Lachnospirales;f__Lachnospiraceae;g__CAG-194;s__CAG-194;\n",
      "100877 4433 d__Bacteria;p__Firmicutes_A;c__Clostridia;o__Oscillospirales;f__Oscillospiraceae;g__CAG-83;s__;\n",
      "102831 4340 d__Bacteria;p__Firmicutes_A;c__Clostridia;o__4C28d-15;f__CAG-917;g__CAG-349;s__CAG-349;\n",
      "100715 4320 d__Bacteria;p__Firmicutes_A;c__Clostridia;o__Oscillospirales;f__Oscillospiraceae;g__CAG-110;s__;\n",
      "103306 4259 d__Bacteria;p__Firmicutes_A;c__Clostridia;o__Oscillospirales;f__CAG-272;g__CAG-448;s__CAG-448;\n",
      "102882 4232 d__Bacteria;p__Firmicutes_A;c__Clostridia;o__Oscillospirales;f__Oscillospiraceae;g__CAG-83;s__CAG-83;\n",
      "104117 4150 d__Bacteria;p__Firmicutes;c__Bacilli;o__RF39;f__CAG-302;g__CAG-302;s__CAG-302;\n",
      "100255 4109 d__Bacteria;p__Firmicutes_A;c__Clostridia;o__Lachnospirales;f__Lachnospiraceae;g__CAG-81;s__CAG-81;\n",
      "100153 4103 d__Bacteria;p__Firmicutes_A;c__Clostridia;o__Lachnospirales;f__Lachnospiraceae;g__CAG-45;s__CAG-45;\n",
      "102876 4038 d__Bacteria;p__Firmicutes_A;c__Clostridia;o__Peptostreptococcales;f__Anaerovoracaceae;g__CAG-145;s__CAG-145;\n",
      "103411 3719 d__Bacteria;p__Firmicutes;c__Bacilli;o__RFN20;f__CAG-288;g__CAG-568;s__CAG-568;\n",
      "100089 3674 d__Bacteria;p__Firmicutes_A;c__Clostridia;o__Oscillospirales;f__Ruminococcaceae;g__CAG-353;s__CAG-353;\n",
      "104487 3429 d__Bacteria;p__Firmicutes_A;c__Clostridia;o__Oscillospirales;f__Oscillospiraceae;g__CAG-83;s__;\n",
      "100532 3424 d__Bacteria;p__Firmicutes_A;c__Clostridia;o__Lachnospirales;f__Lachnospiraceae;g__CAG-510;s__CAG-510;\n",
      "102609 3421 d__Bacteria;p__Firmicutes_A;c__Clostridia;o__Lachnospirales;f__Lachnospiraceae;g__CAG-882;s__CAG-882;\n",
      "104308 3209 d__Bacteria;p__Firmicutes_A;c__Clostridia;o__Peptostreptococcales;f__Anaerovoracaceae;g__CAG-145;s__CAG-145;\n",
      "104341 3188 d__Bacteria;p__Firmicutes_A;c__Clostridia;o__Oscillospirales;f__Oscillospiraceae;g__CAG-110;s__CAG-110;\n",
      "104600 3175 d__Bacteria;p__Firmicutes;c__Bacilli;o__Acholeplasmatales;f__CAG-307;g__CAG-307;s__CAG-307;\n",
      "104451 2819 d__Bacteria;p__Firmicutes;c__Bacilli;o__ML615J-28;f__CAG-313;g__CAG-313;s__CAG-313;\n",
      "102166 2656 d__Bacteria;p__Firmicutes;c__Bacilli;o__RF39;f__CAG-433;g__CAG-433;s__CAG-433;\n",
      "101565 2636 d__Bacteria;p__Firmicutes_A;c__Clostridia;o__Oscillospirales;f__Oscillospiraceae;g__CAG-103;s__CAG-103;\n",
      "103940 2600 d__Bacteria;p__Firmicutes;c__Bacilli;o__RF39;f__CAG-302;g__CAG-302;s__CAG-302;\n",
      "100600 2503 d__Bacteria;p__Firmicutes_A;c__Clostridia;o__Lachnospirales;f__Lachnospiraceae;g__CAG-791;s__CAG-791;\n",
      "104113 2400 d__Bacteria;p__Firmicutes_A;c__Clostridia;o__Oscillospirales;f__CAG-272;g__CAG-272;s__CAG-272;\n",
      "104256 2270 d__Bacteria;p__Firmicutes_A;c__Clostridia;o__Oscillospirales;f__Acutalibacteraceae;g__CAG-177;s__CAG-177;\n",
      "100669 2244 d__Bacteria;p__Firmicutes_A;c__Clostridia;o__Oscillospirales;f__Acutalibacteraceae;g__CAG-488;s__CAG-488;\n",
      "104498 2212 d__Bacteria;p__Firmicutes;c__Bacilli;o__RFN20;f__CAG-288;g__CAG-345;s__CAG-345;\n",
      "102616 2182 d__Bacteria;p__Proteobacteria;c__Alphaproteobacteria;o__RF32;f__CAG-239;g__CAG-495;s__CAG-495;\n",
      "101160 2160 d__Bacteria;p__Firmicutes_A;c__Clostridia;o__Lachnospirales;f__CAG-274;g__CAG-274;s__CAG-274;\n",
      "104086 2004 d__Bacteria;p__Firmicutes;c__Bacilli;o__RF39;f__CAG-433;g__CAG-594;s__CAG-594;\n",
      "101855 1996 d__Bacteria;p__Firmicutes_A;c__Clostridia;o__Lachnospirales;f__Lachnospiraceae;g__CAG-632;s__CAG-632;\n",
      "104533 1994 d__Bacteria;p__Proteobacteria;c__Alphaproteobacteria;o__RF32;f__CAG-239;g__CAG-495;s__CAG-495;\n",
      "104254 1833 d__Bacteria;p__Firmicutes;c__Bacilli;o__RF39;f__CAG-1000;g__CAG-460;s__;\n",
      "100741 1819 d__Bacteria;p__Firmicutes_A;c__Clostridia;o__Oscillospirales;f__Oscillospiraceae;g__CAG-170;s__;\n",
      "100784 1799 d__Bacteria;p__Firmicutes;c__Bacilli;o__RF39;f__CAG-611;g__CAG-417;s__CAG-417;\n",
      "104352 1734 d__Bacteria;p__Firmicutes;c__Bacilli;o__RF39;f__CAG-1000;g__CAG-460;s__CAG-460;\n",
      "100980 1725 d__Bacteria;p__Actinobacteriota;c__Coriobacteriia;o__Coriobacteriales;f__Eggerthellaceae;g__CAG-1427;s__CAG-1427;\n",
      "102238 1718 d__Bacteria;p__Firmicutes_A;c__Clostridia;o__Oscillospirales;f__Oscillospiraceae;g__CAG-110;s__;\n",
      "103504 1665 d__Bacteria;p__Firmicutes_A;c__Clostridia;o__4C28d-15;f__CAG-314;g__CAG-1435;s__CAG-1435;\n",
      "100933 1647 d__Bacteria;p__Firmicutes_A;c__Clostridia;o__4C28d-15;f__CAG-314;g__CAG-314;s__CAG-314;\n",
      "100602 1630 d__Bacteria;p__Actinobacteriota;c__Coriobacteriia;o__Coriobacteriales;f__Eggerthellaceae;g__CAG-1427;s__;\n",
      "103217 1584 d__Bacteria;p__Proteobacteria;c__Alphaproteobacteria;o__RF32;f__CAG-239;g__CAG-267;s__CAG-267;\n",
      "102001 1561 d__Bacteria;p__Firmicutes_A;c__Clostridia;o__Oscillospirales;f__Acutalibacteraceae;g__CAG-177;s__CAG-177;\n",
      "104507 1533 d__Bacteria;p__Firmicutes;c__Bacilli;o__RF39;f__CAG-1000;g__CAG-460;s__CAG-460;\n",
      "104369 1500 d__Bacteria;p__Firmicutes_A;c__Clostridia;o__Lachnospirales;f__Lachnospiraceae;g__CAG-882;s__CAG-882;\n",
      "100431 1456 d__Bacteria;p__Firmicutes;c__Bacilli;o__RFN20;f__CAG-288;g__CAG-288;s__CAG-288;\n",
      "101167 1450 d__Bacteria;p__Actinobacteriota;c__Coriobacteriia;o__Coriobacteriales;f__Eggerthellaceae;g__CAG-1427;s__CAG-1427;\n",
      "103449 1429 d__Bacteria;p__Verrucomicrobiota;c__Verrucomicrobiae;o__Opitutales;f__CAG-312;g__CAG-312;s__CAG-312;\n",
      "100690 1415 d__Bacteria;p__Firmicutes_A;c__Clostridia;o__Lachnospirales;f__Lachnospiraceae;g__CAG-590;s__CAG-590;\n",
      "104601 1381 d__Bacteria;p__Firmicutes;c__Bacilli;o__RF39;f__CAG-433;g__CAG-433;s__;\n",
      "102602 1315 d__Bacteria;p__Firmicutes_A;c__Clostridia;o__Lachnospirales;f__CAG-274;g__CAG-274;s__;\n",
      "100714 1296 d__Bacteria;p__Firmicutes;c__Bacilli;o__RF39;f__CAG-611;g__CAG-451;s__CAG-451;\n",
      "101819 1280 d__Bacteria;p__Firmicutes_A;c__Clostridia;o__Peptostreptococcales;f__Anaerovoracaceae;g__CAG-145;s__;\n",
      "104389 1238 d__Bacteria;p__Firmicutes;c__Bacilli;o__RF39;f__CAG-302;g__CAG-302;s__;\n",
      "102175 1186 d__Bacteria;p__Firmicutes;c__Bacilli;o__RF39;f__CAG-1000;g__CAG-533;s__CAG-533;\n",
      "104083 1170 d__Bacteria;p__Actinobacteriota;c__Coriobacteriia;o__Coriobacteriales;f__Eggerthellaceae;g__CAG-1427;s__CAG-1427;\n",
      "102191 1125 d__Bacteria;p__Firmicutes;c__Bacilli;o__ML615J-28;f__CAG-313;g__CAG-313;s__CAG-313;\n",
      "102056 1095 d__Bacteria;p__Firmicutes_A;c__Clostridia;o__Oscillospirales;f__Ruminococcaceae;g__CAG-115;s__CAG-115;\n",
      "103958 1085 d__Bacteria;p__Verrucomicrobiota;c__Verrucomicrobiae;o__Opitutales;f__CAG-312;g__CAG-312;s__;\n",
      "103998 1083 d__Bacteria;p__Firmicutes;c__Bacilli;o__RF39;f__CAG-1000;g__CAG-605;s__CAG-605;\n",
      "104409 1070 d__Bacteria;p__Firmicutes;c__Bacilli;o__RF39;f__CAG-1000;g__CAG-1000;s__CAG-1000;\n",
      "104014 1028 d__Bacteria;p__Firmicutes;c__Bacilli;o__RF39;f__CAG-1000;g__CAG-628;s__CAG-628;\n",
      "104379 1022 d__Bacteria;p__Firmicutes;c__Bacilli;o__RF39;f__CAG-1000;g__CAG-628;s__CAG-628;\n",
      "100884 981 d__Bacteria;p__Firmicutes_A;c__Clostridia;o__Oscillospirales;f__Oscillospiraceae;g__CAG-103;s__CAG-103;\n",
      "100267 974 d__Bacteria;p__Firmicutes;c__Bacilli;o__Erysipelotrichales;f__Erysipelotrichaceae;g__CAG-536;s__CAG-536;\n",
      "100504 953 d__Bacteria;p__Verrucomicrobiota;c__Verrucomicrobiae;o__Opitutales;f__CAG-312;g__CAG-312;s__CAG-312;\n",
      "100419 925 d__Bacteria;p__Firmicutes;c__Bacilli;o__RF39;f__CAG-611;g__CAG-710;s__CAG-710;\n",
      "104639 915 d__Bacteria;p__Proteobacteria;c__Alphaproteobacteria;o__RF32;f__CAG-239;g__CAG-495;s__CAG-495;\n",
      "100561 901 d__Bacteria;p__Firmicutes_A;c__Clostridia;o__Oscillospirales;f__Ruminococcaceae;g__CAG-115;s__CAG-115;\n",
      "101946 838 d__Bacteria;p__Firmicutes;c__Bacilli;o__RF39;f__CAG-611;g__CAG-611;s__CAG-611;\n",
      "100332 807 d__Bacteria;p__Firmicutes;c__Bacilli;o__RF39;f__CAG-1000;g__CAG-605;s__CAG-605;\n",
      "103552 744 d__Bacteria;p__Firmicutes_A;c__Clostridia;o__Lachnospirales;f__Lachnospiraceae;g__CAG-127;s__;\n",
      "104038 736 d__Bacteria;p__Firmicutes;c__Bacilli;o__RF39;f__UBA5348;g__CAG-1193;s__;\n",
      "104447 732 d__Bacteria;p__Firmicutes;c__Bacilli;o__RF39;f__CAG-1000;g__CAG-460;s__CAG-460;\n",
      "101938 702 d__Bacteria;p__Bacteroidota;c__Bacteroidia;o__Bacteroidales;f__Muribaculaceae;g__CAG-873;s__CAG-873;\n",
      "102607 701 d__Bacteria;p__Firmicutes;c__Bacilli;o__RF39;f__CAG-822;g__CAG-878;s__CAG-878;\n",
      "101769 690 d__Bacteria;p__Firmicutes_A;c__Clostridia;o__Oscillospirales;f__Acutalibacteraceae;g__CAG-488;s__CAG-488;\n",
      "100030 640 d__Bacteria;p__Firmicutes_A;c__Clostridia;o__Lachnospirales;f__Lachnospiraceae;g__CAG-603;s__CAG-603;\n",
      "103465 608 d__Bacteria;p__Firmicutes_A;c__Clostridia;o__Oscillospirales;f__CAG-272;g__CAG-841;s__;\n",
      "100567 595 d__Bacteria;p__Proteobacteria;c__Gammaproteobacteria;o__Burkholderiales;f__Burkholderiaceae;g__CAG-521;s__CAG-521;\n",
      "101985 583 d__Bacteria;p__Proteobacteria;c__Alphaproteobacteria;o__RF32;f__CAG-239;g__CAG-495;s__;\n",
      "100941 556 d__Bacteria;p__Bacteroidota;c__Bacteroidia;o__Bacteroidales;f__Muribaculaceae;g__CAG-1031;s__CAG-1031;\n",
      "100726 552 d__Bacteria;p__Firmicutes_A;c__Clostridia;o__Oscillospirales;f__Acutalibacteraceae;g__CAG-180;s__;\n",
      "100441 528 d__Bacteria;p__Verrucomicrobiota;c__Verrucomicrobiae;o__Opitutales;f__CAG-312;g__CAG-312;s__;\n",
      "103932 509 d__Bacteria;p__Firmicutes_A;c__Clostridia;o__Oscillospirales;f__Acutalibacteraceae;g__CAG-964;s__CAG-964;\n",
      "104501 506 d__Bacteria;p__Verrucomicrobiota;c__Verrucomicrobiae;o__Opitutales;f__CAG-312;g__CAG-312;s__;\n"
     ]
    }
   ],
   "source": [
    "num_position_thresh = 200\n",
    "\n",
    "d0 = (data.unstack(fill_value=0) > num_position_thresh).sum().to_frame(name='tally').join(species)\n",
    "for species_id, d1 in d0[lambda x: x.tally > 500].sort_values('tally', ascending=False).iterrows():\n",
    "    if 'g__CAG' in d1.taxonomy:\n",
    "        print(species_id, d1.tally, d1.taxonomy)"
   ]
  },
  {
   "cell_type": "code",
   "execution_count": 56,
   "id": "limited-energy",
   "metadata": {},
   "outputs": [
    {
     "data": {
      "text/plain": [
       "Frozen({'sample': 252, 'position': 16465, 'allele': 2})"
      ]
     },
     "execution_count": 56,
     "metadata": {},
     "output_type": "execute_result"
    }
   ],
   "source": [
    "ref = sf.Metagenotypes.load('data/gtprodb.sp-100205.genotype.nc')\n",
    "ref.sizes"
   ]
  },
  {
   "cell_type": "code",
   "execution_count": 53,
   "id": "answering-branch",
   "metadata": {},
   "outputs": [
    {
     "name": "stdout",
     "output_type": "stream",
     "text": [
      "102556 5164 d__Bacteria;p__Bacteroidota;c__Bacteroidia;o__Bacteroidales;f__Muribaculaceae;g__CAG-279;s__CAG-279;\n",
      "104474 2618 d__Bacteria;p__Bacteroidota;c__Bacteroidia;o__Bacteroidales;f__Muribaculaceae;g__C941;s__;\n",
      "100667 953 d__Bacteria;p__Bacteroidota;c__Bacteroidia;o__Bacteroidales;f__Muribaculaceae;g__UBA7173;s__;\n",
      "101938 702 d__Bacteria;p__Bacteroidota;c__Bacteroidia;o__Bacteroidales;f__Muribaculaceae;g__CAG-873;s__CAG-873;\n",
      "100941 556 d__Bacteria;p__Bacteroidota;c__Bacteroidia;o__Bacteroidales;f__Muribaculaceae;g__CAG-1031;s__CAG-1031;\n",
      "101937 508 d__Bacteria;p__Bacteroidota;c__Bacteroidia;o__Bacteroidales;f__Muribaculaceae;g__UBA7173;s__UBA7173;\n"
     ]
    }
   ],
   "source": [
    "num_position_thresh = 200\n",
    "\n",
    "d0 = (data.unstack(fill_value=0) > num_position_thresh).sum().to_frame(name='tally').join(species)\n",
    "for species_id, d1 in d0[lambda x: x.tally > 500].sort_values('tally', ascending=False).iterrows():\n",
    "    if 'f__Muribaculaceae' in d1.taxonomy:\n",
    "        print(species_id, d1.tally, d1.taxonomy)"
   ]
  },
  {
   "cell_type": "code",
   "execution_count": 54,
   "id": "stock-shareware",
   "metadata": {},
   "outputs": [
    {
     "data": {
      "text/plain": [
       "Frozen({'sample': 166, 'position': 99774, 'allele': 2})"
      ]
     },
     "execution_count": 54,
     "metadata": {},
     "output_type": "execute_result"
    }
   ],
   "source": [
    "ref = sf.Metagenotypes.load('data/gtprodb.sp-102556.genotype.nc')\n",
    "ref.sizes"
   ]
  },
  {
   "cell_type": "raw",
   "id": "opponent-italic",
   "metadata": {},
   "source": [
    "sf.plot.plot_metagenotype2(mgen1.random_sample(position=1000))"
   ]
  },
  {
   "cell_type": "raw",
   "id": "labeled-singapore",
   "metadata": {},
   "source": [
    "mgen2 = sf.Metagenotypes.load('data/core.sp-101354.gtpro-pileup.nc')"
   ]
  },
  {
   "cell_type": "raw",
   "id": "visible-exposure",
   "metadata": {},
   "source": [
    "sf.plot.plot_metagenotype2(mgen2.random_sample(position=2000))"
   ]
  }
 ],
 "metadata": {
  "kernelspec": {
   "display_name": "Python 3",
   "language": "python",
   "name": "python3"
  },
  "language_info": {
   "codemirror_mode": {
    "name": "ipython",
    "version": 3
   },
   "file_extension": ".py",
   "mimetype": "text/x-python",
   "name": "python",
   "nbconvert_exporter": "python",
   "pygments_lexer": "ipython3",
   "version": "3.7.10"
  }
 },
 "nbformat": 4,
 "nbformat_minor": 5
}
