{
 "cells": [
  {
   "cell_type": "markdown",
   "id": "guided-secondary",
   "metadata": {},
   "source": [
    "## Preamble"
   ]
  },
  {
   "cell_type": "code",
   "execution_count": 1,
   "id": "amber-wrong",
   "metadata": {},
   "outputs": [],
   "source": [
    "%load_ext autoreload\n",
    "%autoreload 0"
   ]
  },
  {
   "cell_type": "code",
   "execution_count": 2,
   "id": "veterinary-garden",
   "metadata": {},
   "outputs": [],
   "source": [
    "%autoreload"
   ]
  },
  {
   "cell_type": "code",
   "execution_count": 3,
   "id": "finite-island",
   "metadata": {},
   "outputs": [],
   "source": [
    "import sys\n",
    "sys.path.append('/pollard/home/bsmith/Projects/haplo-benchmark/include/StrainFacts')"
   ]
  },
  {
   "cell_type": "code",
   "execution_count": 4,
   "id": "level-bench",
   "metadata": {},
   "outputs": [],
   "source": [
    "import xarray as xr\n",
    "import sqlite3\n",
    "import pandas as pd\n",
    "import matplotlib as mpl\n",
    "import matplotlib.pyplot as plt\n",
    "import seaborn as sns\n",
    "import numpy as np\n",
    "import warnings\n",
    "import torch\n",
    "import pyro\n",
    "import scipy as sp\n",
    "from tqdm import tqdm\n",
    "\n",
    "import lib.plot\n",
    "from scipy.spatial.distance import pdist, squareform\n",
    "from sklearn.metrics.pairwise import pairwise_distances\n",
    "from sklearn.cluster import AgglomerativeClustering\n",
    "from lib.pandas_util import idxwhere\n",
    "\n",
    "import sfacts as sf\n",
    "\n",
    "from tqdm import tqdm\n",
    "\n",
    "# from lib.project_style import color_palette, major_allele_frequency_bins\n",
    "# from lib.project_data import metagenotype_db_to_xarray\n",
    "# from lib.plot import ordination_plot, mds_ordination, nmds_ordination\n",
    "# import lib.plot\n",
    "# from lib.plot import construct_ordered_pallete\n",
    "# from lib.pandas_util import idxwhere"
   ]
  },
  {
   "cell_type": "markdown",
   "id": "incoming-health",
   "metadata": {},
   "source": [
    "## Load Data"
   ]
  },
  {
   "cell_type": "code",
   "execution_count": 5,
   "id": "brilliant-justice",
   "metadata": {},
   "outputs": [
    {
     "name": "stdout",
     "output_type": "stream",
     "text": [
      "Frozen(SortedKeysDict({'strain': 200, 'sample': 3528, 'position': 10229, 'allele': 2}))\n",
      "<xarray.DataArray 'communities' ()>\n",
      "array(0.006266, dtype=float32)\n",
      "Coordinates:\n",
      "    species_id  int64 102163\n",
      "Frozen(SortedKeysDict({'strain': 178, 'sample': 3528, 'position': 10229, 'allele': 2}))\n"
     ]
    }
   ],
   "source": [
    "species_id = 102163\n",
    "\n",
    "fit = sf.data.World.load(f'data/zshi.sp-{species_id}.metagenotype.filt-poly05-cvrg25.fit-sfacts44-s200-g5000-seed0.refit-sfacts41-g10000-seed0.world.nc')\n",
    "fit.data['position'] = fit.data.position.astype(int)\n",
    "print(fit.sizes)\n",
    "\n",
    "\n",
    "cull_threshold = 0.05\n",
    "\n",
    "fit_communities = fit.communities.mlift('sel', strain=fit.communities.max(\"sample\") > cull_threshold)\n",
    "print((1 - fit_communities.sum(\"strain\")).max())\n",
    "fit_communities = sf.Communities(fit_communities.data / fit_communities.sum(\"strain\"))\n",
    "fit_genotypes = fit.genotypes.mlift('sel', strain=fit_communities.strain)\n",
    "\n",
    "fit = sf.World.from_combined(fit_communities, fit_genotypes, fit.metagenotypes)\n",
    "print(fit.sizes)"
   ]
  },
  {
   "cell_type": "code",
   "execution_count": 6,
   "id": "sunrise-shaft",
   "metadata": {},
   "outputs": [
    {
     "data": {
      "text/plain": [
       "Frozen({'strain': 506, 'position': 10229})"
      ]
     },
     "execution_count": 6,
     "metadata": {},
     "output_type": "execute_result"
    }
   ],
   "source": [
    "ref = sf.data.Metagenotypes.load(f'data/gtprodb.sp-{species_id}.genotype.nc')\n",
    "ref_genotypes = ref.mlift('sel', position=fit_genotypes.position).to_estimated_genotypes(pseudo=0)\n",
    "ref_genotypes.sizes"
   ]
  },
  {
   "cell_type": "code",
   "execution_count": 7,
   "id": "informal-ridge",
   "metadata": {},
   "outputs": [
    {
     "data": {
      "text/html": [
       "<div>\n",
       "<style scoped>\n",
       "    .dataframe tbody tr th:only-of-type {\n",
       "        vertical-align: middle;\n",
       "    }\n",
       "\n",
       "    .dataframe tbody tr th {\n",
       "        vertical-align: top;\n",
       "    }\n",
       "\n",
       "    .dataframe thead th {\n",
       "        text-align: right;\n",
       "    }\n",
       "</style>\n",
       "<table border=\"1\" class=\"dataframe\">\n",
       "  <thead>\n",
       "    <tr style=\"text-align: right;\">\n",
       "      <th></th>\n",
       "      <th>species_id</th>\n",
       "      <th>contig</th>\n",
       "      <th>contig_position</th>\n",
       "      <th>ref</th>\n",
       "      <th>alt</th>\n",
       "    </tr>\n",
       "    <tr>\n",
       "      <th>position</th>\n",
       "      <th></th>\n",
       "      <th></th>\n",
       "      <th></th>\n",
       "      <th></th>\n",
       "      <th></th>\n",
       "    </tr>\n",
       "  </thead>\n",
       "  <tbody>\n",
       "    <tr>\n",
       "      <th>94</th>\n",
       "      <td>102163</td>\n",
       "      <td>NODE_78_length_173916_cov_6.54907</td>\n",
       "      <td>94</td>\n",
       "      <td>G</td>\n",
       "      <td>T</td>\n",
       "    </tr>\n",
       "    <tr>\n",
       "      <th>153</th>\n",
       "      <td>102163</td>\n",
       "      <td>NODE_78_length_173916_cov_6.54907</td>\n",
       "      <td>153</td>\n",
       "      <td>C</td>\n",
       "      <td>A</td>\n",
       "    </tr>\n",
       "    <tr>\n",
       "      <th>159</th>\n",
       "      <td>102163</td>\n",
       "      <td>NODE_78_length_173916_cov_6.54907</td>\n",
       "      <td>159</td>\n",
       "      <td>C</td>\n",
       "      <td>T</td>\n",
       "    </tr>\n",
       "    <tr>\n",
       "      <th>164</th>\n",
       "      <td>102163</td>\n",
       "      <td>NODE_78_length_173916_cov_6.54907</td>\n",
       "      <td>164</td>\n",
       "      <td>G</td>\n",
       "      <td>A</td>\n",
       "    </tr>\n",
       "    <tr>\n",
       "      <th>169</th>\n",
       "      <td>102163</td>\n",
       "      <td>NODE_78_length_173916_cov_6.54907</td>\n",
       "      <td>169</td>\n",
       "      <td>T</td>\n",
       "      <td>G</td>\n",
       "    </tr>\n",
       "    <tr>\n",
       "      <th>...</th>\n",
       "      <td>...</td>\n",
       "      <td>...</td>\n",
       "      <td>...</td>\n",
       "      <td>...</td>\n",
       "      <td>...</td>\n",
       "    </tr>\n",
       "    <tr>\n",
       "      <th>1801376</th>\n",
       "      <td>102163</td>\n",
       "      <td>NODE_6035_length_8232_cov_7.33472</td>\n",
       "      <td>2936</td>\n",
       "      <td>G</td>\n",
       "      <td>A</td>\n",
       "    </tr>\n",
       "    <tr>\n",
       "      <th>1801377</th>\n",
       "      <td>102163</td>\n",
       "      <td>NODE_6035_length_8232_cov_7.33472</td>\n",
       "      <td>2937</td>\n",
       "      <td>G</td>\n",
       "      <td>A</td>\n",
       "    </tr>\n",
       "    <tr>\n",
       "      <th>1801378</th>\n",
       "      <td>102163</td>\n",
       "      <td>NODE_6035_length_8232_cov_7.33472</td>\n",
       "      <td>2938</td>\n",
       "      <td>C</td>\n",
       "      <td>T</td>\n",
       "    </tr>\n",
       "    <tr>\n",
       "      <th>1801383</th>\n",
       "      <td>102163</td>\n",
       "      <td>NODE_6035_length_8232_cov_7.33472</td>\n",
       "      <td>2943</td>\n",
       "      <td>C</td>\n",
       "      <td>T</td>\n",
       "    </tr>\n",
       "    <tr>\n",
       "      <th>1801407</th>\n",
       "      <td>102163</td>\n",
       "      <td>NODE_6035_length_8232_cov_7.33472</td>\n",
       "      <td>2967</td>\n",
       "      <td>C</td>\n",
       "      <td>T</td>\n",
       "    </tr>\n",
       "  </tbody>\n",
       "</table>\n",
       "<p>17162 rows × 5 columns</p>\n",
       "</div>"
      ],
      "text/plain": [
       "          species_id                             contig  contig_position ref  \\\n",
       "position                                                                       \n",
       "94            102163  NODE_78_length_173916_cov_6.54907               94   G   \n",
       "153           102163  NODE_78_length_173916_cov_6.54907              153   C   \n",
       "159           102163  NODE_78_length_173916_cov_6.54907              159   C   \n",
       "164           102163  NODE_78_length_173916_cov_6.54907              164   G   \n",
       "169           102163  NODE_78_length_173916_cov_6.54907              169   T   \n",
       "...              ...                                ...              ...  ..   \n",
       "1801376       102163  NODE_6035_length_8232_cov_7.33472             2936   G   \n",
       "1801377       102163  NODE_6035_length_8232_cov_7.33472             2937   G   \n",
       "1801378       102163  NODE_6035_length_8232_cov_7.33472             2938   C   \n",
       "1801383       102163  NODE_6035_length_8232_cov_7.33472             2943   C   \n",
       "1801407       102163  NODE_6035_length_8232_cov_7.33472             2967   C   \n",
       "\n",
       "         alt  \n",
       "position      \n",
       "94         T  \n",
       "153        A  \n",
       "159        T  \n",
       "164        A  \n",
       "169        G  \n",
       "...       ..  \n",
       "1801376    A  \n",
       "1801377    A  \n",
       "1801378    T  \n",
       "1801383    T  \n",
       "1801407    T  \n",
       "\n",
       "[17162 rows x 5 columns]"
      ]
     },
     "execution_count": 7,
     "metadata": {},
     "output_type": "execute_result"
    }
   ],
   "source": [
    "position_meta = pd.read_table(\n",
    "    'ref/gtpro/variants_main.covered.hq.snp_dict.tsv',\n",
    "    names=['species_id', 'position', 'contig', 'contig_position', 'ref', 'alt']\n",
    ").set_index('position')[lambda x: x.species_id.isin([species_id])]\n",
    "\n",
    "position_meta"
   ]
  },
  {
   "cell_type": "code",
   "execution_count": 8,
   "id": "polyphonic-carol",
   "metadata": {},
   "outputs": [],
   "source": [
    "fit_dist = fit_genotypes.discretized().pdist()\n",
    "ref_dist = ref_genotypes.discretized().pdist()"
   ]
  },
  {
   "cell_type": "code",
   "execution_count": 9,
   "id": "beautiful-walnut",
   "metadata": {},
   "outputs": [],
   "source": [
    "dedup_thresh = 0.05\n",
    "\n",
    "fit_dedup_clust = pd.Series(\n",
    "    AgglomerativeClustering(\n",
    "        distance_threshold=dedup_thresh, n_clusters=None, affinity='precomputed', linkage='average'\n",
    "    ).fit_predict(fit_dist),\n",
    "    index=fit_genotypes.strain.astype(int),\n",
    ")\n",
    "ref_dedup_clust = pd.Series(\n",
    "    AgglomerativeClustering(\n",
    "        distance_threshold=dedup_thresh, n_clusters=None, affinity='precomputed', linkage='average'\n",
    "    ).fit_predict(ref_dist),\n",
    "    index=ref_genotypes.strain,\n",
    ")"
   ]
  },
  {
   "cell_type": "code",
   "execution_count": 10,
   "id": "current-membership",
   "metadata": {},
   "outputs": [],
   "source": [
    "fit_genotypes_dedup = sf.Genotypes(fit_genotypes.to_series().unstack('strain').groupby(fit_dedup_clust, axis='columns').mean().rename(columns=lambda x: int(x)).rename_axis(columns='strain').T.stack().to_xarray())"
   ]
  },
  {
   "cell_type": "code",
   "execution_count": 11,
   "id": "personalized-camera",
   "metadata": {},
   "outputs": [],
   "source": [
    "ref_genotypes_dedup = sf.Genotypes(ref_genotypes.to_series().unstack('strain').groupby(ref_dedup_clust, axis='columns').mean().rename(columns=lambda x: int(x)).rename_axis(columns='strain').T.stack().to_xarray())"
   ]
  },
  {
   "cell_type": "code",
   "execution_count": 12,
   "id": "naked-training",
   "metadata": {},
   "outputs": [
    {
     "data": {
      "text/plain": [
       "((178, 178), (506, 384))"
      ]
     },
     "execution_count": 12,
     "metadata": {},
     "output_type": "execute_result"
    }
   ],
   "source": [
    "(fit_genotypes.sizes['strain'], fit_genotypes_dedup.sizes['strain']), (ref_genotypes.sizes['strain'], ref_genotypes_dedup.sizes['strain'])"
   ]
  },
  {
   "cell_type": "code",
   "execution_count": 36,
   "id": "fitting-music",
   "metadata": {},
   "outputs": [],
   "source": [
    "_g_ref = ref_genotypes_dedup.random_sample(position=5000)  # FIXME: May not be a stable estimate until many positions are included (20k)\n",
    "r2_ref = (1 - pdist(_g_ref.values.T, 'correlation'))**2\n",
    "\n",
    "_g_fit = fit_genotypes_dedup.random_sample(position=5000)  # FIXME: May not be a stable estimate until many positions are included (20k)\n",
    "r2_fit = (1 - pdist(_g_fit.values.T, 'correlation'))**2"
   ]
  },
  {
   "cell_type": "code",
   "execution_count": 37,
   "id": "helpful-flour",
   "metadata": {},
   "outputs": [
    {
     "data": {
      "text/plain": [
       "(0.027036254814676627, 0.040865139881586694)"
      ]
     },
     "execution_count": 37,
     "metadata": {},
     "output_type": "execute_result"
    }
   ],
   "source": [
    "np.mean(r2_ref), np.mean(r2_fit)"
   ]
  },
  {
   "cell_type": "code",
   "execution_count": 38,
   "id": "finished-brake",
   "metadata": {},
   "outputs": [
    {
     "data": {
      "text/plain": [
       "(0.005526535931914937, 0.009366099002989632)"
      ]
     },
     "execution_count": 38,
     "metadata": {},
     "output_type": "execute_result"
    }
   ],
   "source": [
    "np.median(r2_ref), np.median(r2_fit)"
   ]
  },
  {
   "cell_type": "code",
   "execution_count": 39,
   "id": "foster-sitting",
   "metadata": {},
   "outputs": [
    {
     "data": {
      "text/plain": [
       "(0.06598001309837707, 0.10137515851435942)"
      ]
     },
     "execution_count": 39,
     "metadata": {},
     "output_type": "execute_result"
    }
   ],
   "source": [
    "np.quantile(r2_ref, 0.9), np.quantile(r2_fit, 0.9)"
   ]
  },
  {
   "cell_type": "code",
   "execution_count": 40,
   "id": "spiritual-carol",
   "metadata": {},
   "outputs": [
    {
     "data": {
      "text/plain": [
       "WilcoxonResult(statistic=22590945.0, pvalue=6.641265207277025e-17)"
      ]
     },
     "execution_count": 40,
     "metadata": {},
     "output_type": "execute_result"
    }
   ],
   "source": [
    "from scipy.stats import mannwhitneyu, wilcoxon\n",
    "\n",
    "n = 10000\n",
    "wilcoxon(r2_ref[:n], r2_fit[:n])"
   ]
  },
  {
   "cell_type": "code",
   "execution_count": 18,
   "id": "employed-title",
   "metadata": {},
   "outputs": [
    {
     "name": "stdout",
     "output_type": "stream",
     "text": [
      "NODE_1054_length_36823_cov_6.16223\n",
      "NODE_132_length_137177_cov_6.73742\n",
      "NODE_134_length_136396_cov_6.73895\n",
      "NODE_1456_length_28474_cov_5.90513\n",
      "NODE_150_length_130231_cov_6.82106\n",
      "NODE_1931_length_22763_cov_5.89686\n",
      "NODE_2212_length_20034_cov_6.74208\n",
      "NODE_225_length_101993_cov_6.4074\n",
      "NODE_291_length_87397_cov_6.7277\n",
      "NODE_305_length_85773_cov_5.88231\n",
      "NODE_425_length_71300_cov_6.00556\n",
      "NODE_428_length_70861_cov_6.75133\n",
      "NODE_471_length_65793_cov_7.1706\n",
      "NODE_502_length_63169_cov_6.98056\n",
      "NODE_514_length_62055_cov_6.35881\n",
      "NODE_5864_length_8442_cov_6.77298\n",
      "NODE_6035_length_8232_cov_7.33472\n",
      "NODE_667_length_51666_cov_6.68154\n",
      "NODE_771_length_45969_cov_6.56273\n",
      "NODE_78_length_173916_cov_6.54907\n",
      "NODE_845_length_43304_cov_5.71937\n",
      "NODE_883_length_41784_cov_6.37156\n",
      "NODE_90_length_165920_cov_6.3587\n"
     ]
    }
   ],
   "source": [
    "ld = {}\n",
    "for contig, pos in position_meta.loc[ref_genotypes_dedup.position].groupby('contig'):\n",
    "    print(contig)\n",
    "    g = ref_genotypes_dedup.sel(position=pos.index)\n",
    "    r2 = (1 - pdist(g.values.T, 'correlation'))**2\n",
    "    x = pdist(np.expand_dims(pos.contig_position.values, axis=1), 'cityblock')\n",
    "    ld[contig] = (x, r2)\n",
    "ref_ld = pd.DataFrame(np.concatenate([np.stack([x, r2], axis=1) for x, r2 in ld.values()]), columns=['x', 'r2'])"
   ]
  },
  {
   "cell_type": "code",
   "execution_count": 19,
   "id": "faced-transmission",
   "metadata": {},
   "outputs": [
    {
     "name": "stdout",
     "output_type": "stream",
     "text": [
      "NODE_1054_length_36823_cov_6.16223\n",
      "NODE_132_length_137177_cov_6.73742\n",
      "NODE_134_length_136396_cov_6.73895\n",
      "NODE_1456_length_28474_cov_5.90513\n",
      "NODE_150_length_130231_cov_6.82106\n",
      "NODE_1931_length_22763_cov_5.89686\n",
      "NODE_2212_length_20034_cov_6.74208\n",
      "NODE_225_length_101993_cov_6.4074\n",
      "NODE_291_length_87397_cov_6.7277\n",
      "NODE_305_length_85773_cov_5.88231\n",
      "NODE_425_length_71300_cov_6.00556\n",
      "NODE_428_length_70861_cov_6.75133\n",
      "NODE_471_length_65793_cov_7.1706\n",
      "NODE_502_length_63169_cov_6.98056\n",
      "NODE_514_length_62055_cov_6.35881\n",
      "NODE_5864_length_8442_cov_6.77298\n",
      "NODE_6035_length_8232_cov_7.33472\n",
      "NODE_667_length_51666_cov_6.68154\n",
      "NODE_771_length_45969_cov_6.56273\n",
      "NODE_78_length_173916_cov_6.54907\n",
      "NODE_845_length_43304_cov_5.71937\n",
      "NODE_883_length_41784_cov_6.37156\n",
      "NODE_90_length_165920_cov_6.3587\n"
     ]
    }
   ],
   "source": [
    "ld = {}\n",
    "for contig, pos in position_meta.loc[fit_genotypes_dedup.position].groupby('contig'):\n",
    "    print(contig)\n",
    "    g = fit_genotypes_dedup.sel(position=pos.index)\n",
    "    r2 = (1 - pdist(g.values.T, 'correlation'))**2\n",
    "    x = pdist(np.expand_dims(pos.contig_position.values, axis=1), 'cityblock')\n",
    "    ld[contig] = (x, r2)\n",
    "fit_ld = pd.DataFrame(np.concatenate([np.stack([x, r2], axis=1) for x, r2 in ld.values()]), columns=['x', 'r2'])"
   ]
  },
  {
   "cell_type": "code",
   "execution_count": 27,
   "id": "structured-survival",
   "metadata": {},
   "outputs": [],
   "source": [
    "max_dist = 12000\n",
    "\n",
    "ld_profile = (\n",
    "    pd.DataFrame(dict(\n",
    "        x=fit_ld.x,\n",
    "        fit=fit_ld.r2,\n",
    "        ref=ref_ld.r2))\n",
    "    [lambda x: x.x < max_dist]\n",
    "    .groupby('x')\n",
    "    .quantile(0.9)\n",
    ")"
   ]
  },
  {
   "cell_type": "code",
   "execution_count": 28,
   "id": "accepting-tracy",
   "metadata": {},
   "outputs": [],
   "source": [
    "nx, ny = 121, 51\n",
    "xlim = np.array([0.5, 1e5])\n",
    "ylim = np.array([0, 1])\n",
    "xbins = np.unique(np.floor(np.logspace(*np.log10(xlim), num=51)).astype(int))\n",
    "ybins = np.unique(np.linspace(*ylim, num=ny))\n",
    "\n",
    "d = fit_ld#[fit_ld.x < 1e5]\n",
    "\n",
    "hist, xedges, yedges = np.histogram2d(\n",
    "    d['x'],\n",
    "#     d['x'],\n",
    "    d['r2'],\n",
    "    bins=(xbins, ybins),\n",
    "#     range=np.array([[np.min(xbins), np.max(xbins)], [np.min(ybins), np.max(ybins)]]),\n",
    ")\n",
    "extent = [xedges[0], xedges[-1], yedges[0], yedges[-1]]\n",
    "hist = pd.DataFrame(hist, columns=yedges[1:], index=xedges[:-1]).T\n",
    "norm_hist = hist / hist.sum()"
   ]
  },
  {
   "cell_type": "code",
   "execution_count": 29,
   "id": "plastic-intersection",
   "metadata": {},
   "outputs": [],
   "source": [
    "# TODO: Calculate the 90th percentile within the distance window from the histogram\n",
    "\n",
    "out = []\n",
    "for i, left in enumerate(xbins[:-1]):\n",
    "    right = xbins[i + 1]\n",
    "    out.append((\n",
    "        left,\n",
    "        right,\n",
    "        fit_ld[(fit_ld.x > left) & (fit_ld.x <= right)].r2.quantile(0.9),\n",
    "        ref_ld[(ref_ld.x > left) & (ref_ld.x <= right)].r2.quantile(0.9)\n",
    "    ))\n",
    "    \n",
    "hist_bin_quantile90 = pd.DataFrame(out, columns=['left', 'right', 'fit', 'ref'])"
   ]
  },
  {
   "cell_type": "code",
   "execution_count": 45,
   "id": "voluntary-small",
   "metadata": {},
   "outputs": [
    {
     "name": "stderr",
     "output_type": "stream",
     "text": [
      "/opt/conda/lib/python3.7/site-packages/ipykernel_launcher.py:3: MatplotlibDeprecationWarning: shading='flat' when X and Y have the same dimensions as C is deprecated since 3.3.  Either specify the corners of the quadrilaterals with X and Y, or pass shading='auto', 'nearest' or 'gouraud', or set rcParams['pcolor.shading'].  This will become an error two minor releases later.\n",
      "  This is separate from the ipykernel package so we can avoid doing imports until\n"
     ]
    },
    {
     "data": {
      "image/png": "[encoded data removed]",
      "text/plain": [
       "<Figure size 432x288 with 2 Axes>"
      ]
     },
     "metadata": {
      "needs_background": "light"
     },
     "output_type": "display_data"
    }
   ],
   "source": [
    "fig = plt.figure()\n",
    "\n",
    "plt.pcolormesh(norm_hist.columns, norm_hist.index, norm_hist, norm=mpl.colors.LogNorm(vmin=1e-3, vmax=1.0), cmap='binary')\n",
    "plt.xscale('log')\n",
    "plt.colorbar()\n",
    "\n",
    "\n",
    "ax = plt.gca()\n",
    "\n",
    "ax.scatter('x', 'ref', data=ld_profile.reset_index().assign(s=lambda x: 20 / x['x']), color='blue', label=f'reference genotypes', s='s', alpha=0.5)\n",
    "ax.scatter('x', 'fit', data=ld_profile.reset_index().assign(s=lambda x: 20 / x['x']), color='red', label=f'inferred genotypes', s='s', alpha=0.5)\n",
    "\n",
    "ax.plot('right', 'ref', data=hist_bin_quantile90, lw=1, color='blue', alpha=1)\n",
    "ax.plot('right', 'fit', data=hist_bin_quantile90, lw=1, color='red', alpha=1)\n",
    "\n",
    "\n",
    "ax.axhline(np.quantile(r2_ref, 0.9), lw=1, color='blue', linestyle='--')\n",
    "ax.axhline(np.quantile(r2_fit, 0.9), lw=1, color='red', linestyle='--')\n",
    "\n",
    "# ax.legend(title=f'Mean LD at pairwise distance')  #bbox_to_anchor=(0.85, 1.15), ncol=2\n",
    "\n",
    "ax.set_xlabel('Genomic Distance (bp)')\n",
    "ax.set_ylabel('LD ($r^2$)')\n",
    "ax.set_ylim(0, 1.03)\n",
    "ax.set_xlim(0.9, 1e4)\n",
    "\n",
    "\n",
    "fig.savefig(f'fig/ld_decay_{species_id}_90th.png', dpi=400)"
   ]
  },
  {
   "cell_type": "code",
   "execution_count": 31,
   "id": "committed-alexander",
   "metadata": {},
   "outputs": [
    {
     "data": {
      "image/png": "[encoded data removed]",
      "text/plain": [
       "<Figure size 144x72 with 1 Axes>"
      ]
     },
     "metadata": {
      "needs_background": "light"
     },
     "output_type": "display_data"
    }
   ],
   "source": [
    "fig, ax = plt.subplots(figsize=(2, 1))\n",
    "\n",
    "ax.plot([], color='blue', label=f'reference', alpha=0.7)\n",
    "ax.plot([], color='red', label=f'inferred', alpha=0.7)\n",
    "ax.legend()  #bbox_to_anchor=(0.85, 1.15), ncol=2)\n",
    "\n",
    "ax.axis('off')\n",
    "fig.savefig(f'fig/ld_decay_{species_id}_legend.png', dpi=400)"
   ]
  },
  {
   "cell_type": "code",
   "execution_count": 44,
   "id": "simple-seventh",
   "metadata": {},
   "outputs": [
    {
     "data": {
      "text/plain": [
       "fit    520.0\n",
       "ref    520.0\n",
       "dtype: float64"
      ]
     },
     "execution_count": 44,
     "metadata": {},
     "output_type": "execute_result"
    }
   ],
   "source": [
    "# LD_{90,1/2}\n",
    "(ld_profile > 0.5).idxmin()"
   ]
  },
  {
   "cell_type": "code",
   "execution_count": 32,
   "id": "sudden-subscription",
   "metadata": {},
   "outputs": [
    {
     "data": {
      "text/html": [
       "<div>\n",
       "<style scoped>\n",
       "    .dataframe tbody tr th:only-of-type {\n",
       "        vertical-align: middle;\n",
       "    }\n",
       "\n",
       "    .dataframe tbody tr th {\n",
       "        vertical-align: top;\n",
       "    }\n",
       "\n",
       "    .dataframe thead th {\n",
       "        text-align: right;\n",
       "    }\n",
       "</style>\n",
       "<table border=\"1\" class=\"dataframe\">\n",
       "  <thead>\n",
       "    <tr style=\"text-align: right;\">\n",
       "      <th></th>\n",
       "      <th>fit</th>\n",
       "      <th>ref</th>\n",
       "    </tr>\n",
       "    <tr>\n",
       "      <th>x</th>\n",
       "      <th></th>\n",
       "      <th></th>\n",
       "    </tr>\n",
       "  </thead>\n",
       "  <tbody>\n",
       "    <tr>\n",
       "      <th>1.0</th>\n",
       "      <td>0.999988</td>\n",
       "      <td>1.0</td>\n",
       "    </tr>\n",
       "    <tr>\n",
       "      <th>2.0</th>\n",
       "      <td>0.999978</td>\n",
       "      <td>1.0</td>\n",
       "    </tr>\n",
       "    <tr>\n",
       "      <th>3.0</th>\n",
       "      <td>0.999897</td>\n",
       "      <td>1.0</td>\n",
       "    </tr>\n",
       "    <tr>\n",
       "      <th>4.0</th>\n",
       "      <td>0.999944</td>\n",
       "      <td>1.0</td>\n",
       "    </tr>\n",
       "    <tr>\n",
       "      <th>5.0</th>\n",
       "      <td>0.999904</td>\n",
       "      <td>1.0</td>\n",
       "    </tr>\n",
       "  </tbody>\n",
       "</table>\n",
       "</div>"
      ],
      "text/plain": [
       "          fit  ref\n",
       "x                 \n",
       "1.0  0.999988  1.0\n",
       "2.0  0.999978  1.0\n",
       "3.0  0.999897  1.0\n",
       "4.0  0.999944  1.0\n",
       "5.0  0.999904  1.0"
      ]
     },
     "execution_count": 32,
     "metadata": {},
     "output_type": "execute_result"
    }
   ],
   "source": [
    "ld_profile.head(5)"
   ]
  },
  {
   "cell_type": "code",
   "execution_count": 33,
   "id": "august-briefs",
   "metadata": {},
   "outputs": [
    {
     "data": {
      "text/plain": [
       "(0.06702766207019778, 0.10898323518795017)"
      ]
     },
     "execution_count": 33,
     "metadata": {},
     "output_type": "execute_result"
    }
   ],
   "source": [
    "np.quantile(r2_ref, 0.9), np.quantile(r2_fit, 0.9)"
   ]
  },
  {
   "cell_type": "code",
   "execution_count": null,
   "id": "mighty-clinton",
   "metadata": {},
   "outputs": [],
   "source": []
  }
 ],
 "metadata": {
  "kernelspec": {
   "display_name": "Python 3",
   "language": "python",
   "name": "python3"
  },
  "language_info": {
   "codemirror_mode": {
    "name": "ipython",
    "version": 3
   },
   "file_extension": ".py",
   "mimetype": "text/x-python",
   "name": "python",
   "nbconvert_exporter": "python",
   "pygments_lexer": "ipython3",
   "version": "3.7.10"
  }
 },
 "nbformat": 4,
 "nbformat_minor": 5
}
