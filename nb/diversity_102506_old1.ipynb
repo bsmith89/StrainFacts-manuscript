{
 "cells": [
  {
   "cell_type": "markdown",
   "id": "expanded-cowboy",
   "metadata": {},
   "source": [
    "## Preamble"
   ]
  },
  {
   "cell_type": "code",
   "execution_count": 1,
   "id": "worthy-liver",
   "metadata": {},
   "outputs": [],
   "source": [
    "%load_ext autoreload\n",
    "%autoreload 0"
   ]
  },
  {
   "cell_type": "code",
   "execution_count": 2,
   "id": "civilian-button",
   "metadata": {},
   "outputs": [],
   "source": [
    "%autoreload"
   ]
  },
  {
   "cell_type": "code",
   "execution_count": 3,
   "id": "played-aviation",
   "metadata": {},
   "outputs": [],
   "source": [
    "import sys\n",
    "sys.path.append('/pollard/home/bsmith/Projects/haplo-benchmark/include/StrainFacts')"
   ]
  },
  {
   "cell_type": "code",
   "execution_count": 4,
   "id": "renewable-hepatitis",
   "metadata": {},
   "outputs": [],
   "source": [
    "import xarray as xr\n",
    "import sqlite3\n",
    "import pandas as pd\n",
    "import matplotlib as mpl\n",
    "import matplotlib.pyplot as plt\n",
    "import seaborn as sns\n",
    "import numpy as np\n",
    "import warnings\n",
    "import torch\n",
    "import pyro\n",
    "import scipy as sp\n",
    "\n",
    "import lib.plot\n",
    "from scipy.spatial.distance import pdist, squareform\n",
    "from sklearn.metrics.pairwise import pairwise_distances\n",
    "from sklearn.cluster import AgglomerativeClustering\n",
    "from lib.pandas_util import idxwhere\n",
    "\n",
    "import sfacts as sf\n",
    "\n",
    "from tqdm import tqdm\n",
    "\n",
    "# from lib.project_style import color_palette, major_allele_frequency_bins\n",
    "# from lib.project_data import metagenotype_db_to_xarray\n",
    "# from lib.plot import ordination_plot, mds_ordination, nmds_ordination\n",
    "# import lib.plot\n",
    "# from lib.plot import construct_ordered_pallete\n",
    "# from lib.pandas_util import idxwhere"
   ]
  },
  {
   "cell_type": "markdown",
   "id": "mental-nicholas",
   "metadata": {},
   "source": [
    "## Load Data"
   ]
  },
  {
   "cell_type": "code",
   "execution_count": 5,
   "id": "nonprofit-screw",
   "metadata": {},
   "outputs": [
    {
     "name": "stdout",
     "output_type": "stream",
     "text": [
      "Frozen(SortedKeysDict({'strain': 200, 'sample': 9232, 'position': 75942, 'allele': 2}))\n",
      "<xarray.DataArray 'communities' ()>\n",
      "array(0.00055164, dtype=float32)\n",
      "Coordinates:\n",
      "    species_id  int64 102506\n",
      "Frozen(SortedKeysDict({'strain': 123, 'sample': 9232, 'position': 75942, 'allele': 2}))\n"
     ]
    }
   ],
   "source": [
    "species_id = 102506\n",
    "\n",
    "fit = sf.data.World.load(f'data/zshi.sp-{species_id}.metagenotype.filt-poly05-cvrg25.fit-sfacts44-s200-g5000-seed0.refit-sfacts41-g10000-seed0.world.nc')\n",
    "fit.data['position'] = fit.data.position.astype(int)\n",
    "print(fit.sizes)\n",
    "\n",
    "\n",
    "cull_threshold = 0.05\n",
    "\n",
    "distance_proportionality = 0.077567\n",
    "\n",
    "fit_communities = fit.communities.mlift('sel', strain=fit.communities.max(\"sample\") > cull_threshold)\n",
    "print((1 - fit_communities.sum(\"strain\")).max())\n",
    "fit_communities = sf.Communities(fit_communities.data / fit_communities.sum(\"strain\"))\n",
    "fit_genotypes = fit.genotypes.mlift('sel', strain=fit_communities.strain)\n",
    "\n",
    "fit = sf.World.from_combined(fit_communities, fit_genotypes, fit.metagenotypes)\n",
    "print(fit.sizes)"
   ]
  },
  {
   "cell_type": "code",
   "execution_count": 6,
   "id": "checked-perspective",
   "metadata": {},
   "outputs": [
    {
     "data": {
      "text/plain": [
       "Frozen({'strain': 1000, 'position': 75942})"
      ]
     },
     "execution_count": 6,
     "metadata": {},
     "output_type": "execute_result"
    }
   ],
   "source": [
    "ref = sf.data.Metagenotypes.load(f'data/gtprodb.sp-{species_id}.genotype.nc').mlift('sel', position=fit.position).to_estimated_genotypes(pseudo=0)\n",
    "ref.sizes"
   ]
  },
  {
   "cell_type": "code",
   "execution_count": 54,
   "id": "elder-complaint",
   "metadata": {},
   "outputs": [
    {
     "data": {
      "text/plain": [
       "(array([16920., 14942.,  9039.,  5591.,  5193.,  5936.,  7446.,  5189.,\n",
       "         4404.,  1282.]),\n",
       " array([0.01  , 0.0635, 0.117 , 0.1705, 0.224 , 0.2775, 0.331 , 0.3845,\n",
       "        0.438 , 0.4915, 0.545 ]),\n",
       " <BarContainer object of 10 artists>)"
      ]
     },
     "execution_count": 54,
     "metadata": {},
     "output_type": "execute_result"
    },
    {
     "data": {
      "image/png": "[encoded data removed]",
      "text/plain": [
       "<Figure size 432x288 with 1 Axes>"
      ]
     },
     "metadata": {
      "needs_background": "light"
     },
     "output_type": "display_data"
    }
   ],
   "source": [
    "plt.hist(ref.mean('strain'))"
   ]
  },
  {
   "cell_type": "code",
   "execution_count": null,
   "id": "threaded-intro",
   "metadata": {},
   "outputs": [],
   "source": [
    "# TODO: Decide if I want to discretize here.\n",
    "ref_dist = ref.discretized().pdist()\n",
    "fit_dist = fit_genotypes.discretized().pdist()"
   ]
  },
  {
   "cell_type": "code",
   "execution_count": 182,
   "id": "recognized-party",
   "metadata": {},
   "outputs": [
    {
     "data": {
      "text/plain": [
       "162    62\n",
       "4      39\n",
       "15     39\n",
       "50     37\n",
       "12     36\n",
       "       ..\n",
       "213     1\n",
       "214     1\n",
       "215     1\n",
       "216     1\n",
       "354     1\n",
       "Length: 355, dtype: int64"
      ]
     },
     "execution_count": 182,
     "metadata": {},
     "output_type": "execute_result"
    }
   ],
   "source": [
    "dedup_thresh = 0.001 / distance_proportionality\n",
    "\n",
    "ref_clust = pd.Series(\n",
    "    AgglomerativeClustering(\n",
    "        distance_threshold=dedup_thresh, n_clusters=None, affinity='precomputed', linkage='average'\n",
    "    ).fit_predict(ref_dist),\n",
    "    index=ref_dist.columns,\n",
    ")\n",
    "fit_clust = pd.Series(\n",
    "    AgglomerativeClustering(\n",
    "        distance_threshold=dedup_thresh, n_clusters=None, affinity='precomputed', linkage='average'\n",
    "    ).fit_predict(fit_dist),\n",
    "    index=fit_dist.columns.astype(int),\n",
    ")\n",
    "\n",
    "ref_clust.value_counts()"
   ]
  },
  {
   "cell_type": "code",
   "execution_count": 183,
   "id": "industrial-puzzle",
   "metadata": {},
   "outputs": [
    {
     "data": {
      "text/plain": [
       "0     1\n",
       "31    1\n",
       "2     1\n",
       "3     1\n",
       "4     1\n",
       "dtype: int64"
      ]
     },
     "execution_count": 183,
     "metadata": {},
     "output_type": "execute_result"
    }
   ],
   "source": [
    "fit_clust.value_counts().sort_values(ascending=False).head()"
   ]
  },
  {
   "cell_type": "code",
   "execution_count": 184,
   "id": "color-sunday",
   "metadata": {},
   "outputs": [],
   "source": [
    "ref_dedup = sf.Genotypes(ref.to_series().unstack('strain').groupby(ref_clust, axis='columns').mean().rename_axis(columns='strain').T.stack().to_xarray())\n",
    "fit_dedup = sf.Genotypes(fit_genotypes.to_series().unstack('strain').groupby(fit_clust, axis='columns').mean().rename(columns=lambda x: int(x)).rename_axis(columns='strain').T.stack().to_xarray())"
   ]
  },
  {
   "cell_type": "code",
   "execution_count": 185,
   "id": "arranged-information",
   "metadata": {},
   "outputs": [
    {
     "data": {
      "text/plain": [
       "((1000, 355), (123, 123))"
      ]
     },
     "execution_count": 185,
     "metadata": {},
     "output_type": "execute_result"
    }
   ],
   "source": [
    "(ref.sizes['strain'], ref_dedup.sizes['strain']), (fit_genotypes.sizes['strain'], fit_dedup.sizes['strain'])"
   ]
  },
  {
   "cell_type": "code",
   "execution_count": 186,
   "id": "detailed-dover",
   "metadata": {},
   "outputs": [],
   "source": [
    "from scipy.spatial.distance import pdist, squareform\n",
    "\n",
    "g = sf.data.Genotypes.concat(dict(\n",
    "    ref=ref_dedup,\n",
    "    fit=fit_dedup,\n",
    "), dim='strain')\n",
    "\n",
    "dist = pd.DataFrame(g.discretized().pdist(), index=g.strain, columns=g.strain)"
   ]
  },
  {
   "cell_type": "code",
   "execution_count": 196,
   "id": "macro-opening",
   "metadata": {},
   "outputs": [],
   "source": [
    "clust_thresh = 0.01 / distance_proportionality\n",
    "\n",
    "all_clust = pd.Series(\n",
    "    AgglomerativeClustering(\n",
    "        distance_threshold=clust_thresh, n_clusters=None, affinity='precomputed', linkage='average'\n",
    "    ).fit_predict(dist),\n",
    "    index=g.strain,\n",
    ")\n",
    "\n",
    "clust_type = all_clust.index.to_series().str[:3]"
   ]
  },
  {
   "cell_type": "code",
   "execution_count": 197,
   "id": "absolute-accommodation",
   "metadata": {},
   "outputs": [
    {
     "data": {
      "text/plain": [
       "fit    ref  \n",
       "True   True     28\n",
       "       False    19\n",
       "False  True     18\n",
       "       False     0\n",
       "dtype: int64"
      ]
     },
     "execution_count": 197,
     "metadata": {},
     "output_type": "execute_result"
    }
   ],
   "source": [
    "from itertools import product\n",
    "    \n",
    "def count_clust_types(clust, key):\n",
    "    clust_types = (\n",
    "        clust\n",
    "        .to_frame(name='clust')\n",
    "        .assign(key=key)\n",
    "        .groupby(['clust', 'key'])\n",
    "        .apply(len)\n",
    "        .unstack(fill_value=0)\n",
    "    )\n",
    "    all_keys = clust_types.columns.to_list()\n",
    "    all_possible_clust_types = pd.DataFrame(product([True, False], repeat=len(all_keys)), columns=all_keys)\n",
    "    return clust_types, clust_types.apply(lambda x: x > 0).groupby(all_keys).apply(len).reindex(all_possible_clust_types, fill_value=0)\n",
    "\n",
    "clust_stats, clust_type_tally = count_clust_types(all_clust, clust_type)\n",
    "\n",
    "clust_type_tally"
   ]
  },
  {
   "cell_type": "code",
   "execution_count": 189,
   "id": "republican-neighbor",
   "metadata": {},
   "outputs": [
    {
     "data": {
      "text/plain": [
       "<seaborn.matrix.ClusterGrid at 0x7f3734983310>"
      ]
     },
     "execution_count": 189,
     "metadata": {},
     "output_type": "execute_result"
    },
    {
     "data": {
      "image/png": "[encoded data removed]",
      "text/plain": [
       "<Figure size 662.4x154.8 with 4 Axes>"
      ]
     },
     "metadata": {
      "needs_background": "light"
     },
     "output_type": "display_data"
    }
   ],
   "source": [
    "_clust_stats = (\n",
    "    clust_stats\n",
    "    .assign(\n",
    "        tally=lambda x: x.sum(1),\n",
    "    )\n",
    "    .assign(only_fit=lambda x: x.ref==0, only_ref=lambda x: x.fit==0)\n",
    "    .assign(both=lambda x: ~(x.only_fit | x.only_ref))\n",
    "    .assign(clust_class=lambda x: x[['only_ref', 'both', 'only_fit']].values.argmax(1))\n",
    ")\n",
    "\n",
    "clust_genotypes = sf.Genotypes(g.to_series().unstack('strain').groupby(all_clust, axis='columns').mean().rename_axis(columns='strain').T.stack().to_xarray())\n",
    "\n",
    "sf.plot.plot_genotype(\n",
    "    clust_genotypes.random_sample(position=2500),\n",
    "    row_colors_func=lambda w: _clust_stats[['clust_class']].to_xarray(),\n",
    "    scaley=1e-2,\n",
    "    scalex=3e-3,\n",
    "    yticklabels=0\n",
    ")"
   ]
  },
  {
   "cell_type": "code",
   "execution_count": 190,
   "id": "according-secretary",
   "metadata": {},
   "outputs": [
    {
     "data": {
      "text/plain": [
       "<seaborn.matrix.ClusterGrid at 0x7f3734945a10>"
      ]
     },
     "execution_count": 190,
     "metadata": {},
     "output_type": "execute_result"
    },
    {
     "data": {
      "image/png": "[encoded data removed]",
      "text/plain": [
       "<Figure size 662.4x154.8 with 4 Axes>"
      ]
     },
     "metadata": {
      "needs_background": "light"
     },
     "output_type": "display_data"
    }
   ],
   "source": [
    "sf.plot.plot_genotype(\n",
    "    clust_genotypes.discretized().random_sample(position=2500),\n",
    "    row_colors_func=lambda w: _clust_stats[['clust_class']].to_xarray(),\n",
    "    scaley=1e-2,\n",
    "    scalex=3e-3,\n",
    "    yticklabels=0\n",
    ")"
   ]
  },
  {
   "cell_type": "code",
   "execution_count": 198,
   "id": "invalid-spectacular",
   "metadata": {},
   "outputs": [
    {
     "data": {
      "image/png": "[encoded data removed]",
      "text/plain": [
       "<Figure size 190.872x410.4 with 4 Axes>"
      ]
     },
     "metadata": {
      "needs_background": "light"
     },
     "output_type": "display_data"
    }
   ],
   "source": [
    "np.random.seed(0)\n",
    "\n",
    "sf.plot.plot_genotype(\n",
    "    clust_genotypes.discretized().random_sample(position=2500),\n",
    "    row_colors_func=lambda w: _clust_stats[['clust_class']].to_xarray(),\n",
    "    row_linkage_func=lambda w: w.genotypes.linkage(method='complete'),\n",
    "    scaley=3e-2,\n",
    "    scalex=2e-3,\n",
    "    yticklabels=0,\n",
    "    dheight=0.001,\n",
    "    norm=mpl.colors.PowerNorm(1, vmin=-0.1, vmax=1.1),\n",
    "    transpose=True,\n",
    ")\n",
    "\n",
    "plt.savefig('fig/coclustering_102506.png', dpi=400)"
   ]
  },
  {
   "cell_type": "code",
   "execution_count": 199,
   "id": "unavailable-awareness",
   "metadata": {},
   "outputs": [
    {
     "data": {
      "image/png": "[encoded data removed]",
      "text/plain": [
       "<Figure size 360x36 with 1 Axes>"
      ]
     },
     "metadata": {
      "needs_background": "light"
     },
     "output_type": "display_data"
    }
   ],
   "source": [
    "fig, ax = plt.subplots(figsize=(5, 0.5))\n",
    "\n",
    "for label, c in zip(['Reference Only', 'Both', 'Inferred Only'], mpl.cm.viridis([0, 0.5, 1.0])):\n",
    "    ax.scatter([], [], marker='s', label=label, c=[c])\n",
    "ax.legend(ncol=3)\n",
    "ax.axis('off')\n",
    "\n",
    "fig.tight_layout()\n",
    "\n",
    "fig.savefig('fig/cocluster_legend.png', dpi=400, bbox_inches=0, pad_inches='tight')"
   ]
  },
  {
   "cell_type": "code",
   "execution_count": 200,
   "id": "vocational-simon",
   "metadata": {},
   "outputs": [
    {
     "data": {
      "image/png": "[encoded data removed]",
      "text/plain": [
       "<Figure size 144x108 with 1 Axes>"
      ]
     },
     "metadata": {
      "needs_background": "light"
     },
     "output_type": "display_data"
    }
   ],
   "source": [
    "fig, ax = plt.subplots(figsize=(2, 1.5))\n",
    "\n",
    "for label, c in zip(['Reference', 'Both', 'Inferred'], mpl.cm.viridis([0, 0.5, 1.0])):\n",
    "    ax.scatter([], [], marker='s', label=label, c=[c])\n",
    "ax.legend()\n",
    "ax.axis('off')\n",
    "\n",
    "fig.tight_layout()\n",
    "\n",
    "fig.savefig('fig/cocluster_legend_vertical.png', dpi=400, bbox_inches=0, pad_inches='tight')"
   ]
  },
  {
   "cell_type": "code",
   "execution_count": 201,
   "id": "involved-andorra",
   "metadata": {},
   "outputs": [
    {
     "data": {
      "text/plain": [
       "65"
      ]
     },
     "execution_count": 201,
     "metadata": {},
     "output_type": "execute_result"
    }
   ],
   "source": [
    "len(_clust_stats)"
   ]
  },
  {
   "cell_type": "code",
   "execution_count": 202,
   "id": "necessary-usage",
   "metadata": {},
   "outputs": [
    {
     "data": {
      "text/html": [
       "<div>\n",
       "<style scoped>\n",
       "    .dataframe tbody tr th:only-of-type {\n",
       "        vertical-align: middle;\n",
       "    }\n",
       "\n",
       "    .dataframe tbody tr th {\n",
       "        vertical-align: top;\n",
       "    }\n",
       "\n",
       "    .dataframe thead th {\n",
       "        text-align: right;\n",
       "    }\n",
       "</style>\n",
       "<table border=\"1\" class=\"dataframe\">\n",
       "  <thead>\n",
       "    <tr style=\"text-align: right;\">\n",
       "      <th></th>\n",
       "      <th></th>\n",
       "      <th>key</th>\n",
       "      <th>fit</th>\n",
       "      <th>ref</th>\n",
       "    </tr>\n",
       "    <tr>\n",
       "      <th>only_fit</th>\n",
       "      <th>both</th>\n",
       "      <th>only_ref</th>\n",
       "      <th></th>\n",
       "      <th></th>\n",
       "    </tr>\n",
       "  </thead>\n",
       "  <tbody>\n",
       "    <tr>\n",
       "      <th rowspan=\"2\" valign=\"top\">False</th>\n",
       "      <th>False</th>\n",
       "      <th>True</th>\n",
       "      <td>0.000000</td>\n",
       "      <td>0.073239</td>\n",
       "    </tr>\n",
       "    <tr>\n",
       "      <th>True</th>\n",
       "      <th>False</th>\n",
       "      <td>0.845528</td>\n",
       "      <td>0.926761</td>\n",
       "    </tr>\n",
       "    <tr>\n",
       "      <th>True</th>\n",
       "      <th>False</th>\n",
       "      <th>False</th>\n",
       "      <td>0.154472</td>\n",
       "      <td>0.000000</td>\n",
       "    </tr>\n",
       "  </tbody>\n",
       "</table>\n",
       "</div>"
      ],
      "text/plain": [
       "key                           fit       ref\n",
       "only_fit both  only_ref                    \n",
       "False    False True      0.000000  0.073239\n",
       "         True  False     0.845528  0.926761\n",
       "True     False False     0.154472  0.000000"
      ]
     },
     "execution_count": 202,
     "metadata": {},
     "output_type": "execute_result"
    }
   ],
   "source": [
    "# Count the number of each type of genotype in each type of cluster.\n",
    "_clust_stats.groupby(['only_fit', 'both', 'only_ref'])[['fit', 'ref']].sum().apply(lambda x: x / x.sum())"
   ]
  },
  {
   "cell_type": "code",
   "execution_count": 203,
   "id": "proved-smooth",
   "metadata": {},
   "outputs": [
    {
     "name": "stderr",
     "output_type": "stream",
     "text": [
      "100%|██████████| 9999/9999 [01:07<00:00, 149.21it/s]\n"
     ]
    }
   ],
   "source": [
    "def permutation_clust_types(clust, key, n=1, progress=False):\n",
    "    _, observed = count_clust_types(clust, key)\n",
    "    permutations = []\n",
    "    for _ in tqdm(range(n), disable=(not progress)):\n",
    "        perm_clust = pd.Series(np.random.choice(clust.values, size=len(clust), replace=False), index=clust.index)\n",
    "        permutations.append(count_clust_types(perm_clust, key)[1])\n",
    "    return observed, pd.DataFrame(permutations)\n",
    "\n",
    "obs, perm = permutation_clust_types(all_clust, all_clust.index.to_series().str[:3], n=9999, progress=True)"
   ]
  },
  {
   "cell_type": "code",
   "execution_count": 204,
   "id": "personalized-intelligence",
   "metadata": {},
   "outputs": [
    {
     "data": {
      "text/html": [
       "<div>\n",
       "<style scoped>\n",
       "    .dataframe tbody tr th:only-of-type {\n",
       "        vertical-align: middle;\n",
       "    }\n",
       "\n",
       "    .dataframe tbody tr th {\n",
       "        vertical-align: top;\n",
       "    }\n",
       "\n",
       "    .dataframe thead th {\n",
       "        text-align: right;\n",
       "    }\n",
       "</style>\n",
       "<table border=\"1\" class=\"dataframe\">\n",
       "  <thead>\n",
       "    <tr style=\"text-align: right;\">\n",
       "      <th></th>\n",
       "      <th></th>\n",
       "      <th>tally</th>\n",
       "      <th>frac</th>\n",
       "    </tr>\n",
       "    <tr>\n",
       "      <th>fit</th>\n",
       "      <th>ref</th>\n",
       "      <th></th>\n",
       "      <th></th>\n",
       "    </tr>\n",
       "  </thead>\n",
       "  <tbody>\n",
       "    <tr>\n",
       "      <th rowspan=\"2\" valign=\"top\">True</th>\n",
       "      <th>True</th>\n",
       "      <td>28</td>\n",
       "      <td>0.430769</td>\n",
       "    </tr>\n",
       "    <tr>\n",
       "      <th>False</th>\n",
       "      <td>19</td>\n",
       "      <td>0.292308</td>\n",
       "    </tr>\n",
       "    <tr>\n",
       "      <th rowspan=\"2\" valign=\"top\">False</th>\n",
       "      <th>True</th>\n",
       "      <td>18</td>\n",
       "      <td>0.276923</td>\n",
       "    </tr>\n",
       "    <tr>\n",
       "      <th>False</th>\n",
       "      <td>0</td>\n",
       "      <td>0.000000</td>\n",
       "    </tr>\n",
       "  </tbody>\n",
       "</table>\n",
       "</div>"
      ],
      "text/plain": [
       "             tally      frac\n",
       "fit   ref                   \n",
       "True  True      28  0.430769\n",
       "      False     19  0.292308\n",
       "False True      18  0.276923\n",
       "      False      0  0.000000"
      ]
     },
     "execution_count": 204,
     "metadata": {},
     "output_type": "execute_result"
    }
   ],
   "source": [
    "obs.to_frame(name='tally').assign(frac=lambda x: x / x.sum())"
   ]
  },
  {
   "cell_type": "code",
   "execution_count": 205,
   "id": "significant-recipient",
   "metadata": {},
   "outputs": [
    {
     "data": {
      "image/png": "[encoded data removed]",
      "text/plain": [
       "<Figure size 360x360 with 3 Axes>"
      ]
     },
     "metadata": {
      "needs_background": "light"
     },
     "output_type": "display_data"
    }
   ],
   "source": [
    "fig, axs = plt.subplots(3, figsize=(5, 5), sharex=True, sharey=True)\n",
    "\n",
    "for (key, c, label), ax in zip([((True, True), 'grey', 'both'), ((True, False), 'tab:red', 'fit'), ((False, True), 'tab:blue', 'ref')], axs):\n",
    "    ax.hist(perm[key], color=c)\n",
    "    ax.axvline(obs[key], color=c, label=label)\n",
    "    ax.set_title(label)\n",
    "fig.tight_layout()"
   ]
  },
  {
   "cell_type": "code",
   "execution_count": 206,
   "id": "floating-video",
   "metadata": {
    "tags": []
   },
   "outputs": [
    {
     "data": {
      "text/html": [
       "<div>\n",
       "<style scoped>\n",
       "    .dataframe tbody tr th:only-of-type {\n",
       "        vertical-align: middle;\n",
       "    }\n",
       "\n",
       "    .dataframe tbody tr th {\n",
       "        vertical-align: top;\n",
       "    }\n",
       "\n",
       "    .dataframe thead th {\n",
       "        text-align: right;\n",
       "    }\n",
       "</style>\n",
       "<table border=\"1\" class=\"dataframe\">\n",
       "  <thead>\n",
       "    <tr style=\"text-align: right;\">\n",
       "      <th></th>\n",
       "      <th>&lt;</th>\n",
       "      <th>==</th>\n",
       "      <th>&gt;</th>\n",
       "    </tr>\n",
       "  </thead>\n",
       "  <tbody>\n",
       "    <tr>\n",
       "      <th>(False, False)</th>\n",
       "      <td>0.0000</td>\n",
       "      <td>1.0000</td>\n",
       "      <td>0.0000</td>\n",
       "    </tr>\n",
       "    <tr>\n",
       "      <th>(False, True)</th>\n",
       "      <td>1.0000</td>\n",
       "      <td>0.0000</td>\n",
       "      <td>0.0000</td>\n",
       "    </tr>\n",
       "    <tr>\n",
       "      <th>(True, False)</th>\n",
       "      <td>0.0001</td>\n",
       "      <td>0.0003</td>\n",
       "      <td>0.9996</td>\n",
       "    </tr>\n",
       "    <tr>\n",
       "      <th>(True, True)</th>\n",
       "      <td>0.0001</td>\n",
       "      <td>0.0011</td>\n",
       "      <td>0.9988</td>\n",
       "    </tr>\n",
       "  </tbody>\n",
       "</table>\n",
       "</div>"
      ],
      "text/plain": [
       "                     <      ==       >\n",
       "(False, False)  0.0000  1.0000  0.0000\n",
       "(False, True)   1.0000  0.0000  0.0000\n",
       "(True, False)   0.0001  0.0003  0.9996\n",
       "(True, True)    0.0001  0.0011  0.9988"
      ]
     },
     "execution_count": 206,
     "metadata": {},
     "output_type": "execute_result"
    }
   ],
   "source": [
    "def tally_permutation_test(obs, perm):    \n",
    "    out = {}\n",
    "    for key in obs.index:\n",
    "        out[key, '>'] = ((obs[key] > perm[key]).sum())\n",
    "        out[key, '=='] = ((obs[key] == perm[key]).sum())\n",
    "        out[key, '<'] = ((obs[key] < perm[key]).sum())\n",
    "    return pd.Series(out).unstack()\n",
    "\n",
    "tally_permutation_test(obs, perm).apply(lambda x: x / x.sum(), axis=1)"
   ]
  },
  {
   "cell_type": "code",
   "execution_count": 207,
   "id": "documentary-turtle",
   "metadata": {},
   "outputs": [
    {
     "name": "stderr",
     "output_type": "stream",
     "text": [
      "100%|██████████| 9999/9999 [01:39<00:00, 100.06it/s]\n"
     ]
    }
   ],
   "source": [
    "def permutation_strain_clust_type(clust, key, n=1, progress=False):\n",
    "    clust_stats, _ = count_clust_types(clust, key)\n",
    "    observed = clust_stats.groupby((clust_stats > 0).apply(lambda x: tuple(x), axis=1)).sum().stack()\n",
    "    permutations = []\n",
    "    for _ in tqdm(range(n), disable=(not progress)):\n",
    "        perm_clust = pd.Series(np.random.choice(clust.values, size=len(clust), replace=False), index=clust.index)\n",
    "        perm_clust_stats, _ = count_clust_types(perm_clust, key)\n",
    "        permutations.append(perm_clust_stats.groupby((perm_clust_stats > 0).apply(lambda x: tuple(x), axis=1)).sum().stack())\n",
    "    return observed, pd.DataFrame(permutations)\n",
    "\n",
    "obs2, perm2 = permutation_strain_clust_type(all_clust, all_clust.index.to_series().str[:3], n=9999, progress=True)"
   ]
  },
  {
   "cell_type": "code",
   "execution_count": 208,
   "id": "assigned-triumph",
   "metadata": {},
   "outputs": [
    {
     "data": {
      "text/plain": [
       "               key\n",
       "(False, True)  fit      0\n",
       "               ref     26\n",
       "(True, False)  fit     19\n",
       "               ref      0\n",
       "(True, True)   fit    104\n",
       "               ref    329\n",
       "dtype: int64"
      ]
     },
     "execution_count": 208,
     "metadata": {},
     "output_type": "execute_result"
    }
   ],
   "source": [
    "obs2"
   ]
  },
  {
   "cell_type": "code",
   "execution_count": 209,
   "id": "muslim-liverpool",
   "metadata": {},
   "outputs": [
    {
     "data": {
      "text/html": [
       "<div>\n",
       "<style scoped>\n",
       "    .dataframe tbody tr th:only-of-type {\n",
       "        vertical-align: middle;\n",
       "    }\n",
       "\n",
       "    .dataframe tbody tr th {\n",
       "        vertical-align: top;\n",
       "    }\n",
       "\n",
       "    .dataframe thead tr th {\n",
       "        text-align: left;\n",
       "    }\n",
       "</style>\n",
       "<table border=\"1\" class=\"dataframe\">\n",
       "  <thead>\n",
       "    <tr>\n",
       "      <th></th>\n",
       "      <th colspan=\"2\" halign=\"left\">(False, True)</th>\n",
       "      <th colspan=\"2\" halign=\"left\">(True, False)</th>\n",
       "      <th colspan=\"2\" halign=\"left\">(True, True)</th>\n",
       "    </tr>\n",
       "    <tr>\n",
       "      <th>key</th>\n",
       "      <th>fit</th>\n",
       "      <th>ref</th>\n",
       "      <th>fit</th>\n",
       "      <th>ref</th>\n",
       "      <th>fit</th>\n",
       "      <th>ref</th>\n",
       "    </tr>\n",
       "  </thead>\n",
       "  <tbody>\n",
       "    <tr>\n",
       "      <th>0</th>\n",
       "      <td>0</td>\n",
       "      <td>56</td>\n",
       "      <td>9</td>\n",
       "      <td>0</td>\n",
       "      <td>114</td>\n",
       "      <td>299</td>\n",
       "    </tr>\n",
       "    <tr>\n",
       "      <th>1</th>\n",
       "      <td>0</td>\n",
       "      <td>40</td>\n",
       "      <td>11</td>\n",
       "      <td>0</td>\n",
       "      <td>112</td>\n",
       "      <td>315</td>\n",
       "    </tr>\n",
       "    <tr>\n",
       "      <th>2</th>\n",
       "      <td>0</td>\n",
       "      <td>49</td>\n",
       "      <td>10</td>\n",
       "      <td>0</td>\n",
       "      <td>113</td>\n",
       "      <td>306</td>\n",
       "    </tr>\n",
       "    <tr>\n",
       "      <th>3</th>\n",
       "      <td>0</td>\n",
       "      <td>54</td>\n",
       "      <td>10</td>\n",
       "      <td>0</td>\n",
       "      <td>113</td>\n",
       "      <td>301</td>\n",
       "    </tr>\n",
       "    <tr>\n",
       "      <th>4</th>\n",
       "      <td>0</td>\n",
       "      <td>58</td>\n",
       "      <td>7</td>\n",
       "      <td>0</td>\n",
       "      <td>116</td>\n",
       "      <td>297</td>\n",
       "    </tr>\n",
       "    <tr>\n",
       "      <th>...</th>\n",
       "      <td>...</td>\n",
       "      <td>...</td>\n",
       "      <td>...</td>\n",
       "      <td>...</td>\n",
       "      <td>...</td>\n",
       "      <td>...</td>\n",
       "    </tr>\n",
       "    <tr>\n",
       "      <th>9994</th>\n",
       "      <td>0</td>\n",
       "      <td>59</td>\n",
       "      <td>7</td>\n",
       "      <td>0</td>\n",
       "      <td>116</td>\n",
       "      <td>296</td>\n",
       "    </tr>\n",
       "    <tr>\n",
       "      <th>9995</th>\n",
       "      <td>0</td>\n",
       "      <td>41</td>\n",
       "      <td>10</td>\n",
       "      <td>0</td>\n",
       "      <td>113</td>\n",
       "      <td>314</td>\n",
       "    </tr>\n",
       "    <tr>\n",
       "      <th>9996</th>\n",
       "      <td>0</td>\n",
       "      <td>49</td>\n",
       "      <td>5</td>\n",
       "      <td>0</td>\n",
       "      <td>118</td>\n",
       "      <td>306</td>\n",
       "    </tr>\n",
       "    <tr>\n",
       "      <th>9997</th>\n",
       "      <td>0</td>\n",
       "      <td>56</td>\n",
       "      <td>10</td>\n",
       "      <td>0</td>\n",
       "      <td>113</td>\n",
       "      <td>299</td>\n",
       "    </tr>\n",
       "    <tr>\n",
       "      <th>9998</th>\n",
       "      <td>0</td>\n",
       "      <td>56</td>\n",
       "      <td>13</td>\n",
       "      <td>0</td>\n",
       "      <td>110</td>\n",
       "      <td>299</td>\n",
       "    </tr>\n",
       "  </tbody>\n",
       "</table>\n",
       "<p>9999 rows × 6 columns</p>\n",
       "</div>"
      ],
      "text/plain": [
       "     (False, True)     (True, False)     (True, True)     \n",
       "key            fit ref           fit ref          fit  ref\n",
       "0                0  56             9   0          114  299\n",
       "1                0  40            11   0          112  315\n",
       "2                0  49            10   0          113  306\n",
       "3                0  54            10   0          113  301\n",
       "4                0  58             7   0          116  297\n",
       "...            ...  ..           ...  ..          ...  ...\n",
       "9994             0  59             7   0          116  296\n",
       "9995             0  41            10   0          113  314\n",
       "9996             0  49             5   0          118  306\n",
       "9997             0  56            10   0          113  299\n",
       "9998             0  56            13   0          110  299\n",
       "\n",
       "[9999 rows x 6 columns]"
      ]
     },
     "execution_count": 209,
     "metadata": {},
     "output_type": "execute_result"
    }
   ],
   "source": [
    "perm2"
   ]
  },
  {
   "cell_type": "code",
   "execution_count": 210,
   "id": "narrative-details",
   "metadata": {},
   "outputs": [
    {
     "data": {
      "image/png": "[encoded data removed]",
      "text/plain": [
       "<Figure size 360x360 with 3 Axes>"
      ]
     },
     "metadata": {
      "needs_background": "light"
     },
     "output_type": "display_data"
    }
   ],
   "source": [
    "fig, axs = plt.subplots(3, figsize=(5, 5), sharex=True, sharey=True)\n",
    "\n",
    "for (key, c, label), ax in zip(\n",
    "    [\n",
    "        (((True, True), 'fit'), 'tab:blue', 'fit'),\n",
    "        (((True, True), 'ref'), 'tab:red', 'ref'),\n",
    "    ],\n",
    "    axs\n",
    "):\n",
    "    ax.hist(perm2[key], color=c)\n",
    "    ax.axvline(obs2[key], color=c, label=label)\n",
    "    ax.set_title(label)\n",
    "    \n",
    "    \n",
    "\n",
    "ax = axs[2]\n",
    "c = 'grey'\n",
    "ax.hist(perm2[((True, True), 'fit')] + perm2[((True, True), 'ref')], color=c)\n",
    "ax.axvline(obs2[((True, True), 'fit')] + obs2[((True, True), 'ref')], c=c)\n",
    "ax.set_title('both')\n",
    "\n",
    "\n",
    "fig.tight_layout()"
   ]
  },
  {
   "cell_type": "code",
   "execution_count": 211,
   "id": "romance-trunk",
   "metadata": {},
   "outputs": [
    {
     "data": {
      "text/plain": [
       "0.004000400040004"
      ]
     },
     "execution_count": 211,
     "metadata": {},
     "output_type": "execute_result"
    }
   ],
   "source": [
    "(\n",
    "    (obs2[((True, True), 'fit')] + obs2[((True, True), 'ref')])\n",
    "    <=\n",
    "    (perm2[((True, True), 'fit')] + perm2[((True, True), 'ref')])\n",
    ").mean()"
   ]
  },
  {
   "cell_type": "code",
   "execution_count": 212,
   "id": "molecular-blair",
   "metadata": {},
   "outputs": [
    {
     "data": {
      "text/plain": [
       "0.0035003500350035003"
      ]
     },
     "execution_count": 212,
     "metadata": {},
     "output_type": "execute_result"
    }
   ],
   "source": [
    "(\n",
    "    obs2[((True, True), 'fit')]\n",
    "    >\n",
    "    perm2[((True, True), 'fit')]\n",
    ").mean()"
   ]
  }
 ],
 "metadata": {
  "kernelspec": {
   "display_name": "Python 3",
   "language": "python",
   "name": "python3"
  },
  "language_info": {
   "codemirror_mode": {
    "name": "ipython",
    "version": 3
   },
   "file_extension": ".py",
   "mimetype": "text/x-python",
   "name": "python",
   "nbconvert_exporter": "python",
   "pygments_lexer": "ipython3",
   "version": "3.7.10"
  }
 },
 "nbformat": 4,
 "nbformat_minor": 5
}
