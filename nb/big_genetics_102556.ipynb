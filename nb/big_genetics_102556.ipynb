{
 "cells": [
  {
   "cell_type": "markdown",
   "id": "consistent-pocket",
   "metadata": {},
   "source": [
    "## Preamble"
   ]
  },
  {
   "cell_type": "code",
   "execution_count": 1,
   "id": "abandoned-emerald",
   "metadata": {},
   "outputs": [],
   "source": [
    "%load_ext autoreload\n",
    "%autoreload 0"
   ]
  },
  {
   "cell_type": "code",
   "execution_count": 2,
   "id": "political-boost",
   "metadata": {},
   "outputs": [],
   "source": [
    "%autoreload"
   ]
  },
  {
   "cell_type": "code",
   "execution_count": 3,
   "id": "purple-netscape",
   "metadata": {},
   "outputs": [],
   "source": [
    "import sys\n",
    "sys.path.append('/pollard/home/bsmith/Projects/haplo-benchmark/include/StrainFacts')"
   ]
  },
  {
   "cell_type": "code",
   "execution_count": 4,
   "id": "cleared-shuttle",
   "metadata": {},
   "outputs": [],
   "source": [
    "import xarray as xr\n",
    "import sqlite3\n",
    "import pandas as pd\n",
    "import matplotlib as mpl\n",
    "import matplotlib.pyplot as plt\n",
    "import seaborn as sns\n",
    "import numpy as np\n",
    "import warnings\n",
    "import torch\n",
    "import pyro\n",
    "import scipy as sp\n",
    "from tqdm import tqdm\n",
    "\n",
    "import lib.plot\n",
    "from scipy.spatial.distance import pdist, squareform\n",
    "from sklearn.metrics.pairwise import pairwise_distances\n",
    "from sklearn.cluster import AgglomerativeClustering\n",
    "from lib.pandas_util import idxwhere\n",
    "\n",
    "import sfacts as sf\n",
    "\n",
    "from tqdm import tqdm\n",
    "\n",
    "# from lib.project_style import color_palette, major_allele_frequency_bins\n",
    "# from lib.project_data import metagenotype_db_to_xarray\n",
    "# from lib.plot import ordination_plot, mds_ordination, nmds_ordination\n",
    "# import lib.plot\n",
    "# from lib.plot import construct_ordered_pallete\n",
    "# from lib.pandas_util import idxwhere"
   ]
  },
  {
   "cell_type": "markdown",
   "id": "lovely-machinery",
   "metadata": {},
   "source": [
    "## Load Data"
   ]
  },
  {
   "cell_type": "code",
   "execution_count": 5,
   "id": "quantitative-permit",
   "metadata": {},
   "outputs": [
    {
     "name": "stdout",
     "output_type": "stream",
     "text": [
      "Frozen(SortedKeysDict({'strain': 200, 'sample': 3579, 'position': 46140, 'allele': 2}))\n",
      "<xarray.DataArray 'communities' ()>\n",
      "array(1.4305115e-06, dtype=float32)\n",
      "Coordinates:\n",
      "    species_id  int64 102556\n",
      "Frozen(SortedKeysDict({'strain': 200, 'sample': 3579, 'position': 46140, 'allele': 2}))\n"
     ]
    }
   ],
   "source": [
    "species_id = 102556\n",
    "\n",
    "fit = sf.data.World.load(f'data/zshi.sp-{species_id}.metagenotype.filt-poly05-cvrg25.fit-sfacts44-s200-g5000-seed0.refit-sfacts41-g10000-seed0.world.nc')\n",
    "fit.data['position'] = fit.data.position.astype(int)\n",
    "print(fit.sizes)\n",
    "\n",
    "\n",
    "cull_threshold = 0.05\n",
    "\n",
    "fit_communities = fit.communities.mlift('sel', strain=fit.communities.max(\"sample\") > cull_threshold)\n",
    "print((1 - fit_communities.sum(\"strain\")).max())\n",
    "fit_communities = sf.Communities(fit_communities.data / fit_communities.sum(\"strain\"))\n",
    "fit_genotypes = fit.genotypes.mlift('sel', strain=fit_communities.strain)\n",
    "\n",
    "fit = sf.World.from_combined(fit_communities, fit_genotypes, fit.metagenotypes)\n",
    "print(fit.sizes)"
   ]
  },
  {
   "cell_type": "code",
   "execution_count": 6,
   "id": "alternative-immune",
   "metadata": {},
   "outputs": [
    {
     "data": {
      "text/plain": [
       "Frozen({'strain': 166, 'position': 46140})"
      ]
     },
     "execution_count": 6,
     "metadata": {},
     "output_type": "execute_result"
    }
   ],
   "source": [
    "ref = sf.data.Metagenotypes.load(f'data/gtprodb.sp-{species_id}.genotype.nc')\n",
    "ref_genotypes = ref.mlift('sel', position=fit_genotypes.position).to_estimated_genotypes(pseudo=0)\n",
    "ref_genotypes.sizes"
   ]
  },
  {
   "cell_type": "code",
   "execution_count": 7,
   "id": "floral-interim",
   "metadata": {},
   "outputs": [
    {
     "data": {
      "text/html": [
       "<div>\n",
       "<style scoped>\n",
       "    .dataframe tbody tr th:only-of-type {\n",
       "        vertical-align: middle;\n",
       "    }\n",
       "\n",
       "    .dataframe tbody tr th {\n",
       "        vertical-align: top;\n",
       "    }\n",
       "\n",
       "    .dataframe thead th {\n",
       "        text-align: right;\n",
       "    }\n",
       "</style>\n",
       "<table border=\"1\" class=\"dataframe\">\n",
       "  <thead>\n",
       "    <tr style=\"text-align: right;\">\n",
       "      <th></th>\n",
       "      <th>species_id</th>\n",
       "      <th>contig</th>\n",
       "      <th>contig_position</th>\n",
       "      <th>ref</th>\n",
       "      <th>alt</th>\n",
       "    </tr>\n",
       "    <tr>\n",
       "      <th>position</th>\n",
       "      <th></th>\n",
       "      <th></th>\n",
       "      <th></th>\n",
       "      <th></th>\n",
       "      <th></th>\n",
       "    </tr>\n",
       "  </thead>\n",
       "  <tbody>\n",
       "    <tr>\n",
       "      <th>312</th>\n",
       "      <td>102556</td>\n",
       "      <td>SRS476306|50|k119_2227</td>\n",
       "      <td>312</td>\n",
       "      <td>T</td>\n",
       "      <td>C</td>\n",
       "    </tr>\n",
       "    <tr>\n",
       "      <th>322</th>\n",
       "      <td>102556</td>\n",
       "      <td>SRS476306|50|k119_2227</td>\n",
       "      <td>322</td>\n",
       "      <td>T</td>\n",
       "      <td>C</td>\n",
       "    </tr>\n",
       "    <tr>\n",
       "      <th>323</th>\n",
       "      <td>102556</td>\n",
       "      <td>SRS476306|50|k119_2227</td>\n",
       "      <td>323</td>\n",
       "      <td>C</td>\n",
       "      <td>T</td>\n",
       "    </tr>\n",
       "    <tr>\n",
       "      <th>341</th>\n",
       "      <td>102556</td>\n",
       "      <td>SRS476306|50|k119_2227</td>\n",
       "      <td>341</td>\n",
       "      <td>A</td>\n",
       "      <td>G</td>\n",
       "    </tr>\n",
       "    <tr>\n",
       "      <th>355</th>\n",
       "      <td>102556</td>\n",
       "      <td>SRS476306|50|k119_2227</td>\n",
       "      <td>355</td>\n",
       "      <td>A</td>\n",
       "      <td>G</td>\n",
       "    </tr>\n",
       "    <tr>\n",
       "      <th>...</th>\n",
       "      <td>...</td>\n",
       "      <td>...</td>\n",
       "      <td>...</td>\n",
       "      <td>...</td>\n",
       "      <td>...</td>\n",
       "    </tr>\n",
       "    <tr>\n",
       "      <th>2811252</th>\n",
       "      <td>102556</td>\n",
       "      <td>SRS476306|50|k119_217369</td>\n",
       "      <td>194534</td>\n",
       "      <td>G</td>\n",
       "      <td>A</td>\n",
       "    </tr>\n",
       "    <tr>\n",
       "      <th>2811264</th>\n",
       "      <td>102556</td>\n",
       "      <td>SRS476306|50|k119_217369</td>\n",
       "      <td>194546</td>\n",
       "      <td>G</td>\n",
       "      <td>A</td>\n",
       "    </tr>\n",
       "    <tr>\n",
       "      <th>2811268</th>\n",
       "      <td>102556</td>\n",
       "      <td>SRS476306|50|k119_217369</td>\n",
       "      <td>194550</td>\n",
       "      <td>T</td>\n",
       "      <td>A</td>\n",
       "    </tr>\n",
       "    <tr>\n",
       "      <th>2811270</th>\n",
       "      <td>102556</td>\n",
       "      <td>SRS476306|50|k119_217369</td>\n",
       "      <td>194552</td>\n",
       "      <td>G</td>\n",
       "      <td>A</td>\n",
       "    </tr>\n",
       "    <tr>\n",
       "      <th>2811321</th>\n",
       "      <td>102556</td>\n",
       "      <td>SRS476306|50|k119_217369</td>\n",
       "      <td>194603</td>\n",
       "      <td>T</td>\n",
       "      <td>C</td>\n",
       "    </tr>\n",
       "  </tbody>\n",
       "</table>\n",
       "<p>99774 rows × 5 columns</p>\n",
       "</div>"
      ],
      "text/plain": [
       "          species_id                    contig  contig_position ref alt\n",
       "position                                                               \n",
       "312           102556    SRS476306|50|k119_2227              312   T   C\n",
       "322           102556    SRS476306|50|k119_2227              322   T   C\n",
       "323           102556    SRS476306|50|k119_2227              323   C   T\n",
       "341           102556    SRS476306|50|k119_2227              341   A   G\n",
       "355           102556    SRS476306|50|k119_2227              355   A   G\n",
       "...              ...                       ...              ...  ..  ..\n",
       "2811252       102556  SRS476306|50|k119_217369           194534   G   A\n",
       "2811264       102556  SRS476306|50|k119_217369           194546   G   A\n",
       "2811268       102556  SRS476306|50|k119_217369           194550   T   A\n",
       "2811270       102556  SRS476306|50|k119_217369           194552   G   A\n",
       "2811321       102556  SRS476306|50|k119_217369           194603   T   C\n",
       "\n",
       "[99774 rows x 5 columns]"
      ]
     },
     "execution_count": 7,
     "metadata": {},
     "output_type": "execute_result"
    }
   ],
   "source": [
    "position_meta = pd.read_table(\n",
    "    'ref/gtpro/variants_main.covered.hq.snp_dict.tsv',\n",
    "    names=['species_id', 'position', 'contig', 'contig_position', 'ref', 'alt']\n",
    ").set_index('position')[lambda x: x.species_id.isin([species_id])]\n",
    "\n",
    "position_meta"
   ]
  },
  {
   "cell_type": "code",
   "execution_count": 8,
   "id": "corporate-sentence",
   "metadata": {},
   "outputs": [],
   "source": [
    "fit_dist = fit_genotypes.discretized().pdist()\n",
    "ref_dist = ref_genotypes.discretized().pdist()"
   ]
  },
  {
   "cell_type": "code",
   "execution_count": 9,
   "id": "living-string",
   "metadata": {},
   "outputs": [],
   "source": [
    "dedup_thresh = 0.05  # / distance_proportionality\n",
    "\n",
    "fit_dedup_clust = pd.Series(\n",
    "    AgglomerativeClustering(\n",
    "        distance_threshold=dedup_thresh, n_clusters=None, affinity='precomputed', linkage='average'\n",
    "    ).fit_predict(fit_dist),\n",
    "    index=fit_genotypes.strain.astype(int),\n",
    ")\n",
    "ref_dedup_clust = pd.Series(\n",
    "    AgglomerativeClustering(\n",
    "        distance_threshold=dedup_thresh, n_clusters=None, affinity='precomputed', linkage='average'\n",
    "    ).fit_predict(ref_dist),\n",
    "    index=ref_genotypes.strain,\n",
    ")"
   ]
  },
  {
   "cell_type": "code",
   "execution_count": 10,
   "id": "trying-garbage",
   "metadata": {},
   "outputs": [],
   "source": [
    "fit_genotypes_dedup = sf.Genotypes(fit_genotypes.to_series().unstack('strain').groupby(fit_dedup_clust, axis='columns').mean().rename(columns=lambda x: int(x)).rename_axis(columns='strain').T.stack().to_xarray())"
   ]
  },
  {
   "cell_type": "code",
   "execution_count": 11,
   "id": "waiting-dublin",
   "metadata": {},
   "outputs": [],
   "source": [
    "ref_genotypes_dedup = sf.Genotypes(ref_genotypes.to_series().unstack('strain').groupby(ref_dedup_clust, axis='columns').mean().rename(columns=lambda x: int(x)).rename_axis(columns='strain').T.stack().to_xarray())"
   ]
  },
  {
   "cell_type": "code",
   "execution_count": 12,
   "id": "authorized-domain",
   "metadata": {},
   "outputs": [
    {
     "data": {
      "text/plain": [
       "((200, 200), (166, 135))"
      ]
     },
     "execution_count": 12,
     "metadata": {},
     "output_type": "execute_result"
    }
   ],
   "source": [
    "(fit_genotypes.sizes['strain'], fit_genotypes_dedup.sizes['strain']), (ref_genotypes.sizes['strain'], ref_genotypes_dedup.sizes['strain'])"
   ]
  },
  {
   "cell_type": "code",
   "execution_count": 13,
   "id": "becoming-antarctica",
   "metadata": {},
   "outputs": [],
   "source": [
    "_g_ref = ref_genotypes_dedup.random_sample(position=20000)  # FIXME: May not be a stable estimate until many positions are included (20k)\n",
    "r2_ref = (1 - pdist(_g_ref.values.T, 'correlation'))**2\n",
    "\n",
    "_g_fit = fit_genotypes_dedup.sel(position=_g_ref.position)  # FIXME: May not be a stable estimate until many positions are included (20k)\n",
    "r2_fit = (1 - pdist(_g_fit.values.T, 'correlation'))**2"
   ]
  },
  {
   "cell_type": "code",
   "execution_count": 14,
   "id": "israeli-momentum",
   "metadata": {},
   "outputs": [
    {
     "data": {
      "text/plain": [
       "(0.017729152768780475, 0.015834904528731358)"
      ]
     },
     "execution_count": 14,
     "metadata": {},
     "output_type": "execute_result"
    }
   ],
   "source": [
    "np.mean(r2_ref), np.mean(r2_fit)"
   ]
  },
  {
   "cell_type": "code",
   "execution_count": 15,
   "id": "amber-webster",
   "metadata": {},
   "outputs": [
    {
     "data": {
      "text/plain": [
       "(0.006700063588566446, 0.005336492428160369)"
      ]
     },
     "execution_count": 15,
     "metadata": {},
     "output_type": "execute_result"
    }
   ],
   "source": [
    "np.median(r2_ref), np.median(r2_fit)"
   ]
  },
  {
   "cell_type": "code",
   "execution_count": 16,
   "id": "victorian-channels",
   "metadata": {},
   "outputs": [
    {
     "data": {
      "text/plain": [
       "(0.04403332695597358, 0.039540284560062235)"
      ]
     },
     "execution_count": 16,
     "metadata": {},
     "output_type": "execute_result"
    }
   ],
   "source": [
    "np.quantile(r2_ref, 0.9), np.quantile(r2_fit, 0.9)"
   ]
  },
  {
   "cell_type": "code",
   "execution_count": 17,
   "id": "approved-target",
   "metadata": {},
   "outputs": [
    {
     "data": {
      "text/plain": [
       "WilcoxonResult(statistic=15563673.0, pvalue=1.8634305442744264e-234)"
      ]
     },
     "execution_count": 17,
     "metadata": {},
     "output_type": "execute_result"
    }
   ],
   "source": [
    "from scipy.stats import mannwhitneyu, wilcoxon\n",
    "\n",
    "n = 10000\n",
    "wilcoxon(r2_ref[:n], r2_fit[:n])"
   ]
  },
  {
   "cell_type": "code",
   "execution_count": 18,
   "id": "broken-asset",
   "metadata": {},
   "outputs": [
    {
     "name": "stdout",
     "output_type": "stream",
     "text": [
      "SRS476306|50|k119_103296\n",
      "SRS476306|50|k119_10812\n",
      "SRS476306|50|k119_110645\n",
      "SRS476306|50|k119_111105\n",
      "SRS476306|50|k119_117633\n",
      "SRS476306|50|k119_130862\n",
      "SRS476306|50|k119_134654\n",
      "SRS476306|50|k119_140417\n",
      "SRS476306|50|k119_145255\n",
      "SRS476306|50|k119_150766\n",
      "SRS476306|50|k119_151199\n",
      "SRS476306|50|k119_156790\n",
      "SRS476306|50|k119_156851\n",
      "SRS476306|50|k119_161809\n",
      "SRS476306|50|k119_161893\n",
      "SRS476306|50|k119_165952\n",
      "SRS476306|50|k119_194241\n",
      "SRS476306|50|k119_198924\n",
      "SRS476306|50|k119_209530\n",
      "SRS476306|50|k119_211786\n",
      "SRS476306|50|k119_217205\n",
      "SRS476306|50|k119_217369\n",
      "SRS476306|50|k119_2227\n",
      "SRS476306|50|k119_29298\n",
      "SRS476306|50|k119_33940\n",
      "SRS476306|50|k119_37264\n",
      "SRS476306|50|k119_48890\n",
      "SRS476306|50|k119_56514\n",
      "SRS476306|50|k119_64474\n",
      "SRS476306|50|k119_66865\n",
      "SRS476306|50|k119_76849\n",
      "SRS476306|50|k119_82703\n",
      "SRS476306|50|k119_9183\n"
     ]
    }
   ],
   "source": [
    "ld = {}\n",
    "for contig, pos in position_meta.loc[ref_genotypes_dedup.position].groupby('contig'):\n",
    "    print(contig)\n",
    "    g = ref_genotypes_dedup.sel(position=pos.index)\n",
    "    r2 = (1 - pdist(g.values.T, 'correlation'))**2\n",
    "    x = pdist(np.expand_dims(pos.contig_position.values, axis=1), 'cityblock')\n",
    "    ld[contig] = (x, r2)\n",
    "ref_ld = pd.DataFrame(np.concatenate([np.stack([x, r2], axis=1) for x, r2 in ld.values()]), columns=['x', 'r2'])"
   ]
  },
  {
   "cell_type": "code",
   "execution_count": 19,
   "id": "sonic-singles",
   "metadata": {},
   "outputs": [
    {
     "name": "stdout",
     "output_type": "stream",
     "text": [
      "SRS476306|50|k119_103296\n",
      "SRS476306|50|k119_10812\n",
      "SRS476306|50|k119_110645\n",
      "SRS476306|50|k119_111105\n",
      "SRS476306|50|k119_117633\n",
      "SRS476306|50|k119_130862\n",
      "SRS476306|50|k119_134654\n",
      "SRS476306|50|k119_140417\n",
      "SRS476306|50|k119_145255\n",
      "SRS476306|50|k119_150766\n",
      "SRS476306|50|k119_151199\n",
      "SRS476306|50|k119_156790\n",
      "SRS476306|50|k119_156851\n",
      "SRS476306|50|k119_161809\n",
      "SRS476306|50|k119_161893\n",
      "SRS476306|50|k119_165952\n",
      "SRS476306|50|k119_194241\n",
      "SRS476306|50|k119_198924\n",
      "SRS476306|50|k119_209530\n",
      "SRS476306|50|k119_211786\n",
      "SRS476306|50|k119_217205\n",
      "SRS476306|50|k119_217369\n",
      "SRS476306|50|k119_2227\n",
      "SRS476306|50|k119_29298\n",
      "SRS476306|50|k119_33940\n",
      "SRS476306|50|k119_37264\n",
      "SRS476306|50|k119_48890\n",
      "SRS476306|50|k119_56514\n",
      "SRS476306|50|k119_64474\n",
      "SRS476306|50|k119_66865\n",
      "SRS476306|50|k119_76849\n",
      "SRS476306|50|k119_82703\n",
      "SRS476306|50|k119_9183\n"
     ]
    }
   ],
   "source": [
    "ld = {}\n",
    "for contig, pos in position_meta.loc[fit_genotypes_dedup.position].groupby('contig'):\n",
    "    print(contig)\n",
    "    g = fit_genotypes_dedup.sel(position=pos.index)\n",
    "    r2 = (1 - pdist(g.values.T, 'correlation'))**2\n",
    "    x = pdist(np.expand_dims(pos.contig_position.values, axis=1), 'cityblock')\n",
    "    ld[contig] = (x, r2)\n",
    "fit_ld = pd.DataFrame(np.concatenate([np.stack([x, r2], axis=1) for x, r2 in ld.values()]), columns=['x', 'r2'])"
   ]
  },
  {
   "cell_type": "code",
   "execution_count": 20,
   "id": "circular-tutorial",
   "metadata": {},
   "outputs": [],
   "source": [
    "max_dist = 12000\n",
    "\n",
    "ld_profile = (\n",
    "    pd.DataFrame(dict(\n",
    "        x=fit_ld.x,\n",
    "        fit=fit_ld.r2,\n",
    "        ref=ref_ld.r2))\n",
    "    [lambda x: x.x < max_dist]\n",
    "    .groupby('x')\n",
    "    .quantile(0.9)\n",
    ")"
   ]
  },
  {
   "cell_type": "code",
   "execution_count": 21,
   "id": "exterior-subscriber",
   "metadata": {},
   "outputs": [],
   "source": [
    "nx, ny = 121, 51\n",
    "xlim = np.array([0.5, 1e5])\n",
    "ylim = np.array([0, 1])\n",
    "xbins = np.unique(np.floor(np.logspace(*np.log10(xlim), num=51)).astype(int))\n",
    "ybins = np.unique(np.linspace(*ylim, num=ny))\n",
    "\n",
    "d = fit_ld#[fit_ld.x < 1e5]\n",
    "\n",
    "hist, xedges, yedges = np.histogram2d(\n",
    "    d['x'],\n",
    "#     d['x'],\n",
    "    d['r2'],\n",
    "    bins=(xbins, ybins),\n",
    "#     range=np.array([[np.min(xbins), np.max(xbins)], [np.min(ybins), np.max(ybins)]]),\n",
    ")\n",
    "extent = [xedges[0], xedges[-1], yedges[0], yedges[-1]]\n",
    "hist = pd.DataFrame(hist, columns=yedges[1:], index=xedges[:-1]).T\n",
    "norm_hist = hist / hist.sum()"
   ]
  },
  {
   "cell_type": "code",
   "execution_count": 22,
   "id": "cardiovascular-cricket",
   "metadata": {},
   "outputs": [],
   "source": [
    "# TODO: Calculate the 90th percentile within the distance window from the histogram\n",
    "\n",
    "out = []\n",
    "for i, left in enumerate(xbins[:-1]):\n",
    "    right = xbins[i + 1]\n",
    "    out.append((\n",
    "        left,\n",
    "        right,\n",
    "        fit_ld[(fit_ld.x > left) & (fit_ld.x <= right)].r2.quantile(0.9),\n",
    "        ref_ld[(ref_ld.x > left) & (ref_ld.x <= right)].r2.quantile(0.9)\n",
    "    ))\n",
    "    \n",
    "hist_bin_quantile90 = pd.DataFrame(out, columns=['left', 'right', 'fit', 'ref'])"
   ]
  },
  {
   "cell_type": "code",
   "execution_count": 23,
   "id": "secondary-filing",
   "metadata": {},
   "outputs": [
    {
     "name": "stderr",
     "output_type": "stream",
     "text": [
      "/opt/conda/lib/python3.7/site-packages/ipykernel_launcher.py:3: MatplotlibDeprecationWarning: shading='flat' when X and Y have the same dimensions as C is deprecated since 3.3.  Either specify the corners of the quadrilaterals with X and Y, or pass shading='auto', 'nearest' or 'gouraud', or set rcParams['pcolor.shading'].  This will become an error two minor releases later.\n",
      "  This is separate from the ipykernel package so we can avoid doing imports until\n"
     ]
    },
    {
     "data": {
      "image/png": "[encoded data removed]",
      "text/plain": [
       "<Figure size 432x288 with 2 Axes>"
      ]
     },
     "metadata": {
      "needs_background": "light"
     },
     "output_type": "display_data"
    }
   ],
   "source": [
    "fig = plt.figure()\n",
    "\n",
    "plt.pcolormesh(norm_hist.columns, norm_hist.index, norm_hist, norm=mpl.colors.LogNorm(vmin=1e-3, vmax=1.0), cmap='binary')\n",
    "plt.xscale('log')\n",
    "plt.colorbar()\n",
    "\n",
    "\n",
    "ax = plt.gca()\n",
    "\n",
    "ax.scatter('x', 'ref', data=ld_profile.reset_index().assign(s=lambda x: 20 / x['x']), color='blue', label=f'reference genotypes', s='s', alpha=0.5)\n",
    "ax.scatter('x', 'fit', data=ld_profile.reset_index().assign(s=lambda x: 20 / x['x']), color='red', label=f'inferred genotypes', s='s', alpha=0.5)\n",
    "\n",
    "ax.plot('right', 'ref', data=hist_bin_quantile90, lw=1, color='blue', alpha=1)\n",
    "ax.plot('right', 'fit', data=hist_bin_quantile90, lw=1, color='red', alpha=1)\n",
    "\n",
    "\n",
    "ax.axhline(np.quantile(r2_ref, 0.9), lw=1, color='blue', linestyle='--')\n",
    "ax.axhline(np.quantile(r2_fit, 0.9), lw=1, color='red', linestyle='--')\n",
    "\n",
    "# ax.legend(title=f'Mean LD at pairwise distance')  #bbox_to_anchor=(0.85, 1.15), ncol=2\n",
    "\n",
    "ax.set_xlabel('Genomic Distance (bp)')\n",
    "ax.set_ylabel('LD ($r^2$)')\n",
    "ax.set_ylim(0, 1.03)\n",
    "ax.set_xlim(0.9, 1e4)\n",
    "\n",
    "\n",
    "fig.savefig(f'fig/ld_decay_{species_id}_90th.pdf', dpi=400)"
   ]
  },
  {
   "cell_type": "code",
   "execution_count": 24,
   "id": "lesser-dylan",
   "metadata": {},
   "outputs": [
    {
     "name": "stderr",
     "output_type": "stream",
     "text": [
      "/opt/conda/lib/python3.7/site-packages/ipykernel_launcher.py:3: MatplotlibDeprecationWarning: shading='flat' when X and Y have the same dimensions as C is deprecated since 3.3.  Either specify the corners of the quadrilaterals with X and Y, or pass shading='auto', 'nearest' or 'gouraud', or set rcParams['pcolor.shading'].  This will become an error two minor releases later.\n",
      "  This is separate from the ipykernel package so we can avoid doing imports until\n"
     ]
    },
    {
     "data": {
      "image/png": "[encoded data removed]",
      "text/plain": [
       "<Figure size 432x288 with 2 Axes>"
      ]
     },
     "metadata": {
      "needs_background": "light"
     },
     "output_type": "display_data"
    }
   ],
   "source": [
    "fig = plt.figure()\n",
    "\n",
    "plt.pcolormesh(norm_hist.columns, norm_hist.index, norm_hist, norm=mpl.colors.LogNorm(vmin=1e-3, vmax=1.0), cmap='binary')\n",
    "plt.xscale('log')\n",
    "plt.colorbar()\n",
    "\n",
    "\n",
    "ax = plt.gca()\n",
    "\n",
    "ax.scatter('x', 'ref', data=ld_profile.reset_index().assign(s=lambda x: 20 / x['x']), color='blue', label=f'reference genotypes', s='s', alpha=0.5)\n",
    "ax.scatter('x', 'fit', data=ld_profile.reset_index().assign(s=lambda x: 20 / x['x']), color='red', label=f'inferred genotypes', s='s', alpha=0.5)\n",
    "\n",
    "# ax.plot('right', 'ref', data=hist_bin_quantile90, lw=1, color='blue', alpha=1)\n",
    "# ax.plot('right', 'fit', data=hist_bin_quantile90, lw=1, color='red', alpha=1)\n",
    "\n",
    "\n",
    "# ax.axhline(np.quantile(r2_ref, 0.9), lw=1, color='blue', linestyle='--')\n",
    "# ax.axhline(np.quantile(r2_fit, 0.9), lw=1, color='red', linestyle='--')\n",
    "\n",
    "# ax.legend(title=f'Mean LD at pairwise distance')  #bbox_to_anchor=(0.85, 1.15), ncol=2\n",
    "\n",
    "ax.set_xlabel('Genomic Distance (bp)')\n",
    "ax.set_ylabel('LD ($r^2$)')\n",
    "ax.set_ylim(0, 1.03)\n",
    "ax.set_xlim(0.9, 1e4)\n",
    "\n",
    "\n",
    "fig.savefig(f'fig/ld_decay_{species_id}_90th_novec.png', dpi=400)"
   ]
  },
  {
   "cell_type": "code",
   "execution_count": 25,
   "id": "arbitrary-steps",
   "metadata": {},
   "outputs": [
    {
     "name": "stderr",
     "output_type": "stream",
     "text": [
      "/opt/conda/lib/python3.7/site-packages/ipykernel_launcher.py:3: MatplotlibDeprecationWarning: shading='flat' when X and Y have the same dimensions as C is deprecated since 3.3.  Either specify the corners of the quadrilaterals with X and Y, or pass shading='auto', 'nearest' or 'gouraud', or set rcParams['pcolor.shading'].  This will become an error two minor releases later.\n",
      "  This is separate from the ipykernel package so we can avoid doing imports until\n"
     ]
    },
    {
     "data": {
      "image/png": "[encoded data removed]",
      "text/plain": [
       "<Figure size 432x288 with 2 Axes>"
      ]
     },
     "metadata": {
      "needs_background": "light"
     },
     "output_type": "display_data"
    }
   ],
   "source": [
    "fig = plt.figure()\n",
    "\n",
    "plt.pcolormesh(norm_hist.columns, norm_hist.index, norm_hist, norm=mpl.colors.LogNorm(vmin=1e-3, vmax=1.0), cmap='binary')\n",
    "plt.xscale('log')\n",
    "plt.colorbar()\n",
    "\n",
    "\n",
    "ax = plt.gca()\n",
    "\n",
    "# ax.scatter('x', 'ref', data=ld_profile.reset_index().assign(s=lambda x: 20 / x['x']), color='blue', label=f'reference genotypes', s='s', alpha=0.5)\n",
    "# ax.scatter('x', 'fit', data=ld_profile.reset_index().assign(s=lambda x: 20 / x['x']), color='red', label=f'inferred genotypes', s='s', alpha=0.5)\n",
    "\n",
    "ax.plot('right', 'ref', data=hist_bin_quantile90, lw=1, color='blue', alpha=1)\n",
    "ax.plot('right', 'fit', data=hist_bin_quantile90, lw=1, color='red', alpha=1)\n",
    "\n",
    "\n",
    "ax.axhline(np.quantile(r2_ref, 0.9), lw=1, color='blue', linestyle='--')\n",
    "ax.axhline(np.quantile(r2_fit, 0.9), lw=1, color='red', linestyle='--')\n",
    "\n",
    "# ax.legend(title=f'Mean LD at pairwise distance')  #bbox_to_anchor=(0.85, 1.15), ncol=2\n",
    "\n",
    "ax.set_xlabel('Genomic Distance (bp)')\n",
    "ax.set_ylabel('LD ($r^2$)')\n",
    "ax.set_ylim(0, 1.03)\n",
    "ax.set_xlim(0.9, 1e4)\n",
    "\n",
    "\n",
    "fig.savefig(f'fig/ld_decay_{species_id}_90th_noscatter.pdf', dpi=400)"
   ]
  },
  {
   "cell_type": "code",
   "execution_count": 26,
   "id": "coordinated-corporation",
   "metadata": {},
   "outputs": [
    {
     "name": "stderr",
     "output_type": "stream",
     "text": [
      "/opt/conda/lib/python3.7/site-packages/ipykernel_launcher.py:3: MatplotlibDeprecationWarning: shading='flat' when X and Y have the same dimensions as C is deprecated since 3.3.  Either specify the corners of the quadrilaterals with X and Y, or pass shading='auto', 'nearest' or 'gouraud', or set rcParams['pcolor.shading'].  This will become an error two minor releases later.\n",
      "  This is separate from the ipykernel package so we can avoid doing imports until\n"
     ]
    },
    {
     "data": {
      "image/png": "[encoded data removed]",
      "text/plain": [
       "<Figure size 432x288 with 2 Axes>"
      ]
     },
     "metadata": {
      "needs_background": "light"
     },
     "output_type": "display_data"
    }
   ],
   "source": [
    "fig = plt.figure()\n",
    "\n",
    "plt.pcolormesh(norm_hist.columns, norm_hist.index, norm_hist, norm=mpl.colors.LogNorm(vmin=1e-3, vmax=1.0), cmap='binary')\n",
    "plt.xscale('log')\n",
    "plt.colorbar()\n",
    "\n",
    "\n",
    "ax = plt.gca()\n",
    "\n",
    "# ax.scatter('x', 'ref', data=ld_profile.reset_index().assign(s=lambda x: 20 / x['x']), color='blue', label=f'reference genotypes', s='s', alpha=0.5)\n",
    "# ax.scatter('x', 'fit', data=ld_profile.reset_index().assign(s=lambda x: 20 / x['x']), color='red', label=f'inferred genotypes', s='s', alpha=0.5)\n",
    "\n",
    "# ax.plot('right', 'ref', data=hist_bin_quantile90, lw=1, color='blue', alpha=1)\n",
    "# ax.plot('right', 'fit', data=hist_bin_quantile90, lw=1, color='red', alpha=1)\n",
    "\n",
    "\n",
    "# ax.axhline(np.quantile(r2_ref, 0.9), lw=1, color='blue', linestyle='--')\n",
    "# ax.axhline(np.quantile(r2_fit, 0.9), lw=1, color='red', linestyle='--')\n",
    "\n",
    "# ax.legend(title=f'Mean LD at pairwise distance')  #bbox_to_anchor=(0.85, 1.15), ncol=2\n",
    "\n",
    "ax.set_xlabel('Genomic Distance (bp)')\n",
    "ax.set_ylabel('LD ($r^2$)')\n",
    "ax.set_ylim(0, 1.03)\n",
    "ax.set_xlim(0.9, 1e4)\n",
    "\n",
    "\n",
    "fig.savefig(f'fig/ld_decay_{species_id}_no_trends.png', dpi=400)"
   ]
  },
  {
   "cell_type": "code",
   "execution_count": 27,
   "id": "initial-genesis",
   "metadata": {},
   "outputs": [
    {
     "name": "stderr",
     "output_type": "stream",
     "text": [
      "/opt/conda/lib/python3.7/site-packages/ipykernel_launcher.py:3: MatplotlibDeprecationWarning: shading='flat' when X and Y have the same dimensions as C is deprecated since 3.3.  Either specify the corners of the quadrilaterals with X and Y, or pass shading='auto', 'nearest' or 'gouraud', or set rcParams['pcolor.shading'].  This will become an error two minor releases later.\n",
      "  This is separate from the ipykernel package so we can avoid doing imports until\n"
     ]
    },
    {
     "data": {
      "image/png": "[encoded data removed]",
      "text/plain": [
       "<Figure size 432x288 with 2 Axes>"
      ]
     },
     "metadata": {
      "needs_background": "light"
     },
     "output_type": "display_data"
    }
   ],
   "source": [
    "fig = plt.figure()\n",
    "\n",
    "plt.pcolormesh(norm_hist.columns, norm_hist.index, norm_hist, norm=mpl.colors.LogNorm(vmin=1e-3, vmax=1.0), cmap='binary')\n",
    "plt.xscale('log')\n",
    "plt.colorbar()\n",
    "\n",
    "\n",
    "ax = plt.gca()\n",
    "\n",
    "# ax.scatter('x', 'ref', data=ld_profile.reset_index().assign(s=lambda x: 20 / x['x']), color='blue', label=f'reference genotypes', s='s', alpha=0.5)\n",
    "ax.scatter('x', 'fit', data=ld_profile.reset_index().assign(s=lambda x: 20 / x['x']), color='red', label=f'inferred genotypes', s='s', alpha=0.5)\n",
    "\n",
    "# ax.plot('right', 'ref', data=hist_bin_quantile90, lw=1, color='blue', alpha=1)\n",
    "ax.plot('right', 'fit', data=hist_bin_quantile90, lw=1, color='red', alpha=1)\n",
    "\n",
    "\n",
    "# ax.axhline(np.quantile(r2_ref, 0.9), lw=1, color='blue', linestyle='--')\n",
    "ax.axhline(np.quantile(r2_fit, 0.9), lw=1, color='red', linestyle='--')\n",
    "\n",
    "# ax.legend(title=f'Mean LD at pairwise distance')  #bbox_to_anchor=(0.85, 1.15), ncol=2\n",
    "\n",
    "ax.set_xlabel('Genomic Distance (bp)')\n",
    "ax.set_ylabel('LD ($r^2$)')\n",
    "ax.set_ylim(0, 1.03)\n",
    "ax.set_xlim(0.9, 1e4)\n",
    "\n",
    "\n",
    "fig.savefig(f'fig/ld_decay_{species_id}_no_ref.png', dpi=400)"
   ]
  },
  {
   "cell_type": "code",
   "execution_count": 28,
   "id": "considerable-fields",
   "metadata": {},
   "outputs": [
    {
     "data": {
      "image/png": "[encoded data removed]",
      "text/plain": [
       "<Figure size 144x72 with 1 Axes>"
      ]
     },
     "metadata": {
      "needs_background": "light"
     },
     "output_type": "display_data"
    }
   ],
   "source": [
    "fig, ax = plt.subplots(figsize=(2, 1))\n",
    "\n",
    "ax.plot([], color='blue', label=f'reference', alpha=0.7)\n",
    "ax.plot([], color='red', label=f'inferred', alpha=0.7)\n",
    "ax.legend()  #bbox_to_anchor=(0.85, 1.15), ncol=2)\n",
    "\n",
    "ax.axis('off')\n",
    "fig.savefig(f'fig/ld_decay_{species_id}_legend.pdf', dpi=400)"
   ]
  },
  {
   "cell_type": "code",
   "execution_count": 29,
   "id": "sensitive-demand",
   "metadata": {},
   "outputs": [
    {
     "data": {
      "text/plain": [
       "fit    66.0\n",
       "ref    72.0\n",
       "dtype: float64"
      ]
     },
     "execution_count": 29,
     "metadata": {},
     "output_type": "execute_result"
    }
   ],
   "source": [
    "# LD_{90,1/2}\n",
    "(ld_profile > 0.5).idxmin()"
   ]
  },
  {
   "cell_type": "code",
   "execution_count": 30,
   "id": "colonial-terminology",
   "metadata": {},
   "outputs": [
    {
     "data": {
      "text/html": [
       "<div>\n",
       "<style scoped>\n",
       "    .dataframe tbody tr th:only-of-type {\n",
       "        vertical-align: middle;\n",
       "    }\n",
       "\n",
       "    .dataframe tbody tr th {\n",
       "        vertical-align: top;\n",
       "    }\n",
       "\n",
       "    .dataframe thead th {\n",
       "        text-align: right;\n",
       "    }\n",
       "</style>\n",
       "<table border=\"1\" class=\"dataframe\">\n",
       "  <thead>\n",
       "    <tr style=\"text-align: right;\">\n",
       "      <th></th>\n",
       "      <th>fit</th>\n",
       "      <th>ref</th>\n",
       "    </tr>\n",
       "    <tr>\n",
       "      <th>x</th>\n",
       "      <th></th>\n",
       "      <th></th>\n",
       "    </tr>\n",
       "  </thead>\n",
       "  <tbody>\n",
       "    <tr>\n",
       "      <th>1.0</th>\n",
       "      <td>0.999954</td>\n",
       "      <td>1.0</td>\n",
       "    </tr>\n",
       "    <tr>\n",
       "      <th>2.0</th>\n",
       "      <td>0.999877</td>\n",
       "      <td>1.0</td>\n",
       "    </tr>\n",
       "    <tr>\n",
       "      <th>3.0</th>\n",
       "      <td>0.999702</td>\n",
       "      <td>1.0</td>\n",
       "    </tr>\n",
       "    <tr>\n",
       "      <th>4.0</th>\n",
       "      <td>0.999366</td>\n",
       "      <td>1.0</td>\n",
       "    </tr>\n",
       "    <tr>\n",
       "      <th>5.0</th>\n",
       "      <td>0.998993</td>\n",
       "      <td>1.0</td>\n",
       "    </tr>\n",
       "  </tbody>\n",
       "</table>\n",
       "</div>"
      ],
      "text/plain": [
       "          fit  ref\n",
       "x                 \n",
       "1.0  0.999954  1.0\n",
       "2.0  0.999877  1.0\n",
       "3.0  0.999702  1.0\n",
       "4.0  0.999366  1.0\n",
       "5.0  0.998993  1.0"
      ]
     },
     "execution_count": 30,
     "metadata": {},
     "output_type": "execute_result"
    }
   ],
   "source": [
    "ld_profile.head(5)"
   ]
  },
  {
   "cell_type": "code",
   "execution_count": 31,
   "id": "confused-mambo",
   "metadata": {},
   "outputs": [
    {
     "data": {
      "text/plain": [
       "(0.04403332695597358, 0.039540284560062235)"
      ]
     },
     "execution_count": 31,
     "metadata": {},
     "output_type": "execute_result"
    }
   ],
   "source": [
    "np.quantile(r2_ref, 0.9), np.quantile(r2_fit, 0.9)"
   ]
  }
 ],
 "metadata": {
  "kernelspec": {
   "display_name": "Python 3",
   "language": "python",
   "name": "python3"
  },
  "language_info": {
   "codemirror_mode": {
    "name": "ipython",
    "version": 3
   },
   "file_extension": ".py",
   "mimetype": "text/x-python",
   "name": "python",
   "nbconvert_exporter": "python",
   "pygments_lexer": "ipython3",
   "version": "3.7.10"
  }
 },
 "nbformat": 4,
 "nbformat_minor": 5
}
