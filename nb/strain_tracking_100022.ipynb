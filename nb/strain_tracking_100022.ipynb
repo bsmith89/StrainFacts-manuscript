{
 "cells": [
  {
   "cell_type": "code",
   "execution_count": null,
   "metadata": {},
   "outputs": [],
   "source": [
    "%load_ext autoreload\n",
    "%autoreload 0"
   ]
  },
  {
   "cell_type": "code",
   "execution_count": null,
   "metadata": {},
   "outputs": [],
   "source": [
    "%autoreload"
   ]
  },
  {
   "cell_type": "code",
   "execution_count": null,
   "metadata": {},
   "outputs": [],
   "source": [
    "import xarray as xr\n",
    "import sqlite3\n",
    "import pandas as pd\n",
    "import matplotlib as mpl\n",
    "import matplotlib.pyplot as plt\n",
    "import seaborn as sns\n",
    "import numpy as np\n",
    "import warnings\n",
    "import torch\n",
    "import pyro\n",
    "import scipy as sp\n",
    "\n",
    "import lib.plot\n",
    "from scipy.spatial.distance import pdist, squareform\n",
    "from sklearn.metrics.pairwise import pairwise_distances\n",
    "from sklearn.cluster import AgglomerativeClustering\n",
    "from lib.pandas_util import idxwhere\n",
    "\n",
    "\n",
    "import sfacts as sf\n",
    "\n",
    "# from lib.project_style import color_palette, major_allele_frequency_bins\n",
    "# from lib.project_data import metagenotype_db_to_xarray\n",
    "# from lib.plot import ordination_plot, mds_ordination, nmds_ordination\n",
    "# import lib.plot\n",
    "# from lib.plot import construct_ordered_pallete\n",
    "# from lib.pandas_util import idxwhere"
   ]
  },
  {
   "cell_type": "markdown",
   "metadata": {},
   "source": [
    "## UCFMT Strain Tracking"
   ]
  },
  {
   "cell_type": "raw",
   "metadata": {},
   "source": [
    "mgen_ucfmt_100022 = sf.data.Metagenotypes.load('data/ucfmt.sp-100022.metagenotype.nc')"
   ]
  },
  {
   "cell_type": "raw",
   "metadata": {},
   "source": [
    "sf.plot.plot_metagenotype(\n",
    "    mgen_ucfmt_100022.to_world(),\n",
    "    col_linkage_func=lambda w: w.metagenotypes.linkage(\"sample\"),\n",
    ")"
   ]
  },
  {
   "cell_type": "code",
   "execution_count": null,
   "metadata": {},
   "outputs": [],
   "source": [
    "# fit_ucfmt_100022 = sf.data.World.load('data/ucfmt.sp-100022.metagenotype.filt-poly05-cvrg15-g2000.fit-sfacts8-s100-seed0.world.nc')\n",
    "fit = sf.data.World.load('data/ucfmt.sp-100022.metagenotype.filt-poly05-cvrg05-g2000.fit-sfacts12-s100-g2000-seed0.world.nc')\n"
   ]
  },
  {
   "cell_type": "code",
   "execution_count": null,
   "metadata": {},
   "outputs": [],
   "source": [
    "sf.plot.plot_community(\n",
    "    fit,\n",
    "    col_linkage_func=lambda w: w.metagenotypes.linkage(\"sample\"),\n",
    ")"
   ]
  },
  {
   "cell_type": "code",
   "execution_count": null,
   "metadata": {},
   "outputs": [],
   "source": [
    "sf.plot.plot_genotype(\n",
    "    fit,\n",
    "    col_linkage_func=lambda w: w.metagenotypes.linkage(\"position\"),\n",
    "    transpose=True,\n",
    ")"
   ]
  },
  {
   "cell_type": "code",
   "execution_count": null,
   "metadata": {},
   "outputs": [],
   "source": [
    "sample = pd.read_table('meta/sample.tsv', index_col='sample_id')\n",
    "library = pd.read_table('meta/mgen.tsv', index_col='mgen_id')\n",
    "meta = library.join(sample, on='sample_id', rsuffix='_sample', lsuffix='_mgen').loc[fit.sample]\n",
    "sample_type_specific_order = [\n",
    "    'baseline',\n",
    "    'pre_maintenance_1',\n",
    "    'pre_maintenance_2',\n",
    "    'pre_maintenance_3',\n",
    "    'pre_maintenance_4',\n",
    "    'pre_maintenance_5',\n",
    "    'pre_maintenance_6',\n",
    "    'followup_1',\n",
    "    'followup_2'\n",
    "]\n",
    "\n",
    "sample = sample.loc[meta.sample_id.unique()]"
   ]
  },
  {
   "cell_type": "code",
   "execution_count": null,
   "metadata": {},
   "outputs": [],
   "source": [
    "duplicate_samples = idxwhere(meta.sample_id.duplicated(keep=False))\n",
    "\n",
    "duplicate_samples\n",
    "# I need to drop one of the two, so I'm going to drop the 'b' variant"
   ]
  },
  {
   "cell_type": "code",
   "execution_count": null,
   "metadata": {},
   "outputs": [],
   "source": [
    "sf.data.Metagenotypes.to"
   ]
  },
  {
   "cell_type": "code",
   "execution_count": null,
   "metadata": {},
   "outputs": [],
   "source": [
    "d = fit.sel(sample=idxwhere(meta.sample_id.duplicated(keep=False)))\n",
    "\n",
    "sf.plot.plot_metagenotype(d, scaley=2e-3)\n",
    "sf.plot.plot_community(d)"
   ]
  },
  {
   "cell_type": "code",
   "execution_count": null,
   "metadata": {},
   "outputs": [],
   "source": [
    "fit.data.mu.sel(sample=duplicate_samples)"
   ]
  },
  {
   "cell_type": "code",
   "execution_count": null,
   "metadata": {},
   "outputs": [],
   "source": [
    "sample[['subject_id', 'sample_type']]"
   ]
  },
  {
   "cell_type": "code",
   "execution_count": null,
   "metadata": {},
   "outputs": [],
   "source": [
    "rabund = fit.communities.to_series().unstack().groupby(meta.sample_id).mean()"
   ]
  },
  {
   "cell_type": "code",
   "execution_count": null,
   "metadata": {},
   "outputs": [],
   "source": [
    "d1.T['followup_1']"
   ]
  },
  {
   "cell_type": "code",
   "execution_count": null,
   "metadata": {},
   "outputs": [],
   "source": [
    "sample.subject_id.unique()"
   ]
  },
  {
   "cell_type": "code",
   "execution_count": null,
   "metadata": {},
   "outputs": [],
   "source": [
    "d0 = rabund.join(sample[['subject_id', 'sample_type_specific']]).groupby(['subject_id', 'sample_type_specific']).mean()\n",
    "\n",
    "\n",
    "strain_color_palette = lib.plot.construct_ordered_pallete(d0.columns, cm='tab20_r')\n",
    "subject_id_list = [\n",
    "    'S0001', 'S0056', 'S0053',\n",
    "#     'S0004',\n",
    "#     'S0013', 'S0008',\n",
    "#     'S0024',\n",
    "#     'S0021',\n",
    "#     'S0053', 'S0047',\n",
    "#     'S0056',\n",
    "]\n",
    "\n",
    "ncol = 3\n",
    "nrow = int(np.ceil(len(subject_id_list) / ncol))\n",
    "\n",
    "fig, axs = plt.subplots(nrow, ncol, figsize=(6 * ncol, 4 * nrow))\n",
    "\n",
    "\n",
    "for subject_id, ax in zip(subject_id_list, axs.flatten()):\n",
    "    d1 = d0.xs(subject_id).reindex(sample_type_specific_order)\n",
    "    for i in d1.columns:\n",
    "        ax.plot(d1[i].values, c=strain_color_palette[i], lw=2)\n",
    "    ax.set_yscale('symlog', linthresh=1e-2, linscale=0.1)\n",
    "    ax.set_xticks(range(len(sample_type_specific_order)))\n",
    "    ax.set_ylim(1e-2 - 1e-3, 1e0 + 1e-1)\n",
    "    ax.set_title(subject_id)\n",
    "    yticks = 10. ** np.arange(-3, 1)\n",
    "    ax.set_yticks(yticks)\n",
    "    ax.set_yticklabels([f'{y:.0%}' for y in yticks])"
   ]
  },
  {
   "cell_type": "code",
   "execution_count": null,
   "metadata": {},
   "outputs": [],
   "source": [
    "rabund.groupby(sample.subject_id).mean()"
   ]
  },
  {
   "cell_type": "code",
   "execution_count": null,
   "metadata": {},
   "outputs": [],
   "source": [
    "d0 = rabund.join(sample[['subject_id', 'sample_type_specific']]).groupby(['subject_id', 'sample_type_specific']).mean()\n",
    "\n",
    "\n",
    "strain_color_palette = lib.plot.construct_ordered_pallete(d0.columns, cm='tab20_r')\n",
    "subject_id_list = [\n",
    "    'S0001', 'S0056', 'S0053',\n",
    "    'S0004',\n",
    "    'S0013', 'S0008',\n",
    "    'S0024',\n",
    "    'S0021',\n",
    "    'S0053', 'S0047',\n",
    "    'S0056',\n",
    "]\n",
    "\n",
    "ncol = 3\n",
    "nrow = int(np.ceil(len(subject_id_list) / ncol))\n",
    "\n",
    "fig, axs = plt.subplots(nrow, ncol, figsize=(6 * ncol, 4 * nrow))\n",
    "\n",
    "\n",
    "for subject_id, ax in zip(subject_id_list, axs.flatten()):\n",
    "    d1 = d0.xs(subject_id).reindex(sample_type_specific_order)\n",
    "    for i in d1.columns:\n",
    "        ax.plot(d1[i].values, c=strain_color_palette[i], lw=2)\n",
    "    ax.set_yscale('symlog', linthresh=1e-2, linscale=0.1)\n",
    "    ax.set_xticks(range(len(sample_type_specific_order)))\n",
    "    ax.set_ylim(1e-2 - 1e-3, 1e0 + 1e-1)\n",
    "    ax.set_title(subject_id)\n",
    "    yticks = 10. ** np.arange(-3, 1)\n",
    "    ax.set_yticks(yticks)\n",
    "    ax.set_yticklabels([f'{y:.0%}' for y in yticks])"
   ]
  },
  {
   "cell_type": "code",
   "execution_count": null,
   "metadata": {},
   "outputs": [],
   "source": []
  }
 ],
 "metadata": {
  "kernelspec": {
   "display_name": "Python 3 (ipykernel)",
   "language": "python",
   "name": "python3"
  },
  "language_info": {
   "codemirror_mode": {
    "name": "ipython",
    "version": 3
   },
   "file_extension": ".py",
   "mimetype": "text/x-python",
   "name": "python",
   "nbconvert_exporter": "python",
   "pygments_lexer": "ipython3",
   "version": "3.9.7"
  }
 },
 "nbformat": 4,
 "nbformat_minor": 5
}