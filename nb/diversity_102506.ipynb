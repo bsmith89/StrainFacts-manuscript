{
 "cells": [
  {
   "cell_type": "markdown",
   "id": "external-seminar",
   "metadata": {},
   "source": [
    "## Preamble"
   ]
  },
  {
   "cell_type": "code",
   "execution_count": 1,
   "id": "answering-world",
   "metadata": {},
   "outputs": [],
   "source": [
    "%load_ext autoreload\n",
    "%autoreload 0"
   ]
  },
  {
   "cell_type": "code",
   "execution_count": 2,
   "id": "statutory-mason",
   "metadata": {},
   "outputs": [],
   "source": [
    "%autoreload"
   ]
  },
  {
   "cell_type": "code",
   "execution_count": 3,
   "id": "innocent-orange",
   "metadata": {},
   "outputs": [],
   "source": [
    "import sys\n",
    "sys.path.append('/pollard/home/bsmith/Projects/haplo-benchmark/include/StrainFacts')"
   ]
  },
  {
   "cell_type": "code",
   "execution_count": 4,
   "id": "dental-range",
   "metadata": {},
   "outputs": [],
   "source": [
    "import xarray as xr\n",
    "import sqlite3\n",
    "import pandas as pd\n",
    "import matplotlib as mpl\n",
    "import matplotlib.pyplot as plt\n",
    "import seaborn as sns\n",
    "import numpy as np\n",
    "import warnings\n",
    "import torch\n",
    "import pyro\n",
    "import scipy as sp\n",
    "\n",
    "import lib.plot\n",
    "from scipy.spatial.distance import pdist, squareform\n",
    "from sklearn.metrics.pairwise import pairwise_distances\n",
    "from sklearn.cluster import AgglomerativeClustering\n",
    "from lib.pandas_util import idxwhere\n",
    "\n",
    "\n",
    "import sfacts as sf\n",
    "\n",
    "from tqdm import tqdm\n",
    "\n",
    "# from lib.project_style import color_palette, major_allele_frequency_bins\n",
    "# from lib.project_data import metagenotype_db_to_xarray\n",
    "# from lib.plot import ordination_plot, mds_ordination, nmds_ordination\n",
    "# import lib.plot\n",
    "# from lib.plot import construct_ordered_pallete\n",
    "# from lib.pandas_util import idxwhere"
   ]
  },
  {
   "cell_type": "markdown",
   "id": "dependent-example",
   "metadata": {},
   "source": [
    "## Load Data"
   ]
  },
  {
   "cell_type": "code",
   "execution_count": 5,
   "id": "automatic-learning",
   "metadata": {},
   "outputs": [
    {
     "name": "stdout",
     "output_type": "stream",
     "text": [
      "Frozen(SortedKeysDict({'strain': 200, 'sample': 9232, 'position': 75942, 'allele': 2}))\n",
      "<xarray.DataArray 'communities' ()>\n",
      "array(0.00055164, dtype=float32)\n",
      "Coordinates:\n",
      "    species_id  int64 102506\n",
      "Frozen(SortedKeysDict({'strain': 123, 'sample': 9232, 'position': 75942, 'allele': 2}))\n"
     ]
    }
   ],
   "source": [
    "species_id = 102506\n",
    "\n",
    "fit = sf.data.World.load(f'data/zshi.sp-{species_id}.metagenotype.filt-poly05-cvrg25.fit-sfacts44-s200-g5000-seed0.refit-sfacts41-g10000-seed0.world.nc')\n",
    "fit.data['position'] = fit.data.position.astype(int)\n",
    "print(fit.sizes)\n",
    "\n",
    "\n",
    "cull_threshold = 0.05\n",
    "# distance_proportionality = 0.077567\n",
    "\n",
    "fit_communities = fit.communities.mlift('sel', strain=fit.communities.max(\"sample\") > cull_threshold)\n",
    "print((1 - fit_communities.sum(\"strain\")).max())\n",
    "fit_communities = sf.Communities(fit_communities.data / fit_communities.sum(\"strain\"))\n",
    "fit_genotypes = fit.genotypes.mlift('sel', strain=fit_communities.strain)\n",
    "\n",
    "fit = sf.World.from_combined(fit_communities, fit_genotypes, fit.metagenotypes)\n",
    "print(fit.sizes)"
   ]
  },
  {
   "cell_type": "code",
   "execution_count": 6,
   "id": "thirty-system",
   "metadata": {},
   "outputs": [
    {
     "data": {
      "text/plain": [
       "Frozen({'strain': 1000, 'position': 75942})"
      ]
     },
     "execution_count": 6,
     "metadata": {},
     "output_type": "execute_result"
    }
   ],
   "source": [
    "ref = sf.data.Metagenotypes.load(f'data/gtprodb.sp-{species_id}.genotype.nc').mlift('sel', position=fit.position).to_estimated_genotypes(pseudo=0)\n",
    "ref.sizes"
   ]
  },
  {
   "cell_type": "code",
   "execution_count": 7,
   "id": "running-flashing",
   "metadata": {},
   "outputs": [
    {
     "data": {
      "text/plain": [
       "(array([16920., 14942.,  9039.,  5591.,  5193.,  5936.,  7446.,  5189.,\n",
       "         4404.,  1282.]),\n",
       " array([0.01  , 0.0635, 0.117 , 0.1705, 0.224 , 0.2775, 0.331 , 0.3845,\n",
       "        0.438 , 0.4915, 0.545 ]),\n",
       " <BarContainer object of 10 artists>)"
      ]
     },
     "execution_count": 7,
     "metadata": {},
     "output_type": "execute_result"
    },
    {
     "data": {
      "image/png": "[encoded data removed]",
      "text/plain": [
       "<Figure size 432x288 with 1 Axes>"
      ]
     },
     "metadata": {
      "needs_background": "light"
     },
     "output_type": "display_data"
    }
   ],
   "source": [
    "plt.hist(ref.mean('strain'))"
   ]
  },
  {
   "cell_type": "code",
   "execution_count": 8,
   "id": "minus-leave",
   "metadata": {},
   "outputs": [],
   "source": [
    "# TODO: Decide if I want to discretize here.\n",
    "ref_dist = ref.discretized().pdist()\n",
    "fit_dist = fit_genotypes.discretized().pdist()"
   ]
  },
  {
   "cell_type": "code",
   "execution_count": 9,
   "id": "stuck-florida",
   "metadata": {},
   "outputs": [
    {
     "data": {
      "text/plain": [
       "0      114\n",
       "7       68\n",
       "11      58\n",
       "61      42\n",
       "31      42\n",
       "      ... \n",
       "108      1\n",
       "107      1\n",
       "104      1\n",
       "103      1\n",
       "175      1\n",
       "Length: 176, dtype: int64"
      ]
     },
     "execution_count": 9,
     "metadata": {},
     "output_type": "execute_result"
    }
   ],
   "source": [
    "dedup_thresh = 0.05  # / distance_proportionality\n",
    "\n",
    "ref_clust = pd.Series(\n",
    "    AgglomerativeClustering(\n",
    "        distance_threshold=dedup_thresh, n_clusters=None, affinity='precomputed', linkage='average'\n",
    "    ).fit_predict(ref_dist),\n",
    "    index=ref_dist.columns,\n",
    ")\n",
    "fit_clust = pd.Series(\n",
    "    AgglomerativeClustering(\n",
    "        distance_threshold=dedup_thresh, n_clusters=None, affinity='precomputed', linkage='average'\n",
    "    ).fit_predict(fit_dist),\n",
    "    index=fit_dist.columns.astype(int),\n",
    ")\n",
    "\n",
    "ref_clust.value_counts()"
   ]
  },
  {
   "cell_type": "code",
   "execution_count": 10,
   "id": "gentle-doctor",
   "metadata": {},
   "outputs": [
    {
     "data": {
      "text/plain": [
       "0     3\n",
       "5     2\n",
       "2     2\n",
       "34    1\n",
       "3     1\n",
       "dtype: int64"
      ]
     },
     "execution_count": 10,
     "metadata": {},
     "output_type": "execute_result"
    }
   ],
   "source": [
    "fit_clust.value_counts().sort_values(ascending=False).head()"
   ]
  },
  {
   "cell_type": "code",
   "execution_count": 11,
   "id": "extensive-newfoundland",
   "metadata": {},
   "outputs": [],
   "source": [
    "ref_dedup = sf.Genotypes(ref.to_series().unstack('strain').groupby(ref_clust, axis='columns').mean().rename_axis(columns='strain').T.stack().to_xarray())\n",
    "fit_dedup = sf.Genotypes(fit_genotypes.to_series().unstack('strain').groupby(fit_clust, axis='columns').mean().rename(columns=lambda x: int(x)).rename_axis(columns='strain').T.stack().to_xarray())"
   ]
  },
  {
   "cell_type": "code",
   "execution_count": 12,
   "id": "realistic-above",
   "metadata": {},
   "outputs": [
    {
     "data": {
      "text/plain": [
       "((1000, 176), (123, 119))"
      ]
     },
     "execution_count": 12,
     "metadata": {},
     "output_type": "execute_result"
    }
   ],
   "source": [
    "(ref.sizes['strain'], ref_dedup.sizes['strain']), (fit_genotypes.sizes['strain'], fit_dedup.sizes['strain'])"
   ]
  },
  {
   "cell_type": "code",
   "execution_count": 13,
   "id": "arbitrary-class",
   "metadata": {},
   "outputs": [],
   "source": [
    "from scipy.spatial.distance import pdist, squareform\n",
    "\n",
    "g = sf.data.Genotypes.concat(dict(\n",
    "    ref=ref_dedup,\n",
    "    fit=fit_dedup,\n",
    "), dim='strain')\n",
    "\n",
    "dist = pd.DataFrame(g.discretized().pdist(), index=g.strain, columns=g.strain)"
   ]
  },
  {
   "cell_type": "code",
   "execution_count": 14,
   "id": "annual-brunswick",
   "metadata": {},
   "outputs": [
    {
     "name": "stderr",
     "output_type": "stream",
     "text": [
      "/opt/conda/lib/python3.7/site-packages/numpy/lib/histograms.py:905: RuntimeWarning: invalid value encountered in true_divide\n",
      "  return n/db/n.sum(), bin_edges\n"
     ]
    },
    {
     "data": {
      "text/plain": [
       "<matplotlib.legend.Legend at 0x7f0af54755d0>"
      ]
     },
     "execution_count": 14,
     "metadata": {},
     "output_type": "execute_result"
    },
    {
     "data": {
      "image/png": "[encoded data removed]",
      "text/plain": [
       "<Figure size 432x288 with 1 Axes>"
      ]
     },
     "metadata": {
      "needs_background": "light"
     },
     "output_type": "display_data"
    }
   ],
   "source": [
    "d = dist.loc[\n",
    "        lambda x: x.index.str.startswith('ref_'),\n",
    "        lambda x: x.columns.str.startswith('ref_')\n",
    "    ]\n",
    "min_dist_ref_to_ref = (d + np.eye(len(d))).min()\n",
    "\n",
    "d = dist.loc[\n",
    "        lambda x: x.index.str.startswith('fit_'),\n",
    "        lambda x: x.columns.str.startswith('fit_')\n",
    "    ]\n",
    "min_dist_fit_to_fit = (d + np.eye(len(d))).min()\n",
    "\n",
    "min_dist_fit_to_ref = dist.loc[\n",
    "    lambda x: x.index.str.startswith('ref_'),\n",
    "    lambda x: x.columns.str.startswith('fit_')\n",
    "].min()\n",
    "\n",
    "bins = np.linspace(0, 0.03, num=31)\n",
    "\n",
    "\n",
    "\n",
    "plt.hist(\n",
    "    min_dist_ref_to_ref,  # * distance_proportionality,\n",
    "    bins=bins,\n",
    "    alpha=0.5,\n",
    "    density=True,\n",
    "    label='ref2ref',\n",
    ")\n",
    "plt.hist(\n",
    "    min_dist_fit_to_fit, # * distance_proportionality,\n",
    "    bins=bins,\n",
    "    alpha=0.5,\n",
    "    density=True,\n",
    "    label='fit2fit',\n",
    ")\n",
    "plt.hist(\n",
    "    min_dist_fit_to_ref, # * distance_proportionality,\n",
    "    bins=bins,\n",
    "    alpha=0.5,\n",
    "    density=True,\n",
    "    label='fit2ref',\n",
    ")\n",
    "\n",
    "plt.legend()\n",
    "\n",
    "\n",
    "# plt.yscale('log')"
   ]
  },
  {
   "cell_type": "code",
   "execution_count": 15,
   "id": "noble-brother",
   "metadata": {},
   "outputs": [
    {
     "data": {
      "text/plain": [
       "[<matplotlib.lines.Line2D at 0x7f0af52b80d0>]"
      ]
     },
     "execution_count": 15,
     "metadata": {},
     "output_type": "execute_result"
    },
    {
     "data": {
      "image/png": "[encoded data removed]",
      "text/plain": [
       "<Figure size 432x288 with 1 Axes>"
      ]
     },
     "metadata": {
      "needs_background": "light"
     },
     "output_type": "display_data"
    }
   ],
   "source": [
    "plt.scatter(min_dist_fit_to_ref, min_dist_fit_to_fit)\n",
    "plt.plot([0, 0.225], [0, 0.225])"
   ]
  },
  {
   "cell_type": "code",
   "execution_count": 16,
   "id": "dirty-thread",
   "metadata": {},
   "outputs": [
    {
     "data": {
      "text/plain": [
       "WilcoxonResult(statistic=1580.0, pvalue=0.9999999343800806)"
      ]
     },
     "execution_count": 16,
     "metadata": {},
     "output_type": "execute_result"
    }
   ],
   "source": [
    "sp.stats.wilcoxon(min_dist_fit_to_ref, min_dist_fit_to_fit, alternative='greater')"
   ]
  },
  {
   "cell_type": "code",
   "execution_count": 17,
   "id": "express-neighbor",
   "metadata": {},
   "outputs": [
    {
     "data": {
      "text/plain": [
       "<seaborn.matrix.ClusterGrid at 0x7f0af52a6a50>"
      ]
     },
     "execution_count": 17,
     "metadata": {},
     "output_type": "execute_result"
    },
    {
     "data": {
      "image/png": "[encoded data removed]",
      "text/plain": [
       "<Figure size 626.4x673.272 with 4 Axes>"
      ]
     },
     "metadata": {
      "needs_background": "light"
     },
     "output_type": "display_data"
    }
   ],
   "source": [
    "np.random.seed(0)\n",
    "\n",
    "sf.plot.plot_genotype(\n",
    "    g.random_sample(position=3500).discretized(),\n",
    "    row_colors_func=lambda w: w.strain.str.startswith('fit_'),\n",
    "    row_linkage_func=lambda w: g.discretized().linkage(method='average'),\n",
    "    scaley=3e-2,\n",
    "    scalex=2e-3,\n",
    "    yticklabels=0,\n",
    "    dheight=0.001,\n",
    "    cmap='gray_r',\n",
    "    norm=mpl.colors.PowerNorm(1, vmin=-0.1, vmax=1.),\n",
    ")"
   ]
  },
  {
   "cell_type": "code",
   "execution_count": 18,
   "id": "inner-battle",
   "metadata": {},
   "outputs": [
    {
     "name": "stdout",
     "output_type": "stream",
     "text": [
      "0.15 0.15\n"
     ]
    },
    {
     "data": {
      "text/plain": [
       "<matplotlib.lines.Line2D at 0x7f0af4dab090>"
      ]
     },
     "execution_count": 18,
     "metadata": {},
     "output_type": "execute_result"
    },
    {
     "data": {
      "image/png": "[encoded data removed]",
      "text/plain": [
       "<Figure size 432x288 with 1 Axes>"
      ]
     },
     "metadata": {
      "needs_background": "light"
     },
     "output_type": "display_data"
    }
   ],
   "source": [
    "clust_thresh = 0.15  # np.quantile(squareform(dist), 0.1)\n",
    "print(clust_thresh, clust_thresh) # * distance_proportionality)\n",
    "\n",
    "plt.hist(squareform(dist))\n",
    "plt.axvline(clust_thresh, color='k')"
   ]
  },
  {
   "cell_type": "code",
   "execution_count": 19,
   "id": "constitutional-circus",
   "metadata": {},
   "outputs": [],
   "source": [
    "all_clust = pd.Series(\n",
    "    AgglomerativeClustering(\n",
    "        distance_threshold=clust_thresh, n_clusters=None, affinity='precomputed', linkage='average'\n",
    "    ).fit_predict(dist),\n",
    "    index=g.strain,\n",
    ")\n",
    "\n",
    "clust_type = all_clust.index.to_series().str[:3]"
   ]
  },
  {
   "cell_type": "code",
   "execution_count": 20,
   "id": "available-football",
   "metadata": {},
   "outputs": [
    {
     "data": {
      "text/plain": [
       "fit    ref  \n",
       "True   True     24\n",
       "       False     8\n",
       "False  True      8\n",
       "       False     0\n",
       "dtype: int64"
      ]
     },
     "execution_count": 20,
     "metadata": {},
     "output_type": "execute_result"
    }
   ],
   "source": [
    "from itertools import product\n",
    "    \n",
    "def count_clust_types(clust, key):\n",
    "    clust_types = (\n",
    "        clust\n",
    "        .to_frame(name='clust')\n",
    "        .assign(key=key)\n",
    "        .groupby(['clust', 'key'])\n",
    "        .apply(len)\n",
    "        .unstack(fill_value=0)\n",
    "    )\n",
    "    all_keys = clust_types.columns.to_list()\n",
    "    all_possible_clust_types = pd.DataFrame(product([True, False], repeat=len(all_keys)), columns=all_keys)\n",
    "    return clust_types, clust_types.apply(lambda x: x > 0).groupby(all_keys).apply(len).reindex(all_possible_clust_types, fill_value=0)\n",
    "\n",
    "clust_stats, clust_type_tally = count_clust_types(all_clust, clust_type)\n",
    "\n",
    "clust_type_tally"
   ]
  },
  {
   "cell_type": "code",
   "execution_count": 21,
   "id": "liable-airfare",
   "metadata": {},
   "outputs": [
    {
     "data": {
      "text/plain": [
       "<seaborn.matrix.ClusterGrid at 0x7f0af4eadd90>"
      ]
     },
     "execution_count": 21,
     "metadata": {},
     "output_type": "execute_result"
    },
    {
     "data": {
      "image/png": "[encoded data removed]",
      "text/plain": [
       "<Figure size 662.4x136.8 with 4 Axes>"
      ]
     },
     "metadata": {
      "needs_background": "light"
     },
     "output_type": "display_data"
    }
   ],
   "source": [
    "_clust_stats = (\n",
    "    clust_stats\n",
    "    .assign(\n",
    "        tally=lambda x: x.sum(1),\n",
    "    )\n",
    "    .assign(only_fit=lambda x: x.ref==0, only_ref=lambda x: x.fit==0)\n",
    "    .assign(both=lambda x: ~(x.only_fit | x.only_ref))\n",
    "    .assign(clust_class=lambda x: x[['only_ref', 'both', 'only_fit']].values.argmax(1))\n",
    ")\n",
    "\n",
    "clust_genotypes = sf.Genotypes(g.to_series().unstack('strain').groupby(all_clust, axis='columns').mean().rename_axis(columns='strain').T.stack().to_xarray())\n",
    "\n",
    "sf.plot.plot_genotype(\n",
    "    clust_genotypes.random_sample(position=2500),\n",
    "    row_colors_func=lambda w: _clust_stats[['clust_class']].to_xarray(),\n",
    "    scaley=1e-2,\n",
    "    scalex=3e-3,\n",
    "    yticklabels=0\n",
    ")"
   ]
  },
  {
   "cell_type": "code",
   "execution_count": 22,
   "id": "extreme-combine",
   "metadata": {},
   "outputs": [
    {
     "data": {
      "text/plain": [
       "<seaborn.matrix.ClusterGrid at 0x7f0af4847b50>"
      ]
     },
     "execution_count": 22,
     "metadata": {},
     "output_type": "execute_result"
    },
    {
     "data": {
      "image/png": "[encoded data removed]",
      "text/plain": [
       "<Figure size 662.4x136.8 with 4 Axes>"
      ]
     },
     "metadata": {
      "needs_background": "light"
     },
     "output_type": "display_data"
    }
   ],
   "source": [
    "sf.plot.plot_genotype(\n",
    "    clust_genotypes.discretized().random_sample(position=2500),\n",
    "    row_colors_func=lambda w: _clust_stats[['clust_class']].to_xarray(),\n",
    "    scaley=1e-2,\n",
    "    scalex=3e-3,\n",
    "    yticklabels=0\n",
    ")"
   ]
  },
  {
   "cell_type": "code",
   "execution_count": 23,
   "id": "distributed-workshop",
   "metadata": {},
   "outputs": [
    {
     "data": {
      "image/png": "[encoded data removed]",
      "text/plain": [
       "<Figure size 626.4x122.472 with 4 Axes>"
      ]
     },
     "metadata": {
      "needs_background": "light"
     },
     "output_type": "display_data"
    }
   ],
   "source": [
    "np.random.seed(0)\n",
    "\n",
    "sf.plot.plot_genotype(\n",
    "    clust_genotypes.discretized().random_sample(position=3500),\n",
    "    row_colors_func=lambda w: _clust_stats[['clust_class']].rename(columns={'clust_class': '_'}).to_xarray(),\n",
    "    row_linkage_func=lambda w: clust_genotypes.linkage(method='complete'),\n",
    "    scaley=3e-2,\n",
    "    scalex=2e-3,\n",
    "    yticklabels=0,\n",
    "    dheight=0.001,\n",
    "    cmap='gray_r',\n",
    "    norm=mpl.colors.PowerNorm(1, vmin=-0.1, vmax=1.),\n",
    "    rasterized=True,\n",
    ")\n",
    "\n",
    "plt.savefig(f'fig/coclustering_{species_id}.pdf', dpi=400)"
   ]
  },
  {
   "cell_type": "code",
   "execution_count": 24,
   "id": "convinced-wrestling",
   "metadata": {},
   "outputs": [
    {
     "data": {
      "image/png": "[encoded data removed]",
      "text/plain": [
       "<Figure size 432x288 with 1 Axes>"
      ]
     },
     "metadata": {
      "needs_background": "light"
     },
     "output_type": "display_data"
    }
   ],
   "source": [
    "for k, c in zip(['Reference', 'Both', 'Inferred'], mpl.cm.viridis(np.linspace(0, 1, num=3))):\n",
    "    plt.axvspan(0, 1, color=c, label=k)\n",
    "    \n",
    "plt.legend(bbox_to_anchor=(1, 1))\n",
    "\n",
    "plt.savefig(f'fig/coclustering_{species_id}_legend.pdf')"
   ]
  },
  {
   "cell_type": "code",
   "execution_count": 25,
   "id": "official-nancy",
   "metadata": {},
   "outputs": [
    {
     "data": {
      "text/plain": [
       "40"
      ]
     },
     "execution_count": 25,
     "metadata": {},
     "output_type": "execute_result"
    }
   ],
   "source": [
    "len(_clust_stats)"
   ]
  },
  {
   "cell_type": "code",
   "execution_count": 26,
   "id": "worldwide-rainbow",
   "metadata": {},
   "outputs": [
    {
     "data": {
      "text/html": [
       "<div>\n",
       "<style scoped>\n",
       "    .dataframe tbody tr th:only-of-type {\n",
       "        vertical-align: middle;\n",
       "    }\n",
       "\n",
       "    .dataframe tbody tr th {\n",
       "        vertical-align: top;\n",
       "    }\n",
       "\n",
       "    .dataframe thead th {\n",
       "        text-align: right;\n",
       "    }\n",
       "</style>\n",
       "<table border=\"1\" class=\"dataframe\">\n",
       "  <thead>\n",
       "    <tr style=\"text-align: right;\">\n",
       "      <th></th>\n",
       "      <th></th>\n",
       "      <th>key</th>\n",
       "      <th>fit</th>\n",
       "      <th>ref</th>\n",
       "    </tr>\n",
       "    <tr>\n",
       "      <th>only_fit</th>\n",
       "      <th>both</th>\n",
       "      <th>only_ref</th>\n",
       "      <th></th>\n",
       "      <th></th>\n",
       "    </tr>\n",
       "  </thead>\n",
       "  <tbody>\n",
       "    <tr>\n",
       "      <th rowspan=\"2\" valign=\"top\">False</th>\n",
       "      <th>False</th>\n",
       "      <th>True</th>\n",
       "      <td>0.000000</td>\n",
       "      <td>0.056818</td>\n",
       "    </tr>\n",
       "    <tr>\n",
       "      <th>True</th>\n",
       "      <th>False</th>\n",
       "      <td>0.932773</td>\n",
       "      <td>0.943182</td>\n",
       "    </tr>\n",
       "    <tr>\n",
       "      <th>True</th>\n",
       "      <th>False</th>\n",
       "      <th>False</th>\n",
       "      <td>0.067227</td>\n",
       "      <td>0.000000</td>\n",
       "    </tr>\n",
       "  </tbody>\n",
       "</table>\n",
       "</div>"
      ],
      "text/plain": [
       "key                           fit       ref\n",
       "only_fit both  only_ref                    \n",
       "False    False True      0.000000  0.056818\n",
       "         True  False     0.932773  0.943182\n",
       "True     False False     0.067227  0.000000"
      ]
     },
     "execution_count": 26,
     "metadata": {},
     "output_type": "execute_result"
    }
   ],
   "source": [
    "# Count the number of each type of genotype in each type of cluster.\n",
    "_clust_stats.groupby(['only_fit', 'both', 'only_ref'])[['fit', 'ref']].sum().apply(lambda x: x / x.sum())"
   ]
  },
  {
   "cell_type": "code",
   "execution_count": 27,
   "id": "third-government",
   "metadata": {},
   "outputs": [
    {
     "name": "stdout",
     "output_type": "stream",
     "text": [
      "8\n",
      "0.8303409180690526\n"
     ]
    }
   ],
   "source": [
    "unmatched_inferred_strains = idxwhere(all_clust.isin(idxwhere(_clust_stats.only_fit)))\n",
    "print(len(unmatched_inferred_strains))\n",
    "\n",
    "print(1 - dist.loc[lambda x: x.columns.str.startswith('ref_'), unmatched_inferred_strains].min().mean())  # * distance_proportionality)"
   ]
  },
  {
   "cell_type": "code",
   "execution_count": 28,
   "id": "fresh-completion",
   "metadata": {},
   "outputs": [
    {
     "name": "stderr",
     "output_type": "stream",
     "text": [
      "100%|██████████| 9999/9999 [01:07<00:00, 147.16it/s]\n"
     ]
    }
   ],
   "source": [
    "np.random.seed(0)\n",
    "\n",
    "def permutation_clust_types(clust, key, n=1, progress=False):\n",
    "    _, observed = count_clust_types(clust, key)\n",
    "    permutations = []\n",
    "    for _ in tqdm(range(n), disable=(not progress)):\n",
    "        perm_clust = pd.Series(np.random.choice(clust.values, size=len(clust), replace=False), index=clust.index)\n",
    "        permutations.append(count_clust_types(perm_clust, key)[1])\n",
    "    return observed, pd.DataFrame(permutations)\n",
    "\n",
    "obs, perm = permutation_clust_types(all_clust, all_clust.index.to_series().str[:3], n=9999, progress=True)"
   ]
  },
  {
   "cell_type": "code",
   "execution_count": 29,
   "id": "moderate-marble",
   "metadata": {},
   "outputs": [
    {
     "data": {
      "text/html": [
       "<div>\n",
       "<style scoped>\n",
       "    .dataframe tbody tr th:only-of-type {\n",
       "        vertical-align: middle;\n",
       "    }\n",
       "\n",
       "    .dataframe tbody tr th {\n",
       "        vertical-align: top;\n",
       "    }\n",
       "\n",
       "    .dataframe thead th {\n",
       "        text-align: right;\n",
       "    }\n",
       "</style>\n",
       "<table border=\"1\" class=\"dataframe\">\n",
       "  <thead>\n",
       "    <tr style=\"text-align: right;\">\n",
       "      <th></th>\n",
       "      <th></th>\n",
       "      <th>tally</th>\n",
       "      <th>frac</th>\n",
       "    </tr>\n",
       "    <tr>\n",
       "      <th>fit</th>\n",
       "      <th>ref</th>\n",
       "      <th></th>\n",
       "      <th></th>\n",
       "    </tr>\n",
       "  </thead>\n",
       "  <tbody>\n",
       "    <tr>\n",
       "      <th rowspan=\"2\" valign=\"top\">True</th>\n",
       "      <th>True</th>\n",
       "      <td>24</td>\n",
       "      <td>0.6</td>\n",
       "    </tr>\n",
       "    <tr>\n",
       "      <th>False</th>\n",
       "      <td>8</td>\n",
       "      <td>0.2</td>\n",
       "    </tr>\n",
       "    <tr>\n",
       "      <th rowspan=\"2\" valign=\"top\">False</th>\n",
       "      <th>True</th>\n",
       "      <td>8</td>\n",
       "      <td>0.2</td>\n",
       "    </tr>\n",
       "    <tr>\n",
       "      <th>False</th>\n",
       "      <td>0</td>\n",
       "      <td>0.0</td>\n",
       "    </tr>\n",
       "  </tbody>\n",
       "</table>\n",
       "</div>"
      ],
      "text/plain": [
       "             tally  frac\n",
       "fit   ref               \n",
       "True  True      24   0.6\n",
       "      False      8   0.2\n",
       "False True       8   0.2\n",
       "      False      0   0.0"
      ]
     },
     "execution_count": 29,
     "metadata": {},
     "output_type": "execute_result"
    }
   ],
   "source": [
    "obs.to_frame(name='tally').assign(frac=lambda x: x / x.sum())"
   ]
  },
  {
   "cell_type": "code",
   "execution_count": 30,
   "id": "floppy-small",
   "metadata": {},
   "outputs": [
    {
     "data": {
      "image/png": "[encoded data removed]",
      "text/plain": [
       "<Figure size 360x360 with 3 Axes>"
      ]
     },
     "metadata": {
      "needs_background": "light"
     },
     "output_type": "display_data"
    }
   ],
   "source": [
    "fig, axs = plt.subplots(3, figsize=(5, 5), sharex=True, sharey=True)\n",
    "\n",
    "for (key, c, label), ax in zip([((True, True), 'grey', 'both'), ((True, False), 'tab:red', 'fit'), ((False, True), 'tab:blue', 'ref')], axs):\n",
    "    ax.hist(perm[key], color=c)\n",
    "    ax.axvline(obs[key], color=c, label=label)\n",
    "    ax.set_title(label)\n",
    "fig.tight_layout()"
   ]
  },
  {
   "cell_type": "code",
   "execution_count": 31,
   "id": "instant-history",
   "metadata": {},
   "outputs": [
    {
     "data": {
      "text/html": [
       "<div>\n",
       "<style scoped>\n",
       "    .dataframe tbody tr th:only-of-type {\n",
       "        vertical-align: middle;\n",
       "    }\n",
       "\n",
       "    .dataframe tbody tr th {\n",
       "        vertical-align: top;\n",
       "    }\n",
       "\n",
       "    .dataframe thead th {\n",
       "        text-align: right;\n",
       "    }\n",
       "</style>\n",
       "<table border=\"1\" class=\"dataframe\">\n",
       "  <thead>\n",
       "    <tr style=\"text-align: right;\">\n",
       "      <th></th>\n",
       "      <th>&lt;</th>\n",
       "      <th>==</th>\n",
       "      <th>&gt;</th>\n",
       "    </tr>\n",
       "  </thead>\n",
       "  <tbody>\n",
       "    <tr>\n",
       "      <th>(False, False)</th>\n",
       "      <td>0.000000</td>\n",
       "      <td>1.000000</td>\n",
       "      <td>0.000000</td>\n",
       "    </tr>\n",
       "    <tr>\n",
       "      <th>(False, True)</th>\n",
       "      <td>0.984998</td>\n",
       "      <td>0.010701</td>\n",
       "      <td>0.004300</td>\n",
       "    </tr>\n",
       "    <tr>\n",
       "      <th>(True, False)</th>\n",
       "      <td>0.382438</td>\n",
       "      <td>0.183218</td>\n",
       "      <td>0.434343</td>\n",
       "    </tr>\n",
       "    <tr>\n",
       "      <th>(True, True)</th>\n",
       "      <td>0.000500</td>\n",
       "      <td>0.002300</td>\n",
       "      <td>0.997200</td>\n",
       "    </tr>\n",
       "  </tbody>\n",
       "</table>\n",
       "</div>"
      ],
      "text/plain": [
       "                       <        ==         >\n",
       "(False, False)  0.000000  1.000000  0.000000\n",
       "(False, True)   0.984998  0.010701  0.004300\n",
       "(True, False)   0.382438  0.183218  0.434343\n",
       "(True, True)    0.000500  0.002300  0.997200"
      ]
     },
     "execution_count": 31,
     "metadata": {},
     "output_type": "execute_result"
    }
   ],
   "source": [
    "def tally_permutation_test(obs, perm):    \n",
    "    out = {}\n",
    "    for key in obs.index:\n",
    "        out[key, '>'] = ((obs[key] > perm[key]).sum())\n",
    "        out[key, '=='] = ((obs[key] == perm[key]).sum())\n",
    "        out[key, '<'] = ((obs[key] < perm[key]).sum())\n",
    "    return pd.Series(out).unstack()\n",
    "\n",
    "tally_permutation_test(obs, perm).apply(lambda x: x / x.sum(), axis=1)"
   ]
  },
  {
   "cell_type": "code",
   "execution_count": 32,
   "id": "sixth-russia",
   "metadata": {},
   "outputs": [
    {
     "name": "stderr",
     "output_type": "stream",
     "text": [
      "100%|██████████| 9999/9999 [02:07<00:00, 78.40it/s]\n"
     ]
    }
   ],
   "source": [
    "np.random.seed(0)\n",
    "\n",
    "def permutation_strain_clust_type(clust, key, n=1, progress=False):\n",
    "    clust_stats, _ = count_clust_types(clust, key)\n",
    "    observed = clust_stats.groupby((clust_stats > 0).apply(lambda x: tuple(x), axis=1)).sum().stack()\n",
    "    permutations = []\n",
    "    for _ in tqdm(range(n), disable=(not progress)):\n",
    "        perm_clust = pd.Series(np.random.choice(clust.values, size=len(clust), replace=False), index=clust.index)\n",
    "        perm_clust_stats, _ = count_clust_types(perm_clust, key)\n",
    "        permutations.append(perm_clust_stats.groupby((perm_clust_stats > 0).apply(lambda x: tuple(x), axis=1)).sum().stack())\n",
    "    return observed, pd.DataFrame(permutations)\n",
    "\n",
    "obs2, perm2 = permutation_strain_clust_type(all_clust, all_clust.index.to_series().str[:3], n=9999, progress=True)"
   ]
  },
  {
   "cell_type": "code",
   "execution_count": 33,
   "id": "plastic-universal",
   "metadata": {},
   "outputs": [
    {
     "data": {
      "text/plain": [
       "               key\n",
       "(False, True)  fit      0\n",
       "               ref     10\n",
       "(True, False)  fit      8\n",
       "               ref      0\n",
       "(True, True)   fit    111\n",
       "               ref    166\n",
       "dtype: int64"
      ]
     },
     "execution_count": 33,
     "metadata": {},
     "output_type": "execute_result"
    }
   ],
   "source": [
    "obs2"
   ]
  },
  {
   "cell_type": "code",
   "execution_count": 34,
   "id": "bizarre-lobby",
   "metadata": {},
   "outputs": [
    {
     "data": {
      "text/html": [
       "<div>\n",
       "<style scoped>\n",
       "    .dataframe tbody tr th:only-of-type {\n",
       "        vertical-align: middle;\n",
       "    }\n",
       "\n",
       "    .dataframe tbody tr th {\n",
       "        vertical-align: top;\n",
       "    }\n",
       "\n",
       "    .dataframe thead tr th {\n",
       "        text-align: left;\n",
       "    }\n",
       "</style>\n",
       "<table border=\"1\" class=\"dataframe\">\n",
       "  <thead>\n",
       "    <tr>\n",
       "      <th></th>\n",
       "      <th colspan=\"2\" halign=\"left\">(False, True)</th>\n",
       "      <th colspan=\"2\" halign=\"left\">(True, False)</th>\n",
       "      <th colspan=\"2\" halign=\"left\">(True, True)</th>\n",
       "    </tr>\n",
       "    <tr>\n",
       "      <th>key</th>\n",
       "      <th>fit</th>\n",
       "      <th>ref</th>\n",
       "      <th>fit</th>\n",
       "      <th>ref</th>\n",
       "      <th>fit</th>\n",
       "      <th>ref</th>\n",
       "    </tr>\n",
       "  </thead>\n",
       "  <tbody>\n",
       "    <tr>\n",
       "      <th>0</th>\n",
       "      <td>0</td>\n",
       "      <td>18</td>\n",
       "      <td>14</td>\n",
       "      <td>0</td>\n",
       "      <td>105</td>\n",
       "      <td>158</td>\n",
       "    </tr>\n",
       "    <tr>\n",
       "      <th>1</th>\n",
       "      <td>0</td>\n",
       "      <td>22</td>\n",
       "      <td>8</td>\n",
       "      <td>0</td>\n",
       "      <td>111</td>\n",
       "      <td>154</td>\n",
       "    </tr>\n",
       "    <tr>\n",
       "      <th>2</th>\n",
       "      <td>0</td>\n",
       "      <td>24</td>\n",
       "      <td>11</td>\n",
       "      <td>0</td>\n",
       "      <td>108</td>\n",
       "      <td>152</td>\n",
       "    </tr>\n",
       "    <tr>\n",
       "      <th>3</th>\n",
       "      <td>0</td>\n",
       "      <td>19</td>\n",
       "      <td>9</td>\n",
       "      <td>0</td>\n",
       "      <td>110</td>\n",
       "      <td>157</td>\n",
       "    </tr>\n",
       "    <tr>\n",
       "      <th>4</th>\n",
       "      <td>0</td>\n",
       "      <td>27</td>\n",
       "      <td>6</td>\n",
       "      <td>0</td>\n",
       "      <td>113</td>\n",
       "      <td>149</td>\n",
       "    </tr>\n",
       "    <tr>\n",
       "      <th>...</th>\n",
       "      <td>...</td>\n",
       "      <td>...</td>\n",
       "      <td>...</td>\n",
       "      <td>...</td>\n",
       "      <td>...</td>\n",
       "      <td>...</td>\n",
       "    </tr>\n",
       "    <tr>\n",
       "      <th>9994</th>\n",
       "      <td>0</td>\n",
       "      <td>23</td>\n",
       "      <td>14</td>\n",
       "      <td>0</td>\n",
       "      <td>105</td>\n",
       "      <td>153</td>\n",
       "    </tr>\n",
       "    <tr>\n",
       "      <th>9995</th>\n",
       "      <td>0</td>\n",
       "      <td>14</td>\n",
       "      <td>15</td>\n",
       "      <td>0</td>\n",
       "      <td>104</td>\n",
       "      <td>162</td>\n",
       "    </tr>\n",
       "    <tr>\n",
       "      <th>9996</th>\n",
       "      <td>0</td>\n",
       "      <td>20</td>\n",
       "      <td>13</td>\n",
       "      <td>0</td>\n",
       "      <td>106</td>\n",
       "      <td>156</td>\n",
       "    </tr>\n",
       "    <tr>\n",
       "      <th>9997</th>\n",
       "      <td>0</td>\n",
       "      <td>26</td>\n",
       "      <td>12</td>\n",
       "      <td>0</td>\n",
       "      <td>107</td>\n",
       "      <td>150</td>\n",
       "    </tr>\n",
       "    <tr>\n",
       "      <th>9998</th>\n",
       "      <td>0</td>\n",
       "      <td>24</td>\n",
       "      <td>13</td>\n",
       "      <td>0</td>\n",
       "      <td>106</td>\n",
       "      <td>152</td>\n",
       "    </tr>\n",
       "  </tbody>\n",
       "</table>\n",
       "<p>9999 rows × 6 columns</p>\n",
       "</div>"
      ],
      "text/plain": [
       "     (False, True)     (True, False)     (True, True)     \n",
       "key            fit ref           fit ref          fit  ref\n",
       "0                0  18            14   0          105  158\n",
       "1                0  22             8   0          111  154\n",
       "2                0  24            11   0          108  152\n",
       "3                0  19             9   0          110  157\n",
       "4                0  27             6   0          113  149\n",
       "...            ...  ..           ...  ..          ...  ...\n",
       "9994             0  23            14   0          105  153\n",
       "9995             0  14            15   0          104  162\n",
       "9996             0  20            13   0          106  156\n",
       "9997             0  26            12   0          107  150\n",
       "9998             0  24            13   0          106  152\n",
       "\n",
       "[9999 rows x 6 columns]"
      ]
     },
     "execution_count": 34,
     "metadata": {},
     "output_type": "execute_result"
    }
   ],
   "source": [
    "perm2"
   ]
  },
  {
   "cell_type": "code",
   "execution_count": 35,
   "id": "theoretical-correction",
   "metadata": {},
   "outputs": [
    {
     "data": {
      "image/png": "[encoded data removed]",
      "text/plain": [
       "<Figure size 360x360 with 5 Axes>"
      ]
     },
     "metadata": {
      "needs_background": "light"
     },
     "output_type": "display_data"
    }
   ],
   "source": [
    "fig, axs = plt.subplots(5, figsize=(5, 5), sharex=True, sharey=True)\n",
    "\n",
    "for (key, c, label), ax in zip(\n",
    "    [\n",
    "        (((True, False), 'fit'), 'tab:blue', 'fit'),\n",
    "        (((False, True), 'ref'), 'tab:red', 'ref'),\n",
    "    ],\n",
    "    axs\n",
    "):\n",
    "    ax.hist(perm2[key], color=c)\n",
    "    ax.axvline(obs2[key], color=c, label=label)\n",
    "    ax.set_title(label)\n",
    "    \n",
    "    \n",
    "\n",
    "ax = axs[2]\n",
    "c = 'grey'\n",
    "ax.hist(perm2[((True, True), 'fit')] + perm2[((True, True), 'ref')], color=c)\n",
    "ax.axvline(obs2[((True, True), 'fit')] + obs2[((True, True), 'ref')], c=c)\n",
    "ax.set_title('both (both)')\n",
    "\n",
    "ax = axs[3]\n",
    "c = 'grey'\n",
    "ax.hist(perm2[((True, True), 'fit')], color=c)\n",
    "ax.axvline(obs2[((True, True), 'fit')], c=c)\n",
    "ax.set_title('both (fit)')\n",
    "\n",
    "ax = axs[4]\n",
    "c = 'grey'\n",
    "ax.hist(perm2[((True, True), 'ref')], color=c)\n",
    "ax.axvline(obs2[((True, True), 'ref')], c=c)\n",
    "ax.set_title('both (ref)')\n",
    "\n",
    "fig.tight_layout()"
   ]
  },
  {
   "cell_type": "code",
   "execution_count": 36,
   "id": "australian-concentration",
   "metadata": {},
   "outputs": [
    {
     "data": {
      "text/plain": [
       "0.0023002300230023"
      ]
     },
     "execution_count": 36,
     "metadata": {},
     "output_type": "execute_result"
    }
   ],
   "source": [
    "(\n",
    "    (perm2[((True, True), 'fit')] + perm2[((True, True), 'ref')])\n",
    "    >=\n",
    "    (obs2[((True, True), 'fit')] + obs2[((True, True), 'ref')])\n",
    ").mean()"
   ]
  },
  {
   "cell_type": "code",
   "execution_count": 37,
   "id": "designing-sacramento",
   "metadata": {},
   "outputs": [
    {
     "data": {
      "text/plain": [
       "0.8127812781278128"
      ]
     },
     "execution_count": 37,
     "metadata": {},
     "output_type": "execute_result"
    }
   ],
   "source": [
    "(\n",
    "    obs2[((True, False), 'fit')]\n",
    "    <=\n",
    "    perm2[((True, False), 'fit')]    \n",
    ").mean()"
   ]
  },
  {
   "cell_type": "code",
   "execution_count": null,
   "id": "enormous-questionnaire",
   "metadata": {},
   "outputs": [],
   "source": []
  }
 ],
 "metadata": {
  "kernelspec": {
   "display_name": "Python 3",
   "language": "python",
   "name": "python3"
  },
  "language_info": {
   "codemirror_mode": {
    "name": "ipython",
    "version": 3
   },
   "file_extension": ".py",
   "mimetype": "text/x-python",
   "name": "python",
   "nbconvert_exporter": "python",
   "pygments_lexer": "ipython3",
   "version": "3.7.10"
  }
 },
 "nbformat": 4,
 "nbformat_minor": 5
}
