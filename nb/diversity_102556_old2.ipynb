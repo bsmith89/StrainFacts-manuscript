{
 "cells": [
  {
   "cell_type": "markdown",
   "metadata": {},
   "source": [
    "## Preamble"
   ]
  },
  {
   "cell_type": "code",
   "execution_count": null,
   "metadata": {},
   "outputs": [],
   "source": [
    "%load_ext autoreload\n",
    "%autoreload 0"
   ]
  },
  {
   "cell_type": "code",
   "execution_count": null,
   "metadata": {},
   "outputs": [],
   "source": [
    "%autoreload"
   ]
  },
  {
   "cell_type": "code",
   "execution_count": null,
   "metadata": {},
   "outputs": [],
   "source": [
    "import sys\n",
    "sys.path.append('/pollard/home/bsmith/Projects/haplo-benchmark/include/StrainFacts')"
   ]
  },
  {
   "cell_type": "code",
   "execution_count": null,
   "metadata": {},
   "outputs": [],
   "source": [
    "import xarray as xr\n",
    "import sqlite3\n",
    "import pandas as pd\n",
    "import matplotlib as mpl\n",
    "import matplotlib.pyplot as plt\n",
    "import seaborn as sns\n",
    "import numpy as np\n",
    "import warnings\n",
    "import torch\n",
    "import pyro\n",
    "import scipy as sp\n",
    "\n",
    "import lib.plot\n",
    "from scipy.spatial.distance import pdist, squareform\n",
    "from sklearn.metrics.pairwise import pairwise_distances\n",
    "from sklearn.cluster import AgglomerativeClustering\n",
    "from lib.pandas_util import idxwhere\n",
    "\n",
    "import sfacts as sf\n",
    "\n",
    "from tqdm import tqdm\n",
    "\n",
    "# from lib.project_style import color_palette, major_allele_frequency_bins\n",
    "# from lib.project_data import metagenotype_db_to_xarray\n",
    "# from lib.plot import ordination_plot, mds_ordination, nmds_ordination\n",
    "# import lib.plot\n",
    "# from lib.plot import construct_ordered_pallete\n",
    "# from lib.pandas_util import idxwhere"
   ]
  },
  {
   "cell_type": "markdown",
   "metadata": {},
   "source": [
    "## Load Data"
   ]
  },
  {
   "cell_type": "code",
   "execution_count": null,
   "metadata": {},
   "outputs": [],
   "source": [
    "species_id = 102556\n",
    "\n",
    "fit = sf.data.World.load(f'data/zshi.sp-{species_id}.metagenotype.filt-poly05-cvrg25.fit-sfacts44-s200-g5000-seed0.refit-sfacts41-g10000-seed0.world.nc')\n",
    "fit.data['position'] = fit.data.position.astype(int)\n",
    "print(fit.sizes)\n",
    "\n",
    "\n",
    "cull_threshold = 0.05\n",
    "\n",
    "fit_communities = fit.communities.mlift('sel', strain=fit.communities.max(\"sample\") > cull_threshold)\n",
    "print((1 - fit_communities.sum(\"strain\")).max())\n",
    "fit_communities = sf.Communities(fit_communities.data / fit_communities.sum(\"strain\"))\n",
    "fit_genotypes = fit.genotypes.mlift('sel', strain=fit_communities.strain)\n",
    "\n",
    "fit = sf.World.from_combined(fit_communities, fit_genotypes, fit.metagenotypes)\n",
    "print(fit.sizes)"
   ]
  },
  {
   "cell_type": "code",
   "execution_count": null,
   "metadata": {},
   "outputs": [],
   "source": [
    "ref = sf.data.Metagenotypes.load(f'data/gtprodb.sp-{species_id}.genotype.nc').mlift('sel', position=fit.position).to_estimated_genotypes(pseudo=0)\n",
    "ref.sizes"
   ]
  },
  {
   "cell_type": "code",
   "execution_count": null,
   "metadata": {},
   "outputs": [],
   "source": [
    "plt.hist(ref.mean('strain'))"
   ]
  },
  {
   "cell_type": "code",
   "execution_count": null,
   "metadata": {},
   "outputs": [],
   "source": [
    "# TODO: Decide if I want to discretize here.\n",
    "ref_dist = ref.discretized().pdist()\n",
    "fit_dist = fit_genotypes.discretized().pdist()"
   ]
  },
  {
   "cell_type": "code",
   "execution_count": null,
   "metadata": {},
   "outputs": [],
   "source": [
    "dedup_thresh = 0.05\n",
    "\n",
    "ref_clust = pd.Series(\n",
    "    AgglomerativeClustering(\n",
    "        distance_threshold=dedup_thresh, n_clusters=None, affinity='precomputed', linkage='average'\n",
    "    ).fit_predict(ref_dist),\n",
    "    index=ref_dist.columns,\n",
    ")\n",
    "fit_clust = pd.Series(\n",
    "    AgglomerativeClustering(\n",
    "        distance_threshold=dedup_thresh, n_clusters=None, affinity='precomputed', linkage='average'\n",
    "    ).fit_predict(fit_dist),\n",
    "    index=fit_dist.columns.astype(int),\n",
    ")\n",
    "\n",
    "ref_clust.value_counts()"
   ]
  },
  {
   "cell_type": "code",
   "execution_count": null,
   "metadata": {},
   "outputs": [],
   "source": [
    "fit_clust.value_counts().sort_values(ascending=False).head()"
   ]
  },
  {
   "cell_type": "code",
   "execution_count": null,
   "metadata": {},
   "outputs": [],
   "source": [
    "ref_dedup = sf.Genotypes(ref.to_series().unstack('strain').groupby(ref_clust, axis='columns').mean().rename_axis(columns='strain').T.stack().to_xarray())\n",
    "fit_dedup = sf.Genotypes(fit_genotypes.to_series().unstack('strain').groupby(fit_clust, axis='columns').mean().rename(columns=lambda x: int(x)).rename_axis(columns='strain').T.stack().to_xarray())"
   ]
  },
  {
   "cell_type": "code",
   "execution_count": null,
   "metadata": {},
   "outputs": [],
   "source": [
    "(ref.sizes['strain'], ref_dedup.sizes['strain']), (fit_genotypes.sizes['strain'], fit_dedup.sizes['strain'])"
   ]
  },
  {
   "cell_type": "code",
   "execution_count": null,
   "metadata": {},
   "outputs": [],
   "source": [
    "from scipy.spatial.distance import pdist, squareform\n",
    "\n",
    "g = sf.data.Genotypes.concat(dict(\n",
    "    ref=ref_dedup,\n",
    "    fit=fit_dedup,\n",
    "), dim='strain')\n",
    "\n",
    "dist = pd.DataFrame(g.discretized().pdist(), index=g.strain, columns=g.strain)"
   ]
  },
  {
   "cell_type": "code",
   "execution_count": null,
   "metadata": {},
   "outputs": [],
   "source": [
    "clust_thresh = 0.15\n",
    "\n",
    "all_clust = pd.Series(\n",
    "    AgglomerativeClustering(\n",
    "        distance_threshold=clust_thresh, n_clusters=None, affinity='precomputed', linkage='average'\n",
    "    ).fit_predict(dist),\n",
    "    index=g.strain,\n",
    ")\n",
    "\n",
    "clust_type = all_clust.index.to_series().str[:3]"
   ]
  },
  {
   "cell_type": "code",
   "execution_count": null,
   "metadata": {},
   "outputs": [],
   "source": [
    "from itertools import product\n",
    "    \n",
    "def count_clust_types(clust, key):\n",
    "    clust_types = (\n",
    "        clust\n",
    "        .to_frame(name='clust')\n",
    "        .assign(key=key)\n",
    "        .groupby(['clust', 'key'])\n",
    "        .apply(len)\n",
    "        .unstack(fill_value=0)\n",
    "    )\n",
    "    all_keys = clust_types.columns.to_list()\n",
    "    all_possible_clust_types = pd.DataFrame(product([True, False], repeat=len(all_keys)), columns=all_keys)\n",
    "    return clust_types, clust_types.apply(lambda x: x > 0).groupby(all_keys).apply(len).reindex(all_possible_clust_types, fill_value=0)\n",
    "\n",
    "clust_stats, clust_type_tally = count_clust_types(all_clust, clust_type)\n",
    "\n",
    "clust_type_tally"
   ]
  },
  {
   "cell_type": "code",
   "execution_count": null,
   "metadata": {},
   "outputs": [],
   "source": [
    "_clust_stats = (\n",
    "    clust_stats\n",
    "    .assign(\n",
    "        tally=lambda x: x.sum(1),\n",
    "    )\n",
    "    .assign(only_fit=lambda x: x.ref==0, only_ref=lambda x: x.fit==0)\n",
    "    .assign(both=lambda x: ~(x.only_fit | x.only_ref))\n",
    "    .assign(clust_class=lambda x: x[['only_ref', 'both', 'only_fit']].values.argmax(1))\n",
    ")\n",
    "\n",
    "clust_genotypes = sf.Genotypes(g.to_series().unstack('strain').groupby(all_clust, axis='columns').mean().rename_axis(columns='strain').T.stack().to_xarray())\n",
    "\n",
    "sf.plot.plot_genotype(\n",
    "    clust_genotypes.random_sample(position=2500),\n",
    "    row_colors_func=lambda w: _clust_stats[['clust_class']].to_xarray(),\n",
    "    scaley=1e-2,\n",
    "    scalex=3e-3,\n",
    "    yticklabels=0\n",
    ")"
   ]
  },
  {
   "cell_type": "code",
   "execution_count": null,
   "metadata": {},
   "outputs": [],
   "source": [
    "sf.plot.plot_genotype(\n",
    "    clust_genotypes.discretized().random_sample(position=2500),\n",
    "    row_colors_func=lambda w: _clust_stats[['clust_class']].to_xarray(),\n",
    "    scaley=1e-2,\n",
    "    scalex=3e-3,\n",
    "    yticklabels=0\n",
    ")"
   ]
  },
  {
   "cell_type": "code",
   "execution_count": null,
   "metadata": {},
   "outputs": [],
   "source": [
    "fig, ax = plt.subplots(figsize=(5, 0.5))\n",
    "\n",
    "for label, c in zip(['Reference Only', 'Both', 'Inferred Only'], mpl.cm.viridis([0, 0.5, 1.0])):\n",
    "    ax.scatter([], [], marker='s', label=label, c=[c])\n",
    "ax.legend(ncol=3)\n",
    "ax.axis('off')\n",
    "\n",
    "fig.tight_layout()\n",
    "\n",
    "fig.savefig('fig/cocluster_legend.png', dpi=400, bbox_inches=0, pad_inches='tight')"
   ]
  },
  {
   "cell_type": "code",
   "execution_count": null,
   "metadata": {},
   "outputs": [],
   "source": [
    "fig, ax = plt.subplots(figsize=(2, 1.5))\n",
    "\n",
    "for label, c in zip(['Reference', 'Both', 'Inferred'], mpl.cm.viridis([0, 0.5, 1.0])):\n",
    "    ax.scatter([], [], marker='s', label=label, c=[c])\n",
    "ax.legend()\n",
    "ax.axis('off')\n",
    "\n",
    "fig.tight_layout()\n",
    "\n",
    "fig.savefig('fig/cocluster_legend_vertical.png', dpi=400, bbox_inches=0, pad_inches='tight')"
   ]
  },
  {
   "cell_type": "code",
   "execution_count": null,
   "metadata": {},
   "outputs": [],
   "source": [
    "np.random.seed(0)\n",
    "\n",
    "sf.plot.plot_genotype(\n",
    "    clust_genotypes.discretized().random_sample(position=3500),\n",
    "    row_colors_func=lambda w: _clust_stats[['clust_class']].to_xarray(),\n",
    "    row_linkage_func=lambda w: clust_genotypes.linkage(method='complete'),\n",
    "    scaley=3e-2,\n",
    "    scalex=2e-3,\n",
    "    yticklabels=0,\n",
    "    dheight=0.001,\n",
    "    cmap='gray_r',\n",
    "    norm=mpl.colors.PowerNorm(1, vmin=-0.1, vmax=1.),\n",
    ")\n",
    "\n",
    "plt.savefig(f'fig/coclustering_{species_id}.png', dpi=400)"
   ]
  },
  {
   "cell_type": "code",
   "execution_count": null,
   "metadata": {},
   "outputs": [],
   "source": [
    "len(_clust_stats)"
   ]
  },
  {
   "cell_type": "code",
   "execution_count": null,
   "metadata": {},
   "outputs": [],
   "source": [
    "# Count the number of each type of genotype in each type of cluster.\n",
    "_clust_stats.groupby(['only_fit', 'both', 'only_ref'])[['fit', 'ref']].sum().apply(lambda x: x / x.sum())"
   ]
  },
  {
   "cell_type": "code",
   "execution_count": null,
   "metadata": {},
   "outputs": [],
   "source": [
    "np.random.seed(0)\n",
    "\n",
    "def permutation_clust_types(clust, key, n=1, progress=False):\n",
    "    _, observed = count_clust_types(clust, key)\n",
    "    permutations = []\n",
    "    for _ in tqdm(range(n), disable=(not progress)):\n",
    "        perm_clust = pd.Series(np.random.choice(clust.values, size=len(clust), replace=False), index=clust.index)\n",
    "        permutations.append(count_clust_types(perm_clust, key)[1])\n",
    "    return observed, pd.DataFrame(permutations)\n",
    "\n",
    "obs, perm = permutation_clust_types(all_clust, all_clust.index.to_series().str[:3], n=9999, progress=True)"
   ]
  },
  {
   "cell_type": "code",
   "execution_count": null,
   "metadata": {},
   "outputs": [],
   "source": [
    "obs.to_frame(name='tally').assign(frac=lambda x: x / x.sum())"
   ]
  },
  {
   "cell_type": "code",
   "execution_count": null,
   "metadata": {},
   "outputs": [],
   "source": [
    "fig, axs = plt.subplots(3, figsize=(5, 5), sharex=True, sharey=True)\n",
    "\n",
    "for (key, c, label), ax in zip([((True, True), 'grey', 'both'), ((True, False), 'tab:red', 'fit'), ((False, True), 'tab:blue', 'ref')], axs):\n",
    "    ax.hist(perm[key], color=c)\n",
    "    ax.axvline(obs[key], color=c, label=label)\n",
    "    ax.set_title(label)\n",
    "fig.tight_layout()"
   ]
  },
  {
   "cell_type": "code",
   "execution_count": null,
   "metadata": {},
   "outputs": [],
   "source": [
    "def tally_permutation_test(obs, perm):    \n",
    "    out = {}\n",
    "    for key in obs.index:\n",
    "        out[key, '>'] = ((obs[key] > perm[key]).sum())\n",
    "        out[key, '=='] = ((obs[key] == perm[key]).sum())\n",
    "        out[key, '<'] = ((obs[key] < perm[key]).sum())\n",
    "    return pd.Series(out).unstack()\n",
    "\n",
    "tally_permutation_test(obs, perm).apply(lambda x: x / x.sum(), axis=1)"
   ]
  },
  {
   "cell_type": "code",
   "execution_count": null,
   "metadata": {},
   "outputs": [],
   "source": [
    "np.random.seed(0)\n",
    "\n",
    "def permutation_strain_clust_type(clust, key, n=1, progress=False):\n",
    "    clust_stats, _ = count_clust_types(clust, key)\n",
    "    observed = clust_stats.groupby((clust_stats > 0).apply(lambda x: tuple(x), axis=1)).sum().stack()\n",
    "    permutations = []\n",
    "    for _ in tqdm(range(n), disable=(not progress)):\n",
    "        perm_clust = pd.Series(np.random.choice(clust.values, size=len(clust), replace=False), index=clust.index)\n",
    "        perm_clust_stats, _ = count_clust_types(perm_clust, key)\n",
    "        permutations.append(perm_clust_stats.groupby((perm_clust_stats > 0).apply(lambda x: tuple(x), axis=1)).sum().stack())\n",
    "    return observed, pd.DataFrame(permutations)\n",
    "\n",
    "obs2, perm2 = permutation_strain_clust_type(all_clust, all_clust.index.to_series().str[:3], n=9999, progress=True)"
   ]
  },
  {
   "cell_type": "code",
   "execution_count": null,
   "metadata": {},
   "outputs": [],
   "source": [
    "obs2"
   ]
  },
  {
   "cell_type": "code",
   "execution_count": null,
   "metadata": {},
   "outputs": [],
   "source": [
    "perm2"
   ]
  },
  {
   "cell_type": "code",
   "execution_count": null,
   "metadata": {},
   "outputs": [],
   "source": [
    "fig, axs = plt.subplots(5, figsize=(5, 5), sharex=True, sharey=True)\n",
    "\n",
    "for (key, c, label), ax in zip(\n",
    "    [\n",
    "        (((True, False), 'fit'), 'tab:blue', 'fit'),\n",
    "        (((False, True), 'ref'), 'tab:red', 'ref'),\n",
    "    ],\n",
    "    axs\n",
    "):\n",
    "    ax.hist(perm2[key], color=c)\n",
    "    ax.axvline(obs2[key], color=c, label=label)\n",
    "    ax.set_title(label)\n",
    "    \n",
    "    \n",
    "\n",
    "ax = axs[2]\n",
    "c = 'grey'\n",
    "ax.hist(perm2[((True, True), 'fit')] + perm2[((True, True), 'ref')], color=c)\n",
    "ax.axvline(obs2[((True, True), 'fit')] + obs2[((True, True), 'ref')], c=c)\n",
    "ax.set_title('both (both)')\n",
    "\n",
    "ax = axs[3]\n",
    "c = 'grey'\n",
    "ax.hist(perm2[((True, True), 'fit')], color=c)\n",
    "ax.axvline(obs2[((True, True), 'fit')], c=c)\n",
    "ax.set_title('both (fit)')\n",
    "\n",
    "ax = axs[4]\n",
    "c = 'grey'\n",
    "ax.hist(perm2[((True, True), 'ref')], color=c)\n",
    "ax.axvline(obs2[((True, True), 'ref')], c=c)\n",
    "ax.set_title('both (ref)')\n",
    "\n",
    "fig.tight_layout()"
   ]
  },
  {
   "cell_type": "code",
   "execution_count": null,
   "metadata": {},
   "outputs": [],
   "source": [
    "(\n",
    "    (perm2[((True, True), 'fit')] + perm2[((True, True), 'ref')])\n",
    "    >=\n",
    "    (obs2[((True, True), 'fit')] + obs2[((True, True), 'ref')])\n",
    ").mean()"
   ]
  },
  {
   "cell_type": "code",
   "execution_count": null,
   "metadata": {},
   "outputs": [],
   "source": [
    "(\n",
    "    perm2[((True, False), 'fit')]\n",
    "    >= \n",
    "    obs2[((True, False), 'fit')]\n",
    ").mean()"
   ]
  },
  {
   "cell_type": "code",
   "execution_count": null,
   "metadata": {},
   "outputs": [],
   "source": []
  }
 ],
 "metadata": {
  "kernelspec": {
   "display_name": "Python 3",
   "language": "python",
   "name": "python3"
  },
  "language_info": {
   "codemirror_mode": {
    "name": "ipython",
    "version": 3
   },
   "file_extension": ".py",
   "mimetype": "text/x-python",
   "name": "python",
   "nbconvert_exporter": "python",
   "pygments_lexer": "ipython3",
   "version": "3.7.10"
  }
 },
 "nbformat": 4,
 "nbformat_minor": 5
}