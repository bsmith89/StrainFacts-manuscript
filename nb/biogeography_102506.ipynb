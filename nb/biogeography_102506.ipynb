{
 "cells": [
  {
   "cell_type": "markdown",
   "metadata": {},
   "source": [
    "## Preamble"
   ]
  },
  {
   "cell_type": "code",
   "execution_count": null,
   "metadata": {},
   "outputs": [],
   "source": [
    "%load_ext autoreload\n",
    "%autoreload 0"
   ]
  },
  {
   "cell_type": "code",
   "execution_count": null,
   "metadata": {},
   "outputs": [],
   "source": [
    "%autoreload"
   ]
  },
  {
   "cell_type": "code",
   "execution_count": null,
   "metadata": {},
   "outputs": [],
   "source": [
    "import sys\n",
    "sys.path.append('/pollard/home/bsmith/Projects/haplo-benchmark/include/StrainFacts')"
   ]
  },
  {
   "cell_type": "code",
   "execution_count": null,
   "metadata": {},
   "outputs": [],
   "source": [
    "import xarray as xr\n",
    "import sqlite3\n",
    "import pandas as pd\n",
    "import matplotlib as mpl\n",
    "import matplotlib.pyplot as plt\n",
    "import seaborn as sns\n",
    "import numpy as np\n",
    "import warnings\n",
    "import torch\n",
    "import pyro\n",
    "import scipy as sp\n",
    "\n",
    "import lib.plot\n",
    "from scipy.spatial.distance import pdist, squareform\n",
    "from sklearn.metrics.pairwise import pairwise_distances\n",
    "from sklearn.cluster import AgglomerativeClustering\n",
    "from lib.pandas_util import idxwhere\n",
    "\n",
    "\n",
    "import sfacts as sf\n",
    "\n",
    "# from lib.project_style import color_palette, major_allele_frequency_bins\n",
    "# from lib.project_data import metagenotype_db_to_xarray\n",
    "# from lib.plot import ordination_plot, mds_ordination, nmds_ordination\n",
    "# import lib.plot\n",
    "# from lib.plot import construct_ordered_pallete\n",
    "# from lib.pandas_util import idxwhere"
   ]
  },
  {
   "cell_type": "markdown",
   "metadata": {},
   "source": [
    "## Load Data"
   ]
  },
  {
   "cell_type": "code",
   "execution_count": null,
   "metadata": {},
   "outputs": [],
   "source": [
    "fit = sf.data.World.load('data/zshi.sp-102506.metagenotype.filt-poly05-cvrg25-g500.fit-sfacts13-s500-g500-seed0.world.nc')\n",
    "fit.sizes"
   ]
  },
  {
   "cell_type": "code",
   "execution_count": null,
   "metadata": {},
   "outputs": [],
   "source": [
    "ref = sf.data.Metagenotypes.load('data/gtprodb.sp-102506.genotype.nc').mlift('sel', position=fit.position).to_estimated_genotypes(pseudo=0)\n",
    "ref.sizes"
   ]
  },
  {
   "cell_type": "code",
   "execution_count": null,
   "metadata": {},
   "outputs": [],
   "source": [
    "bins = np.linspace(0, 1, num=51)\n",
    "\n",
    "plt.hist(fit.metagenotypes.to_estimated_genotypes(pseudo=1e-10).entropy(), bins=bins, alpha=0.5)\n",
    "plt.hist(fit.genotypes.entropy(), bins=bins, alpha=0.5)\n",
    "plt.hist(ref.entropy(), bins=bins, alpha=0.5)\n",
    "\n",
    "plt.yscale('log')\n",
    "None"
   ]
  },
  {
   "cell_type": "code",
   "execution_count": null,
   "metadata": {},
   "outputs": [],
   "source": [
    "bins = np.linspace(0, 1, num=51)\n",
    "\n",
    "fig, axs = plt.subplots(2)\n",
    "axs[0].hist(fit.genotypes.values.flatten(), bins=bins)\n",
    "axs[1].hist(fit.communities.max(\"strain\").values.flatten(), bins=bins)\n",
    "\n",
    "for ax in axs:\n",
    "    ax.set_yscale('log')\n",
    "None"
   ]
  },
  {
   "cell_type": "code",
   "execution_count": null,
   "metadata": {},
   "outputs": [],
   "source": [
    "sf.plot.plot_genotype(fit, scaley=2e-2, scalex=1e-3, yticklabels=0)"
   ]
  },
  {
   "cell_type": "code",
   "execution_count": null,
   "metadata": {},
   "outputs": [],
   "source": [
    "sf.plot.plot_genotype(ref, scaley=1e-2, scalex=1e-3, yticklabels=0)"
   ]
  },
  {
   "cell_type": "code",
   "execution_count": null,
   "metadata": {},
   "outputs": [],
   "source": [
    "fit_genotypes_filt = fit.genotypes.mlift('sel', strain=fit.genotypes.entropy() < 0.25)\n",
    "fit_genotypes_highent = fit.genotypes.mlift('sel', strain=fit.genotypes.entropy() > 0.25)\n",
    "\n",
    "fit_genotypes_filt.sizes, fit_genotypes_highent.sizes"
   ]
  },
  {
   "cell_type": "code",
   "execution_count": null,
   "metadata": {},
   "outputs": [],
   "source": [
    "plt.hist(squareform(fit_genotypes_filt.pdist()), bins=np.linspace(0, 0.5, num=101))\n",
    "plt.yscale('log')\n",
    "None"
   ]
  },
  {
   "cell_type": "code",
   "execution_count": null,
   "metadata": {},
   "outputs": [],
   "source": [
    "g = sf.data.Genotypes.concat(dict(\n",
    "    bad=fit_genotypes_highent,\n",
    "    good=fit_genotypes_filt\n",
    "), dim='strain')\n",
    "\n",
    "\n",
    "sf.plot.plot_genotype(g, row_colors_func=lambda w: w.strain.str.startswith('good'), scaley=2e-2, scalex=1e-3, yticklabels=0)"
   ]
  },
  {
   "cell_type": "code",
   "execution_count": null,
   "metadata": {},
   "outputs": [],
   "source": [
    "g = sf.data.Genotypes.concat(dict(\n",
    "    ref=ref,\n",
    "    fit=fit_genotypes_filt,\n",
    "    ent=fit_genotypes_highent,\n",
    "), dim='strain')\n",
    "\n",
    "\n",
    "sf.plot.plot_genotype(g, row_colors_func=lambda w: w.strain.str.startswith('fit'), scaley=2e-2, scalex=1e-3, yticklabels=0)"
   ]
  },
  {
   "cell_type": "code",
   "execution_count": null,
   "metadata": {},
   "outputs": [],
   "source": [
    "g = sf.data.Genotypes.concat(dict(\n",
    "    ref=ref,\n",
    "    fit=fit_genotypes_filt,\n",
    "), dim='strain')\n",
    "\n",
    "\n",
    "sf.plot.plot_genotype(g, row_colors_func=lambda w: w.strain.str.startswith('fit'), scaley=2e-2, scalex=1e-3, yticklabels=0)"
   ]
  },
  {
   "cell_type": "code",
   "execution_count": null,
   "metadata": {},
   "outputs": [],
   "source": [
    "sample_meta = pd.read_table('raw/shi2019s13.tsv').set_index('NCBI Accession Number')\n",
    "\n",
    "sample_meta.groupby(['Continent', 'Country', 'Study']).apply(len)"
   ]
  },
  {
   "cell_type": "code",
   "execution_count": null,
   "metadata": {},
   "outputs": [],
   "source": [
    "dominant_strain = fit.communities.data.argmax(\"strain\").to_series()\n",
    "top_strains = list(dominant_strain.value_counts().sort_values(ascending=False).head(20).index)\n",
    "\n",
    "d = (\n",
    "    dominant_strain\n",
    "    .to_frame(name='strain')\n",
    "    .join(sample_meta, how='inner')\n",
    "    .groupby(['Continent', 'Country', 'Study', 'strain'])\n",
    "    .apply(len)\n",
    "    .unstack('strain', fill_value=0)\n",
    "    .apply(lambda x: x / x.sum(), axis=1)\n",
    "    .assign(other=lambda x: 1 - x[top_strains].sum(1))\n",
    "    [top_strains + ['other']]\n",
    "    [sample_meta.groupby(['Continent', 'Country', 'Study']).apply(len) > 5]\n",
    ")\n",
    "\n",
    "\n",
    "lib.plot.construct_ordered_pallete(top_strains)\n",
    "\n",
    "ax = (\n",
    "    d\n",
    "    .plot\n",
    "    .bar(\n",
    "        stacked=True, color=lib.plot.construct_ordered_pallete(top_strains, cm='tab20c', other='whitesmoke'),\n",
    "        figsize=(10, 5)\n",
    "    )\n",
    ")\n",
    "ax.legend(bbox_to_anchor=(1, 1))"
   ]
  },
  {
   "cell_type": "code",
   "execution_count": null,
   "metadata": {},
   "outputs": [],
   "source": [
    "d = pd.DataFrame(dict(\n",
    "    total=(fit.communities.data * fit.data.mu).sum(\"sample\"),\n",
    "    maximum=(fit.communities.data * fit.data.mu).max(\"sample\"),\n",
    "))\n",
    "\n",
    "sns.jointplot(y='total', x='maximum', data=np.log10(d))"
   ]
  },
  {
   "cell_type": "code",
   "execution_count": null,
   "metadata": {},
   "outputs": [],
   "source": [
    "plt.hist((fit.communities.data * fit.data.mu).sum(\"sample\").to_series().apply(np.log10), bins=np.linspace(0, 4, num=101))\n",
    "plt.hist((fit.communities.data * fit.data.mu).max(\"sample\").to_series().apply(np.log10), bins=np.linspace(0, 4, num=101))\n",
    "\n",
    "plt.yscale('log')"
   ]
  },
  {
   "cell_type": "code",
   "execution_count": null,
   "metadata": {},
   "outputs": [],
   "source": [
    "dominant_strain = fit.communities.data.argmax(\"strain\").to_series()\n",
    "top_strains = list(dominant_strain.value_counts().sort_values(ascending=False).head(20).index)\n",
    "\n",
    "d0 = (\n",
    "    dominant_strain\n",
    "    .to_frame(name='strain')\n",
    "    .join(sample_meta, how='inner')\n",
    "    .groupby(['Continent', 'Country', 'Study', 'strain'])\n",
    "    .apply(len)\n",
    ")\n",
    "    \n",
    "d1 = (\n",
    "    d0\n",
    "    .unstack('strain', fill_value=0)\n",
    "    .apply(lambda x: x / x.sum(), axis=1)\n",
    "    .assign(other=lambda x: 1 - x[top_strains].sum(1))\n",
    "    [top_strains + ['other']]\n",
    "    [(d0.groupby(['Continent', 'Country', 'Study']).sum() >= 5)]\n",
    ")\n",
    "\n",
    "\n",
    "lib.plot.construct_ordered_pallete(top_strains)\n",
    "\n",
    "ax = (\n",
    "    d1\n",
    "    .plot\n",
    "    .bar(\n",
    "        stacked=True, color=lib.plot.construct_ordered_pallete(top_strains, cm='tab20c', other='whitesmoke'),\n",
    "        figsize=(10, 5)\n",
    "    )\n",
    ")\n",
    "ax.legend(bbox_to_anchor=(1, 1))"
   ]
  },
  {
   "cell_type": "code",
   "execution_count": null,
   "metadata": {},
   "outputs": [],
   "source": [
    "dominant_strain = fit.communities.data.argmax(\"strain\").to_series()\n",
    "# top_strains = list(dominant_strain.value_counts().sort_values(ascending=False).head(20).index)\n",
    "\n",
    "d0 = (\n",
    "    dominant_strain\n",
    "    .to_frame(name='strain')\n",
    "    .join(sample_meta, how='inner')\n",
    "    .groupby(['Continent', 'Country', 'Study', 'strain'])\n",
    "    .apply(len)\n",
    ")\n",
    "    \n",
    "d1 = (\n",
    "    d0\n",
    "    .unstack('strain', fill_value=0)\n",
    "    .apply(lambda x: x / x.sum(), axis=1)\n",
    "#     .assign(other=lambda x: 1 - x[top_strains].sum(1))\n",
    "#     [top_strains + ['other']]\n",
    "    [(d0.groupby(['Continent', 'Country', 'Study']).sum() >= 5)]\n",
    "    .reindex(fit.strain, axis='columns')\n",
    "    .fillna(0)\n",
    ")\n",
    "\n",
    "\n",
    "sns.clustermap(\n",
    "    d1,\n",
    "    norm=mpl.colors.PowerNorm(1/4),\n",
    "    col_linkage=fit.genotypes.linkage(),\n",
    "    metric='cosine',\n",
    "    cmap='pink_r',\n",
    ")"
   ]
  },
  {
   "cell_type": "code",
   "execution_count": null,
   "metadata": {},
   "outputs": [],
   "source": [
    "clust = pd.Series(\n",
    "    AgglomerativeClustering(\n",
    "        distance_threshold=0.15, n_clusters=None, affinity='precomputed', linkage='complete'\n",
    "    ).fit_predict(fit.genotypes.pdist()),\n",
    "    index=fit.strain,\n",
    ")\n",
    "\n",
    "\n",
    "agg_communities = fit.communities.to_series().unstack().groupby(clust, axis='columns').sum()\n",
    "\n",
    "clust.value_counts()"
   ]
  },
  {
   "cell_type": "code",
   "execution_count": null,
   "metadata": {},
   "outputs": [],
   "source": [
    "dominant_strain = agg_communities.idxmax(1)\n",
    "top_strains = list(dominant_strain.value_counts().sort_values(ascending=False).head(10).index)\n",
    "\n",
    "d = (\n",
    "    dominant_strain\n",
    "    .to_frame(name='strain')\n",
    "    .join(sample_meta, how='inner')\n",
    "    .groupby(['Continent', 'Country', 'Study', 'strain'])\n",
    "    .apply(len)\n",
    "    .unstack('strain', fill_value=0)\n",
    "    .apply(lambda x: x / x.sum(), axis=1)\n",
    "    .assign(other=lambda x: 1 - x[top_strains].sum(1))\n",
    "    [top_strains + ['other']]\n",
    "    [sample_meta.groupby(['Continent', 'Country', 'Study']).apply(len) > 5]\n",
    ")\n",
    "\n",
    "\n",
    "lib.plot.construct_ordered_pallete(top_strains)\n",
    "\n",
    "ax = (\n",
    "    d\n",
    "    .plot\n",
    "    .bar(\n",
    "        stacked=True, color=lib.plot.construct_ordered_pallete(top_strains, cm='tab20c', other='whitesmoke'),\n",
    "        figsize=(10, 5)\n",
    "    )\n",
    ")\n",
    "ax.legend(bbox_to_anchor=(1, 1))"
   ]
  },
  {
   "cell_type": "code",
   "execution_count": null,
   "metadata": {},
   "outputs": [],
   "source": [
    "dominant_strain = agg_communities.idxmax(1)\n",
    "top_strains = list(dominant_strain.value_counts().sort_values(ascending=False).head(20).index)\n",
    "\n",
    "d0 = (\n",
    "    dominant_strain\n",
    "    .to_frame(name='strain')\n",
    "    .join(sample_meta, how='inner')\n",
    "    .groupby(['Continent', 'Country', 'Study', 'strain'])\n",
    "    .apply(len)\n",
    ")\n",
    "    \n",
    "d1 = (\n",
    "    d0\n",
    "    .unstack('strain', fill_value=0)\n",
    "    .apply(lambda x: x / x.sum(), axis=1)\n",
    "    .assign(other=lambda x: 1 - x[top_strains].sum(1))\n",
    "    [top_strains + ['other']]\n",
    "    [(d0.groupby(['Continent', 'Country', 'Study']).sum() >= 5)]\n",
    ")\n",
    "\n",
    "\n",
    "lib.plot.construct_ordered_pallete(top_strains)\n",
    "\n",
    "ax = (\n",
    "    d1\n",
    "    .plot\n",
    "    .bar(\n",
    "        stacked=True, color=lib.plot.construct_ordered_pallete(top_strains, cm='tab20c', other='whitesmoke'),\n",
    "        figsize=(10, 5)\n",
    "    )\n",
    ")\n",
    "ax.legend(bbox_to_anchor=(1, 1))"
   ]
  },
  {
   "cell_type": "code",
   "execution_count": null,
   "metadata": {},
   "outputs": [],
   "source": [
    "dominant_strain = agg_communities.idxmax(1)\n",
    "# top_strains = list(dominant_strain.value_counts().sort_values(ascending=False).head(20).index)\n",
    "\n",
    "d0 = (\n",
    "    dominant_strain\n",
    "    .to_frame(name='strain')\n",
    "    .join(sample_meta, how='inner')\n",
    "    .groupby(['Continent', 'Country', 'Study', 'strain'])\n",
    "    .apply(len)\n",
    ")\n",
    "    \n",
    "d1 = (\n",
    "    d0\n",
    "    .unstack('strain', fill_value=0)\n",
    "    .apply(lambda x: x / x.sum(), axis=1)\n",
    "    .assign(other=lambda x: 1 - x[top_strains].sum(1))\n",
    "#     [top_strains + ['other']]\n",
    "    [(d0.groupby(['Continent', 'Country', 'Study']).sum() >= 5)]\n",
    ")\n",
    "\n",
    "\n",
    "sns.clustermap(d1, norm=mpl.colors.PowerNorm(1/2))"
   ]
  },
  {
   "cell_type": "code",
   "execution_count": null,
   "metadata": {},
   "outputs": [],
   "source": []
  }
 ],
 "metadata": {
  "kernelspec": {
   "display_name": "Python 3",
   "language": "python",
   "name": "python3"
  },
  "language_info": {
   "codemirror_mode": {
    "name": "ipython",
    "version": 3
   },
   "file_extension": ".py",
   "mimetype": "text/x-python",
   "name": "python",
   "nbconvert_exporter": "python",
   "pygments_lexer": "ipython3",
   "version": "3.7.10"
  }
 },
 "nbformat": 4,
 "nbformat_minor": 5
}