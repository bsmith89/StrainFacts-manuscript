{
 "cells": [
  {
   "cell_type": "markdown",
   "metadata": {},
   "source": [
    "## Preamble"
   ]
  },
  {
   "cell_type": "code",
   "execution_count": null,
   "metadata": {},
   "outputs": [],
   "source": [
    "%load_ext autoreload\n",
    "%autoreload 0"
   ]
  },
  {
   "cell_type": "code",
   "execution_count": null,
   "metadata": {},
   "outputs": [],
   "source": [
    "%autoreload"
   ]
  },
  {
   "cell_type": "code",
   "execution_count": null,
   "metadata": {},
   "outputs": [],
   "source": [
    "import sys\n",
    "sys.path.append('/pollard/home/bsmith/Projects/haplo-benchmark/include/StrainFacts')"
   ]
  },
  {
   "cell_type": "code",
   "execution_count": null,
   "metadata": {},
   "outputs": [],
   "source": [
    "import xarray as xr\n",
    "import sqlite3\n",
    "import pandas as pd\n",
    "import matplotlib as mpl\n",
    "import matplotlib.pyplot as plt\n",
    "import seaborn as sns\n",
    "import numpy as np\n",
    "import warnings\n",
    "import torch\n",
    "import pyro\n",
    "import scipy as sp\n",
    "from tqdm import tqdm\n",
    "\n",
    "import lib.plot\n",
    "from scipy.spatial.distance import pdist, squareform\n",
    "from sklearn.metrics.pairwise import pairwise_distances\n",
    "from sklearn.cluster import AgglomerativeClustering\n",
    "from lib.pandas_util import idxwhere\n",
    "\n",
    "import sfacts as sf\n",
    "\n",
    "from tqdm import tqdm\n",
    "\n",
    "# from lib.project_style import color_palette, major_allele_frequency_bins\n",
    "# from lib.project_data import metagenotype_db_to_xarray\n",
    "# from lib.plot import ordination_plot, mds_ordination, nmds_ordination\n",
    "# import lib.plot\n",
    "# from lib.plot import construct_ordered_pallete\n",
    "# from lib.pandas_util import idxwhere"
   ]
  },
  {
   "cell_type": "markdown",
   "metadata": {},
   "source": [
    "## Load Data"
   ]
  },
  {
   "cell_type": "code",
   "execution_count": null,
   "metadata": {},
   "outputs": [],
   "source": [
    "species_id = 102492\n",
    "\n",
    "fit = sf.data.World.load(f'data/zshi.sp-{species_id}.metagenotype.filt-poly05-cvrg25.fit-sfacts44-s200-g5000-seed0.refit-sfacts41-g10000-seed0.world.nc')\n",
    "fit.data['position'] = fit.data.position.astype(int)\n",
    "print(fit.sizes)\n",
    "\n",
    "\n",
    "cull_threshold = 0.05\n",
    "\n",
    "fit_communities = fit.communities.mlift('sel', strain=fit.communities.max(\"sample\") > cull_threshold)\n",
    "print((1 - fit_communities.sum(\"strain\")).max())\n",
    "fit_communities = sf.Communities(fit_communities.data / fit_communities.sum(\"strain\"))\n",
    "fit_genotypes = fit.genotypes.mlift('sel', strain=fit_communities.strain)\n",
    "\n",
    "fit = sf.World.from_combined(fit_communities, fit_genotypes, fit.metagenotypes)\n",
    "print(fit.sizes)"
   ]
  },
  {
   "cell_type": "code",
   "execution_count": null,
   "metadata": {},
   "outputs": [],
   "source": [
    "ref = sf.data.Metagenotypes.load(f'data/gtprodb.sp-{species_id}.genotype.nc')\n",
    "ref_genotypes = ref.mlift('sel', position=fit_genotypes.position).to_estimated_genotypes(pseudo=0)\n",
    "ref_genotypes.sizes"
   ]
  },
  {
   "cell_type": "code",
   "execution_count": null,
   "metadata": {},
   "outputs": [],
   "source": [
    "position_meta = pd.read_table(\n",
    "    'ref/gtpro/variants_main.covered.hq.snp_dict.tsv',\n",
    "    names=['species_id', 'position', 'contig', 'contig_position', 'ref', 'alt']\n",
    ").set_index('position')[lambda x: x.species_id.isin([species_id])]\n",
    "\n",
    "position_meta"
   ]
  },
  {
   "cell_type": "code",
   "execution_count": null,
   "metadata": {},
   "outputs": [],
   "source": [
    "fit_dist = fit_genotypes.discretized().pdist()\n",
    "ref_dist = ref_genotypes.discretized().pdist()"
   ]
  },
  {
   "cell_type": "code",
   "execution_count": null,
   "metadata": {},
   "outputs": [],
   "source": [
    "dedup_thresh = 0.05  # / distance_proportionality\n",
    "\n",
    "fit_dedup_clust = pd.Series(\n",
    "    AgglomerativeClustering(\n",
    "        distance_threshold=dedup_thresh, n_clusters=None, affinity='precomputed', linkage='average'\n",
    "    ).fit_predict(fit_dist),\n",
    "    index=fit_genotypes.strain.astype(int),\n",
    ")\n",
    "ref_dedup_clust = pd.Series(\n",
    "    AgglomerativeClustering(\n",
    "        distance_threshold=dedup_thresh, n_clusters=None, affinity='precomputed', linkage='average'\n",
    "    ).fit_predict(ref_dist),\n",
    "    index=ref_genotypes.strain,\n",
    ")"
   ]
  },
  {
   "cell_type": "code",
   "execution_count": null,
   "metadata": {},
   "outputs": [],
   "source": [
    "fit_genotypes_dedup = sf.Genotypes(fit_genotypes.to_series().unstack('strain').groupby(fit_dedup_clust, axis='columns').mean().rename(columns=lambda x: int(x)).rename_axis(columns='strain').T.stack().to_xarray())"
   ]
  },
  {
   "cell_type": "code",
   "execution_count": null,
   "metadata": {},
   "outputs": [],
   "source": [
    "ref_genotypes_dedup = sf.Genotypes(ref_genotypes.to_series().unstack('strain').groupby(ref_dedup_clust, axis='columns').mean().rename(columns=lambda x: int(x)).rename_axis(columns='strain').T.stack().to_xarray())"
   ]
  },
  {
   "cell_type": "code",
   "execution_count": null,
   "metadata": {},
   "outputs": [],
   "source": [
    "(fit_genotypes.sizes['strain'], fit_genotypes_dedup.sizes['strain']), (ref_genotypes.sizes['strain'], ref_genotypes_dedup.sizes['strain'])"
   ]
  },
  {
   "cell_type": "code",
   "execution_count": null,
   "metadata": {},
   "outputs": [],
   "source": [
    "_g_ref = ref_genotypes_dedup.random_sample(position=3681)  # FIXME: May not be a stable estimate until many positions are included (20k)\n",
    "r2_ref = (1 - pdist(_g_ref.values.T, 'correlation'))**2\n",
    "\n",
    "_g_fit = fit_genotypes_dedup.sel(position=_g_ref.position)  # FIXME: May not be a stable estimate until many positions are included (20k)\n",
    "r2_fit = (1 - pdist(_g_fit.values.T, 'correlation'))**2"
   ]
  },
  {
   "cell_type": "code",
   "execution_count": null,
   "metadata": {},
   "outputs": [],
   "source": [
    "np.mean(r2_ref), np.mean(r2_fit)"
   ]
  },
  {
   "cell_type": "code",
   "execution_count": null,
   "metadata": {},
   "outputs": [],
   "source": [
    "np.median(r2_ref), np.median(r2_fit)"
   ]
  },
  {
   "cell_type": "code",
   "execution_count": null,
   "metadata": {},
   "outputs": [],
   "source": [
    "np.quantile(r2_ref, 0.9), np.quantile(r2_fit, 0.9)"
   ]
  },
  {
   "cell_type": "code",
   "execution_count": null,
   "metadata": {},
   "outputs": [],
   "source": [
    "from scipy.stats import mannwhitneyu, wilcoxon\n",
    "\n",
    "n = 10000\n",
    "wilcoxon(r2_ref[:n], r2_fit[:n])"
   ]
  },
  {
   "cell_type": "code",
   "execution_count": null,
   "metadata": {},
   "outputs": [],
   "source": [
    "ld = {}\n",
    "for contig, pos in position_meta.loc[ref_genotypes_dedup.position].groupby('contig'):\n",
    "    print(contig)\n",
    "    g = ref_genotypes_dedup.sel(position=pos.index)\n",
    "    r2 = (1 - pdist(g.values.T, 'correlation'))**2\n",
    "    x = pdist(np.expand_dims(pos.contig_position.values, axis=1), 'cityblock')\n",
    "    ld[contig] = (x, r2)\n",
    "ref_ld = pd.DataFrame(np.concatenate([np.stack([x, r2], axis=1) for x, r2 in ld.values()]), columns=['x', 'r2'])"
   ]
  },
  {
   "cell_type": "code",
   "execution_count": null,
   "metadata": {},
   "outputs": [],
   "source": [
    "ld = {}\n",
    "for contig, pos in position_meta.loc[fit_genotypes_dedup.position].groupby('contig'):\n",
    "    print(contig)\n",
    "    g = fit_genotypes_dedup.sel(position=pos.index)\n",
    "    r2 = (1 - pdist(g.values.T, 'correlation'))**2\n",
    "    x = pdist(np.expand_dims(pos.contig_position.values, axis=1), 'cityblock')\n",
    "    ld[contig] = (x, r2)\n",
    "fit_ld = pd.DataFrame(np.concatenate([np.stack([x, r2], axis=1) for x, r2 in ld.values()]), columns=['x', 'r2'])"
   ]
  },
  {
   "cell_type": "code",
   "execution_count": null,
   "metadata": {},
   "outputs": [],
   "source": [
    "max_dist = 12000\n",
    "\n",
    "ld_profile = (\n",
    "    pd.DataFrame(dict(\n",
    "        x=fit_ld.x,\n",
    "        fit=fit_ld.r2,\n",
    "        ref=ref_ld.r2))\n",
    "    [lambda x: x.x < max_dist]\n",
    "    .groupby('x')\n",
    "    .quantile(0.9)\n",
    ")"
   ]
  },
  {
   "cell_type": "code",
   "execution_count": null,
   "metadata": {},
   "outputs": [],
   "source": [
    "nx, ny = 121, 51\n",
    "xlim = np.array([0.5, 1e5])\n",
    "ylim = np.array([0, 1])\n",
    "xbins = np.unique(np.floor(np.logspace(*np.log10(xlim), num=51)).astype(int))\n",
    "ybins = np.unique(np.linspace(*ylim, num=ny))\n",
    "\n",
    "d = fit_ld#[fit_ld.x < 1e5]\n",
    "\n",
    "hist, xedges, yedges = np.histogram2d(\n",
    "    d['x'],\n",
    "#     d['x'],\n",
    "    d['r2'],\n",
    "    bins=(xbins, ybins),\n",
    "#     range=np.array([[np.min(xbins), np.max(xbins)], [np.min(ybins), np.max(ybins)]]),\n",
    ")\n",
    "extent = [xedges[0], xedges[-1], yedges[0], yedges[-1]]\n",
    "hist = pd.DataFrame(hist, columns=yedges[1:], index=xedges[:-1]).T\n",
    "norm_hist = hist / hist.sum()"
   ]
  },
  {
   "cell_type": "code",
   "execution_count": null,
   "metadata": {},
   "outputs": [],
   "source": [
    "# TODO: Calculate the 90th percentile within the distance window from the histogram\n",
    "\n",
    "out = []\n",
    "for i, left in enumerate(xbins[:-1]):\n",
    "    right = xbins[i + 1]\n",
    "    out.append((\n",
    "        left,\n",
    "        right,\n",
    "        fit_ld[(fit_ld.x > left) & (fit_ld.x <= right)].r2.quantile(0.9),\n",
    "        ref_ld[(ref_ld.x > left) & (ref_ld.x <= right)].r2.quantile(0.9)\n",
    "    ))\n",
    "    \n",
    "hist_bin_quantile90 = pd.DataFrame(out, columns=['left', 'right', 'fit', 'ref'])"
   ]
  },
  {
   "cell_type": "code",
   "execution_count": null,
   "metadata": {},
   "outputs": [],
   "source": [
    "fig = plt.figure()\n",
    "\n",
    "plt.pcolormesh(norm_hist.columns, norm_hist.index, norm_hist, norm=mpl.colors.LogNorm(vmin=1e-3, vmax=1.0), cmap='binary')\n",
    "plt.xscale('log')\n",
    "plt.colorbar()\n",
    "\n",
    "\n",
    "ax = plt.gca()\n",
    "\n",
    "ax.scatter('x', 'ref', data=ld_profile.reset_index().assign(s=lambda x: 20 / x['x']), color='blue', label=f'reference genotypes', s='s', alpha=0.5)\n",
    "ax.scatter('x', 'fit', data=ld_profile.reset_index().assign(s=lambda x: 20 / x['x']), color='red', label=f'inferred genotypes', s='s', alpha=0.5)\n",
    "\n",
    "ax.plot('right', 'ref', data=hist_bin_quantile90, lw=1, color='blue', alpha=1)\n",
    "ax.plot('right', 'fit', data=hist_bin_quantile90, lw=1, color='red', alpha=1)\n",
    "\n",
    "\n",
    "ax.axhline(np.quantile(r2_ref, 0.9), lw=1, color='blue', linestyle='--')\n",
    "ax.axhline(np.quantile(r2_fit, 0.9), lw=1, color='red', linestyle='--')\n",
    "\n",
    "# ax.legend(title=f'Mean LD at pairwise distance')  #bbox_to_anchor=(0.85, 1.15), ncol=2\n",
    "\n",
    "ax.set_xlabel('Genomic Distance (bp)')\n",
    "ax.set_ylabel('LD ($r^2$)')\n",
    "ax.set_ylim(0, 1.03)\n",
    "ax.set_xlim(0.9, 1e4)\n",
    "\n",
    "\n",
    "fig.savefig(f'fig/ld_decay_{species_id}_90th.pdf', dpi=400)"
   ]
  },
  {
   "cell_type": "code",
   "execution_count": null,
   "metadata": {},
   "outputs": [],
   "source": [
    "fig = plt.figure()\n",
    "\n",
    "plt.pcolormesh(norm_hist.columns, norm_hist.index, norm_hist, norm=mpl.colors.LogNorm(vmin=1e-3, vmax=1.0), cmap='binary')\n",
    "plt.xscale('log')\n",
    "plt.colorbar()\n",
    "\n",
    "\n",
    "ax = plt.gca()\n",
    "\n",
    "# ax.scatter('x', 'ref', data=ld_profile.reset_index().assign(s=lambda x: 20 / x['x']), color='blue', label=f'reference genotypes', s='s', alpha=0.5)\n",
    "# ax.scatter('x', 'fit', data=ld_profile.reset_index().assign(s=lambda x: 20 / x['x']), color='red', label=f'inferred genotypes', s='s', alpha=0.5)\n",
    "\n",
    "# ax.plot('right', 'ref', data=hist_bin_quantile90, lw=1, color='blue', alpha=1)\n",
    "# ax.plot('right', 'fit', data=hist_bin_quantile90, lw=1, color='red', alpha=1)\n",
    "\n",
    "\n",
    "# ax.axhline(np.quantile(r2_ref, 0.9), lw=1, color='blue', linestyle='--')\n",
    "# ax.axhline(np.quantile(r2_fit, 0.9), lw=1, color='red', linestyle='--')\n",
    "\n",
    "# ax.legend(title=f'Mean LD at pairwise distance')  #bbox_to_anchor=(0.85, 1.15), ncol=2\n",
    "\n",
    "ax.set_xlabel('Genomic Distance (bp)')\n",
    "ax.set_ylabel('LD ($r^2$)')\n",
    "ax.set_ylim(0, 1.03)\n",
    "ax.set_xlim(0.9, 1e4)\n",
    "\n",
    "\n",
    "fig.savefig(f'fig/ld_decay_{species_id}_no_trends.png', dpi=400)"
   ]
  },
  {
   "cell_type": "code",
   "execution_count": null,
   "metadata": {},
   "outputs": [],
   "source": [
    "fig = plt.figure()\n",
    "\n",
    "plt.pcolormesh(norm_hist.columns, norm_hist.index, norm_hist, norm=mpl.colors.LogNorm(vmin=1e-3, vmax=1.0), cmap='binary')\n",
    "plt.xscale('log')\n",
    "plt.colorbar()\n",
    "\n",
    "\n",
    "ax = plt.gca()\n",
    "\n",
    "# ax.scatter('x', 'ref', data=ld_profile.reset_index().assign(s=lambda x: 20 / x['x']), color='blue', label=f'reference genotypes', s='s', alpha=0.5)\n",
    "ax.scatter('x', 'fit', data=ld_profile.reset_index().assign(s=lambda x: 20 / x['x']), color='red', label=f'inferred genotypes', s='s', alpha=0.5)\n",
    "\n",
    "# ax.plot('right', 'ref', data=hist_bin_quantile90, lw=1, color='blue', alpha=1)\n",
    "ax.plot('right', 'fit', data=hist_bin_quantile90, lw=1, color='red', alpha=1)\n",
    "\n",
    "\n",
    "# ax.axhline(np.quantile(r2_ref, 0.9), lw=1, color='blue', linestyle='--')\n",
    "ax.axhline(np.quantile(r2_fit, 0.9), lw=1, color='red', linestyle='--')\n",
    "\n",
    "# ax.legend(title=f'Mean LD at pairwise distance')  #bbox_to_anchor=(0.85, 1.15), ncol=2\n",
    "\n",
    "ax.set_xlabel('Genomic Distance (bp)')\n",
    "ax.set_ylabel('LD ($r^2$)')\n",
    "ax.set_ylim(0, 1.03)\n",
    "ax.set_xlim(0.9, 1e4)\n",
    "\n",
    "\n",
    "fig.savefig(f'fig/ld_decay_{species_id}_no_ref.png', dpi=400)"
   ]
  },
  {
   "cell_type": "code",
   "execution_count": null,
   "metadata": {},
   "outputs": [],
   "source": [
    "fig = plt.figure()\n",
    "\n",
    "plt.pcolormesh(norm_hist.columns, norm_hist.index, norm_hist, norm=mpl.colors.LogNorm(vmin=1e-3, vmax=1.0), cmap='binary')\n",
    "plt.xscale('log')\n",
    "plt.colorbar()\n",
    "\n",
    "\n",
    "ax = plt.gca()\n",
    "\n",
    "ax.scatter('x', 'ref', data=ld_profile.reset_index().assign(s=lambda x: 20 / x['x']), color='blue', label=f'reference genotypes', s='s', alpha=0.5)\n",
    "ax.scatter('x', 'fit', data=ld_profile.reset_index().assign(s=lambda x: 20 / x['x']), color='red', label=f'inferred genotypes', s='s', alpha=0.5)\n",
    "\n",
    "ax.plot('right', 'ref', data=hist_bin_quantile90, lw=1, color='blue', alpha=1)\n",
    "ax.plot('right', 'fit', data=hist_bin_quantile90, lw=1, color='red', alpha=1)\n",
    "\n",
    "\n",
    "ax.axhline(np.quantile(r2_ref, 0.9), lw=1, color='blue', linestyle='--')\n",
    "ax.axhline(np.quantile(r2_fit, 0.9), lw=1, color='red', linestyle='--')\n",
    "\n",
    "# ax.legend(title=f'Mean LD at pairwise distance')  #bbox_to_anchor=(0.85, 1.15), ncol=2\n",
    "\n",
    "ax.set_xlabel('Genomic Distance (bp)')\n",
    "ax.set_ylabel('LD ($r^2$)')\n",
    "ax.set_ylim(0, 1.03)\n",
    "ax.set_xlim(0.9, 1e4)\n",
    "\n",
    "\n",
    "fig.savefig(f'fig/ld_decay_{species_id}_90th.pdf', dpi=400)"
   ]
  },
  {
   "cell_type": "code",
   "execution_count": null,
   "metadata": {},
   "outputs": [],
   "source": [
    "fig = plt.figure()\n",
    "\n",
    "plt.pcolormesh(norm_hist.columns, norm_hist.index, norm_hist, norm=mpl.colors.LogNorm(vmin=1e-3, vmax=1.0), cmap='binary')\n",
    "plt.xscale('log')\n",
    "plt.colorbar()\n",
    "\n",
    "\n",
    "ax = plt.gca()\n",
    "\n",
    "ax.scatter('x', 'ref', data=ld_profile.reset_index().assign(s=lambda x: 20 / x['x']), color='blue', label=f'reference genotypes', s='s', alpha=0.5)\n",
    "ax.scatter('x', 'fit', data=ld_profile.reset_index().assign(s=lambda x: 20 / x['x']), color='red', label=f'inferred genotypes', s='s', alpha=0.5)\n",
    "\n",
    "# ax.plot('right', 'ref', data=hist_bin_quantile90, lw=1, color='blue', alpha=1)\n",
    "# ax.plot('right', 'fit', data=hist_bin_quantile90, lw=1, color='red', alpha=1)\n",
    "\n",
    "\n",
    "# ax.axhline(np.quantile(r2_ref, 0.9), lw=1, color='blue', linestyle='--')\n",
    "# ax.axhline(np.quantile(r2_fit, 0.9), lw=1, color='red', linestyle='--')\n",
    "\n",
    "# ax.legend(title=f'Mean LD at pairwise distance')  #bbox_to_anchor=(0.85, 1.15), ncol=2\n",
    "\n",
    "ax.set_xlabel('Genomic Distance (bp)')\n",
    "ax.set_ylabel('LD ($r^2$)')\n",
    "ax.set_ylim(0, 1.03)\n",
    "ax.set_xlim(0.9, 1e4)\n",
    "\n",
    "\n",
    "fig.savefig(f'fig/ld_decay_{species_id}_90th_novec.png', dpi=400)"
   ]
  },
  {
   "cell_type": "code",
   "execution_count": null,
   "metadata": {},
   "outputs": [],
   "source": [
    "fig = plt.figure()\n",
    "\n",
    "plt.pcolormesh(norm_hist.columns, norm_hist.index, norm_hist, norm=mpl.colors.LogNorm(vmin=1e-3, vmax=1.0), cmap='binary')\n",
    "plt.xscale('log')\n",
    "plt.colorbar()\n",
    "\n",
    "\n",
    "ax = plt.gca()\n",
    "\n",
    "# ax.scatter('x', 'ref', data=ld_profile.reset_index().assign(s=lambda x: 20 / x['x']), color='blue', label=f'reference genotypes', s='s', alpha=0.5)\n",
    "# ax.scatter('x', 'fit', data=ld_profile.reset_index().assign(s=lambda x: 20 / x['x']), color='red', label=f'inferred genotypes', s='s', alpha=0.5)\n",
    "\n",
    "ax.plot('right', 'ref', data=hist_bin_quantile90, lw=1, color='blue', alpha=1)\n",
    "ax.plot('right', 'fit', data=hist_bin_quantile90, lw=1, color='red', alpha=1)\n",
    "\n",
    "\n",
    "ax.axhline(np.quantile(r2_ref, 0.9), lw=1, color='blue', linestyle='--')\n",
    "ax.axhline(np.quantile(r2_fit, 0.9), lw=1, color='red', linestyle='--')\n",
    "\n",
    "# ax.legend(title=f'Mean LD at pairwise distance')  #bbox_to_anchor=(0.85, 1.15), ncol=2\n",
    "\n",
    "ax.set_xlabel('Genomic Distance (bp)')\n",
    "ax.set_ylabel('LD ($r^2$)')\n",
    "ax.set_ylim(0, 1.03)\n",
    "ax.set_xlim(0.9, 1e4)\n",
    "\n",
    "\n",
    "fig.savefig(f'fig/ld_decay_{species_id}_90th_noscatter.pdf', dpi=400)"
   ]
  },
  {
   "cell_type": "code",
   "execution_count": null,
   "metadata": {},
   "outputs": [],
   "source": [
    "fig, ax = plt.subplots(figsize=(2, 1))\n",
    "\n",
    "ax.plot([], color='blue', label=f'reference', alpha=0.7)\n",
    "ax.plot([], color='red', label=f'inferred', alpha=0.7)\n",
    "ax.legend()  #bbox_to_anchor=(0.85, 1.15), ncol=2)\n",
    "\n",
    "ax.axis('off')\n",
    "fig.savefig(f'fig/ld_decay_{species_id}_legend.pdf', dpi=400)"
   ]
  },
  {
   "cell_type": "code",
   "execution_count": null,
   "metadata": {},
   "outputs": [],
   "source": [
    "# LD_{90,1/2}\n",
    "(ld_profile > 0.5).idxmin()"
   ]
  },
  {
   "cell_type": "code",
   "execution_count": null,
   "metadata": {},
   "outputs": [],
   "source": [
    "ld_profile.head(5)"
   ]
  },
  {
   "cell_type": "code",
   "execution_count": null,
   "metadata": {},
   "outputs": [],
   "source": [
    "np.quantile(r2_ref, 0.9), np.quantile(r2_fit, 0.9)"
   ]
  }
 ],
 "metadata": {
  "kernelspec": {
   "display_name": "Python 3",
   "language": "python",
   "name": "python3"
  },
  "language_info": {
   "codemirror_mode": {
    "name": "ipython",
    "version": 3
   },
   "file_extension": ".py",
   "mimetype": "text/x-python",
   "name": "python",
   "nbconvert_exporter": "python",
   "pygments_lexer": "ipython3",
   "version": "3.7.10"
  }
 },
 "nbformat": 4,
 "nbformat_minor": 5
}