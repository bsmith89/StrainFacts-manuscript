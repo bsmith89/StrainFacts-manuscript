{
 "cells": [
  {
   "cell_type": "markdown",
   "metadata": {},
   "source": [
    "## Preamble"
   ]
  },
  {
   "cell_type": "code",
   "execution_count": null,
   "metadata": {},
   "outputs": [],
   "source": [
    "%load_ext autoreload\n",
    "%autoreload 0"
   ]
  },
  {
   "cell_type": "code",
   "execution_count": null,
   "metadata": {},
   "outputs": [],
   "source": [
    "%autoreload"
   ]
  },
  {
   "cell_type": "code",
   "execution_count": null,
   "metadata": {},
   "outputs": [],
   "source": [
    "import sys\n",
    "sys.path.append('/pollard/home/bsmith/Projects/haplo-benchmark/include/StrainFacts')"
   ]
  },
  {
   "cell_type": "code",
   "execution_count": null,
   "metadata": {},
   "outputs": [],
   "source": [
    "import xarray as xr\n",
    "import sqlite3\n",
    "import pandas as pd\n",
    "import matplotlib as mpl\n",
    "import matplotlib.pyplot as plt\n",
    "import seaborn as sns\n",
    "import numpy as np\n",
    "import warnings\n",
    "import torch\n",
    "import pyro\n",
    "import scipy as sp\n",
    "\n",
    "import lib.plot\n",
    "from scipy.spatial.distance import pdist, squareform\n",
    "from sklearn.metrics.pairwise import pairwise_distances\n",
    "from sklearn.cluster import AgglomerativeClustering\n",
    "from lib.pandas_util import idxwhere\n",
    "\n",
    "\n",
    "import sfacts as sf\n",
    "\n",
    "# from lib.project_style import color_palette, major_allele_frequency_bins\n",
    "# from lib.project_data import metagenotype_db_to_xarray\n",
    "# from lib.plot import ordination_plot, mds_ordination, nmds_ordination\n",
    "# import lib.plot\n",
    "# from lib.plot import construct_ordered_pallete\n",
    "# from lib.pandas_util import idxwhere"
   ]
  },
  {
   "cell_type": "markdown",
   "metadata": {},
   "source": [
    "## Load Data"
   ]
  },
  {
   "cell_type": "code",
   "execution_count": null,
   "metadata": {},
   "outputs": [],
   "source": [
    "fit = sf.data.World.load('data/zshi.sp-102492.metagenotype.filt-poly05-cvrg25.fit-sfacts13-s500-g500-seed3.world.nc')\n",
    "fit.sizes"
   ]
  },
  {
   "cell_type": "code",
   "execution_count": null,
   "metadata": {},
   "outputs": [],
   "source": [
    "ref = sf.data.Metagenotypes.load('data/gtprodb.sp-102492.genotype.nc').mlift('sel', position=fit.position).to_estimated_genotypes(pseudo=0)\n",
    "ref.sizes"
   ]
  },
  {
   "cell_type": "code",
   "execution_count": null,
   "metadata": {},
   "outputs": [],
   "source": [
    "bins = np.linspace(0, 1, num=51)\n",
    "\n",
    "plt.hist(fit.metagenotypes.to_estimated_genotypes(pseudo=1e-3).entropy(), bins=bins)\n",
    "plt.hist(fit.genotypes.entropy(), bins=bins)\n",
    "plt.hist(ref.entropy(), bins=bins)\n",
    "\n",
    "plt.yscale('log')\n",
    "None"
   ]
  },
  {
   "cell_type": "code",
   "execution_count": null,
   "metadata": {},
   "outputs": [],
   "source": [
    "bins = np.linspace(0, 1, num=51)\n",
    "\n",
    "fig, axs = plt.subplots(2)\n",
    "axs[0].hist(fit.genotypes.values.flatten(), bins=bins)\n",
    "axs[1].hist(fit.communities.max(\"strain\").values.flatten(), bins=bins)\n",
    "\n",
    "for ax in axs:\n",
    "    ax.set_yscale('log')\n",
    "None"
   ]
  },
  {
   "cell_type": "code",
   "execution_count": null,
   "metadata": {},
   "outputs": [],
   "source": [
    "sf.plot.plot_genotype(fit, scaley=2e-2, scalex=1e-3, yticklabels=0)"
   ]
  },
  {
   "cell_type": "code",
   "execution_count": null,
   "metadata": {},
   "outputs": [],
   "source": [
    "sf.plot.plot_genotype(ref, scaley=1e-2, scalex=1e-3, yticklabels=0)"
   ]
  },
  {
   "cell_type": "code",
   "execution_count": null,
   "metadata": {},
   "outputs": [],
   "source": [
    "fit_genotypes_filt = fit.genotypes.mlift('sel', strain=fit.genotypes.entropy() < 0.25)\n",
    "fit_genotypes_highent = fit.genotypes.mlift('sel', strain=fit.genotypes.entropy() > 0.25)\n",
    "\n",
    "fit_genotypes_filt.sizes, fit_genotypes_highent.sizes"
   ]
  },
  {
   "cell_type": "code",
   "execution_count": null,
   "metadata": {},
   "outputs": [],
   "source": [
    "plt.hist(squareform(fit_genotypes_filt.pdist()), bins=np.linspace(0, 0.5, num=101))\n",
    "plt.yscale('log')\n",
    "None"
   ]
  },
  {
   "cell_type": "code",
   "execution_count": null,
   "metadata": {},
   "outputs": [],
   "source": [
    "g = sf.data.Genotypes.concat(dict(\n",
    "    bad=fit_genotypes_highent,\n",
    "    good=fit_genotypes_filt\n",
    "), dim='strain')\n",
    "\n",
    "\n",
    "sf.plot.plot_genotype(g, row_colors_func=lambda w: w.strain.str.startswith('good'), scaley=2e-2, scalex=1e-3, yticklabels=0)"
   ]
  },
  {
   "cell_type": "code",
   "execution_count": null,
   "metadata": {},
   "outputs": [],
   "source": [
    "g = sf.data.Genotypes.concat(dict(\n",
    "    ref=ref,\n",
    "    fit=fit_genotypes_filt,\n",
    "    ent=fit_genotypes_highent,\n",
    "), dim='strain')\n",
    "\n",
    "\n",
    "sf.plot.plot_genotype(g, row_colors_func=lambda w: w.strain.str.startswith('fit'), scaley=2e-2, scalex=1e-3, yticklabels=0)"
   ]
  },
  {
   "cell_type": "code",
   "execution_count": null,
   "metadata": {},
   "outputs": [],
   "source": [
    "g = sf.data.Genotypes.concat(dict(\n",
    "    ref=ref,\n",
    "    fit=fit_genotypes_filt,\n",
    "), dim='strain')\n",
    "\n",
    "\n",
    "sf.plot.plot_genotype(g, row_colors_func=lambda w: w.strain.str.startswith('fit'), scaley=2e-2, scalex=1e-3, yticklabels=0)"
   ]
  },
  {
   "cell_type": "code",
   "execution_count": null,
   "metadata": {},
   "outputs": [],
   "source": [
    "g = sf.data.Genotypes.concat(dict(\n",
    "    ref=ref,\n",
    "    fit=fit_genotypes_filt,\n",
    "), dim='strain')\n",
    "\n",
    "\n",
    "sf.plot.plot_genotype(g, row_colors_func=lambda w: w.strain.str.startswith('fit'), scaley=5e-3, scalex=1e-3, yticklabels=0)"
   ]
  },
  {
   "cell_type": "code",
   "execution_count": null,
   "metadata": {},
   "outputs": [],
   "source": [
    "position_meta = pd.read_table(\n",
    "    'ref/gtpro/variants_main.covered.hq.snp_dict.tsv',\n",
    "    names=['species_id', 'position', 'contig', 'contig_position', 'ref', 'alt']\n",
    ").set_index('position')[lambda x: x.species_id.isin([102492])]\n",
    "\n",
    "position_meta"
   ]
  },
  {
   "cell_type": "code",
   "execution_count": null,
   "metadata": {},
   "outputs": [],
   "source": [
    "ref_diss = ref.pdist(\"strain\")\n",
    "ref_clust = AgglomerativeClustering(n_clusters=None, distance_threshold=0.02, affinity='precomputed', linkage='complete').fit_predict(ref_diss)\n",
    "ref_clust = pd.Series(ref_clust, index=ref_diss.index)\n",
    "ref_clust.value_counts()"
   ]
  },
  {
   "cell_type": "code",
   "execution_count": null,
   "metadata": {},
   "outputs": [],
   "source": [
    "ref_agg = sf.data.Genotypes(\n",
    "    ref.data.to_dataframe().join(ref_clust.rename(\"clust\")).reset_index().groupby([\"clust\", \"position\"]).mean().rename_axis(index=dict(clust='strain')).squeeze().to_xarray()\n",
    ")"
   ]
  },
  {
   "cell_type": "code",
   "execution_count": null,
   "metadata": {},
   "outputs": [],
   "source": [
    "ld = {}\n",
    "for contig, pos in position_meta.loc[ref_agg.position].groupby('contig'):\n",
    "    print(contig)\n",
    "    g = ref_agg.sel(position=pos.index)\n",
    "    r2 = (1 - pdist(g.values.T, 'correlation'))**2\n",
    "    x = pdist(np.expand_dims(pos.contig_position.values, axis=1), 'cityblock')\n",
    "    ld[contig] = (x, r2)\n",
    "ref_ld = pd.DataFrame(np.concatenate([np.stack([x, r2], axis=1) for x, r2 in ld.values()]), columns=['x', 'r2'])"
   ]
  },
  {
   "cell_type": "code",
   "execution_count": null,
   "metadata": {},
   "outputs": [],
   "source": [
    "est_diss = fit_genotypes_filt.pdist(\"strain\")\n",
    "est_clust = AgglomerativeClustering(n_clusters=None, distance_threshold=0.1, affinity='precomputed', linkage='complete').fit_predict(est_diss)\n",
    "est_clust = pd.Series(est_clust, index=est_diss.index)\n",
    "est_clust.value_counts()"
   ]
  },
  {
   "cell_type": "code",
   "execution_count": null,
   "metadata": {},
   "outputs": [],
   "source": [
    "est_agg = sf.data.Genotypes(\n",
    "    fit_genotypes_filt.data.to_dataframe().join(est_clust.rename(\"clust\")).reset_index().groupby([\"clust\", \"position\"]).mean().genotypes.rename_axis(index=dict(clust='strain')).to_xarray()\n",
    ")"
   ]
  },
  {
   "cell_type": "code",
   "execution_count": null,
   "metadata": {},
   "outputs": [],
   "source": [
    "ld = {}\n",
    "for contig, pos in position_meta.loc[est_agg.position].groupby('contig'):\n",
    "    print(contig)\n",
    "    g = est_agg.sel(position=pos.index)\n",
    "    r2 = (1 - pdist(g.values.T, 'correlation'))**2\n",
    "    x = pdist(np.expand_dims(pos.contig_position.values, axis=1), 'cityblock')\n",
    "    ld[contig] = (x, r2)\n",
    "est_ld = pd.DataFrame(np.concatenate([np.stack([x, r2], axis=1) for x, r2 in ld.values()]), columns=['x', 'r2'])"
   ]
  },
  {
   "cell_type": "code",
   "execution_count": null,
   "metadata": {},
   "outputs": [],
   "source": [
    "stepsize = 1\n",
    "right = 500\n",
    "\n",
    "d = est_ld[lambda p: p.x < right]\n",
    "bins_est = {}\n",
    "for start in range(0, right, stepsize):\n",
    "    stop = start + stepsize\n",
    "    bins_est[start] = d[(d.x >= start) & (d.x < stop)].r2.mean()\n",
    "    \n",
    "    \n",
    "d = ref_ld[lambda p: p.x < right]\n",
    "bins_ref = {}\n",
    "for start in range(0, right, stepsize):\n",
    "    stop = start + stepsize\n",
    "    bins_ref[start] = d[(d.x >= start) & (d.x < stop)].r2.mean()\n",
    "\n",
    "\n",
    "fig = plt.figure(figsize=(10, 5))\n",
    "\n",
    "plt.hexbin('x', 'r2', data=d, cmap='Blues', norm=mpl.colors.PowerNorm(1/3), mincnt=1, gridsize=(30, 10), label='__nolegend__')\n",
    "plt.colorbar(label='Count')\n",
    "\n",
    "ax = plt.gca()\n",
    "\n",
    "ax.plot(pd.Series(bins_est), color='red', label=f'inferred genotypes')\n",
    "ax.plot(pd.Series(bins_ref), color='blue', label=f'reference genotypes')\n",
    "ax.axhline(est_ld.r2.mean(), lw=1, color='red', linestyle='--')\n",
    "ax.axhline(ref_ld.r2.mean(), lw=1, color='blue', linestyle='--')\n",
    "\n",
    "ax.legend(title=f'Mean LD at distance X ({stepsize} bp Bin)')  #bbox_to_anchor=(0.85, 1.15), ncol=2)"
   ]
  },
  {
   "cell_type": "code",
   "execution_count": null,
   "metadata": {},
   "outputs": [],
   "source": []
  }
 ],
 "metadata": {
  "kernelspec": {
   "display_name": "Python 3",
   "language": "python",
   "name": "python3"
  },
  "language_info": {
   "codemirror_mode": {
    "name": "ipython",
    "version": 3
   },
   "file_extension": ".py",
   "mimetype": "text/x-python",
   "name": "python",
   "nbconvert_exporter": "python",
   "pygments_lexer": "ipython3",
   "version": "3.7.10"
  }
 },
 "nbformat": 4,
 "nbformat_minor": 5
}