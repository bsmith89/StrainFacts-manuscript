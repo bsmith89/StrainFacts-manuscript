{
 "cells": [
  {
   "cell_type": "code",
   "execution_count": null,
   "metadata": {},
   "outputs": [],
   "source": [
    "%load_ext autoreload\n",
    "%autoreload 0"
   ]
  },
  {
   "cell_type": "code",
   "execution_count": null,
   "metadata": {},
   "outputs": [],
   "source": [
    "%autoreload"
   ]
  },
  {
   "cell_type": "raw",
   "metadata": {},
   "source": [
    "import sys\n",
    "sys.path.append('/pollard/home/bsmith/Projects/haplo-benchmark/include/StrainFacts')"
   ]
  },
  {
   "cell_type": "code",
   "execution_count": null,
   "metadata": {},
   "outputs": [],
   "source": [
    "import xarray as xr\n",
    "import sqlite3\n",
    "import pandas as pd\n",
    "import matplotlib as mpl\n",
    "import matplotlib.pyplot as plt\n",
    "import seaborn as sns\n",
    "import numpy as np\n",
    "import warnings\n",
    "import torch\n",
    "import pyro\n",
    "import scipy as sp\n",
    "\n",
    "import lib.plot\n",
    "from scipy.spatial.distance import pdist, squareform\n",
    "from sklearn.metrics.pairwise import pairwise_distances\n",
    "from sklearn.cluster import AgglomerativeClustering\n",
    "from lib.pandas_util import idxwhere\n",
    "\n",
    "import sfacts as sf\n",
    "\n",
    "from tqdm import tqdm\n",
    "\n",
    "from scipy.spatial.distance import pdist, squareform\n",
    "import statsmodels.formula.api as smf\n",
    "\n",
    "# from lib.project_style import color_palette, major_allele_frequency_bins\n",
    "# from lib.project_data import metagenotype_db_to_xarray\n",
    "# from lib.plot import ordination_plot, mds_ordination, nmds_ordination\n",
    "# import lib.plot\n",
    "# from lib.plot import construct_ordered_pallete\n",
    "# from lib.pandas_util import idxwhere"
   ]
  },
  {
   "cell_type": "code",
   "execution_count": null,
   "metadata": {},
   "outputs": [],
   "source": [
    "mgen_path = {\n",
    "    '104345': 'data/ucfmt.sp-104345.metagenotype.filt-poly05-cvrg05.nc',\n",
    "    '102506': 'data/zshi.sp-102506.metagenotype.filt-poly05-cvrg25.nc',\n",
    "    '102492': 'data/zshi.sp-102492.metagenotype.filt-poly05-cvrg25.nc',\n",
    "    '102163': 'data/zshi.sp-102163.metagenotype.filt-poly05-cvrg25.nc',\n",
    "    '102556': 'data/zshi.sp-102556.metagenotype.filt-poly05-cvrg25.nc',\n",
    "}\n",
    "\n",
    "gtpro = {}\n",
    "ani = {}\n",
    "\n",
    "for species_id in mgen_path:\n",
    "    ani[species_id] = pd.read_table(f'raw/ani_zshi/{species_id}_ani.tsv', names=['genomeA', 'genomeB', 'ani'], index_col=['genomeA', 'genomeB']).squeeze()\n",
    "    _mgen = xr.open_dataarray(mgen_path[species_id])\n",
    "    _position = _mgen.position.astype(int)\n",
    "    _mgen.close()\n",
    "    _gtpro = sf.data.Metagenotypes.load(f'data/gtprodb.sp-{species_id}.genotype.nc').mlift('sel', position=_position).to_estimated_genotypes(pseudo=0)\n",
    "    gtpro[species_id] = pd.DataFrame(squareform(pdist(_gtpro.values, metric='hamming')), index=_gtpro.strain, columns=_gtpro.strain).stack().rename_axis(['genomeA', 'genomeB']).loc[ani[species_id].index]\n"
   ]
  },
  {
   "cell_type": "code",
   "execution_count": null,
   "metadata": {},
   "outputs": [],
   "source": [
    "outputs = {}"
   ]
  },
  {
   "cell_type": "code",
   "execution_count": null,
   "metadata": {},
   "outputs": [],
   "source": [
    "species_id = '104345'\n",
    "\n",
    "d = pd.DataFrame(dict(hamming=gtpro[species_id], avg_nucl_dev=1 - ani[species_id] / 100))\n",
    "lr = smf.ols('avg_nucl_dev ~ hamming - 1', data=d).fit()\n",
    "d['predict'] = lr.predict()\n",
    "\n",
    "plt.scatter('hamming', 'avg_nucl_dev', data=d, s=0.05, alpha=0.5)\n",
    "plt.plot('hamming', 'predict', data=d, color='k')\n",
    "\n",
    "lr.summary()\n",
    "\n",
    "outputs[species_id] = d, lr"
   ]
  },
  {
   "cell_type": "code",
   "execution_count": null,
   "metadata": {},
   "outputs": [],
   "source": [
    "species_id = '102506'\n",
    "\n",
    "d = pd.DataFrame(dict(hamming=gtpro[species_id], avg_nucl_dev=1 - ani[species_id] / 100))\n",
    "lr = smf.ols('avg_nucl_dev ~ hamming - 1', data=d).fit()\n",
    "d['predict'] = lr.predict()\n",
    "\n",
    "plt.scatter('hamming', 'avg_nucl_dev', data=d, s=0.05, alpha=0.5)\n",
    "plt.plot('hamming', 'predict', data=d, color='k')\n",
    "\n",
    "print(lr.params)\n",
    "lr.summary()\n",
    "\n",
    "outputs[species_id] = d, lr"
   ]
  },
  {
   "cell_type": "code",
   "execution_count": null,
   "metadata": {},
   "outputs": [],
   "source": [
    "species_id = '102492'\n",
    "\n",
    "d = pd.DataFrame(dict(hamming=gtpro[species_id], avg_nucl_dev=1 - ani[species_id] / 100))\n",
    "lr = smf.ols('avg_nucl_dev ~ hamming - 1', data=d).fit()\n",
    "d['predict'] = lr.predict()\n",
    "\n",
    "plt.scatter('hamming', 'avg_nucl_dev', data=d, s=0.05, alpha=0.5)\n",
    "plt.plot('hamming', 'predict', data=d, color='k')\n",
    "\n",
    "print(lr.params)\n",
    "lr.summary()\n",
    "\n",
    "outputs[species_id] = d, lr"
   ]
  },
  {
   "cell_type": "code",
   "execution_count": null,
   "metadata": {},
   "outputs": [],
   "source": [
    "species_id = '102163'\n",
    "\n",
    "d = pd.DataFrame(dict(hamming=gtpro[species_id], avg_nucl_dev=1 - ani[species_id] / 100))\n",
    "lr = smf.ols('avg_nucl_dev ~ hamming - 1', data=d).fit()\n",
    "d['predict'] = lr.predict()\n",
    "\n",
    "plt.scatter('hamming', 'avg_nucl_dev', data=d, s=0.05, alpha=0.5)\n",
    "plt.plot('hamming', 'predict', data=d, color='k')\n",
    "\n",
    "print(lr.params)\n",
    "lr.summary()\n",
    "\n",
    "outputs[species_id] = d, lr"
   ]
  },
  {
   "cell_type": "code",
   "execution_count": null,
   "metadata": {},
   "outputs": [],
   "source": [
    "species_id = '102556'\n",
    "\n",
    "d = pd.DataFrame(dict(hamming=gtpro[species_id], avg_nucl_dev=1 - ani[species_id] / 100))\n",
    "lr = smf.ols('avg_nucl_dev ~ hamming - 1', data=d).fit()\n",
    "d['predict'] = lr.predict()\n",
    "\n",
    "plt.scatter('hamming', 'avg_nucl_dev', data=d, s=0.05, alpha=0.5)\n",
    "plt.plot('hamming', 'predict', data=d, color='k')\n",
    "\n",
    "print(lr.params)\n",
    "lr.summary()\n",
    "\n",
    "outputs[species_id] = d, lr"
   ]
  },
  {
   "cell_type": "code",
   "execution_count": null,
   "metadata": {},
   "outputs": [],
   "source": []
  },
  {
   "cell_type": "code",
   "execution_count": null,
   "metadata": {},
   "outputs": [],
   "source": [
    "fig, axs = plt.subplots(2, 2, figsize=(8, 5), sharex=True, sharey=True)\n",
    "\n",
    "species_id_to_name = {\n",
    "    '102506': ('E. coli', 'italic'),\n",
    "    '102492': ('A. rectalis', 'italic'),\n",
    "    '102163': ('M. smithii', 'italic'),\n",
    "    '102556': ('CAG-279', 'normal'),\n",
    "    \n",
    "}\n",
    "\n",
    "for species_id, ax in zip(['102506', '102492', '102163', '102556'], axs.flatten()):\n",
    "    d, lr = outputs[species_id]\n",
    "#     ax.scatter('hamming', 'avg_nucl_dev', data=d, s=0.05, alpha=0.4)\n",
    "    x = ax.hexbin('hamming', 'avg_nucl_dev', data=d, cmap='Greys', norm=mpl.colors.SymLogNorm(linthresh=1), rasterized=True, vmin=0, vmax=20000)\n",
    "    ax.plot('hamming', 'predict', data=d, color='k', lw=1)\n",
    "    ax.set_title(species_id_to_name[species_id][0], fontdict=dict(style=species_id_to_name[species_id][1]))\n",
    "    ax.annotate(f'$m$={lr.params[0]:0.3f}\\n$R^2$={lr.rsquared:0.3f}', xy=(0.05, 0.75), xycoords='axes fraction')\n",
    "\n",
    "axs[1,0].set_ylabel('(1 - ANI)')\n",
    "axs[1,0].set_xlabel('Normalized Hamming Distance')\n",
    "\n",
    "fig.tight_layout()\n",
    "\n",
    "fig.savefig('fig/genotype_distance_ani_relationship.pdf')"
   ]
  },
  {
   "cell_type": "code",
   "execution_count": null,
   "metadata": {},
   "outputs": [],
   "source": [
    "fig, ax = plt.subplots()\n",
    "\n",
    "species_id_to_name = {\n",
    "    '102506': ('E. coli', 'italic'),\n",
    "    '102492': ('A. rectalis', 'italic'),\n",
    "    '102163': ('M. smithii', 'italic'),\n",
    "    '102556': ('CAG-279', 'normal'),\n",
    "    \n",
    "}\n",
    "\n",
    "d, lr = outputs['102506']\n",
    "#     ax.scatter('hamming', 'avg_nucl_dev', data=d, s=0.05, alpha=0.4)\n",
    "plt.hexbin('hamming', 'avg_nucl_dev', data=d, cmap='Greys', norm=mpl.colors.SymLogNorm(linthresh=1), rasterized=True, vmin=0, vmax=20000)\n",
    "plt.colorbar()\n",
    "\n",
    "ax = fig.gca()\n",
    "ax.set_visible(False)\n",
    "\n",
    "fig.savefig('fig/genotype_distance_ani_relationship_cbar.pdf')"
   ]
  },
  {
   "cell_type": "code",
   "execution_count": null,
   "metadata": {},
   "outputs": [],
   "source": []
  }
 ],
 "metadata": {
  "kernelspec": {
   "display_name": "Python 3",
   "language": "python",
   "name": "python3"
  },
  "language_info": {
   "codemirror_mode": {
    "name": "ipython",
    "version": 3
   },
   "file_extension": ".py",
   "mimetype": "text/x-python",
   "name": "python",
   "nbconvert_exporter": "python",
   "pygments_lexer": "ipython3",
   "version": "3.7.10"
  }
 },
 "nbformat": 4,
 "nbformat_minor": 5
}