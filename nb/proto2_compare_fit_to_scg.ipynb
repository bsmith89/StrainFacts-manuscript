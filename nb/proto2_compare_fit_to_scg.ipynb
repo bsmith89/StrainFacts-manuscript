{
 "cells": [
  {
   "cell_type": "code",
   "execution_count": null,
   "metadata": {},
   "outputs": [],
   "source": [
    "%load_ext autoreload\n",
    "%autoreload 0"
   ]
  },
  {
   "cell_type": "code",
   "execution_count": null,
   "metadata": {},
   "outputs": [],
   "source": [
    "%autoreload"
   ]
  },
  {
   "cell_type": "code",
   "execution_count": null,
   "metadata": {},
   "outputs": [],
   "source": [
    "import sys\n",
    "sys.path.append('/pollard/home/bsmith/Projects/haplo-benchmark/include/StrainFacts')"
   ]
  },
  {
   "cell_type": "code",
   "execution_count": null,
   "metadata": {},
   "outputs": [],
   "source": [
    "import pandas as pd\n",
    "import matplotlib.pyplot as plt\n",
    "import matplotlib as mpl\n",
    "from lib.pandas_util import idxwhere\n",
    "import sfacts as sf\n",
    "import numpy as np\n",
    "import xarray as xr\n",
    "import seaborn as sns\n",
    "from scipy.spatial.distance import cdist\n",
    "import lib.plot"
   ]
  },
  {
   "cell_type": "code",
   "execution_count": null,
   "metadata": {},
   "outputs": [],
   "source": [
    "focal_species = '104345'\n",
    "# mgen_path = f'data/ucfmt.sp-{focal_species}.metagenotype.filt-poly05-cvrg05.nc'\n",
    "scg_path = f'data/ucfmt.sp-{focal_species}.derep.genotype.nc'\n",
    "fit_path = f'data/ucfmt.sp-{focal_species}.metagenotype.filt-poly05-cvrg05.fit-sfacts42-s30-g5000-seed0.refit-sfacts41-g10000-seed0.world.nc'\n",
    "\n",
    "scg_to_sample_path = f'data/ucfmt.sp-{focal_species}.derep.barcode_to_sample.tsv'\n",
    "library_to_sample_path = 'data/ucfmt.barcode_to_sample.tsv'\n",
    "threshold = 0.01\n",
    "pseudo = 1e-10\n",
    "scg_cvrg_thresh = 0.05\n",
    "\n",
    "scg_to_sample = pd.read_table(scg_to_sample_path, names=['scg', 'sample_id'], index_col='scg')\n",
    "library_to_sample = pd.read_table(library_to_sample_path).rename(columns={'barcode': 'mgen'}).set_index('mgen')\n",
    "\n",
    "# mgen = sf.data.Metagenotypes.load(mgen_path)\n",
    "drplt = sf.data.Metagenotypes.load(scg_path)\n",
    "inference = sf.data.World.load(fit_path)\n",
    "inference.data['p'] = inference.data['communities'] @ inference.data['genotypes']\n",
    "inference.data['m'] = inference.metagenotypes.total_counts()\n",
    "\n",
    "inferred_community = inference.communities\n",
    "shared_position = list(set(inference.position.values) & set(drplt.position.values))\n",
    "\n",
    "consensus = inference.metagenotypes.to_estimated_genotypes(pseudo=pseudo).mlift('sel', position=shared_position)\n",
    "scg = drplt.select_samples_with_coverage(scg_cvrg_thresh).to_estimated_genotypes(pseudo=pseudo).mlift('sel', position=shared_position)\n",
    "inferred_genotype = inference.genotypes.mlift('sel', position=shared_position)"
   ]
  },
  {
   "cell_type": "code",
   "execution_count": null,
   "metadata": {},
   "outputs": [],
   "source": [
    "inference.sizes"
   ]
  },
  {
   "cell_type": "code",
   "execution_count": null,
   "metadata": {},
   "outputs": [],
   "source": [
    "a = sf.evaluation.metagenotype_error2(inference, discretized=False)\n",
    "b = sf.evaluation.metagenotype_error2(inference, discretized=True)\n",
    "\n",
    "(\n",
    "    a[0],\n",
    "    b[0],\n",
    "#     a[1]['SS01009.m'],\n",
    "#     b[1]['SS01009.m'],\n",
    "    a[1]['SS01057.m'],\n",
    "    b[1]['SS01057.m'],\n",
    ")"
   ]
  },
  {
   "cell_type": "code",
   "execution_count": null,
   "metadata": {},
   "outputs": [],
   "source": [
    "focal_sample = 'SS01057'\n",
    "\n",
    "focal_scg = scg.mlift('sel', strain=scg.strain.isin(idxwhere(scg_to_sample.sample_id == focal_sample)))\n",
    "focal_mgen = consensus.mlift('sel', strain=consensus.strain.isin(idxwhere(library_to_sample.sample_id == focal_sample)))\n",
    "focal_comm = inferred_community.mlift('sel', sample=inferred_community.sample.isin(idxwhere(library_to_sample.sample_id == focal_sample)))\n",
    "\n",
    "focal_strains = idxwhere((focal_comm.data > threshold).any(\"sample\").to_series())\n",
    "focal_geno = inferred_genotype.mlift('sel', strain=focal_strains)"
   ]
  },
  {
   "cell_type": "code",
   "execution_count": null,
   "metadata": {},
   "outputs": [],
   "source": [
    "scg_to_focal_mgen_fdist = sf.match_genotypes(focal_scg.to_world(), focal_mgen.to_world())[1]\n",
    "scg_to_focal_strain_fdist = sf.match_genotypes(focal_scg.to_world(), focal_geno.to_world())[1]\n",
    "scg_to_focal_mgen_ddist = sf.match_genotypes(focal_scg.to_world(), focal_mgen.discretized().to_world())[1]\n",
    "scg_to_focal_strain_ddist = sf.match_genotypes(focal_scg.to_world(), focal_geno.discretized().to_world())[1]\n",
    "scg_to_focal_mgen_adist = sf.match_genotypes(focal_scg.to_world(), focal_mgen.to_world(), cdist=lambda x, y: sf.math.genotype_cdist(x, y, q=1))[1]\n",
    "scg_to_focal_strain_adist = sf.match_genotypes(focal_scg.to_world(), focal_geno.to_world(), cdist=lambda x, y: sf.math.genotype_cdist(x, y, q=1))[1]\n",
    "scg_to_focal_mgen_bdist = sf.match_genotypes(focal_scg.to_world(), focal_mgen.to_world(), cdist=lambda x, y: sf.math.genotype_cdist(x, y, q=3))[1]\n",
    "scg_to_focal_strain_bdist = sf.match_genotypes(focal_scg.to_world(), focal_geno.to_world(), cdist=lambda x, y: sf.math.genotype_cdist(x, y, q=3))[1]\n",
    "scg_to_focal_mgen_edist = sf.match_genotypes(focal_scg.to_world(), focal_mgen.to_world(), cdist=lambda x, y: sf.math.genotype_cdist(x, y, q=4))[1]\n",
    "scg_to_focal_strain_edist = sf.match_genotypes(focal_scg.to_world(), focal_geno.to_world(), cdist=lambda x, y: sf.math.genotype_cdist(x, y, q=4))[1]"
   ]
  },
  {
   "cell_type": "code",
   "execution_count": null,
   "metadata": {},
   "outputs": [],
   "source": [
    "plt.scatter(scg_to_focal_mgen_ddist, scg_to_focal_strain_ddist, label='disc')\n",
    "plt.scatter(scg_to_focal_mgen_cdist, scg_to_focal_strain_cdist, label='1')\n",
    "plt.scatter(scg_to_focal_mgen_fdist, scg_to_focal_strain_fdist, label='2')\n",
    "plt.scatter(scg_to_focal_mgen_bdist, scg_to_focal_strain_bdist, label='3')\n",
    "plt.scatter(scg_to_focal_mgen_edist, scg_to_focal_strain_edist, label='4')\n",
    "\n",
    "\n",
    "\n",
    "# plt.yscale('log')\n",
    "# plt.xscale('log')\n",
    "plt.legend(bbox_to_anchor=(1, 1))\n",
    "\n",
    "plt.plot([0, 0.3], [0, 0.3])"
   ]
  },
  {
   "cell_type": "code",
   "execution_count": null,
   "metadata": {},
   "outputs": [],
   "source": [
    "top = 0.3\n",
    "step = 0.005\n",
    "bins = np.linspace(0, 0.3, num=int(np.ceil(top / step)))\n",
    "plt.hist(scg_to_focal_mgen_fdist, bins=bins, alpha=0.4, color='blue', histtype='stepfilled')\n",
    "plt.hist(scg_to_focal_mgen_ddist, bins=bins, alpha=0.8, color='blue', histtype='step', linestyle='-', lw=2)\n",
    "# plt.hist(scg_to_focal_mgen_cdist, bins=bins, alpha=0.8, color='blue', histtype='step', linestyle='--', lw=2)\n",
    "\n",
    "plt.hist(scg_to_focal_strain_fdist, bins=bins, alpha=0.4, color='red', histtype='stepfilled')\n",
    "plt.hist(scg_to_focal_strain_ddist, bins=bins, alpha=0.8, color='red', histtype='step', linestyle='-', lw=2)\n",
    "# plt.hist(scg_to_focal_strain_cdist, bins=bins, alpha=0.8, color='red', histtype='step', linestyle='--', lw=2)\n",
    "\n",
    "\n",
    "\n",
    "# plt.hist(scg_to_focal_strain_fdist, bins=bins, alpha=0.6)\n",
    "None"
   ]
  },
  {
   "cell_type": "code",
   "execution_count": null,
   "metadata": {},
   "outputs": [],
   "source": [
    "together = sf.data.Genotypes.concat(dict(\n",
    "    g=focal_scg,\n",
    "    m=focal_mgen,\n",
    "    s=focal_geno,\n",
    "), dim='strain')\n",
    "\n",
    "sf.plot_genotype(\n",
    "    together,\n",
    "    transpose=True, scalex=1e-3)"
   ]
  },
  {
   "cell_type": "code",
   "execution_count": null,
   "metadata": {},
   "outputs": [],
   "source": [
    "sf.plot_community(\n",
    "    inference,\n",
    "    col_linkage_func=lambda w: w.communities.linkage(\"sample\"),\n",
    "    row_linkage_func=lambda w: w.genotypes.linkage(\"strain\"),\n",
    "    col_colors_func=lambda w: xr.Dataset(dict(\n",
    "        focal=w.sample.str.startswith(f'{focal_sample}'),\n",
    "        m_entropy=w.metagenotypes.entropy(),\n",
    "        c_entropy=w.communities.entropy(),\n",
    "    )),\n",
    ")\n",
    "sf.plot.plot_metagenotype2(\n",
    "    inference.random_sample(position=1000),\n",
    "    col_linkage_func=lambda w: w.communities.linkage(\"sample\"),\n",
    "    col_colors_func=lambda w: xr.Dataset(dict(\n",
    "        focal=w.sample.str.startswith(f'{focal_sample}'),\n",
    "        m_entropy=w.metagenotypes.entropy(),\n",
    "#         alpha=w.data.alpha,\n",
    "    )),\n",
    ")"
   ]
  },
  {
   "cell_type": "code",
   "execution_count": null,
   "metadata": {},
   "outputs": [],
   "source": [
    "plt.scatter(inference.metagenotypes.entropy(), inference.communities.entropy())"
   ]
  },
  {
   "cell_type": "code",
   "execution_count": null,
   "metadata": {},
   "outputs": [],
   "source": [
    "sf.plot.plot_genotype(\n",
    "    inference.random_sample(position=1000),\n",
    ")"
   ]
  },
  {
   "cell_type": "code",
   "execution_count": null,
   "metadata": {},
   "outputs": [],
   "source": [
    "fig, ax = plt.subplots(figsize=(5, 5))\n",
    "\n",
    "ax, ordin, *_ = lib.plot.ordination_plot(\n",
    "    together.pdist(),\n",
    "    ordin=lib.plot.nmds_ordination,\n",
    "    meta=pd.DataFrame(dict(\n",
    "        t=together.strain.str[0],\n",
    "    ), index=together.strain).fillna(-1),\n",
    "    colorby='t',\n",
    "#     color_palette=drplt_ucfmt_104345_strain_type_palette,\n",
    "#     markerby='is_est',\n",
    "#     marker_palette={True: '>', False: 'o'},\n",
    "#     zorderby='is_est',\n",
    "#     markersizeby='is_est',\n",
    "#     markersize_palette={True: 60, False: 40},\n",
    "    ordin_kws={'is_dmat': True,},\n",
    "#     fill_legend=False,\n",
    "    scatter_kws=dict(lw=0.5, alpha=0.5),\n",
    "    ax=ax\n",
    ")\n",
    "\n",
    "ax.set_xlabel('PCo1')\n",
    "ax.set_ylabel('PCo2')\n",
    "\n",
    "ordin['gtype'] = ordin.index.to_series().str.split('_').apply(lambda x: x[0])\n",
    "for name, d1 in ordin[ordin.gtype.isin(['s', 'm'])].iterrows():\n",
    "    ax.annotate(name, xy=d1[['PC1', 'PC2']].to_list())\n",
    "None"
   ]
  },
  {
   "cell_type": "code",
   "execution_count": null,
   "metadata": {},
   "outputs": [],
   "source": [
    "fig, ax = plt.subplots()\n",
    "\n",
    "sf.plot.plot_metagenotype_frequency_spectrum(inference, sample_list=['SS01009.m'], axs=ax, bins=np.linspace(0.5, 1.0, num=51), show_predict=True)\n",
    "# ax.set_yscale('log')\n",
    "ax.set_ylim(0, 400)"
   ]
  }
 ],
 "metadata": {
  "kernelspec": {
   "display_name": "Python 3",
   "language": "python",
   "name": "python3"
  },
  "language_info": {
   "codemirror_mode": {
    "name": "ipython",
    "version": 3
   },
   "file_extension": ".py",
   "mimetype": "text/x-python",
   "name": "python",
   "nbconvert_exporter": "python",
   "pygments_lexer": "ipython3",
   "version": "3.7.10"
  }
 },
 "nbformat": 4,
 "nbformat_minor": 5
}