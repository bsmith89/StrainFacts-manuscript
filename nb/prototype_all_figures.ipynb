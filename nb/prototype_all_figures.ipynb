{
 "cells": [
  {
   "cell_type": "markdown",
   "metadata": {},
   "source": [
    "## Preamble"
   ]
  },
  {
   "cell_type": "code",
   "execution_count": null,
   "metadata": {},
   "outputs": [],
   "source": [
    "%load_ext autoreload\n",
    "%autoreload 0"
   ]
  },
  {
   "cell_type": "code",
   "execution_count": null,
   "metadata": {},
   "outputs": [],
   "source": [
    "%autoreload"
   ]
  },
  {
   "cell_type": "code",
   "execution_count": null,
   "metadata": {},
   "outputs": [],
   "source": [
    "import sys\n",
    "sys.path.append('/pollard/home/bsmith/Projects/haplo-benchmark/include/StrainFacts')"
   ]
  },
  {
   "cell_type": "code",
   "execution_count": null,
   "metadata": {},
   "outputs": [],
   "source": [
    "import xarray as xr\n",
    "import sqlite3\n",
    "import pandas as pd\n",
    "import matplotlib as mpl\n",
    "import matplotlib.pyplot as plt\n",
    "import seaborn as sns\n",
    "import numpy as np\n",
    "import warnings\n",
    "import torch\n",
    "import pyro\n",
    "import scipy as sp\n",
    "\n",
    "import lib.plot\n",
    "from scipy.spatial.distance import pdist, squareform\n",
    "from sklearn.metrics.pairwise import pairwise_distances\n",
    "from sklearn.cluster import AgglomerativeClustering\n",
    "from lib.pandas_util import idxwhere\n",
    "\n",
    "\n",
    "import sfacts as sf\n",
    "\n",
    "# from lib.project_style import color_palette, major_allele_frequency_bins\n",
    "# from lib.project_data import metagenotype_db_to_xarray\n",
    "# from lib.plot import ordination_plot, mds_ordination, nmds_ordination\n",
    "# import lib.plot\n",
    "# from lib.plot import construct_ordered_pallete\n",
    "# from lib.pandas_util import idxwhere"
   ]
  },
  {
   "cell_type": "markdown",
   "metadata": {},
   "source": [
    "## UCFMT Strain Tracking"
   ]
  },
  {
   "cell_type": "raw",
   "metadata": {},
   "source": [
    "mgen_ucfmt_100022 = sf.data.Metagenotypes.load('data/ucfmt.sp-100022.metagenotype.nc')"
   ]
  },
  {
   "cell_type": "code",
   "execution_count": null,
   "metadata": {},
   "outputs": [],
   "source": [
    "sf.plot.plot_metagenotype(\n",
    "    mgen_ucfmt_100022.to_world(),\n",
    "    col_linkage_func=lambda w: w.metagenotypes.linkage(\"sample\"),\n",
    ")"
   ]
  },
  {
   "cell_type": "code",
   "execution_count": null,
   "metadata": {},
   "outputs": [],
   "source": [
    "# fit_ucfmt_100022 = sf.data.World.load('data/ucfmt.sp-100022.metagenotype.filt-poly05-cvrg15-g2000.fit-sfacts8-s100-seed0.world.nc')\n",
    "fit_ucfmt_100022 = sf.data.World.load('data/ucfmt.sp-100022.metagenotype.filt-poly05-cvrg05-g2000.fit-sfacts12-s100-g2000-seed0.world.nc')\n"
   ]
  },
  {
   "cell_type": "code",
   "execution_count": null,
   "metadata": {},
   "outputs": [],
   "source": [
    "sf.plot.plot_community(\n",
    "    fit_ucfmt_100022,\n",
    "    col_linkage_func=lambda w: w.metagenotypes.linkage(\"sample\"),\n",
    ")"
   ]
  },
  {
   "cell_type": "code",
   "execution_count": null,
   "metadata": {},
   "outputs": [],
   "source": [
    "sf.plot.plot_genotype(\n",
    "    fit_ucfmt_100022,\n",
    "    col_linkage_func=lambda w: w.metagenotypes.linkage(\"position\"),\n",
    "    transpose=True,\n",
    ")"
   ]
  },
  {
   "cell_type": "code",
   "execution_count": null,
   "metadata": {},
   "outputs": [],
   "source": [
    "# sample = 'DS0485_002'\n",
    "sample = 'SS01068'\n",
    "\n",
    "sf.plot.plot_metagenotype_frequency_spectrum(fit_ucfmt_100022, sample_list=[sample])\n",
    "plt.yscale('log')\n",
    "\n",
    "fit_ucfmt_100022.data.sel(sample=[sample]).communities.to_series().sort_values(ascending=False).head(7)"
   ]
  },
  {
   "cell_type": "markdown",
   "metadata": {},
   "source": [
    "## Single-cell genomics"
   ]
  },
  {
   "cell_type": "code",
   "execution_count": null,
   "metadata": {},
   "outputs": [],
   "source": [
    "mgen_ucfmt_104345 = sf.data.Metagenotypes.load('data/ucfmt.sp-104345.metagenotype.filt-poly05-cvrg05.nc')"
   ]
  },
  {
   "cell_type": "code",
   "execution_count": null,
   "metadata": {},
   "outputs": [],
   "source": [
    "sf.plot.plot_metagenotype(\n",
    "    mgen_ucfmt_104345.to_world(),\n",
    "    col_linkage_func=lambda w: mgen_ucfmt_104345.linkage(\"sample\"),\n",
    "    col_colors_func=lambda w: xr.Dataset(dict(\n",
    "        focal=w.sample.isin(['SS01009.m']),\n",
    "    )),\n",
    "    scaley=1e-3 if mgen_ucfmt_104345.sizes['position'] > 1e2 else 1e-2\n",
    ")"
   ]
  },
  {
   "cell_type": "code",
   "execution_count": null,
   "metadata": {},
   "outputs": [],
   "source": [
    "drplt_ucfmt_104345 = sf.data.Metagenotypes(\n",
    "    sf.data.Metagenotypes.load('data/drplt.sp-104345.metagenotype.nc')\n",
    "    .select_samples_with_coverage(0.01)\n",
    "    .data.reindex(position=mgen_ucfmt_104345.position, fill_value=0)\n",
    ")\n",
    "drplt_ucfmt_104345_to_sample = pd.read_table('meta/drplt_to_sample.tsv')"
   ]
  },
  {
   "cell_type": "code",
   "execution_count": null,
   "metadata": {},
   "outputs": [],
   "source": [
    "np.random.seed(0)\n",
    "\n",
    "nposition = min(drplt_ucfmt_104345.sizes['position'], 1000)\n",
    "\n",
    "d = drplt_ucfmt_104345.random_sample(position=nposition)\n",
    "\n",
    "sf.plot.plot_depth(\n",
    "    d.to_world(),\n",
    "    col_colors_func=lambda w: xr.Dataset(dict(\n",
    "        focal=w.sample.isin(['mgen_SS01009.m', 'mgen_SS01057.m']),\n",
    "        depth=w.metagenotypes.mean_depth().pipe(np.log),\n",
    "#         mgen_entropy=w.metagenotypes.entropy('sample'),\n",
    "    )),\n",
    ")\n",
    "\n",
    "sf.plot.plot_metagenotype(\n",
    "    d.to_world(),\n",
    "    col_colors_func=lambda w: xr.Dataset(dict(\n",
    "        focal=w.sample.isin(['mgen_SS01009.m', 'mgen_SS01057.m']),\n",
    "        depth=w.metagenotypes.mean_depth().pipe(np.log),\n",
    "#         mgen_entropy=w.metagenotypes.entropy('sample'),\n",
    "    )),\n",
    ")"
   ]
  },
  {
   "cell_type": "code",
   "execution_count": null,
   "metadata": {},
   "outputs": [],
   "source": [
    "d = drplt_ucfmt_104345\n",
    "distance_threshold = 0.2\n",
    "\n",
    "drplt_agg = pd.Series(\n",
    "    (\n",
    "        AgglomerativeClustering(\n",
    "            affinity='cosine',\n",
    "            distance_threshold=distance_threshold,\n",
    "            n_clusters=None,\n",
    "            linkage='average'\n",
    "        )\n",
    "        .fit_predict(d.total_counts())\n",
    "    ),\n",
    "    d.sample,\n",
    "    name='clust',\n",
    ")\n",
    "\n",
    "drplt_agg_pal = lib.plot.construct_ordered_pallete(drplt_agg, cm='hsv')\n",
    "\n",
    "sf.plot.plot_metagenotype(\n",
    "    d.random_sample(position=1000).to_world(),\n",
    "    col_colors_func=lambda d: drplt_agg.to_xarray(),\n",
    "#     col_linkage_func=lambda w: w.metagenotypes.linkage(pseudo=1.),\n",
    "    row_col_annotation_cmap=mpl.cm.hsv,\n",
    ")"
   ]
  },
  {
   "cell_type": "code",
   "execution_count": null,
   "metadata": {},
   "outputs": [],
   "source": [
    "d = drplt_ucfmt_104345\n",
    "\n",
    "\n",
    "lib.plot.ordination_plot(\n",
    "    d.pdist(),\n",
    "    ordin=lib.plot.nmds_ordination,\n",
    "    meta=drplt_agg.to_frame(),\n",
    "    colorby='clust',\n",
    "    color_palette=drplt_agg_pal,\n",
    "    ordin_kws={'is_dmat': True},\n",
    "    fill_legend=False,\n",
    "    scatter_kws=dict(lw=0),\n",
    ")\n",
    "None"
   ]
  },
  {
   "cell_type": "code",
   "execution_count": null,
   "metadata": {},
   "outputs": [],
   "source": [
    "drplt_derep_ucfmt_104345 = sf.data.Metagenotypes(\n",
    "    drplt_ucfmt_104345\n",
    "    .to_series()\n",
    "    .reset_index()\n",
    "    .rename(columns={0: 'tally'})\n",
    "    .join(drplt_agg, on='sample')\n",
    "    .join(drplt_ucfmt_104345_to_sample.set_index('lib_id'), on='sample')\n",
    "    .groupby(['sample_id', 'clust', 'position', 'allele'])\n",
    "    .sum()\n",
    "    .astype(int)\n",
    "    .reset_index()\n",
    "    .assign(label=lambda x: x.sample_id + '_' + x.clust.astype(str))\n",
    "    .set_index(['label', 'position', 'allele'])\n",
    "    .rename_axis(index={'label': 'sample'})\n",
    "    .tally\n",
    "    .to_xarray()\n",
    ")\n",
    "print(drplt_ucfmt_104345.sizes, drplt_derep_ucfmt_104345.sizes)"
   ]
  },
  {
   "cell_type": "code",
   "execution_count": null,
   "metadata": {},
   "outputs": [],
   "source": [
    "# d = drplt_filt_derep.select_samples_with_coverage(0.1).data.\n",
    "\n",
    "drplt_ucfmt_104345_strain_type = sf.estimation.strain_cluster(\n",
    "    (\n",
    "        drplt_derep_ucfmt_104345\n",
    "        .select_samples_with_coverage(0.05)\n",
    "        .to_estimated_genotypes(pseudo=1.0)\n",
    "        .to_world()\n",
    "    ),\n",
    "    thresh=0.1,\n",
    ")\n",
    "                     \n",
    "drplt_ucfmt_104345_strain_type_palette = lib.plot.construct_ordered_pallete(sorted(drplt_ucfmt_104345_strain_type.unique()), cm='Spectral')\n",
    "drplt_ucfmt_104345_strain_type.value_counts()\n",
    "drplt_ucfmt_104345_strain_type.name = 'drplt_type'"
   ]
  },
  {
   "cell_type": "markdown",
   "metadata": {},
   "source": [
    "### Matched metagenomes"
   ]
  },
  {
   "cell_type": "code",
   "execution_count": null,
   "metadata": {},
   "outputs": [],
   "source": [
    "sf.plot.plot_metagenotype(\n",
    "    mgen_ucfmt_104345.to_world(),\n",
    "    col_linkage_func=lambda w: mgen_ucfmt_104345.linkage(\"sample\"),\n",
    "    col_colors_func=lambda w: xr.Dataset(dict(\n",
    "        focal=w.sample.isin(['SS01009.m']),\n",
    "    )),\n",
    "    scaley=5e-4 if mgen_ucfmt_104345.sizes['position'] > 1e2 else 1e-2\n",
    ")"
   ]
  },
  {
   "cell_type": "code",
   "execution_count": null,
   "metadata": {},
   "outputs": [],
   "source": [
    "nposition = min(mgen_ucfmt_104345.sizes['position'], int(2e3))\n",
    "\n",
    "np.random.seed(0)\n",
    "\n",
    "# fit_ucfmt_104345, est_list, history_list = sf.workflow.fit_subsampled_metagenotypes_then_collapse_and_iteratively_refit_genotypes(\n",
    "fit_ucfmt_104345, history = sf.workflow.fit_metagenotypes_simple(\n",
    "    sf.model_zoo.NAMED_STRUCTURES['ssdd3_with_error'],\n",
    "    mgen_ucfmt_104345.random_sample(position=nposition),\n",
    "#     nposition=nposition,\n",
    "#     npositionB=int(1e5),\n",
    "    nstrain=100,\n",
    "    hyperparameters=dict(\n",
    "        gamma_hyper=1e-10,\n",
    "#         rho_hyper=5.0,\n",
    "#         pi_hyper=1.0,\n",
    "    ),\n",
    "    anneal_hyperparameters=dict(\n",
    "        rho_hyper=dict(name='log', start=10.0, end=0.5, wait_steps=1000),\n",
    "        pi_hyper=dict(name='log', start=5.0, end=0.5, wait_steps=1000),\n",
    "    ),\n",
    "    annealiter=4000,\n",
    "#     stage2_hyperparameters=dict(gamma_hyper=1.0),\n",
    "#     diss_thresh=0.02,\n",
    "#     frac_thresh=1e-3,\n",
    "    estimation_kwargs=dict(\n",
    "        jit=True, catch_keyboard_interrupt=True, ignore_jit_warnings=True, maxiter=int(1e6),\n",
    "    ),\n",
    "    device='cuda',\n",
    "#     seed=1,\n",
    ")"
   ]
  },
  {
   "cell_type": "raw",
   "metadata": {},
   "source": [
    "fit_ucfmt_104345.data['p'] = fit_ucfmt_104345.data['communities'] @ fit_ucfmt_104345.data['genotypes']\n",
    "fit_ucfmt_104345.data['m'] = fit_ucfmt_104345.data['metagenotypes'].sum(\"allele\")"
   ]
  },
  {
   "cell_type": "code",
   "execution_count": null,
   "metadata": {},
   "outputs": [],
   "source": [
    "sf.evaluation.metagenotype_error(fit_ucfmt_104345, fit_ucfmt_104345)[0]"
   ]
  },
  {
   "cell_type": "raw",
   "metadata": {},
   "source": [
    "# stem = 'data/ucfmt.sp-104345.metagenotype.filt-poly05-cvrg05-g1000.fit-sfacts12-s60-g1000-seed3'  # This one seems to work.\n",
    "# stem = 'data/ucfmt.sp-104345.metagenotype.filt-poly05-cvrg05-g2000.fit-sfacts12-s40-g2000-seed1'\n",
    "stem = 'data/ucfmt.sp-104345.metagenotype.filt-poly05-cvrg05-g2000.fit-sfacts12-s100-g2000-seed1'\n",
    "\n",
    "fit_ucfmt_104345 = sf.data.World.load(f'{stem}.world.nc')\n",
    "fit_ucfmt_104345.data['p'] = (('sample', 'position'), fit_ucfmt_104345.communities.values @ fit_ucfmt_104345.genotypes.values)\n",
    "fit_ucfmt_104345.data['m'] = (('sample', 'position'), fit_ucfmt_104345.metagenotypes.sum(\"allele\").values)\n",
    "\n",
    "# sf.evaluation.metagenotype_error(fit_ucfmt_104345, fit_ucfmt_104345)\n",
    "sf.evaluation.metagenotype_error(fit_ucfmt_104345, fit_ucfmt_104345)[0]"
   ]
  },
  {
   "cell_type": "code",
   "execution_count": null,
   "metadata": {},
   "outputs": [],
   "source": [
    "sf.plot.plot_loss_history(history)"
   ]
  },
  {
   "cell_type": "raw",
   "metadata": {},
   "source": [
    "# with open(f'{stem}.history.list') as f:\n",
    "#     history = [float(line) for line in f]\n",
    "    \n",
    "sf.plot.plot_loss_history(history_list[0])"
   ]
  },
  {
   "cell_type": "raw",
   "metadata": {},
   "source": [
    "%autoreload"
   ]
  },
  {
   "cell_type": "raw",
   "metadata": {},
   "source": [
    "mgen_ucfmt_104345.mlift('sel', sample=['SS01009.m']).frequencies().max(\"allele\").values"
   ]
  },
  {
   "cell_type": "code",
   "execution_count": null,
   "metadata": {},
   "outputs": [],
   "source": [
    "sample = 'SS01009.m'\n",
    "\n",
    "sf.plot.plot_metagenotype_frequency_spectrum(mgen_ucfmt_104345.to_world(), sample_list=[sample])\n",
    "plt.yscale('log')\n",
    "\n",
    "sample_community = fit_ucfmt_104345.data.sel(sample=sample).communities.to_series().sort_values(ascending=False)\n",
    "strain_list = idxwhere(sample_community > 0.05)\n",
    "sample_community.head(7)"
   ]
  },
  {
   "cell_type": "raw",
   "metadata": {},
   "source": [
    "fit_ucfmt_104345.data"
   ]
  },
  {
   "cell_type": "code",
   "execution_count": null,
   "metadata": {},
   "outputs": [],
   "source": [
    "# sf.plot.plot_metagenotype(\n",
    "#     fit_ucfmt_104345,\n",
    "#     col_colors_func=lambda w: xr.Dataset(dict(\n",
    "#         focal=w.sample.isin(['SS01009.m']),\n",
    "#     )),\n",
    "# )\n",
    "sf.plot.plot_community(\n",
    "    fit_ucfmt_104345,\n",
    "    col_linkage_func=lambda w: mgen_ucfmt_104345.linkage(\"sample\"),\n",
    "    col_colors_func=lambda w: xr.Dataset(dict(\n",
    "        focal=w.sample.isin(['SS01009.m']),\n",
    "    )),\n",
    "    row_colors_func=lambda w: xr.Dataset(dict(\n",
    "        focal=w.communities.data.sel(sample='SS01009.m').to_series(),\n",
    "    )),\n",
    ")"
   ]
  },
  {
   "cell_type": "code",
   "execution_count": null,
   "metadata": {},
   "outputs": [],
   "source": [
    "sf.plot.plot_genotype(\n",
    "    fit_ucfmt_104345,\n",
    "#     col_linkage_func=lambda w: mgen_ucfmt_104345.linkage(\"sample\"),\n",
    "    row_colors_func=lambda w: xr.Dataset(dict(\n",
    "        focal=w.communities.data.sel(sample='SS01009.m').to_series(),\n",
    "    )),\n",
    "\n",
    ")"
   ]
  },
  {
   "cell_type": "raw",
   "metadata": {},
   "source": [
    "sf.plot.plot_genotype(\n",
    "    est_list[0],\n",
    "#     col_linkage_func=lambda w: mgen_ucfmt_104345.linkage(\"sample\"),\n",
    "    row_colors_func=lambda w: xr.Dataset(dict(\n",
    "        focal=w.communities.data.sel(sample='SS01009.m').to_series(),\n",
    "    )),\n",
    ")"
   ]
  },
  {
   "cell_type": "code",
   "execution_count": null,
   "metadata": {},
   "outputs": [],
   "source": [
    "plt.hist(fit_ucfmt_104345.communities.max(\"strain\").values, bins=np.linspace(0, 1, num=51))\n",
    "# plt.yscale('log')"
   ]
  },
  {
   "cell_type": "code",
   "execution_count": null,
   "metadata": {},
   "outputs": [],
   "source": [
    "e = fit_ucfmt_104345\n",
    "sample_list = [s for s in e.sample.values if s in ['SS01009.m']]\n",
    "\n",
    "\n",
    "w = sf.data.Genotypes.concat(dict(\n",
    "    est=e.genotypes.mlift('sel', strain=strain_list),\n",
    "#     othere=e.genotypes,\n",
    "    mgen=e.metagenotypes.mlift('sel', sample=sample_list).mlift('sel', position=e.position).to_estimated_genotypes(),\n",
    "#     otherm=mgen_filt.mlift('sel', position=e.position).to_estimated_genotypes(),\n",
    "    drplt=drplt_derep_ucfmt_104345.select_samples_with_coverage(0.05).mlift('sel', position=e.position).to_estimated_genotypes(),\n",
    "), dim='strain')\n",
    "\n",
    "def _assign_gtype(x):\n",
    "    return x.index.to_series().str.split('_').apply(lambda x: x[0])\n",
    "\n",
    "fig, ax = plt.subplots(figsize=(5, 5))\n",
    "\n",
    "ax, ordin, *_ = lib.plot.ordination_plot(\n",
    "    w.pdist(),\n",
    "    ordin=lib.plot.nmds_ordination,\n",
    "    meta=pd.DataFrame(dict(\n",
    "        clust=drplt_ucfmt_104345_strain_type.rename(lambda s: 'drplt_' + s),\n",
    "        is_est=w.strain.str.startswith('est_').to_series(),\n",
    "    )).fillna(-1),\n",
    "    colorby='clust',\n",
    "    color_palette=drplt_ucfmt_104345_strain_type_palette,\n",
    "    markerby='is_est',\n",
    "    marker_palette={True: '>', False: 'o'},\n",
    "    zorderby='is_est',\n",
    "    markersizeby='is_est',\n",
    "    markersize_palette={True: 60, False: 40},\n",
    "    ordin_kws={'is_dmat': True},\n",
    "    fill_legend=False,\n",
    "    scatter_kws=dict(lw=0.5, alpha=0.95),\n",
    "    ax=ax\n",
    ")\n",
    "\n",
    "ax.set_xlabel('PCo1')\n",
    "ax.set_ylabel('PCo2')\n",
    "\n",
    "ordin['gtype'] = ordin.index.to_series().str.split('_').apply(lambda x: x[0])\n",
    "for name, d1 in ordin[ordin.gtype.isin(['est', 'mgen'])].iterrows():\n",
    "    ax.annotate(name, xy=d1[['PC1', 'PC2']].to_list())\n",
    "None"
   ]
  },
  {
   "cell_type": "code",
   "execution_count": null,
   "metadata": {},
   "outputs": [],
   "source": [
    "e = fit_ucfmt_104345\n",
    "sample_list = [s for s in e.sample.values if s in ['SS01009.m']]\n",
    "\n",
    "d = sf.data.Genotypes.concat(\n",
    "        dict(\n",
    "        est=e.genotypes.mlift('sel', strain=strain_list),\n",
    "        other=e.genotypes,\n",
    "        mgen=(\n",
    "            mgen_ucfmt_104345\n",
    "            .mlift('sel', sample=sample_list)\n",
    "            .mlift('sel', position=e.position)\n",
    "            .to_estimated_genotypes()\n",
    "        ),\n",
    "        drplt=drplt_derep_ucfmt_104345.mlift('sel', position=e.position).to_estimated_genotypes(),\n",
    "    ),\n",
    "    dim='strain'\n",
    ")\n",
    "\n",
    "sf.plot.plot_genotype(\n",
    "    d.to_world(),\n",
    "    col_colors_func=None,\n",
    "    row_colors_func=lambda w: xr.Dataset(dict(\n",
    "        fnd=w.strain.str.startswith('est_'),\n",
    "        mgen=w.strain.str.startswith('mgen_'),\n",
    "        drplt=w.strain.to_dataframe().join(drplt_ucfmt_104345_strain_type.rename(lambda s: 'drplt_' + s)).drplt_type,\n",
    "    )),\n",
    "    col_linkage_func=lambda w: e.metagenotypes.linkage(\"position\"),\n",
    "    scalex=3e-2 if len(e.position) < 3000 else 1e-3,\n",
    "    transpose=True,\n",
    "#     row_linkage_func=lambda w: w.genotypes.linkage(),\n",
    "#     col_linkage_func=None,\n",
    "#     col_cluster=False,\n",
    "#     row_cluster=False,\n",
    ")"
   ]
  },
  {
   "cell_type": "code",
   "execution_count": null,
   "metadata": {},
   "outputs": [],
   "source": [
    "sf.plot.plot_genotype(\n",
    "    fit_ucfmt_104345,\n",
    "    col_linkage_func=lambda w: w.metagenotypes.linkage(\"position\"),\n",
    "    row_colors_func=lambda w: xr.Dataset(dict(\n",
    "        found=w.strain.isin(strain_list),\n",
    "    )),\n",
    "    scalex=1e-2 if len(e.position) < 3000 else 1e-3,\n",
    "    transpose=True,\n",
    ")"
   ]
  },
  {
   "cell_type": "code",
   "execution_count": null,
   "metadata": {},
   "outputs": [],
   "source": [
    "# stem = 'data/ucfmt.sp-104345.metagenotype.filt-poly05-cvrg05.fit-sfacts12-s100-g2000-seed3'\n",
    "# _fit_ucfmt_104345 = sf.data.World.load(f'{stem}.world.nc')\n",
    "\n",
    "_fit_ucfmt_104345 = fit_ucfmt_104345\n",
    "\n",
    "_drplt = drplt_derep_ucfmt_104345.select_samples_with_coverage(0.05).mlift('sel', position=_fit_ucfmt_104345.position).to_estimated_genotypes().to_world()\n",
    "_fit = _fit_ucfmt_104345.genotypes.to_world()\n",
    "_fit_and_found = _fit_ucfmt_104345.genotypes.mlift('sel', strain=strain_list).to_world()\n",
    "_mgen = _fit_ucfmt_104345.metagenotypes.mlift('sel', sample=sample_list).to_estimated_genotypes().to_world()\n",
    "\n",
    "_fit_disc = _fit_ucfmt_104345.genotypes.discretized().to_world()\n",
    "_fit_and_found_disc = _fit_ucfmt_104345.genotypes.mlift('sel', strain=strain_list).discretized().to_world()\n",
    "_mgen_disc = _fit_ucfmt_104345.metagenotypes.mlift('sel', sample=sample_list).to_estimated_genotypes().discretized().to_world()\n",
    "\n",
    "\n",
    "bins = np.linspace(0, 0.3, num=51)\n",
    "# plt.hist(sf.evaluation.match_genotypes(_drplt, _fit)[1], bins=bins, color='tab:green', label='estimated (all)', histtype='step', linestyle='-')\n",
    "plt.hist(sf.evaluation.match_genotypes(_drplt, _fit_and_found)[1], bins=bins, color='tab:blue', label='estimated', histtype='step', linestyle='-')\n",
    "plt.hist(sf.evaluation.match_genotypes(_drplt, _mgen)[1], bins=bins, color='tab:red', label='metagenotype', histtype='step', linestyle='-')\n",
    "# plt.hist(sf.evaluation.match_genotypes(_drplt, _fit_disc)[1], bins=bins, color='tab:green', histtype='step', linestyle='--')\n",
    "plt.hist(sf.evaluation.match_genotypes(_drplt, _fit_and_found_disc)[1], bins=bins, color='tab:blue', histtype='step', linestyle='--')\n",
    "plt.hist(sf.evaluation.match_genotypes(_drplt, _mgen_disc)[1], bins=bins, color='tab:red', histtype='step', linestyle='--')\n",
    "\n",
    "plt.hist([], bins=bins, color='black', histtype='step', linestyle='-', label='fuzzy')\n",
    "plt.hist([], bins=bins, color='black', histtype='step', linestyle='--', label='discretized')\n",
    "plt.legend()"
   ]
  },
  {
   "cell_type": "code",
   "execution_count": null,
   "metadata": {},
   "outputs": [],
   "source": [
    "# Genotypes observed in droplets are more similar to the genotypes inferred by sfacts than\n",
    "# a naive genotype constructed from the observed metagenotype, especially when considering the\n",
    "# discretized (consensus sequences)\n",
    "\n",
    "print(sf.evaluation.match_genotypes(_drplt, _fit_and_found)[1].mean(), sf.evaluation.match_genotypes(_drplt, _fit_and_found_disc)[1].mean())\n",
    "print(sf.evaluation.match_genotypes(_drplt, _fit)[1].mean(), sf.evaluation.match_genotypes(_drplt, _fit_disc)[1].mean())"
   ]
  },
  {
   "cell_type": "markdown",
   "metadata": {},
   "source": [
    "## Large-scale genetics"
   ]
  },
  {
   "cell_type": "markdown",
   "metadata": {},
   "source": [
    "### 102492"
   ]
  },
  {
   "cell_type": "code",
   "execution_count": null,
   "metadata": {},
   "outputs": [],
   "source": [
    "gtpro_fit_102492 = sf.data.World.load('data/zshi.sp-102492.metagenotype.filt-poly05-cvrg25-g500.fit-sfacts13-s500-g500-seed4.world.nc')\n",
    "gtpro_fit_102492.sizes"
   ]
  },
  {
   "cell_type": "code",
   "execution_count": null,
   "metadata": {},
   "outputs": [],
   "source": [
    "plt.hist(gtpro_fit_102492.genotypes.values.flatten(), bins=np.linspace(0, 1, num=51))\n",
    "# plt.yscale('log')"
   ]
  },
  {
   "cell_type": "code",
   "execution_count": null,
   "metadata": {},
   "outputs": [],
   "source": [
    "plt.hist(gtpro_fit_102492.communities.max(\"strain\").values.flatten(), bins=np.linspace(0, 1, num=51))\n",
    "# plt.yscale('log')"
   ]
  },
  {
   "cell_type": "code",
   "execution_count": null,
   "metadata": {},
   "outputs": [],
   "source": [
    "sf.plot.plot_genotype(gtpro_fit_102492, scaley=2e-2, yticklabels=0)"
   ]
  },
  {
   "cell_type": "code",
   "execution_count": null,
   "metadata": {},
   "outputs": [],
   "source": [
    "gtpro_fit_102492_filt = gtpro_fit_102492.genotypes.mlift('sel', strain=idxwhere(gtpro_fit_102492.genotypes.entropy().to_series() < 0.25))"
   ]
  },
  {
   "cell_type": "code",
   "execution_count": null,
   "metadata": {},
   "outputs": [],
   "source": [
    "sf.plot.plot_genotype(gtpro_fit_102492_filt.to_world(), scaley=2e-2, yticklabels=0)"
   ]
  },
  {
   "cell_type": "markdown",
   "metadata": {},
   "source": [
    "#### Reference genomes"
   ]
  },
  {
   "cell_type": "code",
   "execution_count": null,
   "metadata": {},
   "outputs": [],
   "source": [
    "gtpro_ref_102492_mgen = sf.data.Metagenotypes.load('data/gtprodb.sp-102492.genotype.nc')\n",
    "gtpro_ref_102492 = gtpro_ref_102492_mgen.to_estimated_genotypes(pseudo=0)"
   ]
  },
  {
   "cell_type": "code",
   "execution_count": null,
   "metadata": {},
   "outputs": [],
   "source": [
    "plt.hist(gtpro_fit_102492.metagenotypes.to_estimated_genotypes(pseudo=1).entropy(), bins=np.linspace(0, 1, num=51))\n",
    "plt.hist(gtpro_fit_102492.metagenotypes.to_estimated_genotypes(pseudo=0.01).entropy(), bins=np.linspace(0, 1, num=51))\n",
    "plt.hist(gtpro_fit_102492.genotypes.entropy(), bins=np.linspace(0, 1, num=51))\n",
    "\n",
    "# Estimated genotypes are much lower entropy than the estimates we would have gotten from\n",
    "# metagenotypes directly (even using a small-pseudocount approach)."
   ]
  },
  {
   "cell_type": "code",
   "execution_count": null,
   "metadata": {},
   "outputs": [],
   "source": [
    "gtpro_mgen_102492_genotypes = gtpro_fit_102492.metagenotypes.to_estimated_genotypes()\n",
    "gtpro_mgen_102492_genotypes_filt = gtpro_mgen_102492_genotypes.mlift('sel', strain=idxwhere(gtpro_mgen_102492_genotypes.entropy().to_series() < 0.25))\n"
   ]
  },
  {
   "cell_type": "code",
   "execution_count": null,
   "metadata": {},
   "outputs": [],
   "source": [
    "g_fit = gtpro_fit_102492_filt\n",
    "g_ref = gtpro_ref_102492.mlift('sel', position=g_fit.position)\n",
    "\n",
    "g = sf.data.Genotypes.concat(dict(\n",
    "    fit=g_fit,\n",
    "    ref=g_ref,\n",
    "), dim='strain')\n",
    "\n",
    "sf.plot.plot_genotype(\n",
    "    g.to_world(),\n",
    "    row_colors_func=lambda w: xr.Dataset(dict(\n",
    "        fit=w.strain.str.startswith('fit_'),\n",
    "    )),\n",
    "    scaley=4e-2,\n",
    "    scalex=4e-2,\n",
    "    yticklabels=0,\n",
    ")"
   ]
  },
  {
   "cell_type": "code",
   "execution_count": null,
   "metadata": {},
   "outputs": [],
   "source": [
    "sf.plot.plot_genotype(\n",
    "    g.to_world(),\n",
    "    row_colors_func=lambda w: xr.Dataset(dict(\n",
    "        fit=w.strain.str.startswith('fit_'),\n",
    "    )),\n",
    "    scaley=4e-3,\n",
    "    scalex=1e-2,\n",
    "    yticklabels=0,\n",
    ")"
   ]
  },
  {
   "cell_type": "markdown",
   "metadata": {},
   "source": [
    "### 102506"
   ]
  },
  {
   "cell_type": "code",
   "execution_count": null,
   "metadata": {},
   "outputs": [],
   "source": [
    "# gtpro_fit_102506 = sf.data.World.load('data/zshi.sp-102506.metagenotype.filt-poly05-cvrg75-g500.fit-sfacts13-s200-g500-seed1.world.nc')\n",
    "gtpro_fit_102506 = sf.data.World.load('data/zshi.sp-102506.metagenotype.filt-poly05-cvrg25-g500.fit-sfacts13-s500-g500-seed0.world.nc')\n",
    "gtpro_fit_102506.sizes"
   ]
  },
  {
   "cell_type": "code",
   "execution_count": null,
   "metadata": {},
   "outputs": [],
   "source": [
    "plt.hist(gtpro_fit_102506.genotypes.values.flatten(), bins=np.linspace(0, 1, num=51))\n",
    "# plt.yscale('log')"
   ]
  },
  {
   "cell_type": "code",
   "execution_count": null,
   "metadata": {},
   "outputs": [],
   "source": [
    "plt.hist(gtpro_fit_102506.communities.max(\"strain\").values.flatten(), bins=np.linspace(0, 1, num=51))\n",
    "# plt.yscale('log')"
   ]
  },
  {
   "cell_type": "code",
   "execution_count": null,
   "metadata": {},
   "outputs": [],
   "source": [
    "sf.plot.plot_genotype(gtpro_fit_102506, scaley=2e-2, yticklabels=0)"
   ]
  },
  {
   "cell_type": "code",
   "execution_count": null,
   "metadata": {},
   "outputs": [],
   "source": [
    "gtpro_fit_102506_filt = gtpro_fit_102506.genotypes.mlift('sel', strain=idxwhere(gtpro_fit_102506.genotypes.entropy().to_series() < 0.25))"
   ]
  },
  {
   "cell_type": "code",
   "execution_count": null,
   "metadata": {},
   "outputs": [],
   "source": [
    "sf.plot.plot_genotype(gtpro_fit_102506_filt.to_world(), scaley=2e-2, yticklabels=0)"
   ]
  },
  {
   "cell_type": "markdown",
   "metadata": {},
   "source": [
    "#### Reference genomes"
   ]
  },
  {
   "cell_type": "code",
   "execution_count": null,
   "metadata": {},
   "outputs": [],
   "source": [
    "gtpro_ref_102506_mgen = sf.data.Metagenotypes.load('data/gtprodb.sp-102506.genotype.nc')\n",
    "gtpro_ref_102506 = gtpro_ref_102506_mgen.to_estimated_genotypes(pseudo=0)"
   ]
  },
  {
   "cell_type": "code",
   "execution_count": null,
   "metadata": {},
   "outputs": [],
   "source": [
    "g_fit = gtpro_fit_102506_filt\n",
    "g_ref = gtpro_ref_102506.mlift('sel', position=g_fit.position)\n",
    "\n",
    "g = sf.data.Genotypes.concat(dict(\n",
    "    fit=g_fit,\n",
    "    ref=g_ref,\n",
    "), dim='strain')\n",
    "\n",
    "sf.plot.plot_genotype(\n",
    "    g.to_world(),\n",
    "    row_colors_func=lambda w: xr.Dataset(dict(\n",
    "        fit=w.strain.str.startswith('fit_'),\n",
    "    )),\n",
    "    scaley=4e-2,\n",
    "    scalex=4e-2,\n",
    "    yticklabels=0,\n",
    ")\n",
    "\n",
    "# This cluster-diagram shows that my reconstructions are consistent with what's in the database for E. coli\n",
    "# I don't get any SUPER different strains than what's already been seen (but this may not be the case for less\n",
    "# well studied organisms."
   ]
  },
  {
   "cell_type": "code",
   "execution_count": null,
   "metadata": {},
   "outputs": [],
   "source": [
    "sf.plot.plot_genotype(\n",
    "    g.to_world(),\n",
    "    row_colors_func=lambda w: xr.Dataset(dict(\n",
    "        fit=w.strain.str.startswith('fit_'),\n",
    "    )),\n",
    "    scaley=4e-3,\n",
    "    scalex=1e-2,\n",
    "    yticklabels=0,\n",
    ")\n",
    "\n",
    "# I'm also able to recapitulate many of the same divisions that are found in the reference data\n",
    "# I have strains from every part of the tree.\n",
    "# Just looking at it, I should get similar estimates for LD\n",
    "# (and presumably for LD decay with distance along the genome)"
   ]
  },
  {
   "cell_type": "code",
   "execution_count": null,
   "metadata": {},
   "outputs": [],
   "source": [
    "position_meta_102506 = pd.read_table(\n",
    "    'ref/gtpro/variants_main.covered.hq.snp_dict.tsv',\n",
    "    names=['species_id', 'position', 'contig', 'contig_position', 'ref', 'alt']\n",
    ").set_index('position')[lambda x: x.species_id.isin([102506])]\n",
    "\n",
    "position_meta_102506"
   ]
  },
  {
   "cell_type": "code",
   "execution_count": null,
   "metadata": {},
   "outputs": [],
   "source": [
    "g = gtpro_ref_102506\n",
    "strain_diss = pairwise_distances(g.values, metric='euclidean', n_jobs=12)\n",
    "strain_diss = (strain_diss**2 / g.sizes['position'])\n",
    "strain_diss = pd.DataFrame(strain_diss, index=g.strain.to_series(), columns=g.strain.to_series())"
   ]
  },
  {
   "cell_type": "code",
   "execution_count": null,
   "metadata": {},
   "outputs": [],
   "source": [
    "clust = AgglomerativeClustering(n_clusters=None, distance_threshold=0.02, affinity='precomputed', linkage='complete').fit_predict(strain_diss)\n",
    "clust = pd.Series(clust, index=strain_diss.index)"
   ]
  },
  {
   "cell_type": "code",
   "execution_count": null,
   "metadata": {},
   "outputs": [],
   "source": [
    "clust.value_counts()"
   ]
  },
  {
   "cell_type": "code",
   "execution_count": null,
   "metadata": {},
   "outputs": [],
   "source": [
    "gtpro_ref_102506_derep = sf.data.Genotypes(gtpro_ref_102506.data.groupby(clust.to_xarray()).mean().rename({'group': 'strain'}))\n",
    "\n",
    "g_fit = gtpro_fit_102506_filt\n",
    "g_ref = gtpro_ref_102506_derep.mlift('sel', position=g_fit.position)\n",
    "\n",
    "g = sf.data.Genotypes.concat(dict(\n",
    "    fit=g_fit,\n",
    "    ref=g_ref,\n",
    "), dim='strain')\n",
    "\n",
    "sf.plot.plot_genotype(\n",
    "    g.to_world(),\n",
    "    row_colors_func=lambda w: xr.Dataset(dict(\n",
    "        fit=w.strain.str.startswith('fit_'),\n",
    "    )),\n",
    "    scaley=4e-2,\n",
    "    scalex=4e-2,\n",
    "    yticklabels=0,\n",
    ")\n",
    "\n",
    "# This cluster-diagram shows that my reconstructions are consistent with what's in the database for E. coli\n",
    "# I don't get any SUPER different strains than what's already been seen (but this may not be the case for less\n",
    "# well studied organisms."
   ]
  },
  {
   "cell_type": "code",
   "execution_count": null,
   "metadata": {},
   "outputs": [],
   "source": []
  },
  {
   "cell_type": "code",
   "execution_count": null,
   "metadata": {},
   "outputs": [],
   "source": [
    "d = strain_diss.iloc[:300, :300]\n",
    "\n",
    "strain_clust_palette = lib.plot.construct_ordered_pallete(range(clust.max()), cm='rainbow')\n",
    "\n",
    "_ = lib.plot.ordination_plot(\n",
    "    d,\n",
    "    meta=clust.to_frame(name='clust'),\n",
    "    colorby='clust',\n",
    "    color_palette=strain_clust_palette,\n",
    "    ordin=lib.plot.nmds_ordination,\n",
    "    ordin_kws=dict(is_dmat=True),\n",
    "    scatter_kws=dict(lw=0),\n",
    ")\n",
    "\n",
    "plt.legend([])"
   ]
  },
  {
   "cell_type": "code",
   "execution_count": null,
   "metadata": {},
   "outputs": [],
   "source": [
    "# TODO: Dereplicate reference strains at some dissimilarity threshold"
   ]
  },
  {
   "cell_type": "raw",
   "metadata": {},
   "source": [
    "g = strain_ref_102506.random_sample(strain=200)\n",
    "x = pdist((g.values.T), metric='correlation')\n",
    "x = (1 - squareform(x))**2\n",
    "# x.shape"
   ]
  },
  {
   "cell_type": "raw",
   "metadata": {},
   "source": [
    "g.values.T.shape"
   ]
  },
  {
   "cell_type": "code",
   "execution_count": null,
   "metadata": {},
   "outputs": [],
   "source": [
    "from scipy.spatial.distance import pdist, squareform\n",
    "from sklearn.metrics.pairwise import pairwise_distances\n",
    "\n",
    "g = gtpro_ref_102506\n",
    "\n",
    "# x = pairwise_distances(g.values.T, metric='correlation', n_jobs=100)\n",
    "# ref_position_diss = (1 - )**2\n",
    "# ref_position_diss = pd.DataFrame(ref_position_diss, index=g.position.to_series(), columns=g.position.to_series())"
   ]
  },
  {
   "cell_type": "code",
   "execution_count": null,
   "metadata": {},
   "outputs": [],
   "source": [
    "position_meta_102506.groupby('contig').apply(len).sort_values(ascending=False).head()"
   ]
  },
  {
   "cell_type": "code",
   "execution_count": null,
   "metadata": {},
   "outputs": [],
   "source": [
    "ld = {}\n",
    "for contig, pos in position_meta_102506.groupby('contig'):\n",
    "    print(contig)\n",
    "    g = gtpro_ref_102506.sel(position=pos.index)\n",
    "    r2 = (1 - pdist(g.values.T, 'correlation'))**2\n",
    "    x = pdist(np.expand_dims(pos.contig_position.values, axis=1), 'cityblock')\n",
    "    ld[contig] = (x, r2)\n",
    "ld = pd.DataFrame(np.concatenate([np.stack([x, r2], axis=1) for x, r2 in ld.values()]), columns=['x', 'r2'])"
   ]
  },
  {
   "cell_type": "code",
   "execution_count": null,
   "metadata": {},
   "outputs": [],
   "source": [
    "stepsize = 1\n",
    "right = 100\n",
    "\n",
    "d = ld[ld.x < right]\n",
    "\n",
    "bins = {}\n",
    "for start in range(0, right, stepsize):\n",
    "    stop = start + stepsize\n",
    "    bins[start] = d[(d.x >= start) & (d.x < stop)].r2.mean()\n",
    "    \n",
    "plt.scatter(\n",
    "    x='x',\n",
    "    y='r2',\n",
    "    data=d,\n",
    "    s=1,\n",
    "    alpha=0.05,\n",
    "    color='black',\n",
    "    label='__nolegend__',\n",
    ")\n",
    "plt.scatter([], [], s=10, color='black', label='Locus Pair')\n",
    "plt.plot(pd.Series(bins), color='red', label='Mean LD (25 bp Bin)')\n",
    "plt.axhline(0, lw=1, color='red', linestyle='--')\n",
    "plt.ylabel(r\"LD\")\n",
    "plt.xlabel(\"Distance\")\n",
    "plt.legend(bbox_to_anchor=(0.85, 1.15), ncol=2)\n",
    "\n",
    "print(sp.stats.spearmanr(d['x'], d['r2']))"
   ]
  }
 ],
 "metadata": {
  "kernelspec": {
   "display_name": "Python 3",
   "language": "python",
   "name": "python3"
  },
  "language_info": {
   "codemirror_mode": {
    "name": "ipython",
    "version": 3
   },
   "file_extension": ".py",
   "mimetype": "text/x-python",
   "name": "python",
   "nbconvert_exporter": "python",
   "pygments_lexer": "ipython3",
   "version": "3.7.10"
  }
 },
 "nbformat": 4,
 "nbformat_minor": 5
}